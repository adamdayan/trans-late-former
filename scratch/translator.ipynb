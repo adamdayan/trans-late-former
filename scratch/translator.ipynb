{
 "cells": [
  {
   "cell_type": "code",
   "execution_count": 1,
   "id": "bf47f195-66df-4daa-8e71-43aadc5c15a9",
   "metadata": {},
   "outputs": [],
   "source": [
    "import torch\n",
    "import torch.nn as nn\n",
    "from torch.nn import functional as F\n",
    "import math\n"
   ]
  },
  {
   "cell_type": "code",
   "execution_count": 2,
   "id": "8515a737-11c3-44b9-b8d7-57882b1e4fb7",
   "metadata": {},
   "outputs": [],
   "source": [
    "from tokenizers import Tokenizer\n",
    "from tokenizers.models import BPE\n",
    "from tokenizers.pre_tokenizers import Whitespace\n",
    "from tokenizers.trainers import BpeTrainer"
   ]
  },
  {
   "cell_type": "markdown",
   "id": "6240bdb2-2207-4603-b5bd-9d1afcc27d1b",
   "metadata": {},
   "source": [
    "## get data "
   ]
  },
  {
   "cell_type": "code",
   "execution_count": 240,
   "id": "29cc56a2-e384-4b45-88f8-0d13f23d9bac",
   "metadata": {},
   "outputs": [],
   "source": [
    "ger_train_path = \"/home/adam/play/translate_data/train.de\"\n",
    "eng_train_path = \"/home/adam/play/translate_data/train.en\"\n",
    "\n",
    "ger_train_raw = open(ger_train_path, \"r\").readlines()\n",
    "eng_train_raw = open(eng_train_path, \"r\").readlines()\n",
    "\n",
    "# just to help my poor laptop\n",
    "ger_train_raw = ger_train_raw[:10000]\n",
    "eng_train_raw = eng_train_raw[:10000]"
   ]
  },
  {
   "cell_type": "code",
   "execution_count": 241,
   "id": "1b342e7e-bd9c-489d-9cf0-f675475d0cfe",
   "metadata": {},
   "outputs": [
    {
     "name": "stdout",
     "output_type": "stream",
     "text": [
      "10000\n",
      "10000\n"
     ]
    }
   ],
   "source": [
    "print(len(ger_train))\n",
    "print(len(eng_train))"
   ]
  },
  {
   "cell_type": "code",
   "execution_count": 242,
   "id": "e981672b-1d7a-4ca9-907a-55240ad8540f",
   "metadata": {},
   "outputs": [
    {
     "name": "stdout",
     "output_type": "stream",
     "text": [
      "\n",
      "\n",
      "\n"
     ]
    }
   ],
   "source": [
    "### tokenize \n",
    "tokenizer = Tokenizer(BPE())\n",
    "\n",
    "tokenizer.pre_tokenizer = Whitespace()\n",
    "\n",
    "trainer = BpeTrainer(special_tokens=[\"[UNK]\", \"[CLS]\", \"[SEP]\", \"[PAD]\", \"[MASK]\"]) # do i need to account for the weird #AT things??\n",
    "tokenizer.train(files=[ger_train_path, eng_train_path,], trainer=trainer)\n",
    "tokenizer.enable_padding()\n",
    "# tokenizer.train_from_iterator(iter(ger_train + eng_train), trainer=trainer)\n"
   ]
  },
  {
   "cell_type": "code",
   "execution_count": 243,
   "id": "55d01b5a-9e04-4196-a256-71e7bd72ae19",
   "metadata": {},
   "outputs": [],
   "source": [
    "ger_train = tokenizer.encode_batch(ger_train_raw)\n",
    "eng_train = tokenizer.encode_batch(eng_train_raw)"
   ]
  },
  {
   "cell_type": "code",
   "execution_count": 244,
   "id": "e6ce4708-7281-4a8f-9cad-41582ff471e2",
   "metadata": {},
   "outputs": [],
   "source": [
    "ger_train = torch.tensor([t.ids for t in ger_train])\n",
    "eng_train = torch.tensor([t.ids for t in eng_train])"
   ]
  },
  {
   "cell_type": "code",
   "execution_count": 245,
   "id": "76ac0bce-b8da-4852-b2b4-929d4c4bfad5",
   "metadata": {},
   "outputs": [
    {
     "data": {
      "text/plain": [
       "torch.Size([10000, 258])"
      ]
     },
     "execution_count": 245,
     "metadata": {},
     "output_type": "execute_result"
    }
   ],
   "source": [
    "ger_train.shape"
   ]
  },
  {
   "cell_type": "markdown",
   "id": "781269b0-71c1-4034-8dc1-db1fd038c0b7",
   "metadata": {},
   "source": [
    "## define model"
   ]
  },
  {
   "cell_type": "code",
   "execution_count": 239,
   "id": "411dbe29-89cd-415a-8abc-a96b4322b9c5",
   "metadata": {},
   "outputs": [],
   "source": [
    "def create_mask(src, targ, pad_token):\n",
    "    # NOTE: not fully confident in the unsqueeze - i think we get the extra-dimension so the masked_fill can broadcast it \n",
    "    # we want to broadcast for the padding mask because it's the same on both axes (unlike with the causal mask) \n",
    "    src_pad_mask = (src != pad_token).unsqueeze(1) # (B, 1, context_size)\n",
    "    targ_pad_mask = (targ != pad_token).unsqueeze(1)\n",
    "    full_mask = torch.ones((targ.shape[1], targ.shape[1])).type(torch.int)\n",
    "    causal_atten_mask = torch.tril(full_mask) # (context_size, context_size)\n",
    "\n",
    "    return src_pad_mask, targ_pad_mask & causal_atten_mask\n",
    "\n",
    "def calculate_loss(logits, labels):\n",
    "    B, T, V = logits.shape # (batch, context_size, vocab_size)\n",
    "    # cross entropy expects list of indices and logits requiring reshape\n",
    "    return F.cross_entropy(logits.reshape(B * T, V), labels.reshape(B * T), ignore_index=PAD_IDX)\n",
    "\n",
    "class MultiHeadAttention(nn.Module):\n",
    "    def __init__(self, n_heads, n_embed, dropout, store_kv=False):\n",
    "        super().__init__()\n",
    "        self.n_embed = n_embed\n",
    "        self.n_heads = n_heads\n",
    "        assert(n_embed % n_heads == 0) # check dims work\n",
    "        self.head_size = n_embed // n_heads\n",
    "        self.dropout = dropout\n",
    "        self.store_kv = store_kv\n",
    "\n",
    "        self.wk = nn.Linear(n_embed, n_embed, bias=False)\n",
    "        self.wq = nn.Linear(n_embed, n_embed, bias=False)\n",
    "        self.wv = nn.Linear(n_embed, n_embed, bias=False)\n",
    "        self.dropout = nn.Dropout(dropout)\n",
    "        self.proj = nn.Linear(n_embed, n_embed)\n",
    "\n",
    "    def forward(self, k_in, q_in, v_in, mask):\n",
    "        B, T, C = k_in.shape # (batch, context_size, n_embed)\n",
    "\n",
    "        # create k\n",
    "        # NOTE: make sure the maths works here\n",
    "        k = self.wk(k_in) # (B, context_size, n_embed) @ (n_embed, n_embed) ---> (B, context_size, n_embed)\n",
    "        # we store kv in the final encoder layer so that the decoders can use it\n",
    "        if self.store_kv:\n",
    "            self.stored_k = k\n",
    "        # split per head\n",
    "        k = k.view(B, T, self.n_heads, self.head_size)  # (B, context_size, n_embed) --> (B, context_size, n_heads, head_size)\n",
    "        # switch context size and n_heads dim so we can batch matmul over B and n_heads\n",
    "        k = k.transpose(1,2) # (B, context_size, n_heads, head_size) --> (B, n_heads, context_size, head_size)\n",
    "        \n",
    "        # create q \n",
    "        q = self.wq(q_in)\n",
    "        q = q.view(q.shape[0], q.shape[1], self.n_heads, self.head_size) # q can be a different shape to k and v so need to use its own shape\n",
    "        q = q.transpose(1,2)\n",
    "\n",
    "        # create v \n",
    "        v = self.wv(v_in)\n",
    "        if self.store_kv:\n",
    "            self.stored_v = v\n",
    "        v = v.view(B, T, self.n_heads, self.head_size)\n",
    "        v = v.transpose(1, 2)\n",
    "\n",
    "        attn = q @ k.transpose(-2, -1) # (B, n_heads, context_size, head_size) @ (B, n_heads, head_size, context_size) --> (B, n_heads, context_size, context_size)\n",
    "        attn = attn / (self.n_embed ** 0.5) # divide by squareroot of n_embed to decrease magnitude\n",
    "        \n",
    "        # if this is a masked attention layer (causal?) mask out all tokens before the cur pos, otherwise just mask out padding \n",
    "        attn = attn.masked_fill(mask.unsqueeze(1) == 0, float(\"-inf\")) # TODO: check that the dimensions here work\n",
    "        attn = self.dropout(F.softmax(attn, dim=-1))\n",
    "        \n",
    "        # generate the v matrix and use the attn matrix to pluck out relevant info on a per head basis\n",
    "        out = attn @ v # (B, n_heads, context_size, context_size) @ (B, n_heads, context_size, head_size) --> (B, n_heads, context_size, head_size)\n",
    "        # remove per-head dimension and use final linear projection\n",
    "        out = out.view(out.shape[0], -1, self.n_embed) # (B, n_heads, context_size, head_size) --> (B, context_size, n_embed)\n",
    "        return self.proj(out)\n",
    "\n",
    "class FeedForward(nn.Module):\n",
    "    def __init__(self, n_embed, dropout):\n",
    "        super().__init__()\n",
    "        self.ffw = nn.Sequential(\n",
    "            nn.Linear(n_embed, 4* n_embed),\n",
    "            nn.ReLU(),\n",
    "            nn.Linear(4*n_embed, n_embed),\n",
    "            nn.Dropout(dropout)\n",
    "        )\n",
    "\n",
    "    def forward(self, x):\n",
    "        return self.ffw(x) # (B, context_size, n_embed) @ (n_embed, 4*n_embed) @ (4*n_embed, n_embed) --> (B, context_size, n_embed)\n",
    "\n",
    "class EncoderBlock(nn.Module):\n",
    "    def __init__(self, n_heads, n_embed, dropout):\n",
    "        super().__init__()\n",
    "        self.attention = MultiHeadAttention(n_heads, n_embed, dropout, True)\n",
    "        self.ffw = FeedForward(n_embed, dropout)\n",
    "        self.ln1 = nn.LayerNorm(n_embed)\n",
    "        self.ln2 = nn.LayerNorm(n_embed)\n",
    "\n",
    "    def forward(self, inputs):\n",
    "        x, mask = inputs\n",
    "        out = self.attention(x, x, x, mask)\n",
    "        out = self.ln1(out) + x\n",
    "        out = self.ffw(out)\n",
    "        out = self.ln2(out) + x\n",
    "        return (out, mask)\n",
    "\n",
    "class DecoderBlock(nn.Module):\n",
    "    def __init__(self, n_heads, n_embed, dropout):\n",
    "        super().__init__()\n",
    "        self.masked_attention = MultiHeadAttention(n_heads, n_embed, dropout)\n",
    "        self.attention = MultiHeadAttention(n_heads, n_embed, dropout)\n",
    "        self.ffw = FeedForward(n_embed, dropout)\n",
    "        self.ln1 = nn.LayerNorm(n_embed)\n",
    "        self.ln2 = nn.LayerNorm(n_embed)\n",
    "        self.ln3 = nn.LayerNorm(n_embed)\n",
    "\n",
    "    def forward(self, inputs):\n",
    "        # unpack inputs\n",
    "        x, k_in, v_in, src_mask, targ_mask = inputs\n",
    "        out = self.masked_attention(x, x, x, targ_mask)\n",
    "        out = self.ln1(out) + x\n",
    "        out = self.attention(k_in, out, v_in, src_mask)\n",
    "        out = self.ln2(out) + x\n",
    "        out = self.ffw(out)\n",
    "        out = self.ln3(out) + x\n",
    "        return (x, k_in, v_in, src_mask, targ_mask)\n",
    "\n",
    "class PositionalEmbedding(nn.Module):\n",
    "    def __init__(self, n_embed, context_size):\n",
    "        super().__init__()\n",
    "        self.dropout = nn.Dropout(0.1)\n",
    "        posem = torch.zeros((context_size+1, n_embed))\n",
    "        for pos in range(context_size+1):\n",
    "            for i in range(n_embed, 2):\n",
    "                posem[pos, i] = math.sin(pos/(10000**(2*i/n_embed)))\n",
    "                posem[pos, i+1] = math.cos(pos/(10000**(2*(i+1)/n_embed)))\n",
    "        posem.unsqueeze(0)\n",
    "        self.register_buffer(\"posem\", posem)\n",
    "\n",
    "    def forward(self, x):\n",
    "        return x + self.posem[torch.arange(x.shape[1]),:]\n",
    "\n",
    "class Generator(nn.Module):\n",
    "    def __init__(self, n_embed, output_vocab_size):\n",
    "        super().__init__()\n",
    "        self.proj = nn.Linear(n_embed, output_vocab_size)\n",
    "\n",
    "    def forward(self, x):\n",
    "        return self.proj(x)\n",
    "\n",
    "class EncoderDecoderTransformer(nn.Module):\n",
    "    def __init__(self, n_heads, n_embed, dropout, n_blocks, context_size, input_vocab_size, output_vocab_size):\n",
    "        super().__init__()\n",
    "        self.input_embedding = nn.Embedding(input_vocab_size, n_embed)\n",
    "        self.positional_embedding = PositionalEmbedding(n_embed, context_size)\n",
    "        self.encoders = nn.Sequential(*[EncoderBlock(n_heads, n_embed, dropout) for _ in range(n_blocks)])\n",
    "        self.decoders = nn.Sequential(*[DecoderBlock(n_heads, n_embed, dropout) for _ in range(n_blocks)])\n",
    "        self.output = Generator(n_embed, output_vocab_size)\n",
    "    \n",
    "    def encode(self, src, src_mask):\n",
    "        x = self.input_embedding(src)\n",
    "        x = self.positional_embedding(x)\n",
    "        x = self.encoders((x, src_mask))[0]\n",
    "        return x\n",
    "\n",
    "    def decode(self, targ, src_mask, targ_mask):\n",
    "        x = self.input_embedding(targ)\n",
    "        x = self.positional_embedding(x)\n",
    "        x = self.decoders((x , self.encoders[-1].attention.stored_k, self.encoders[-1].attention.stored_v, src_mask, targ_mask))[0]\n",
    "        return self.output(x)\n",
    "    \n",
    "    def forward(self, src, targ, src_mask, targ_mask):\n",
    "        x = self.encode(src, src_mask)\n",
    "        out = self.decode(targ, src_mask, targ_mask)\n",
    "        return out"
   ]
  },
  {
   "cell_type": "markdown",
   "id": "342d5ae9-f236-415d-bc64-f9ec8ef7ce0e",
   "metadata": {},
   "source": [
    "# very scratch test forward pass"
   ]
  },
  {
   "cell_type": "code",
   "execution_count": 240,
   "id": "e409cb06-f994-47c8-8679-54fd7938f769",
   "metadata": {},
   "outputs": [],
   "source": [
    "# TODO: work out how to handle extracting k and v from multiple heads in final encoder block?? very possibly I should just rewrite in the kombo-head pattern \n",
    "\n",
    "model = EncoderDecoderTransformer(\n",
    "    n_heads=3, n_embed=6, dropout=0.2, n_blocks=5, context_size=12, input_vocab_size=12, output_vocab_size=12\n",
    ")\n",
    "\n",
    "# x = torch.arange(11)\n",
    "# y = torch.tensor([[0]])\n",
    "src = torch.tensor([[0, 2, 5, 6, 4, 3, 9, 5, 2, 9, 10, 1], \n",
    "                    [0, 2, 8, 7, 3, 4, 5, 6, 7, 2, 10, 1]])\n",
    "target = torch.tensor([[0, 1, 7, 4, 3, 5, 9, 2, 8, 10, 9, 1], \n",
    "                       [0, 1, 5, 6, 2, 4, 7, 6, 2, 8, 10, 1]])\n",
    "start_symbol = torch.zeros(target.shape[0], 1).fill_(11).type_as(target)\n",
    "y = torch.cat((start_symbol, target[:,:-1]), dim=1)\n",
    "src_mask, targ_mask = create_mask(src, target, 10)\n",
    "out = model(src, y, src_mask, targ_mask)"
   ]
  },
  {
   "cell_type": "code",
   "execution_count": 241,
   "id": "9df405d9-16af-4a4f-be26-48f76da33172",
   "metadata": {},
   "outputs": [
    {
     "data": {
      "text/plain": [
       "torch.Size([2, 12, 12])"
      ]
     },
     "execution_count": 241,
     "metadata": {},
     "output_type": "execute_result"
    }
   ],
   "source": [
    "out.shape"
   ]
  },
  {
   "cell_type": "markdown",
   "id": "a9e06f27-8565-45d3-a903-533a2eae882c",
   "metadata": {},
   "source": [
    "# test on synthetic data"
   ]
  },
  {
   "cell_type": "code",
   "execution_count": 258,
   "id": "04299b62-079a-40be-a1de-45b613fcb62e",
   "metadata": {},
   "outputs": [],
   "source": [
    "def generate_fake_data(vocab_size, batch_size):\n",
    "    data = torch.randint(2, vocab_size+2, size=(batch_size, 10))\n",
    "    # data[:,0] = 3\n",
    "    src = data.requires_grad_(False).clone().detach()\n",
    "    target = data.requires_grad_(False).clone().detach()\n",
    "    target = torch.cat((torch.zeros(target.shape[0], 1), target), dim=1)\n",
    "    target = torch.cat((target, torch.ones(target.shape[0], 1)), dim=1)\n",
    "    targ = target[:,:-1].type(torch.long)\n",
    "    labels = target[:,1:].type(torch.long)\n",
    "    src_mask, targ_mask = create_mask(src, targ, 99)\n",
    "    return [src, targ, labels, src_mask, targ_mask]"
   ]
  },
  {
   "cell_type": "code",
   "execution_count": 255,
   "id": "6ed67acc-2208-4264-9775-a7185381a10d",
   "metadata": {},
   "outputs": [],
   "source": [
    "src, targ, labels, src_mask, targ_mask = generate_fake_data(10, 2)"
   ]
  },
  {
   "cell_type": "code",
   "execution_count": 256,
   "id": "ed269e6d-e15c-4fb5-927e-23cba42d188f",
   "metadata": {},
   "outputs": [
    {
     "name": "stdout",
     "output_type": "stream",
     "text": [
      "tensor([ 5,  9, 11,  8,  2,  3,  3,  6,  9,  6])\n",
      "tensor([ 0,  5,  9, 11,  8,  2,  3,  3,  6,  9,  6])\n",
      "tensor([ 5,  9, 11,  8,  2,  3,  3,  6,  9,  6,  1])\n"
     ]
    }
   ],
   "source": [
    "print(src[0])\n",
    "print(targ[0])\n",
    "print(labels[0])\n"
   ]
  },
  {
   "cell_type": "code",
   "execution_count": 257,
   "id": "b9e234ce-5ece-4d8f-9be4-a80bc5986c3c",
   "metadata": {},
   "outputs": [
    {
     "name": "stdout",
     "output_type": "stream",
     "text": [
      "step=0 loss.item()=2.5641238689422607\n",
      "step=100 loss.item()=2.335684061050415\n",
      "step=200 loss.item()=2.3187954425811768\n",
      "step=300 loss.item()=2.3061680793762207\n",
      "step=400 loss.item()=2.3054280281066895\n",
      "step=500 loss.item()=2.302196979522705\n",
      "step=600 loss.item()=2.3061842918395996\n",
      "step=700 loss.item()=2.306722402572632\n",
      "step=800 loss.item()=2.306868076324463\n",
      "step=900 loss.item()=2.3023078441619873\n"
     ]
    }
   ],
   "source": [
    "model = EncoderDecoderTransformer(\n",
    "    n_heads=4, n_embed=64, dropout=0.2, n_blocks=6, context_size=20, input_vocab_size=12, output_vocab_size=12\n",
    ")\n",
    "\n",
    "optim = torch.optim.Adam(model.parameters(), lr=1e-3, betas=(0.9, 0.98), eps=1e-9)\n",
    "\n",
    "losses = []\n",
    "\n",
    "for step in range(1000):\n",
    "    src, targ, labels, src_mask, targ_mask = generate_fake_data(10, 64)\n",
    "    # forward pass\n",
    "    logits = model(src, targ, src_mask, targ_mask)\n",
    "    loss = calculate_loss(logits, labels)\n",
    "    losses.append(loss.item())\n",
    "    optim.zero_grad()\n",
    "    loss.backward()\n",
    "    optim.step()\n",
    "    if step % 100 == 0:\n",
    "        print(f\"{step=} {loss.item()=}\")"
   ]
  },
  {
   "cell_type": "code",
   "execution_count": 250,
   "id": "062fcc33-b8a7-4a9f-b76d-0456e2666d0a",
   "metadata": {},
   "outputs": [
    {
     "data": {
      "text/plain": [
       "[<matplotlib.lines.Line2D at 0x7f6433354ad0>]"
      ]
     },
     "execution_count": 250,
     "metadata": {},
     "output_type": "execute_result"
    },
    {
     "data": {
      "image/png": "[encoded data removed]",
      "text/plain": [
       "<Figure size 640x480 with 1 Axes>"
      ]
     },
     "metadata": {},
     "output_type": "display_data"
    }
   ],
   "source": [
    "plt.plot(losses)"
   ]
  },
  {
   "cell_type": "code",
   "execution_count": 277,
   "id": "3a7fae14-9c07-47d4-a93a-e2081683922f",
   "metadata": {},
   "outputs": [
    {
     "name": "stdout",
     "output_type": "stream",
     "text": [
      "tensor([[4, 8, 3, 9, 5, 3, 9, 7, 8, 9]])\n",
      "tensor([[0, 2, 2, 2, 2, 2, 2, 2, 2, 2, 2, 2, 2, 2, 2, 2, 2, 2, 2, 2, 2]])\n"
     ]
    }
   ],
   "source": [
    "def greedy_decoding(model, src, context_size):\n",
    "    cur_targ = torch.zeros((1,1)).type(torch.int)\n",
    "    src_mask, _ = create_mask(src, src, 99)\n",
    "    model.encode(src, src_mask)\n",
    "    for i in range(context_size):\n",
    "        src_mask, targ_mask = create_mask(src, cur_targ, 99)\n",
    "        proj = model.decode(cur_targ, src_mask, targ_mask)\n",
    "        tok = torch.argmax(proj[:,-1], keepdims=True)\n",
    "        if tok.item() == 1:\n",
    "            return cur_targ\n",
    "        cur_targ = torch.cat([cur_targ, tok], dim=1)\n",
    "    return cur_targ\n",
    "\n",
    "src = torch.randint(2, 12, size=(1, 10))\n",
    "\n",
    "cur_targ = greedy_decoding(model, src, 20)\n",
    "print(src)\n",
    "print(cur_targ)"
   ]
  },
  {
   "cell_type": "markdown",
   "id": "40b9dad9-5f19-4f78-a1f5-eacb12f71d43",
   "metadata": {},
   "source": [
    "# test training on real data"
   ]
  },
  {
   "cell_type": "code",
   "execution_count": 79,
   "id": "df7dd8ed-52c5-46c1-b041-5d5aaa43d581",
   "metadata": {},
   "outputs": [],
   "source": [
    "import torchtext.datasets\n",
    "from torch.utils.data import DataLoader\n",
    "\n",
    "train_data = torchtext.datasets.Multi30k(split='train', language_pair=('de', 'en'))\n",
    "val_data = torchtext.datasets.Multi30k(split='valid', language_pair=('de', 'en'))"
   ]
  },
  {
   "cell_type": "code",
   "execution_count": 15,
   "id": "dfda2e7e-4297-4106-9a72-6c729c9de94e",
   "metadata": {},
   "outputs": [],
   "source": [
    "import en_core_web_sm\n",
    "import de_core_news_sm\n",
    "\n",
    "en_tokenizer = en_core_web_sm.load()\n",
    "de_tokenizer = de_core_news_sm.load()"
   ]
  },
  {
   "cell_type": "code",
   "execution_count": 41,
   "id": "cf07167b-93bc-4a95-bd00-fcc368900741",
   "metadata": {},
   "outputs": [],
   "source": [
    "from collections import Counter\n",
    "\n",
    "def get_unique_tokens(text, tokenizer):\n",
    "    cnt = Counter()\n",
    "    for doc in tokenizer.pipe(text):\n",
    "        doc_tokens = [tok.text.strip() for tok in doc if len(tok.text) > 0]\n",
    "        cnt.update(doc_tokens)\n",
    "    return [tok[0] for tok in cnt.most_common(10000)]\n",
    "\n",
    "src_text, targ_text = list(zip(*train_data))\n",
    "\n",
    "de_toks = get_unique_tokens(src_text, de_tokenizer)\n",
    "en_toks = get_unique_tokens(targ_text, en_tokenizer)\n"
   ]
  },
  {
   "cell_type": "code",
   "execution_count": 71,
   "id": "50469226-4ede-4e94-b45a-1531f75cd8d1",
   "metadata": {},
   "outputs": [],
   "source": [
    "# special token indices\n",
    "UNK_IDX = 0\n",
    "PAD_IDX = 1\n",
    "SOS_IDX = 2\n",
    "EOS_IDX = 3\n",
    "\n",
    "UNK = '<unk>' # Unknown\n",
    "PAD = '<pad>' # Padding\n",
    "SOS = '<sos>' # Start of sentence\n",
    "EOS = '<eos>' # End of sentence\n",
    "\n",
    "SPECIAL_TOKENS = [UNK, PAD, SOS, EOS]\n",
    "\n",
    "class Vocab:\n",
    "    def __init__(self, tokenizer, tokens):\n",
    "        self.tokenizer = tokenizer\n",
    "        self.tokens = SPECIAL_TOKENS + tokens\n",
    "        self.token_idxs = {self.tokens[i]: i for i in range(len(tokens))}\n",
    "\n",
    "    def __call__(self, text):\n",
    "        return [self.numerify(tok.text.strip()) for tok in self.tokenizer(text)]\n",
    "    \n",
    "    def numerify(self, tok):\n",
    "        if tok not in self.token_idxs:\n",
    "            return UNK_IDX\n",
    "        return self.token_idxs[tok]\n",
    "\n",
    "de_vocab = Vocab(de_tokenizer, de_toks)\n",
    "en_vocab = Vocab(en_tokenizer, en_toks)"
   ]
  },
  {
   "cell_type": "code",
   "execution_count": 121,
   "id": "7d0d16d8-9663-4a70-9bb6-f11851499309",
   "metadata": {},
   "outputs": [],
   "source": [
    "from torch.nn.utils.rnn import pad_sequence\n",
    "\n",
    "def make_dataloader(dataset, batch_size, context_size, device): \n",
    "    def collate_fn(batch):\n",
    "        srcs = []\n",
    "        targs = []\n",
    "        for i, (src_sentence, targ_sentence) in enumerate(batch):\n",
    "            src = de_vocab(src_sentence)\n",
    "            targ = [SOS_IDX] + en_vocab(targ_sentence) + [EOS_IDX]\n",
    "    \n",
    "            srcs.append(torch.tensor(src))\n",
    "            targs.append(torch.tensor(targ))\n",
    "    \n",
    "        src_batch = pad_sequence(srcs, padding_value=PAD_IDX, batch_first=True)\n",
    "        targ_batch = pad_sequence(targs, padding_value=PAD_IDX, batch_first=True)\n",
    "    \n",
    "        # decoder wants target starting with SOS\n",
    "        target_batch = targ_batch[:, :-1]\n",
    "        # however when calculating loss we are only interested in tokens after SOS and ending with EOS\n",
    "        label_batch = targ_batch[:, 1:]\n",
    "        src_mask, targ_mask = create_mask(src_batch, target_batch, PAD_IDX) # TODO: understand what the hell happens with different context lengths\n",
    "    \n",
    "        all_batches = [src_batch, target_batch, label_batch, src_mask, targ_mask]\n",
    "        return [b.to(device) for b in all_batches]\n",
    "\n",
    "    return DataLoader(dataset, batch_size=batch_size, collate_fn=collate_fn)\n",
    "\n",
    "train_dataloader = make_dataloader(train_data, 32, 40, \"cpu\")\n",
    "val_dataloader = make_dataloader(val_data, 100, 40, \"cpu\")"
   ]
  },
  {
   "cell_type": "code",
   "execution_count": 185,
   "id": "44d49ba4-0cdb-44e3-ab63-a4cd6de56d5a",
   "metadata": {},
   "outputs": [
    {
     "name": "stderr",
     "output_type": "stream",
     "text": [
      "0batch [00:00, ?batch/s]/home/adam/dev/translate-gpt/.env/lib/python3.11/site-packages/torch/utils/data/datapipes/iter/combining.py:333: UserWarning: Some child DataPipes are not exhausted when __iter__ is called. We are resetting the buffer and each child DataPipe will read from the start again.\n",
      "  warnings.warn(\"Some child DataPipes are not exhausted when __iter__ is called. We are resetting \"\n",
      "1batch [00:00,  2.06batch/s]"
     ]
    },
    {
     "name": "stdout",
     "output_type": "stream",
     "text": [
      "loss.item()=9.210733413696289\n"
     ]
    },
    {
     "name": "stderr",
     "output_type": "stream",
     "text": [
      "11batch [00:05,  2.13batch/s]"
     ]
    },
    {
     "name": "stdout",
     "output_type": "stream",
     "text": [
      "loss.item()=9.210649490356445\n"
     ]
    },
    {
     "name": "stderr",
     "output_type": "stream",
     "text": [
      "21batch [00:09,  2.19batch/s]"
     ]
    },
    {
     "name": "stdout",
     "output_type": "stream",
     "text": [
      "loss.item()=9.210260391235352\n"
     ]
    },
    {
     "name": "stderr",
     "output_type": "stream",
     "text": [
      "31batch [00:14,  2.23batch/s]"
     ]
    },
    {
     "name": "stdout",
     "output_type": "stream",
     "text": [
      "loss.item()=9.207955360412598\n"
     ]
    },
    {
     "name": "stderr",
     "output_type": "stream",
     "text": [
      "41batch [00:18,  2.17batch/s]"
     ]
    },
    {
     "name": "stdout",
     "output_type": "stream",
     "text": [
      "loss.item()=9.193553924560547\n"
     ]
    },
    {
     "name": "stderr",
     "output_type": "stream",
     "text": [
      "51batch [00:23,  2.10batch/s]"
     ]
    },
    {
     "name": "stdout",
     "output_type": "stream",
     "text": [
      "loss.item()=9.137707710266113\n"
     ]
    },
    {
     "name": "stderr",
     "output_type": "stream",
     "text": [
      "61batch [00:28,  2.18batch/s]"
     ]
    },
    {
     "name": "stdout",
     "output_type": "stream",
     "text": [
      "loss.item()=9.111954689025879\n"
     ]
    },
    {
     "name": "stderr",
     "output_type": "stream",
     "text": [
      "71batch [00:33,  2.13batch/s]"
     ]
    },
    {
     "name": "stdout",
     "output_type": "stream",
     "text": [
      "loss.item()=9.089198112487793\n"
     ]
    },
    {
     "name": "stderr",
     "output_type": "stream",
     "text": [
      "81batch [00:37,  2.18batch/s]"
     ]
    },
    {
     "name": "stdout",
     "output_type": "stream",
     "text": [
      "loss.item()=9.079070091247559\n"
     ]
    },
    {
     "name": "stderr",
     "output_type": "stream",
     "text": [
      "91batch [00:42,  2.15batch/s]"
     ]
    },
    {
     "name": "stdout",
     "output_type": "stream",
     "text": [
      "loss.item()=9.079970359802246\n"
     ]
    },
    {
     "name": "stderr",
     "output_type": "stream",
     "text": [
      "101batch [00:46,  2.12batch/s]"
     ]
    },
    {
     "name": "stdout",
     "output_type": "stream",
     "text": [
      "loss.item()=9.079747200012207\n"
     ]
    },
    {
     "name": "stderr",
     "output_type": "stream",
     "text": [
      "111batch [00:51,  2.18batch/s]"
     ]
    },
    {
     "name": "stdout",
     "output_type": "stream",
     "text": [
      "loss.item()=9.072866439819336\n"
     ]
    },
    {
     "name": "stderr",
     "output_type": "stream",
     "text": [
      "121batch [00:56,  2.20batch/s]"
     ]
    },
    {
     "name": "stdout",
     "output_type": "stream",
     "text": [
      "loss.item()=9.063436508178711\n"
     ]
    },
    {
     "name": "stderr",
     "output_type": "stream",
     "text": [
      "131batch [01:00,  2.15batch/s]"
     ]
    },
    {
     "name": "stdout",
     "output_type": "stream",
     "text": [
      "loss.item()=9.061756134033203\n"
     ]
    },
    {
     "name": "stderr",
     "output_type": "stream",
     "text": [
      "141batch [01:05,  2.23batch/s]"
     ]
    },
    {
     "name": "stdout",
     "output_type": "stream",
     "text": [
      "loss.item()=9.02640151977539\n"
     ]
    },
    {
     "name": "stderr",
     "output_type": "stream",
     "text": [
      "151batch [01:09,  2.23batch/s]"
     ]
    },
    {
     "name": "stdout",
     "output_type": "stream",
     "text": [
      "loss.item()=9.035606384277344\n"
     ]
    },
    {
     "name": "stderr",
     "output_type": "stream",
     "text": [
      "161batch [01:14,  2.20batch/s]"
     ]
    },
    {
     "name": "stdout",
     "output_type": "stream",
     "text": [
      "loss.item()=9.076016426086426\n"
     ]
    },
    {
     "name": "stderr",
     "output_type": "stream",
     "text": [
      "171batch [01:18,  2.14batch/s]"
     ]
    },
    {
     "name": "stdout",
     "output_type": "stream",
     "text": [
      "loss.item()=9.062559127807617\n"
     ]
    },
    {
     "name": "stderr",
     "output_type": "stream",
     "text": [
      "181batch [01:23,  2.12batch/s]"
     ]
    },
    {
     "name": "stdout",
     "output_type": "stream",
     "text": [
      "loss.item()=9.023770332336426\n"
     ]
    },
    {
     "name": "stderr",
     "output_type": "stream",
     "text": [
      "191batch [01:27,  2.26batch/s]"
     ]
    },
    {
     "name": "stdout",
     "output_type": "stream",
     "text": [
      "loss.item()=9.033185005187988\n"
     ]
    },
    {
     "name": "stderr",
     "output_type": "stream",
     "text": [
      "201batch [01:32,  2.14batch/s]"
     ]
    },
    {
     "name": "stdout",
     "output_type": "stream",
     "text": [
      "loss.item()=9.027458190917969\n"
     ]
    },
    {
     "name": "stderr",
     "output_type": "stream",
     "text": [
      "211batch [01:37,  2.05batch/s]"
     ]
    },
    {
     "name": "stdout",
     "output_type": "stream",
     "text": [
      "loss.item()=9.018912315368652\n"
     ]
    },
    {
     "name": "stderr",
     "output_type": "stream",
     "text": [
      "221batch [01:42,  1.92batch/s]"
     ]
    },
    {
     "name": "stdout",
     "output_type": "stream",
     "text": [
      "loss.item()=9.03642749786377\n"
     ]
    },
    {
     "name": "stderr",
     "output_type": "stream",
     "text": [
      "231batch [01:48,  1.76batch/s]"
     ]
    },
    {
     "name": "stdout",
     "output_type": "stream",
     "text": [
      "loss.item()=9.052026748657227\n"
     ]
    },
    {
     "name": "stderr",
     "output_type": "stream",
     "text": [
      "241batch [01:53,  1.85batch/s]"
     ]
    },
    {
     "name": "stdout",
     "output_type": "stream",
     "text": [
      "loss.item()=9.001538276672363\n"
     ]
    },
    {
     "name": "stderr",
     "output_type": "stream",
     "text": [
      "251batch [01:58,  1.89batch/s]"
     ]
    },
    {
     "name": "stdout",
     "output_type": "stream",
     "text": [
      "loss.item()=9.049471855163574\n"
     ]
    },
    {
     "name": "stderr",
     "output_type": "stream",
     "text": [
      "261batch [02:04,  1.85batch/s]"
     ]
    },
    {
     "name": "stdout",
     "output_type": "stream",
     "text": [
      "loss.item()=9.024253845214844\n"
     ]
    },
    {
     "name": "stderr",
     "output_type": "stream",
     "text": [
      "271batch [02:09,  1.94batch/s]"
     ]
    },
    {
     "name": "stdout",
     "output_type": "stream",
     "text": [
      "loss.item()=9.01122760772705\n"
     ]
    },
    {
     "name": "stderr",
     "output_type": "stream",
     "text": [
      "281batch [02:14,  1.84batch/s]"
     ]
    },
    {
     "name": "stdout",
     "output_type": "stream",
     "text": [
      "loss.item()=9.016337394714355\n"
     ]
    },
    {
     "name": "stderr",
     "output_type": "stream",
     "text": [
      "291batch [02:20,  1.82batch/s]"
     ]
    },
    {
     "name": "stdout",
     "output_type": "stream",
     "text": [
      "loss.item()=9.016438484191895\n"
     ]
    },
    {
     "name": "stderr",
     "output_type": "stream",
     "text": [
      "301batch [02:25,  1.87batch/s]"
     ]
    },
    {
     "name": "stdout",
     "output_type": "stream",
     "text": [
      "loss.item()=9.004523277282715\n"
     ]
    },
    {
     "name": "stderr",
     "output_type": "stream",
     "text": [
      "311batch [02:31,  1.92batch/s]"
     ]
    },
    {
     "name": "stdout",
     "output_type": "stream",
     "text": [
      "loss.item()=9.030062675476074\n"
     ]
    },
    {
     "name": "stderr",
     "output_type": "stream",
     "text": [
      "321batch [02:36,  1.89batch/s]"
     ]
    },
    {
     "name": "stdout",
     "output_type": "stream",
     "text": [
      "loss.item()=9.016047477722168\n"
     ]
    },
    {
     "name": "stderr",
     "output_type": "stream",
     "text": [
      "331batch [02:41,  1.84batch/s]"
     ]
    },
    {
     "name": "stdout",
     "output_type": "stream",
     "text": [
      "loss.item()=8.998820304870605\n"
     ]
    },
    {
     "name": "stderr",
     "output_type": "stream",
     "text": [
      "341batch [02:46,  1.87batch/s]"
     ]
    },
    {
     "name": "stdout",
     "output_type": "stream",
     "text": [
      "loss.item()=8.97903823852539\n"
     ]
    },
    {
     "name": "stderr",
     "output_type": "stream",
     "text": [
      "351batch [02:52,  1.87batch/s]"
     ]
    },
    {
     "name": "stdout",
     "output_type": "stream",
     "text": [
      "loss.item()=9.014290809631348\n"
     ]
    },
    {
     "name": "stderr",
     "output_type": "stream",
     "text": [
      "361batch [02:57,  1.99batch/s]"
     ]
    },
    {
     "name": "stdout",
     "output_type": "stream",
     "text": [
      "loss.item()=9.05443286895752\n"
     ]
    },
    {
     "name": "stderr",
     "output_type": "stream",
     "text": [
      "371batch [03:02,  1.90batch/s]"
     ]
    },
    {
     "name": "stdout",
     "output_type": "stream",
     "text": [
      "loss.item()=9.041675567626953\n"
     ]
    },
    {
     "name": "stderr",
     "output_type": "stream",
     "text": [
      "381batch [03:07,  2.02batch/s]"
     ]
    },
    {
     "name": "stdout",
     "output_type": "stream",
     "text": [
      "loss.item()=8.964580535888672\n"
     ]
    },
    {
     "name": "stderr",
     "output_type": "stream",
     "text": [
      "391batch [03:13,  1.79batch/s]"
     ]
    },
    {
     "name": "stdout",
     "output_type": "stream",
     "text": [
      "loss.item()=9.014985084533691\n"
     ]
    },
    {
     "name": "stderr",
     "output_type": "stream",
     "text": [
      "401batch [03:18,  1.90batch/s]"
     ]
    },
    {
     "name": "stdout",
     "output_type": "stream",
     "text": [
      "loss.item()=9.029491424560547\n"
     ]
    },
    {
     "name": "stderr",
     "output_type": "stream",
     "text": [
      "411batch [03:23,  1.87batch/s]"
     ]
    },
    {
     "name": "stdout",
     "output_type": "stream",
     "text": [
      "loss.item()=8.984395027160645\n"
     ]
    },
    {
     "name": "stderr",
     "output_type": "stream",
     "text": [
      "421batch [03:28,  1.87batch/s]"
     ]
    },
    {
     "name": "stdout",
     "output_type": "stream",
     "text": [
      "loss.item()=8.990285873413086\n"
     ]
    },
    {
     "name": "stderr",
     "output_type": "stream",
     "text": [
      "431batch [03:34,  1.88batch/s]"
     ]
    },
    {
     "name": "stdout",
     "output_type": "stream",
     "text": [
      "loss.item()=8.985082626342773\n"
     ]
    },
    {
     "name": "stderr",
     "output_type": "stream",
     "text": [
      "441batch [03:39,  1.97batch/s]"
     ]
    },
    {
     "name": "stdout",
     "output_type": "stream",
     "text": [
      "loss.item()=9.00655746459961\n"
     ]
    },
    {
     "name": "stderr",
     "output_type": "stream",
     "text": [
      "451batch [03:44,  1.83batch/s]"
     ]
    },
    {
     "name": "stdout",
     "output_type": "stream",
     "text": [
      "loss.item()=8.997050285339355\n"
     ]
    },
    {
     "name": "stderr",
     "output_type": "stream",
     "text": [
      "461batch [03:50,  1.91batch/s]"
     ]
    },
    {
     "name": "stdout",
     "output_type": "stream",
     "text": [
      "loss.item()=9.002702713012695\n"
     ]
    },
    {
     "name": "stderr",
     "output_type": "stream",
     "text": [
      "471batch [03:55,  1.93batch/s]"
     ]
    },
    {
     "name": "stdout",
     "output_type": "stream",
     "text": [
      "loss.item()=8.993941307067871\n"
     ]
    },
    {
     "name": "stderr",
     "output_type": "stream",
     "text": [
      "481batch [04:00,  1.86batch/s]"
     ]
    },
    {
     "name": "stdout",
     "output_type": "stream",
     "text": [
      "loss.item()=8.998924255371094\n"
     ]
    },
    {
     "name": "stderr",
     "output_type": "stream",
     "text": [
      "491batch [04:06,  1.87batch/s]"
     ]
    },
    {
     "name": "stdout",
     "output_type": "stream",
     "text": [
      "loss.item()=8.963919639587402\n"
     ]
    },
    {
     "name": "stderr",
     "output_type": "stream",
     "text": [
      "501batch [04:11,  1.86batch/s]"
     ]
    },
    {
     "name": "stdout",
     "output_type": "stream",
     "text": [
      "loss.item()=8.98376750946045\n"
     ]
    },
    {
     "name": "stderr",
     "output_type": "stream",
     "text": [
      "511batch [04:16,  1.86batch/s]"
     ]
    },
    {
     "name": "stdout",
     "output_type": "stream",
     "text": [
      "loss.item()=8.99299430847168\n"
     ]
    },
    {
     "name": "stderr",
     "output_type": "stream",
     "text": [
      "521batch [04:22,  1.74batch/s]"
     ]
    },
    {
     "name": "stdout",
     "output_type": "stream",
     "text": [
      "loss.item()=8.994638442993164\n"
     ]
    },
    {
     "name": "stderr",
     "output_type": "stream",
     "text": [
      "531batch [04:27,  1.88batch/s]"
     ]
    },
    {
     "name": "stdout",
     "output_type": "stream",
     "text": [
      "loss.item()=8.972437858581543\n"
     ]
    },
    {
     "name": "stderr",
     "output_type": "stream",
     "text": [
      "541batch [04:33,  1.70batch/s]"
     ]
    },
    {
     "name": "stdout",
     "output_type": "stream",
     "text": [
      "loss.item()=8.976280212402344\n"
     ]
    },
    {
     "name": "stderr",
     "output_type": "stream",
     "text": [
      "551batch [04:38,  1.83batch/s]"
     ]
    },
    {
     "name": "stdout",
     "output_type": "stream",
     "text": [
      "loss.item()=9.011720657348633\n"
     ]
    },
    {
     "name": "stderr",
     "output_type": "stream",
     "text": [
      "561batch [04:44,  1.78batch/s]"
     ]
    },
    {
     "name": "stdout",
     "output_type": "stream",
     "text": [
      "loss.item()=8.958436012268066\n"
     ]
    },
    {
     "name": "stderr",
     "output_type": "stream",
     "text": [
      "571batch [04:49,  1.82batch/s]"
     ]
    },
    {
     "name": "stdout",
     "output_type": "stream",
     "text": [
      "loss.item()=8.952786445617676\n"
     ]
    },
    {
     "name": "stderr",
     "output_type": "stream",
     "text": [
      "581batch [04:55,  1.86batch/s]"
     ]
    },
    {
     "name": "stdout",
     "output_type": "stream",
     "text": [
      "loss.item()=8.907593727111816\n"
     ]
    },
    {
     "name": "stderr",
     "output_type": "stream",
     "text": [
      "591batch [05:00,  1.82batch/s]"
     ]
    },
    {
     "name": "stdout",
     "output_type": "stream",
     "text": [
      "loss.item()=8.946897506713867\n"
     ]
    },
    {
     "name": "stderr",
     "output_type": "stream",
     "text": [
      "601batch [05:06,  1.89batch/s]"
     ]
    },
    {
     "name": "stdout",
     "output_type": "stream",
     "text": [
      "loss.item()=9.004509925842285\n"
     ]
    },
    {
     "name": "stderr",
     "output_type": "stream",
     "text": [
      "611batch [05:11,  1.80batch/s]"
     ]
    },
    {
     "name": "stdout",
     "output_type": "stream",
     "text": [
      "loss.item()=8.9861421585083\n"
     ]
    },
    {
     "name": "stderr",
     "output_type": "stream",
     "text": [
      "621batch [05:17,  1.79batch/s]"
     ]
    },
    {
     "name": "stdout",
     "output_type": "stream",
     "text": [
      "loss.item()=8.995495796203613\n"
     ]
    },
    {
     "name": "stderr",
     "output_type": "stream",
     "text": [
      "631batch [05:22,  1.73batch/s]"
     ]
    },
    {
     "name": "stdout",
     "output_type": "stream",
     "text": [
      "loss.item()=8.96332836151123\n"
     ]
    },
    {
     "name": "stderr",
     "output_type": "stream",
     "text": [
      "641batch [05:28,  1.87batch/s]"
     ]
    },
    {
     "name": "stdout",
     "output_type": "stream",
     "text": [
      "loss.item()=8.950708389282227\n"
     ]
    },
    {
     "name": "stderr",
     "output_type": "stream",
     "text": [
      "651batch [05:33,  1.86batch/s]"
     ]
    },
    {
     "name": "stdout",
     "output_type": "stream",
     "text": [
      "loss.item()=8.98873519897461\n"
     ]
    },
    {
     "name": "stderr",
     "output_type": "stream",
     "text": [
      "661batch [05:39,  1.86batch/s]"
     ]
    },
    {
     "name": "stdout",
     "output_type": "stream",
     "text": [
      "loss.item()=8.970311164855957\n"
     ]
    },
    {
     "name": "stderr",
     "output_type": "stream",
     "text": [
      "671batch [05:44,  1.80batch/s]"
     ]
    },
    {
     "name": "stdout",
     "output_type": "stream",
     "text": [
      "loss.item()=8.959149360656738\n"
     ]
    },
    {
     "name": "stderr",
     "output_type": "stream",
     "text": [
      "681batch [05:50,  1.86batch/s]"
     ]
    },
    {
     "name": "stdout",
     "output_type": "stream",
     "text": [
      "loss.item()=8.920761108398438\n"
     ]
    },
    {
     "name": "stderr",
     "output_type": "stream",
     "text": [
      "691batch [05:55,  1.76batch/s]"
     ]
    },
    {
     "name": "stdout",
     "output_type": "stream",
     "text": [
      "loss.item()=8.965910911560059\n"
     ]
    },
    {
     "name": "stderr",
     "output_type": "stream",
     "text": [
      "701batch [06:01,  1.80batch/s]"
     ]
    },
    {
     "name": "stdout",
     "output_type": "stream",
     "text": [
      "loss.item()=8.92894172668457\n"
     ]
    },
    {
     "name": "stderr",
     "output_type": "stream",
     "text": [
      "711batch [06:06,  1.86batch/s]"
     ]
    },
    {
     "name": "stdout",
     "output_type": "stream",
     "text": [
      "loss.item()=8.949209213256836\n"
     ]
    },
    {
     "name": "stderr",
     "output_type": "stream",
     "text": [
      "721batch [06:12,  1.81batch/s]"
     ]
    },
    {
     "name": "stdout",
     "output_type": "stream",
     "text": [
      "loss.item()=8.953653335571289\n"
     ]
    },
    {
     "name": "stderr",
     "output_type": "stream",
     "text": [
      "731batch [06:17,  1.83batch/s]"
     ]
    },
    {
     "name": "stdout",
     "output_type": "stream",
     "text": [
      "loss.item()=8.944999694824219\n"
     ]
    },
    {
     "name": "stderr",
     "output_type": "stream",
     "text": [
      "741batch [06:23,  1.74batch/s]"
     ]
    },
    {
     "name": "stdout",
     "output_type": "stream",
     "text": [
      "loss.item()=8.95530891418457\n"
     ]
    },
    {
     "name": "stderr",
     "output_type": "stream",
     "text": [
      "751batch [06:28,  1.72batch/s]"
     ]
    },
    {
     "name": "stdout",
     "output_type": "stream",
     "text": [
      "loss.item()=8.918329238891602\n"
     ]
    },
    {
     "name": "stderr",
     "output_type": "stream",
     "text": [
      "761batch [06:34,  1.75batch/s]"
     ]
    },
    {
     "name": "stdout",
     "output_type": "stream",
     "text": [
      "loss.item()=8.962823867797852\n"
     ]
    },
    {
     "name": "stderr",
     "output_type": "stream",
     "text": [
      "771batch [06:40,  1.72batch/s]"
     ]
    },
    {
     "name": "stdout",
     "output_type": "stream",
     "text": [
      "loss.item()=8.9678373336792\n"
     ]
    },
    {
     "name": "stderr",
     "output_type": "stream",
     "text": [
      "781batch [06:46,  1.82batch/s]"
     ]
    },
    {
     "name": "stdout",
     "output_type": "stream",
     "text": [
      "loss.item()=8.957608222961426\n"
     ]
    },
    {
     "name": "stderr",
     "output_type": "stream",
     "text": [
      "791batch [06:52,  1.72batch/s]"
     ]
    },
    {
     "name": "stdout",
     "output_type": "stream",
     "text": [
      "loss.item()=8.950309753417969\n"
     ]
    },
    {
     "name": "stderr",
     "output_type": "stream",
     "text": [
      "801batch [06:57,  1.73batch/s]"
     ]
    },
    {
     "name": "stdout",
     "output_type": "stream",
     "text": [
      "loss.item()=8.952887535095215\n"
     ]
    },
    {
     "name": "stderr",
     "output_type": "stream",
     "text": [
      "811batch [07:03,  1.77batch/s]"
     ]
    },
    {
     "name": "stdout",
     "output_type": "stream",
     "text": [
      "loss.item()=8.971698760986328\n"
     ]
    },
    {
     "name": "stderr",
     "output_type": "stream",
     "text": [
      "821batch [07:09,  1.77batch/s]"
     ]
    },
    {
     "name": "stdout",
     "output_type": "stream",
     "text": [
      "loss.item()=8.983675956726074\n"
     ]
    },
    {
     "name": "stderr",
     "output_type": "stream",
     "text": [
      "831batch [07:14,  1.85batch/s]"
     ]
    },
    {
     "name": "stdout",
     "output_type": "stream",
     "text": [
      "loss.item()=8.962743759155273\n"
     ]
    },
    {
     "name": "stderr",
     "output_type": "stream",
     "text": [
      "841batch [07:20,  1.76batch/s]"
     ]
    },
    {
     "name": "stdout",
     "output_type": "stream",
     "text": [
      "loss.item()=8.969167709350586\n"
     ]
    },
    {
     "name": "stderr",
     "output_type": "stream",
     "text": [
      "851batch [07:25,  1.76batch/s]"
     ]
    },
    {
     "name": "stdout",
     "output_type": "stream",
     "text": [
      "loss.item()=8.966465950012207\n"
     ]
    },
    {
     "name": "stderr",
     "output_type": "stream",
     "text": [
      "861batch [07:31,  1.82batch/s]"
     ]
    },
    {
     "name": "stdout",
     "output_type": "stream",
     "text": [
      "loss.item()=8.944661140441895\n"
     ]
    },
    {
     "name": "stderr",
     "output_type": "stream",
     "text": [
      "871batch [07:36,  1.71batch/s]"
     ]
    },
    {
     "name": "stdout",
     "output_type": "stream",
     "text": [
      "loss.item()=9.003609657287598\n"
     ]
    },
    {
     "name": "stderr",
     "output_type": "stream",
     "text": [
      "881batch [07:42,  1.72batch/s]"
     ]
    },
    {
     "name": "stdout",
     "output_type": "stream",
     "text": [
      "loss.item()=8.96571159362793\n"
     ]
    },
    {
     "name": "stderr",
     "output_type": "stream",
     "text": [
      "891batch [07:48,  1.77batch/s]"
     ]
    },
    {
     "name": "stdout",
     "output_type": "stream",
     "text": [
      "loss.item()=8.964508056640625\n"
     ]
    },
    {
     "name": "stderr",
     "output_type": "stream",
     "text": [
      "901batch [07:53,  1.81batch/s]"
     ]
    },
    {
     "name": "stdout",
     "output_type": "stream",
     "text": [
      "loss.item()=8.915078163146973\n"
     ]
    },
    {
     "name": "stderr",
     "output_type": "stream",
     "text": [
      "907batch [07:56,  1.90batch/s]\n"
     ]
    }
   ],
   "source": [
    "from tqdm import tqdm\n",
    "\n",
    "model = EncoderDecoderTransformer(\n",
    "    n_heads=8, n_embed=128, dropout=0.2, n_blocks=6, context_size=44, input_vocab_size=len(de_vocab.tokens), output_vocab_size=len(en_vocab.tokens)\n",
    ")\n",
    "\n",
    "optim = torch.optim.Adam(model.parameters(), lr=1e-3, betas=(0.9, 0.98), eps=1e-9)\n",
    "\n",
    "with tqdm(train_dataloader, unit=\"batch\") as iter:\n",
    "    losses = []\n",
    "    for step, (src, targ, labels, src_mask, targ_mask) in enumerate(iter):\n",
    "        # forward pass\n",
    "        logits = model(src, targ, src_mask, targ_mask)\n",
    "        loss = calculate_loss(logits, labels)\n",
    "        losses.append(loss.item())\n",
    "        optim.zero_grad()\n",
    "        loss.backward()\n",
    "        optim.step()\n",
    "        if step % 10 == 0:\n",
    "            print(f\"{loss.item()=}\")\n",
    "    \n",
    "    "
   ]
  },
  {
   "cell_type": "code",
   "execution_count": 186,
   "id": "b889cffb-f120-41ab-ac28-e65d90d1eea4",
   "metadata": {},
   "outputs": [
    {
     "data": {
      "text/plain": [
       "[9.210733413696289,\n",
       " 9.210726737976074,\n",
       " 9.21072769165039,\n",
       " 9.210715293884277,\n",
       " 9.210716247558594,\n",
       " 9.210707664489746,\n",
       " 9.210700035095215,\n",
       " 9.21069622039795,\n",
       " 9.210679054260254,\n",
       " 9.210673332214355,\n",
       " 9.210649490356445,\n",
       " 9.2106294631958,\n",
       " 9.210603713989258,\n",
       " 9.210601806640625,\n",
       " 9.210576057434082,\n",
       " 9.210556983947754,\n",
       " 9.210526466369629,\n",
       " 9.210470199584961,\n",
       " 9.21037769317627,\n",
       " 9.210357666015625,\n",
       " 9.210260391235352,\n",
       " 9.210247039794922,\n",
       " 9.210076332092285,\n",
       " 9.2099609375,\n",
       " 9.209695816040039,\n",
       " 9.209587097167969,\n",
       " 9.209501266479492,\n",
       " 9.20931625366211,\n",
       " 9.208842277526855,\n",
       " 9.208385467529297,\n",
       " 9.207955360412598,\n",
       " 9.207120895385742,\n",
       " 9.206398963928223,\n",
       " 9.205703735351562,\n",
       " 9.204448699951172,\n",
       " 9.20336627960205,\n",
       " 9.202404975891113,\n",
       " 9.199590682983398,\n",
       " 9.197884559631348,\n",
       " 9.194610595703125,\n",
       " 9.193553924560547,\n",
       " 9.187616348266602,\n",
       " 9.184483528137207,\n",
       " 9.179563522338867,\n",
       " 9.174766540527344,\n",
       " 9.166749954223633,\n",
       " 9.159613609313965,\n",
       " 9.157155990600586,\n",
       " 9.145181655883789,\n",
       " 9.141651153564453,\n",
       " 9.137707710266113,\n",
       " 9.125504493713379,\n",
       " 9.118682861328125,\n",
       " 9.115015983581543,\n",
       " 9.114116668701172,\n",
       " 9.107048988342285,\n",
       " 9.098224639892578,\n",
       " 9.094953536987305,\n",
       " 9.111604690551758,\n",
       " 9.09572696685791,\n",
       " 9.111954689025879,\n",
       " 9.0999116897583,\n",
       " 9.08913516998291,\n",
       " 9.096960067749023,\n",
       " 9.09214973449707,\n",
       " 9.094876289367676,\n",
       " 9.084139823913574,\n",
       " 9.098191261291504,\n",
       " 9.102437973022461,\n",
       " 9.096508026123047,\n",
       " 9.089198112487793,\n",
       " 9.102048873901367,\n",
       " 9.09325122833252,\n",
       " 9.092448234558105,\n",
       " 9.085984230041504,\n",
       " 9.076757431030273,\n",
       " 9.07886791229248,\n",
       " 9.084598541259766,\n",
       " 9.08089828491211,\n",
       " 9.076725006103516,\n",
       " 9.079070091247559,\n",
       " 9.060103416442871,\n",
       " 9.07491683959961,\n",
       " 9.080306053161621,\n",
       " 9.073908805847168,\n",
       " 9.071700096130371,\n",
       " 9.06954288482666,\n",
       " 9.071268081665039,\n",
       " 9.053308486938477,\n",
       " 9.068754196166992,\n",
       " 9.079970359802246,\n",
       " 9.066417694091797,\n",
       " 9.050100326538086,\n",
       " 9.058850288391113,\n",
       " 9.092436790466309,\n",
       " 9.086180686950684,\n",
       " 9.070035934448242,\n",
       " 9.082474708557129,\n",
       " 9.092291831970215,\n",
       " 9.051026344299316,\n",
       " 9.079747200012207,\n",
       " 9.052434921264648,\n",
       " 9.063150405883789,\n",
       " 9.064200401306152,\n",
       " 9.085500717163086,\n",
       " 9.062919616699219,\n",
       " 9.099628448486328,\n",
       " 9.07736873626709,\n",
       " 9.091144561767578,\n",
       " 9.047849655151367,\n",
       " 9.072866439819336,\n",
       " 9.055548667907715,\n",
       " 9.033740997314453,\n",
       " 9.033899307250977,\n",
       " 9.06374740600586,\n",
       " 9.0668306350708,\n",
       " 9.06919002532959,\n",
       " 9.048129081726074,\n",
       " 9.055610656738281,\n",
       " 9.042107582092285,\n",
       " 9.063436508178711,\n",
       " 9.07404613494873,\n",
       " 9.0599365234375,\n",
       " 9.057604789733887,\n",
       " 9.025341987609863,\n",
       " 9.090513229370117,\n",
       " 9.052477836608887,\n",
       " 9.043901443481445,\n",
       " 9.052360534667969,\n",
       " 9.071073532104492,\n",
       " 9.061756134033203,\n",
       " 9.042905807495117,\n",
       " 9.032676696777344,\n",
       " 9.040918350219727,\n",
       " 9.072782516479492,\n",
       " 9.063257217407227,\n",
       " 9.066011428833008,\n",
       " 9.048134803771973,\n",
       " 9.061553001403809,\n",
       " 9.018346786499023,\n",
       " 9.02640151977539,\n",
       " 9.039030075073242,\n",
       " 9.042122840881348,\n",
       " 9.054279327392578,\n",
       " 9.0629301071167,\n",
       " 9.049542427062988,\n",
       " 9.031105041503906,\n",
       " 9.049936294555664,\n",
       " 9.042040824890137,\n",
       " 9.047226905822754,\n",
       " 9.035606384277344,\n",
       " 9.049237251281738,\n",
       " 9.073176383972168,\n",
       " 9.040754318237305,\n",
       " 9.028788566589355,\n",
       " 9.056096076965332,\n",
       " 9.055209159851074,\n",
       " 9.047804832458496,\n",
       " 9.062042236328125,\n",
       " 9.061944961547852,\n",
       " 9.076016426086426,\n",
       " 9.055882453918457,\n",
       " 9.066293716430664,\n",
       " 9.046381950378418,\n",
       " 9.051111221313477,\n",
       " 9.044229507446289,\n",
       " 9.038456916809082,\n",
       " 9.044390678405762,\n",
       " 9.033525466918945,\n",
       " 9.05340576171875,\n",
       " 9.062559127807617,\n",
       " 9.043818473815918,\n",
       " 9.071027755737305,\n",
       " 9.038368225097656,\n",
       " 9.054885864257812,\n",
       " 9.057724952697754,\n",
       " 9.031654357910156,\n",
       " 9.042579650878906,\n",
       " 9.042238235473633,\n",
       " 9.057234764099121,\n",
       " 9.023770332336426,\n",
       " 9.023870468139648,\n",
       " 9.023515701293945,\n",
       " 9.050310134887695,\n",
       " 9.056798934936523,\n",
       " 9.047001838684082,\n",
       " 9.016963005065918,\n",
       " 9.016200065612793,\n",
       " 9.031546592712402,\n",
       " 9.056413650512695,\n",
       " 9.033185005187988,\n",
       " 9.062980651855469,\n",
       " 9.036255836486816,\n",
       " 9.008211135864258,\n",
       " 9.00996208190918,\n",
       " 9.028655052185059,\n",
       " 9.029109001159668,\n",
       " 9.02268123626709,\n",
       " 9.022317886352539,\n",
       " 9.036172866821289,\n",
       " 9.027458190917969,\n",
       " 9.023262977600098,\n",
       " 9.021990776062012,\n",
       " 9.051223754882812,\n",
       " 9.047110557556152,\n",
       " 9.012809753417969,\n",
       " 9.043220520019531,\n",
       " 9.028613090515137,\n",
       " 9.050232887268066,\n",
       " 9.063618659973145,\n",
       " 9.018912315368652,\n",
       " 9.045928955078125,\n",
       " 9.042427062988281,\n",
       " 9.03162956237793,\n",
       " 9.042215347290039,\n",
       " 9.044266700744629,\n",
       " 9.053359985351562,\n",
       " 9.013400077819824,\n",
       " 9.010404586791992,\n",
       " 9.008905410766602,\n",
       " 9.03642749786377,\n",
       " 9.013296127319336,\n",
       " 9.022054672241211,\n",
       " 9.04176139831543,\n",
       " 9.065828323364258,\n",
       " 9.040351867675781,\n",
       " 9.028120994567871,\n",
       " 9.017562866210938,\n",
       " 9.045670509338379,\n",
       " 9.040284156799316,\n",
       " 9.052026748657227,\n",
       " 9.016773223876953,\n",
       " 9.02374267578125,\n",
       " 9.03067684173584,\n",
       " 9.021974563598633,\n",
       " 9.034842491149902,\n",
       " 9.044097900390625,\n",
       " 9.025504112243652,\n",
       " 9.049234390258789,\n",
       " 9.011855125427246,\n",
       " 9.001538276672363,\n",
       " 9.038235664367676,\n",
       " 9.019204139709473,\n",
       " 9.033287048339844,\n",
       " 9.031943321228027,\n",
       " 9.039196968078613,\n",
       " 8.983844757080078,\n",
       " 9.038089752197266,\n",
       " 9.035642623901367,\n",
       " 9.035921096801758,\n",
       " 9.049471855163574,\n",
       " 9.037304878234863,\n",
       " 9.031453132629395,\n",
       " 9.03839111328125,\n",
       " 9.032052993774414,\n",
       " 9.033358573913574,\n",
       " 9.043278694152832,\n",
       " 9.038694381713867,\n",
       " 9.038849830627441,\n",
       " 9.026132583618164,\n",
       " 9.024253845214844,\n",
       " 8.99265193939209,\n",
       " 9.004500389099121,\n",
       " 9.002775192260742,\n",
       " 9.023649215698242,\n",
       " 9.03168773651123,\n",
       " 9.01458740234375,\n",
       " 9.02579402923584,\n",
       " 9.000861167907715,\n",
       " 9.00969409942627,\n",
       " 9.01122760772705,\n",
       " 9.040148735046387,\n",
       " 9.01521110534668,\n",
       " 8.998266220092773,\n",
       " 9.040159225463867,\n",
       " 9.02018928527832,\n",
       " 9.023670196533203,\n",
       " 9.012682914733887,\n",
       " 9.026900291442871,\n",
       " 9.002557754516602,\n",
       " 9.016337394714355,\n",
       " 9.025191307067871,\n",
       " 9.049012184143066,\n",
       " 9.005277633666992,\n",
       " 9.02589225769043,\n",
       " 9.019540786743164,\n",
       " 9.074464797973633,\n",
       " 9.012990951538086,\n",
       " 9.039250373840332,\n",
       " 9.033530235290527,\n",
       " 9.016438484191895,\n",
       " 9.01155948638916,\n",
       " 9.028852462768555,\n",
       " 8.99914264678955,\n",
       " 9.021931648254395,\n",
       " 9.02473258972168,\n",
       " 9.009943008422852,\n",
       " 9.030266761779785,\n",
       " 9.020366668701172,\n",
       " 9.02708625793457,\n",
       " 9.004523277282715,\n",
       " 9.019137382507324,\n",
       " 9.000540733337402,\n",
       " 9.014296531677246,\n",
       " 9.020438194274902,\n",
       " 9.017173767089844,\n",
       " 9.017481803894043,\n",
       " 9.029932975769043,\n",
       " 8.988335609436035,\n",
       " 9.008496284484863,\n",
       " 9.030062675476074,\n",
       " 9.01619815826416,\n",
       " 9.04478931427002,\n",
       " 9.003541946411133,\n",
       " 8.99193000793457,\n",
       " 9.011560440063477,\n",
       " 9.024621963500977,\n",
       " 9.002986907958984,\n",
       " 9.026864051818848,\n",
       " 9.022363662719727,\n",
       " 9.016047477722168,\n",
       " 9.011822700500488,\n",
       " 9.01626205444336,\n",
       " 9.01652717590332,\n",
       " 8.995285987854004,\n",
       " 8.99341106414795,\n",
       " 9.016355514526367,\n",
       " 9.005727767944336,\n",
       " 8.983531951904297,\n",
       " 9.007442474365234,\n",
       " 8.998820304870605,\n",
       " 9.024816513061523,\n",
       " 8.993029594421387,\n",
       " 9.028329849243164,\n",
       " 9.012158393859863,\n",
       " 8.98947525024414,\n",
       " 9.04966926574707,\n",
       " 9.000208854675293,\n",
       " 8.991866111755371,\n",
       " 9.03561019897461,\n",
       " 8.97903823852539,\n",
       " 8.994565963745117,\n",
       " 9.010847091674805,\n",
       " 9.004849433898926,\n",
       " 9.032432556152344,\n",
       " 9.018484115600586,\n",
       " 9.005134582519531,\n",
       " 9.030030250549316,\n",
       " 8.994182586669922,\n",
       " 8.994353294372559,\n",
       " 9.014290809631348,\n",
       " 8.984220504760742,\n",
       " 9.020604133605957,\n",
       " 9.030988693237305,\n",
       " 8.992573738098145,\n",
       " 8.986225128173828,\n",
       " 8.991613388061523,\n",
       " 8.95263385772705,\n",
       " 9.022767066955566,\n",
       " 8.97659969329834,\n",
       " 9.05443286895752,\n",
       " 9.003640174865723,\n",
       " 9.02672004699707,\n",
       " 9.027929306030273,\n",
       " 9.005536079406738,\n",
       " 8.99526309967041,\n",
       " 9.011590957641602,\n",
       " 8.979591369628906,\n",
       " 9.025153160095215,\n",
       " 9.026280403137207,\n",
       " 9.041675567626953,\n",
       " 8.98985767364502,\n",
       " 8.974828720092773,\n",
       " 9.007978439331055,\n",
       " 9.00865650177002,\n",
       " 8.974481582641602,\n",
       " 8.983123779296875,\n",
       " 9.007338523864746,\n",
       " 8.992838859558105,\n",
       " 8.99573802947998,\n",
       " 8.964580535888672,\n",
       " 8.976228713989258,\n",
       " 8.992645263671875,\n",
       " 9.006966590881348,\n",
       " 9.024894714355469,\n",
       " 9.006503105163574,\n",
       " 8.995659828186035,\n",
       " 8.983474731445312,\n",
       " 8.99973201751709,\n",
       " 9.024541854858398,\n",
       " 9.014985084533691,\n",
       " 8.998771667480469,\n",
       " 8.981289863586426,\n",
       " 9.001803398132324,\n",
       " 8.995285987854004,\n",
       " 8.978792190551758,\n",
       " 9.0062894821167,\n",
       " 8.995169639587402,\n",
       " 9.000661849975586,\n",
       " 9.007394790649414,\n",
       " 9.029491424560547,\n",
       " 9.015848159790039,\n",
       " 8.998018264770508,\n",
       " 8.992228507995605,\n",
       " 8.965563774108887,\n",
       " 8.987732887268066,\n",
       " 8.968405723571777,\n",
       " 9.00645923614502,\n",
       " 8.993032455444336,\n",
       " 8.978719711303711,\n",
       " 8.984395027160645,\n",
       " 8.987890243530273,\n",
       " 9.02092456817627,\n",
       " 9.041213035583496,\n",
       " 8.968016624450684,\n",
       " 8.998330116271973,\n",
       " 8.995320320129395,\n",
       " 8.996776580810547,\n",
       " 9.024230003356934,\n",
       " 9.009121894836426,\n",
       " 8.990285873413086,\n",
       " 8.969572067260742,\n",
       " 9.01685619354248,\n",
       " 8.979727745056152,\n",
       " 8.990325927734375,\n",
       " 9.004372596740723,\n",
       " 8.986501693725586,\n",
       " 8.989166259765625,\n",
       " 8.9663667678833,\n",
       " 9.013304710388184,\n",
       " 8.985082626342773,\n",
       " 9.00198745727539,\n",
       " 8.998734474182129,\n",
       " 8.989896774291992,\n",
       " 9.013388633728027,\n",
       " 9.008112907409668,\n",
       " 8.991601943969727,\n",
       " 8.989466667175293,\n",
       " 8.977238655090332,\n",
       " 9.000555038452148,\n",
       " 9.00655746459961,\n",
       " 8.977721214294434,\n",
       " 8.958983421325684,\n",
       " 8.980255126953125,\n",
       " 9.002497673034668,\n",
       " 8.973771095275879,\n",
       " 8.94599437713623,\n",
       " 9.002825736999512,\n",
       " 8.991846084594727,\n",
       " 8.9912748336792,\n",
       " 8.997050285339355,\n",
       " 8.992155075073242,\n",
       " 8.983184814453125,\n",
       " 8.955205917358398,\n",
       " 8.986879348754883,\n",
       " 8.98426342010498,\n",
       " 8.983352661132812,\n",
       " 8.983176231384277,\n",
       " 8.999954223632812,\n",
       " 9.033693313598633,\n",
       " 9.002702713012695,\n",
       " 9.006102561950684,\n",
       " 8.959248542785645,\n",
       " 8.98648452758789,\n",
       " 8.969547271728516,\n",
       " 8.985822677612305,\n",
       " 8.9480619430542,\n",
       " 8.97354507446289,\n",
       " 8.97057819366455,\n",
       " 9.00572681427002,\n",
       " 8.993941307067871,\n",
       " 8.9708890914917,\n",
       " 9.01473617553711,\n",
       " 8.981474876403809,\n",
       " 8.949609756469727,\n",
       " 8.989239692687988,\n",
       " 8.997932434082031,\n",
       " 8.995272636413574,\n",
       " 8.971061706542969,\n",
       " 9.02167797088623,\n",
       " 8.998924255371094,\n",
       " 8.989803314208984,\n",
       " 8.9755859375,\n",
       " 9.039819717407227,\n",
       " 9.005475044250488,\n",
       " 9.00915241241455,\n",
       " 8.98193645477295,\n",
       " 9.002971649169922,\n",
       " 8.96008586883545,\n",
       " 8.983412742614746,\n",
       " 8.963919639587402,\n",
       " 9.004706382751465,\n",
       " 8.971409797668457,\n",
       " 8.988368034362793,\n",
       " 8.98878002166748,\n",
       " 8.968408584594727,\n",
       " 8.955090522766113,\n",
       " 8.9707612991333,\n",
       " 9.000404357910156,\n",
       " 9.03887939453125,\n",
       " 8.98376750946045,\n",
       " 8.981912612915039,\n",
       " 9.000658988952637,\n",
       " 9.004633903503418,\n",
       " 8.968377113342285,\n",
       " 8.998983383178711,\n",
       " 8.976326942443848,\n",
       " 8.976366996765137,\n",
       " 9.001287460327148,\n",
       " 9.005531311035156,\n",
       " 8.99299430847168,\n",
       " 8.991203308105469,\n",
       " 8.985505104064941,\n",
       " 8.967951774597168,\n",
       " 8.971258163452148,\n",
       " 9.006478309631348,\n",
       " 8.984211921691895,\n",
       " 8.986452102661133,\n",
       " 8.993888854980469,\n",
       " 9.004196166992188,\n",
       " 8.994638442993164,\n",
       " 9.00056266784668,\n",
       " 8.988436698913574,\n",
       " 8.986042976379395,\n",
       " 8.987496376037598,\n",
       " 8.991812705993652,\n",
       " 8.95425033569336,\n",
       " 8.970975875854492,\n",
       " 8.957696914672852,\n",
       " 8.966001510620117,\n",
       " 8.972437858581543,\n",
       " 8.964829444885254,\n",
       " 8.957490921020508,\n",
       " 8.998080253601074,\n",
       " 8.966541290283203,\n",
       " 8.971887588500977,\n",
       " 8.9728364944458,\n",
       " 8.991049766540527,\n",
       " 9.002668380737305,\n",
       " 8.977991104125977,\n",
       " 8.976280212402344,\n",
       " 8.982826232910156,\n",
       " 8.980067253112793,\n",
       " 9.005341529846191,\n",
       " 9.005057334899902,\n",
       " 8.9745512008667,\n",
       " 8.971820831298828,\n",
       " 8.97265625,\n",
       " 8.963216781616211,\n",
       " 8.994813919067383,\n",
       " 9.011720657348633,\n",
       " 8.981667518615723,\n",
       " 8.969255447387695,\n",
       " 8.953774452209473,\n",
       " 8.972554206848145,\n",
       " 8.9873046875,\n",
       " 8.978610038757324,\n",
       " 8.96315860748291,\n",
       " 9.004314422607422,\n",
       " 8.9480562210083,\n",
       " 8.958436012268066,\n",
       " 8.987419128417969,\n",
       " 8.981958389282227,\n",
       " 8.962508201599121,\n",
       " 8.974649429321289,\n",
       " 8.983742713928223,\n",
       " 8.949958801269531,\n",
       " 8.995916366577148,\n",
       " 8.961541175842285,\n",
       " 8.990371704101562,\n",
       " 8.952786445617676,\n",
       " 8.930487632751465,\n",
       " 8.943865776062012,\n",
       " 8.964240074157715,\n",
       " 8.97286605834961,\n",
       " 8.993611335754395,\n",
       " 8.927567481994629,\n",
       " 8.922533988952637,\n",
       " 8.997506141662598,\n",
       " 8.976211547851562,\n",
       " 8.907593727111816,\n",
       " 8.967700004577637,\n",
       " 9.015283584594727,\n",
       " 8.973776817321777,\n",
       " 8.972067832946777,\n",
       " 8.962993621826172,\n",
       " 8.970808029174805,\n",
       " 8.946940422058105,\n",
       " 8.987009048461914,\n",
       " 8.99454116821289,\n",
       " 8.946897506713867,\n",
       " 8.979299545288086,\n",
       " 9.006949424743652,\n",
       " 8.953326225280762,\n",
       " 8.94338321685791,\n",
       " 8.95864200592041,\n",
       " 8.970560073852539,\n",
       " 8.96462631225586,\n",
       " 8.92392635345459,\n",
       " 8.96469497680664,\n",
       " 9.004509925842285,\n",
       " 8.961433410644531,\n",
       " 8.995901107788086,\n",
       " 8.990301132202148,\n",
       " 8.996987342834473,\n",
       " 8.991990089416504,\n",
       " 8.954258918762207,\n",
       " 8.93386459350586,\n",
       " 8.956686973571777,\n",
       " 8.955207824707031,\n",
       " 8.9861421585083,\n",
       " 8.96372127532959,\n",
       " 8.995182991027832,\n",
       " 8.99239730834961,\n",
       " 8.966235160827637,\n",
       " 8.92917537689209,\n",
       " 8.96825122833252,\n",
       " 8.944616317749023,\n",
       " 8.937743186950684,\n",
       " 8.982080459594727,\n",
       " 8.995495796203613,\n",
       " 8.964574813842773,\n",
       " 8.942163467407227,\n",
       " 8.94806957244873,\n",
       " 8.95417594909668,\n",
       " 8.934605598449707,\n",
       " 8.975604057312012,\n",
       " 8.979962348937988,\n",
       " 8.93744945526123,\n",
       " 8.983716011047363,\n",
       " 8.96332836151123,\n",
       " 8.951961517333984,\n",
       " 8.967535972595215,\n",
       " 8.977333068847656,\n",
       " 8.944449424743652,\n",
       " 8.96138858795166,\n",
       " 8.959214210510254,\n",
       " 8.947473526000977,\n",
       " 9.008980751037598,\n",
       " 8.950282096862793,\n",
       " 8.950708389282227,\n",
       " 8.948174476623535,\n",
       " 8.954864501953125,\n",
       " 8.96466064453125,\n",
       " 8.975053787231445,\n",
       " 8.934107780456543,\n",
       " 8.943486213684082,\n",
       " 8.957798957824707,\n",
       " 8.973814964294434,\n",
       " 8.92164421081543,\n",
       " 8.98873519897461,\n",
       " 8.970793724060059,\n",
       " 8.9834566116333,\n",
       " 9.000216484069824,\n",
       " 8.975708961486816,\n",
       " 8.985182762145996,\n",
       " 8.985700607299805,\n",
       " 8.952420234680176,\n",
       " 8.93856143951416,\n",
       " 8.954245567321777,\n",
       " 8.970311164855957,\n",
       " 8.942707061767578,\n",
       " 8.963884353637695,\n",
       " 8.944463729858398,\n",
       " 8.958147048950195,\n",
       " 8.950353622436523,\n",
       " 8.98619556427002,\n",
       " 8.9861421585083,\n",
       " 8.929962158203125,\n",
       " 8.947572708129883,\n",
       " 8.959149360656738,\n",
       " 8.972265243530273,\n",
       " 8.964701652526855,\n",
       " 8.933820724487305,\n",
       " 8.967314720153809,\n",
       " 8.972844123840332,\n",
       " 8.963569641113281,\n",
       " 8.928304672241211,\n",
       " 8.940223693847656,\n",
       " 8.95785140991211,\n",
       " 8.920761108398438,\n",
       " 8.959795951843262,\n",
       " 8.926478385925293,\n",
       " 8.951774597167969,\n",
       " 8.94590950012207,\n",
       " 8.975558280944824,\n",
       " 8.954142570495605,\n",
       " 8.950888633728027,\n",
       " 8.956591606140137,\n",
       " 8.947998046875,\n",
       " 8.965910911560059,\n",
       " 8.963939666748047,\n",
       " 8.93604564666748,\n",
       " 8.973974227905273,\n",
       " 8.978303909301758,\n",
       " 8.976014137268066,\n",
       " 8.980868339538574,\n",
       " 8.937904357910156,\n",
       " 8.943306922912598,\n",
       " 8.962831497192383,\n",
       " 8.92894172668457,\n",
       " 8.939665794372559,\n",
       " 8.952801704406738,\n",
       " 8.942291259765625,\n",
       " 8.9008150100708,\n",
       " 8.960722923278809,\n",
       " 8.956812858581543,\n",
       " 8.943089485168457,\n",
       " 8.94989013671875,\n",
       " 8.936909675598145,\n",
       " 8.949209213256836,\n",
       " 8.957842826843262,\n",
       " 8.94411849975586,\n",
       " 8.96369743347168,\n",
       " 8.937987327575684,\n",
       " 8.95354175567627,\n",
       " 8.938924789428711,\n",
       " 8.9351806640625,\n",
       " 8.950597763061523,\n",
       " 8.943975448608398,\n",
       " 8.953653335571289,\n",
       " 8.92259693145752,\n",
       " 8.969404220581055,\n",
       " 8.960054397583008,\n",
       " 8.959206581115723,\n",
       " 8.943023681640625,\n",
       " 8.947346687316895,\n",
       " 8.94072437286377,\n",
       " 8.952583312988281,\n",
       " 8.97819995880127,\n",
       " 8.944999694824219,\n",
       " 8.959436416625977,\n",
       " 8.941776275634766,\n",
       " 8.927050590515137,\n",
       " 8.945035934448242,\n",
       " 8.940093040466309,\n",
       " 8.973464012145996,\n",
       " 8.960786819458008,\n",
       " 8.999029159545898,\n",
       " 8.933244705200195,\n",
       " 8.95530891418457,\n",
       " 8.981528282165527,\n",
       " 9.004400253295898,\n",
       " 8.950428009033203,\n",
       " 8.989931106567383,\n",
       " 8.935125350952148,\n",
       " 8.944375991821289,\n",
       " 8.961345672607422,\n",
       " 8.943779945373535,\n",
       " 8.956189155578613,\n",
       " 8.918329238891602,\n",
       " 8.957637786865234,\n",
       " 8.965670585632324,\n",
       " 8.953780174255371,\n",
       " 8.972250938415527,\n",
       " 8.971830368041992,\n",
       " 8.971497535705566,\n",
       " 8.940346717834473,\n",
       " 8.945210456848145,\n",
       " 8.954736709594727,\n",
       " 8.962823867797852,\n",
       " 8.973306655883789,\n",
       " 8.984845161437988,\n",
       " 8.977458953857422,\n",
       " 8.944430351257324,\n",
       " 8.952973365783691,\n",
       " 8.992877006530762,\n",
       " 8.975528717041016,\n",
       " 8.985025405883789,\n",
       " 8.949719429016113,\n",
       " 8.9678373336792,\n",
       " 8.980511665344238,\n",
       " 8.958382606506348,\n",
       " 8.95005989074707,\n",
       " 8.958703994750977,\n",
       " 8.944197654724121,\n",
       " 8.969404220581055,\n",
       " 8.964425086975098,\n",
       " 8.962494850158691,\n",
       " 8.949481964111328,\n",
       " 8.957608222961426,\n",
       " 8.977035522460938,\n",
       " 8.982318878173828,\n",
       " 8.983074188232422,\n",
       " 8.96745491027832,\n",
       " 8.960586547851562,\n",
       " 8.977639198303223,\n",
       " 8.952213287353516,\n",
       " 8.935676574707031,\n",
       " 8.97181224822998,\n",
       " 8.950309753417969,\n",
       " 8.988412857055664,\n",
       " 8.97470474243164,\n",
       " 8.956396102905273,\n",
       " 8.97292709350586,\n",
       " 8.97603702545166,\n",
       " 8.974235534667969,\n",
       " 8.966174125671387,\n",
       " 8.976862907409668,\n",
       " 8.933876037597656,\n",
       " 8.952887535095215,\n",
       " 9.01418685913086,\n",
       " 8.946417808532715,\n",
       " 8.950118064880371,\n",
       " 8.998867988586426,\n",
       " 8.9913911819458,\n",
       " 8.95733642578125,\n",
       " 8.946128845214844,\n",
       " 8.980673789978027,\n",
       " 8.943230628967285,\n",
       " 8.971698760986328,\n",
       " 8.952363014221191,\n",
       " 9.000535011291504,\n",
       " 8.99055290222168,\n",
       " 8.984518051147461,\n",
       " 8.972675323486328,\n",
       " 8.946248054504395,\n",
       " 8.957158088684082,\n",
       " 8.956257820129395,\n",
       " 8.96877384185791,\n",
       " 8.983675956726074,\n",
       " 8.985193252563477,\n",
       " 8.943940162658691,\n",
       " 8.985467910766602,\n",
       " 8.975461959838867,\n",
       " 8.969107627868652,\n",
       " 8.937906265258789,\n",
       " 8.982027053833008,\n",
       " 8.98660945892334,\n",
       " 8.989219665527344,\n",
       " 8.962743759155273,\n",
       " 8.960007667541504,\n",
       " 8.945086479187012,\n",
       " 8.967142105102539,\n",
       " 8.971939086914062,\n",
       " 8.98206901550293,\n",
       " 8.99300765991211,\n",
       " 8.968809127807617,\n",
       " 8.987422943115234,\n",
       " 8.989272117614746,\n",
       " 8.969167709350586,\n",
       " 8.945205688476562,\n",
       " 8.962418556213379,\n",
       " 8.97531509399414,\n",
       " 8.96672248840332,\n",
       " 9.002305030822754,\n",
       " 8.992376327514648,\n",
       " 8.984955787658691,\n",
       " 8.988970756530762,\n",
       " 8.951641082763672,\n",
       " 8.966465950012207,\n",
       " 8.9686861038208,\n",
       " 8.992164611816406,\n",
       " 8.995080947875977,\n",
       " 8.961695671081543,\n",
       " 8.965744972229004,\n",
       " 8.959922790527344,\n",
       " 8.944656372070312,\n",
       " 8.961111068725586,\n",
       " 8.983402252197266,\n",
       " 8.944661140441895,\n",
       " 8.945082664489746,\n",
       " 8.942806243896484,\n",
       " 8.988676071166992,\n",
       " 8.960403442382812,\n",
       " 8.974374771118164,\n",
       " 8.941678047180176,\n",
       " 8.920089721679688,\n",
       " 8.991167068481445,\n",
       " 8.962867736816406,\n",
       " 9.003609657287598,\n",
       " 9.005640029907227,\n",
       " 8.965331077575684,\n",
       " 8.972938537597656,\n",
       " 8.968342781066895,\n",
       " 8.9480619430542,\n",
       " 8.981779098510742,\n",
       " 9.003059387207031,\n",
       " 8.9691162109375,\n",
       " 8.959053993225098,\n",
       " 8.96571159362793,\n",
       " 9.003913879394531,\n",
       " 8.990076065063477,\n",
       " 9.013189315795898,\n",
       " 9.002450942993164,\n",
       " 8.94021987915039,\n",
       " 8.929539680480957,\n",
       " 8.976577758789062,\n",
       " 8.954513549804688,\n",
       " 8.95176887512207,\n",
       " 8.964508056640625,\n",
       " 8.955805778503418,\n",
       " 8.924777030944824,\n",
       " 8.938102722167969,\n",
       " 8.953462600708008,\n",
       " 8.977640151977539,\n",
       " 8.970452308654785,\n",
       " 8.936053276062012,\n",
       " 8.93466854095459,\n",
       " 8.939976692199707,\n",
       " 8.915078163146973,\n",
       " 8.928078651428223,\n",
       " 8.94130802154541,\n",
       " 8.954496383666992,\n",
       " 8.944884300231934,\n",
       " 8.90363883972168,\n",
       " 8.924519538879395]"
      ]
     },
     "execution_count": 186,
     "metadata": {},
     "output_type": "execute_result"
    }
   ],
   "source": [
    "losses"
   ]
  },
  {
   "cell_type": "code",
   "execution_count": 191,
   "id": "91e849c3-2a13-4eaa-9934-c685b1424075",
   "metadata": {},
   "outputs": [
    {
     "data": {
      "text/plain": [
       "[<matplotlib.lines.Line2D at 0x7f64365a0d10>]"
      ]
     },
     "execution_count": 191,
     "metadata": {},
     "output_type": "execute_result"
    },
    {
     "data": {
      "image/png": "[encoded data removed]",
      "text/plain": [
       "<Figure size 640x480 with 1 Axes>"
      ]
     },
     "metadata": {},
     "output_type": "display_data"
    }
   ],
   "source": [
    "import matplotlib.pyplot as plt\n",
    "\n",
    "plt.plot(losses)"
   ]
  },
  {
   "cell_type": "code",
   "execution_count": null,
   "id": "687bcde7-4cd3-4b08-bd81-60a9ae6cb24b",
   "metadata": {},
   "outputs": [],
   "source": []
  }
 ],
 "metadata": {
  "kernelspec": {
   "display_name": "Python 3 (ipykernel)",
   "language": "python",
   "name": "python3"
  },
  "language_info": {
   "codemirror_mode": {
    "name": "ipython",
    "version": 3
   },
   "file_extension": ".py",
   "mimetype": "text/x-python",
   "name": "python",
   "nbconvert_exporter": "python",
   "pygments_lexer": "ipython3",
   "version": "3.11.6"
  }
 },
 "nbformat": 4,
 "nbformat_minor": 5
}
