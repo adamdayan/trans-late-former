{
 "cells": [
  {
   "cell_type": "code",
   "execution_count": 1,
   "id": "bf47f195-66df-4daa-8e71-43aadc5c15a9",
   "metadata": {},
   "outputs": [],
   "source": [
    "import torch\n",
    "import torch.nn as nn\n",
    "from torch.nn import functional as F\n",
    "import math\n"
   ]
  },
  {
   "cell_type": "code",
   "execution_count": 2,
   "id": "8515a737-11c3-44b9-b8d7-57882b1e4fb7",
   "metadata": {},
   "outputs": [],
   "source": [
    "from tokenizers import Tokenizer\n",
    "from tokenizers.models import BPE\n",
    "from tokenizers.pre_tokenizers import Whitespace\n",
    "from tokenizers.trainers import BpeTrainer"
   ]
  },
  {
   "cell_type": "markdown",
   "id": "6240bdb2-2207-4603-b5bd-9d1afcc27d1b",
   "metadata": {},
   "source": [
    "## get data "
   ]
  },
  {
   "cell_type": "code",
   "execution_count": 240,
   "id": "29cc56a2-e384-4b45-88f8-0d13f23d9bac",
   "metadata": {},
   "outputs": [],
   "source": [
    "ger_train_path = \"/home/adam/play/translate_data/train.de\"\n",
    "eng_train_path = \"/home/adam/play/translate_data/train.en\"\n",
    "\n",
    "ger_train_raw = open(ger_train_path, \"r\").readlines()\n",
    "eng_train_raw = open(eng_train_path, \"r\").readlines()\n",
    "\n",
    "# just to help my poor laptop\n",
    "ger_train_raw = ger_train_raw[:10000]\n",
    "eng_train_raw = eng_train_raw[:10000]"
   ]
  },
  {
   "cell_type": "code",
   "execution_count": 241,
   "id": "1b342e7e-bd9c-489d-9cf0-f675475d0cfe",
   "metadata": {},
   "outputs": [
    {
     "name": "stdout",
     "output_type": "stream",
     "text": [
      "10000\n",
      "10000\n"
     ]
    }
   ],
   "source": [
    "print(len(ger_train))\n",
    "print(len(eng_train))"
   ]
  },
  {
   "cell_type": "code",
   "execution_count": 242,
   "id": "e981672b-1d7a-4ca9-907a-55240ad8540f",
   "metadata": {},
   "outputs": [
    {
     "name": "stdout",
     "output_type": "stream",
     "text": [
      "\n",
      "\n",
      "\n"
     ]
    }
   ],
   "source": [
    "### tokenize \n",
    "tokenizer = Tokenizer(BPE())\n",
    "\n",
    "tokenizer.pre_tokenizer = Whitespace()\n",
    "\n",
    "trainer = BpeTrainer(special_tokens=[\"[UNK]\", \"[CLS]\", \"[SEP]\", \"[PAD]\", \"[MASK]\"]) # do i need to account for the weird #AT things??\n",
    "tokenizer.train(files=[ger_train_path, eng_train_path,], trainer=trainer)\n",
    "tokenizer.enable_padding()\n",
    "# tokenizer.train_from_iterator(iter(ger_train + eng_train), trainer=trainer)\n"
   ]
  },
  {
   "cell_type": "code",
   "execution_count": 243,
   "id": "55d01b5a-9e04-4196-a256-71e7bd72ae19",
   "metadata": {},
   "outputs": [],
   "source": [
    "ger_train = tokenizer.encode_batch(ger_train_raw)\n",
    "eng_train = tokenizer.encode_batch(eng_train_raw)"
   ]
  },
  {
   "cell_type": "code",
   "execution_count": 244,
   "id": "e6ce4708-7281-4a8f-9cad-41582ff471e2",
   "metadata": {},
   "outputs": [],
   "source": [
    "ger_train = torch.tensor([t.ids for t in ger_train])\n",
    "eng_train = torch.tensor([t.ids for t in eng_train])"
   ]
  },
  {
   "cell_type": "code",
   "execution_count": 245,
   "id": "76ac0bce-b8da-4852-b2b4-929d4c4bfad5",
   "metadata": {},
   "outputs": [
    {
     "data": {
      "text/plain": [
       "torch.Size([10000, 258])"
      ]
     },
     "execution_count": 245,
     "metadata": {},
     "output_type": "execute_result"
    }
   ],
   "source": [
    "ger_train.shape"
   ]
  },
  {
   "cell_type": "markdown",
   "id": "781269b0-71c1-4034-8dc1-db1fd038c0b7",
   "metadata": {},
   "source": [
    "## define model"
   ]
  },
  {
   "cell_type": "code",
   "execution_count": 1006,
   "id": "411dbe29-89cd-415a-8abc-a96b4322b9c5",
   "metadata": {},
   "outputs": [],
   "source": [
    "def create_mask(src, targ, pad_token):\n",
    "    # NOTE: not fully confident in the unsqueeze - i think we get the extra-dimension so the masked_fill can broadcast it \n",
    "    # we want to broadcast for the padding mask because it's the same on both axes (unlike with the causal mask) \n",
    "    src_pad_mask = (src != pad_token).unsqueeze(1).unsqueeze(1) # (B, 1, 1, context_size)\n",
    "    full_mask = torch.ones((targ.shape[1], targ.shape[1])).type(torch.int).unsqueeze(0).unsqueeze(0) # (1, 1, targ.shape[-1], targ.shape[-1])\n",
    "    causal_atten_mask = torch.tril(full_mask) # (1, 1, context_size, context_size)\n",
    "    \n",
    "    return src_pad_mask, causal_atten_mask\n",
    "\n",
    "def calculate_loss(logits, labels, pad_idx):\n",
    "    B, T, V = logits.shape # (batch, context_size, vocab_size)\n",
    "    # cross entropy expects list of indices and logits requiring reshape\n",
    "    return F.cross_entropy(logits.reshape(B * T, V), labels.reshape(B * T), ignore_index=pad_idx)\n",
    "\n",
    "class MultiHeadAttention(nn.Module):\n",
    "    def __init__(self, n_heads, n_embed, dropout):\n",
    "        super().__init__()\n",
    "        self.n_embed = n_embed\n",
    "        self.n_heads = n_heads\n",
    "        assert(n_embed % n_heads == 0) # check dims work\n",
    "        self.head_size = n_embed // n_heads\n",
    "        self.dropout = dropout\n",
    "\n",
    "        self.wk = nn.Linear(n_embed, n_embed, bias=False)\n",
    "        self.wq = nn.Linear(n_embed, n_embed, bias=False)\n",
    "        self.wv = nn.Linear(n_embed, n_embed, bias=False)\n",
    "        self.dropout = nn.Dropout(dropout)\n",
    "        self.proj = nn.Linear(n_embed, n_embed)\n",
    "        self.attn_store = None\n",
    "\n",
    "    def forward(self, x, features, mask):\n",
    "        B, T, C = features.shape # (batch, context_size, n_embed)\n",
    "\n",
    "        # create k\n",
    "        # NOTE: make sure the maths works here\n",
    "        k = self.wk(features) # (B, context_size, n_embed) @ (n_embed, n_embed) ---> (B, context_size, n_embed)\n",
    "        # split per head\n",
    "        k = k.view(B, T, self.n_heads, self.head_size)  # (B, context_size, n_embed) --> (B, context_size, n_heads, head_size)\n",
    "        # switch context size and n_heads dim so we can batch matmul over B and n_heads\n",
    "        k = k.transpose(1,2) # (B, context_size, n_heads, head_size) --> (B, n_heads, context_size, head_size)\n",
    "        \n",
    "        # create q \n",
    "        q = self.wq(x)\n",
    "        q = q.view(q.shape[0], q.shape[1], self.n_heads, self.head_size) # q can be a different size to k and v so need to use its own .shape\n",
    "        q = q.transpose(1,2)\n",
    "\n",
    "        # create v \n",
    "        v = self.wv(features)\n",
    "        v = v.view(B, T, self.n_heads, self.head_size)\n",
    "        v = v.transpose(1, 2)\n",
    "\n",
    "        attn = q @ k.transpose(-2, -1) # (B, n_heads, context_size, head_size) @ (B, n_heads, head_size, context_size) --> (B, n_heads, context_size, context_size)\n",
    "        attn = attn / (q.shape[-1] ** 0.5) # divide by squareroot of n_embed to decrease magnitude\n",
    "        \n",
    "        # if this is a masked attention layer (causal?) mask out all tokens before the cur pos, otherwise just mask out padding \n",
    "        attn = attn.masked_fill(mask == 0, float(\"-inf\")) # TODO: check that the dimensions here work\n",
    "        self.attn_store = attn\n",
    "        attn = self.dropout(F.softmax(attn, dim=-1))\n",
    "        \n",
    "        # generate the v matrix and use the attn matrix to pluck out relevant info on a per head basis\n",
    "        out = attn @ v # (B, n_heads, context_size, context_size) @ (B, n_heads, context_size, head_size) --> (B, n_heads, context_size, head_size)\n",
    "        \n",
    "        # remove per-head dimension and use final linear projection\n",
    "        out = out.transpose(1,2).contiguous()\n",
    "        out = out.view(out.shape[0], -1, self.n_embed) # (B, context_size , n_head, head_size) --> (B, context_size, n_embed)\n",
    "        out = self.proj(out)\n",
    "        return out\n",
    "\n",
    "class FeedForward(nn.Module):\n",
    "    def __init__(self, n_embed, dropout):\n",
    "        super().__init__()\n",
    "        self.ffw = nn.Sequential(\n",
    "            nn.Linear(n_embed, 4* n_embed),\n",
    "            nn.ReLU(),\n",
    "            nn.Linear(4*n_embed, n_embed),\n",
    "            nn.Dropout(dropout)\n",
    "        )\n",
    "\n",
    "    def forward(self, x):\n",
    "        return self.ffw(x) # (B, context_size, n_embed) @ (n_embed, 4*n_embed) @ (4*n_embed, n_embed) --> (B, context_size, n_embed)\n",
    "\n",
    "class EncoderBlock(nn.Module):\n",
    "    def __init__(self, n_heads, n_embed, dropout):\n",
    "        super().__init__()\n",
    "        self.attention = MultiHeadAttention(n_heads, n_embed, dropout)\n",
    "        self.ffw = FeedForward(n_embed, dropout)\n",
    "        self.ln1 = nn.LayerNorm(n_embed)\n",
    "        self.ln2 = nn.LayerNorm(n_embed)\n",
    "\n",
    "    def forward(self, inputs):\n",
    "        x, mask = inputs\n",
    "        out = self.ln1(self.attention(x, x, mask)) + x\n",
    "        out = self.ln2(self.ffw(out)) + out\n",
    "        return (out, mask)\n",
    "\n",
    "class DecoderBlock(nn.Module):\n",
    "    def __init__(self, n_heads, n_embed, dropout):\n",
    "        super().__init__()\n",
    "        self.masked_attention = MultiHeadAttention(n_heads, n_embed, dropout)\n",
    "        self.cross_attention = MultiHeadAttention(n_heads, n_embed, dropout)\n",
    "        self.ffw = FeedForward(n_embed, dropout)\n",
    "        self.ln1 = nn.LayerNorm(n_embed)\n",
    "        self.ln2 = nn.LayerNorm(n_embed)\n",
    "        self.ln3 = nn.LayerNorm(n_embed)\n",
    "\n",
    "    def forward(self, inputs):\n",
    "        y, features, src_mask, targ_mask = inputs\n",
    "        out = self.ln1(self.masked_attention(y, y, targ_mask)) + y\n",
    "        out = self.ln2(self.cross_attention(out, features, src_mask)) + out\n",
    "        out = self.ln3(self.ffw(out)) + out\n",
    "        return (out, features, src_mask, targ_mask)\n",
    "\n",
    "class PositionalEmbedding(nn.Module):\n",
    "    def __init__(self, n_embed, context_size):\n",
    "        super().__init__()\n",
    "        self.dropout = nn.Dropout(0.1)\n",
    "        posem = torch.zeros((context_size+1, n_embed))\n",
    "        for pos in range(context_size+1):\n",
    "            for i in range(0, n_embed, 2):\n",
    "                posem[pos, i] = math.sin(pos/(10000**(2*i/n_embed)))\n",
    "                posem[pos, i+1] = math.cos(pos/(10000**(2*(i+1)/n_embed)))\n",
    "        posem.unsqueeze(0)\n",
    "        self.register_buffer(\"posem\", posem)\n",
    "\n",
    "    def forward(self, x):\n",
    "        return x + self.posem[torch.arange(x.shape[1]),:]\n",
    "\n",
    "class Generator(nn.Module):\n",
    "    def __init__(self, n_embed, output_vocab_size):\n",
    "        super().__init__()\n",
    "        self.proj = nn.Linear(n_embed, output_vocab_size)\n",
    "\n",
    "    def forward(self, x):\n",
    "        return self.proj(x)\n",
    "\n",
    "class EncoderDecoderTransformer(nn.Module):\n",
    "    def __init__(self, n_heads, n_embed, dropout, n_blocks, context_size, input_vocab_size, output_vocab_size):\n",
    "        super().__init__()\n",
    "        self.input_embedding = nn.Embedding(input_vocab_size, n_embed)\n",
    "        self.positional_embedding = PositionalEmbedding(n_embed, context_size)\n",
    "        # self.positional_embedding = PositionalEncoding(n_embed, dropout, context_size)\n",
    "        self.encoders = nn.Sequential(*[EncoderBlock(n_heads, n_embed, dropout) for _ in range(n_blocks)])\n",
    "        self.decoders = nn.Sequential(*[DecoderBlock(n_heads, n_embed, dropout) for _ in range(n_blocks)])\n",
    "        # decoder_block = nn.TransformerDecoderLayer(d_model=n_embed, nhead=n_heads, batch_first=True)\n",
    "        # self.decoders = nn.TransformerDecoder(decoder_block, num_layers=n_blocks)\n",
    "        self.output = Generator(n_embed, output_vocab_size)\n",
    "    \n",
    "    def encode(self, src, src_mask):\n",
    "        x = self.input_embedding(src)\n",
    "        x = self.positional_embedding(x)\n",
    "        x = self.encoders((x, src_mask))[0]\n",
    "        return x\n",
    "\n",
    "    def decode(self, targ, features, src_mask, targ_mask):\n",
    "        targ = self.input_embedding(targ)\n",
    "        targ = self.positional_embedding(targ)\n",
    "        # print(x.shape, features.shape)\n",
    "        out = self.decoders((targ , features, src_mask, targ_mask))[0]\n",
    "        \n",
    "        return self.output(out)\n",
    "    \n",
    "    def forward(self, src, targ, src_mask, targ_mask):\n",
    "        x = self.encode(src, src_mask)\n",
    "        out = self.decode(targ, x, src_mask, targ_mask)\n",
    "        return out"
   ]
  },
  {
   "cell_type": "markdown",
   "id": "342d5ae9-f236-415d-bc64-f9ec8ef7ce0e",
   "metadata": {},
   "source": [
    "# very scratch test forward pass"
   ]
  },
  {
   "cell_type": "code",
   "execution_count": 836,
   "id": "e409cb06-f994-47c8-8679-54fd7938f769",
   "metadata": {},
   "outputs": [
    {
     "name": "stdout",
     "output_type": "stream",
     "text": [
      "tensor([[ 0.0000e+00,  1.0000e+00,  0.0000e+00,  1.0000e+00,  0.0000e+00,\n",
      "          1.0000e+00],\n",
      "        [ 8.4147e-01,  9.9892e-01,  2.1544e-03,  1.0000e+00,  4.6416e-06,\n",
      "          1.0000e+00],\n",
      "        [ 9.0930e-01,  9.9569e-01,  4.3089e-03,  1.0000e+00,  9.2832e-06,\n",
      "          1.0000e+00],\n",
      "        [ 1.4112e-01,  9.9032e-01,  6.4633e-03,  1.0000e+00,  1.3925e-05,\n",
      "          1.0000e+00],\n",
      "        [-7.5680e-01,  9.8281e-01,  8.6176e-03,  1.0000e+00,  1.8566e-05,\n",
      "          1.0000e+00],\n",
      "        [-9.5892e-01,  9.7319e-01,  1.0772e-02,  1.0000e+00,  2.3208e-05,\n",
      "          1.0000e+00],\n",
      "        [-2.7942e-01,  9.6147e-01,  1.2926e-02,  1.0000e+00,  2.7850e-05,\n",
      "          1.0000e+00],\n",
      "        [ 6.5699e-01,  9.4768e-01,  1.5080e-02,  1.0000e+00,  3.2491e-05,\n",
      "          1.0000e+00],\n",
      "        [ 9.8936e-01,  9.3185e-01,  1.7235e-02,  1.0000e+00,  3.7133e-05,\n",
      "          1.0000e+00],\n",
      "        [ 4.1212e-01,  9.1401e-01,  1.9389e-02,  1.0000e+00,  4.1774e-05,\n",
      "          1.0000e+00],\n",
      "        [-5.4402e-01,  8.9420e-01,  2.1543e-02,  1.0000e+00,  4.6416e-05,\n",
      "          1.0000e+00],\n",
      "        [-9.9999e-01,  8.7246e-01,  2.3697e-02,  1.0000e+00,  5.1057e-05,\n",
      "          1.0000e+00],\n",
      "        [-5.3657e-01,  8.4885e-01,  2.5850e-02,  1.0000e+00,  5.5699e-05,\n",
      "          1.0000e+00]])\n",
      "torch.Size([2, 4, 13])\n"
     ]
    }
   ],
   "source": [
    "# TODO: work out how to handle extracting k and v from multiple heads in final encoder block?? very possibly I should just rewrite in the kombo-head pattern \n",
    "\n",
    "model = EncoderDecoderTransformer(\n",
    "    n_heads=3, n_embed=6, dropout=0.2, n_blocks=5, context_size=12, input_vocab_size=13, output_vocab_size=13\n",
    ")\n",
    "\n",
    "# x = torch.arange(11)\n",
    "# y = torch.tensor([[0]])\n",
    "src = torch.tensor([[0, 2, 5, 6, 4, 3, 9, 5, 2, 9, 10, 1], \n",
    "                    [0, 2, 8, 7, 3, 4, 5, 6, 7, 2, 10, 1]])\n",
    "# target = torch.tensor([[0, 1, 7, 4, 3, 5, 9, 2, 8, 10, 9, 1], \n",
    "#                        [0, 1, 5, 6, 2, 4, 7, 6, 2, 8, 10, 1]])\n",
    "\n",
    "target = torch.tensor([[0, 1, 3, 4], [0, 3, 4, 4]])\n",
    "start_symbol = torch.zeros(target.shape[0], 1).fill_(11).type_as(target)\n",
    "y = torch.cat((start_symbol, target[:,:-1]), dim=1)\n",
    "src_mask, targ_mask = create_mask(src, target, 99)\n",
    "out = model(src, y, src_mask, targ_mask)\n",
    "print(out.shape)\n",
    "# print(src.shape, src_mask.shape, targ_mask.shape)\n",
    "# print(targ_mask)\n",
    "\n",
    "# print(targ_mask)"
   ]
  },
  {
   "cell_type": "code",
   "execution_count": 706,
   "id": "9df405d9-16af-4a4f-be26-48f76da33172",
   "metadata": {},
   "outputs": [
    {
     "data": {
      "text/plain": [
       "torch.Size([2, 4, 13])"
      ]
     },
     "execution_count": 706,
     "metadata": {},
     "output_type": "execute_result"
    }
   ],
   "source": [
    "out.shape"
   ]
  },
  {
   "cell_type": "markdown",
   "id": "a9e06f27-8565-45d3-a903-533a2eae882c",
   "metadata": {},
   "source": [
    "# test on synthetic data"
   ]
  },
  {
   "cell_type": "code",
   "execution_count": 901,
   "id": "04299b62-079a-40be-a1de-45b613fcb62e",
   "metadata": {},
   "outputs": [],
   "source": [
    "def generate_fake_data(vocab_size, batch_size):\n",
    "    data = torch.randint(2, vocab_size+2, size=(batch_size, 10))\n",
    "    src = data.requires_grad_(False).clone().detach()\n",
    "    target = data.requires_grad_(False).clone().detach()\n",
    "    target = torch.cat((torch.zeros(target.shape[0], 1), target), dim=1)\n",
    "    target = torch.cat((target, torch.ones(target.shape[0], 1)), dim=1)\n",
    "    targ = target[:,:-1].type(torch.long)\n",
    "    labels = target[:,1:].type(torch.long)\n",
    "    src_mask, targ_mask = create_mask(src, targ, 99)\n",
    "    return [src, targ, labels, src_mask, targ_mask]"
   ]
  },
  {
   "cell_type": "code",
   "execution_count": 902,
   "id": "6ed67acc-2208-4264-9775-a7185381a10d",
   "metadata": {},
   "outputs": [],
   "source": [
    "src, targ, labels, src_mask, targ_mask = generate_fake_data(10, 80)"
   ]
  },
  {
   "cell_type": "code",
   "execution_count": 903,
   "id": "ed269e6d-e15c-4fb5-927e-23cba42d188f",
   "metadata": {},
   "outputs": [
    {
     "name": "stdout",
     "output_type": "stream",
     "text": [
      "torch.Size([80, 10]) torch.Size([80, 11]) torch.Size([80, 11])\n",
      "tensor([[[1, 0, 0, 0, 0, 0, 0, 0, 0, 0, 0],\n",
      "         [1, 1, 0, 0, 0, 0, 0, 0, 0, 0, 0],\n",
      "         [1, 1, 1, 0, 0, 0, 0, 0, 0, 0, 0],\n",
      "         [1, 1, 1, 1, 0, 0, 0, 0, 0, 0, 0],\n",
      "         [1, 1, 1, 1, 1, 0, 0, 0, 0, 0, 0],\n",
      "         [1, 1, 1, 1, 1, 1, 0, 0, 0, 0, 0],\n",
      "         [1, 1, 1, 1, 1, 1, 1, 0, 0, 0, 0],\n",
      "         [1, 1, 1, 1, 1, 1, 1, 1, 0, 0, 0],\n",
      "         [1, 1, 1, 1, 1, 1, 1, 1, 1, 0, 0],\n",
      "         [1, 1, 1, 1, 1, 1, 1, 1, 1, 1, 0],\n",
      "         [1, 1, 1, 1, 1, 1, 1, 1, 1, 1, 1]]], dtype=torch.int32)\n",
      "torch.Size([1, 1, 11, 11])\n"
     ]
    }
   ],
   "source": [
    "print(src.shape, targ.shape, labels.shape)\n",
    "print(targ_mask[0])\n",
    "print(targ_mask.shape)\n"
   ]
  },
  {
   "cell_type": "code",
   "execution_count": 942,
   "id": "4ec44491-5fe4-46b1-8e4a-38ce13237859",
   "metadata": {},
   "outputs": [],
   "source": [
    "## create model\n",
    "model = EncoderDecoderTransformer(\n",
    "    n_heads=4, n_embed=32, dropout=0.1, n_blocks=2, context_size=20, input_vocab_size=12, output_vocab_size=12\n",
    ")"
   ]
  },
  {
   "cell_type": "code",
   "execution_count": 1048,
   "id": "debbf72e-07a1-4b42-9526-8c9de5032303",
   "metadata": {},
   "outputs": [],
   "source": [
    "class PositionalEncoding(nn.Module):\n",
    "    def __init__(self, d_model, dropout=0.1, max_len=100):\n",
    "        super(PositionalEncoding, self).__init__()\n",
    "        self.dropout = nn.Dropout(p=dropout)\n",
    "\n",
    "        pe = torch.zeros(max_len, d_model)\n",
    "        position = torch.arange(0, max_len, dtype=torch.float).unsqueeze(1)\n",
    "        div_term = torch.exp(torch.arange(0, d_model, 2).float() * (-math.log(10000.0) / d_model))\n",
    "        pe[:, 0::2] = torch.sin(position * div_term)\n",
    "        pe[:, 1::2] = torch.cos(position * div_term)\n",
    "        pe = pe.unsqueeze(0)\n",
    "        self.register_buffer('pe', pe)\n",
    "\n",
    "    def forward(self, x):\n",
    "        x = x + self.pe[:,:x.shape[1],:]\n",
    "        return self.dropout(x)\n",
    "\n",
    "class TestModel(nn.Module):\n",
    "    def __init__(self, d_model, n_heads, n_block, dropout, input_vocab_size, output_vocab_size, context_size):\n",
    "        super().__init__()\n",
    "        self.model = nn.Transformer(\n",
    "            d_model=d_model, nhead=n_heads, num_encoder_layers=n_block, num_decoder_layers=n_block, dim_feedforward=d_model*4, batch_first=True, dropout=dropout\n",
    "        )\n",
    "        \n",
    "        self.emb = nn.Embedding(input_vocab_size, d_model)\n",
    "        self.pos_encoder = PositionalEncoding(d_model, 0.1, context_size)\n",
    "        self.proj = nn.Linear(d_model, output_vocab_size)\n",
    "\n",
    "    def forward(self, src, targ):\n",
    "        src = self.pos_encoder(self.emb(src))\n",
    "        targ = self.pos_encoder(self.emb(targ))\n",
    "        out = self.model(src=src, tgt=targ, tgt_mask=nn.Transformer.generate_square_subsequent_mask(src.shape[1]), tgt_is_causal=True)\n",
    "        return self.proj(out)\n",
    "\n",
    "# model = TestModel()"
   ]
  },
  {
   "cell_type": "code",
   "execution_count": 943,
   "id": "b9e234ce-5ece-4d8f-9be4-a80bc5986c3c",
   "metadata": {},
   "outputs": [
    {
     "name": "stdout",
     "output_type": "stream",
     "text": [
      "step=0 loss.item()=3.0782485008239746\n",
      "step=100 loss.item()=1.5178436040878296\n",
      "step=200 loss.item()=0.9287382364273071\n",
      "step=300 loss.item()=0.28001466393470764\n",
      "step=400 loss.item()=0.07486676424741745\n",
      "step=500 loss.item()=0.048783134669065475\n",
      "step=600 loss.item()=0.018520882353186607\n",
      "step=700 loss.item()=0.025122443214058876\n",
      "step=800 loss.item()=0.0432889498770237\n",
      "step=900 loss.item()=0.02111428789794445\n",
      "step=1000 loss.item()=0.008165615610778332\n",
      "step=1100 loss.item()=0.009171709418296814\n",
      "step=1200 loss.item()=0.01689954847097397\n",
      "step=1300 loss.item()=0.026525046676397324\n",
      "step=1400 loss.item()=0.002337818965315819\n",
      "step=1500 loss.item()=0.017591223120689392\n",
      "step=1600 loss.item()=0.0028570888098329306\n",
      "step=1700 loss.item()=0.020785031840205193\n",
      "step=1800 loss.item()=0.0007740518194623291\n",
      "step=1900 loss.item()=0.014752286486327648\n"
     ]
    }
   ],
   "source": [
    "## train model\n",
    "\n",
    "optim = torch.optim.Adam(model.parameters(), lr=1e-3, betas=(0.9, 0.98), eps=1e-9)\n",
    "\n",
    "losses = []\n",
    "\n",
    "for step in range(2000):\n",
    "    src, targ, labels, src_mask, targ_mask = generate_fake_data(10, 80)\n",
    "    # forward pass\n",
    "    logits = model(src, targ, src_mask, targ_mask)\n",
    "    # logits = model(src, targ)\n",
    "\n",
    "    # print(logits.shape, labels.shape)\n",
    "    loss = calculate_loss(logits, labels, 99)\n",
    "    losses.append(loss.item())\n",
    "    optim.zero_grad()\n",
    "    loss.backward()\n",
    "    # nn.utils.clip_grad_norm_(model.parameters(), 1.0)\n",
    "    optim.step()\n",
    "    if step % 100 == 0:\n",
    "        print(f\"{step=} {loss.item()=}\")"
   ]
  },
  {
   "cell_type": "code",
   "execution_count": 944,
   "id": "f7c29c13-4363-423e-9581-3183d5e9705e",
   "metadata": {},
   "outputs": [
    {
     "name": "stdout",
     "output_type": "stream",
     "text": [
      "labels[12].shape=torch.Size([11]), logits[12].shape=torch.Size([11, 12])\n",
      "labels[12]=tensor([10,  9,  7, 11,  7,  6,  3,  9,  4,  8,  1])\n",
      "src[12]=tensor([10,  9,  7, 11,  7,  6,  3,  9,  4,  8])\n",
      "targ[12]=tensor([ 0, 10,  9,  7, 11,  7,  6,  3,  9,  4,  8])\n",
      "torch.argmax(logits[12], dim=1)=tensor([10,  9,  7, 11,  7,  6,  3,  9,  4,  8,  1])\n",
      "tensor([[-13.0563,  -0.1346,  -1.6679,  -2.3136,  -1.2495,   0.0488,  -3.8849,\n",
      "          -0.5146,  -1.5872,   0.8989,  11.4112,   0.8164],\n",
      "        [-11.0475, -13.7259,  -2.5244,  -0.1804,   2.2375,  -1.4239,  -0.4979,\n",
      "           3.0238,  -1.2176,  10.4206,  -4.1232,  -1.3258],\n",
      "        [-11.5117, -18.2371,   0.1156,  -1.4028,   1.3638,  -1.1112,  -0.5050,\n",
      "          10.7667,  -0.6929,  -2.7019,  -1.2392,   0.3604],\n",
      "        [-11.4407, -15.9157,   0.7418,  -0.1549,  -2.2739,  -1.1314,  -1.7067,\n",
      "           0.1774,  -0.5108,   0.1951,   1.0337,  11.7634],\n",
      "        [-11.2095, -11.0170,  -0.8210,  -0.0513,  -3.3414,  -0.2282,  -1.4815,\n",
      "          11.7649,  -1.0786,  -0.6356,  -1.8250,  -0.8832],\n",
      "        [-13.7338,  -5.8793,  -3.7013,  -1.3368,  -4.1095,  -4.2127,   9.4643,\n",
      "           0.1088,  -0.0780,  -1.2502,   0.8134,   0.8366],\n",
      "        [-13.6145, -13.0086,  -2.3195,  11.1834,  -0.5622,  -2.8468,  -5.1625,\n",
      "           0.0839,  -1.3997,   2.1655,   1.0492,  -0.7068],\n",
      "        [-14.4399, -15.0088,  -0.1951,  -4.8791,  -1.2025,  -1.4163,  -3.6233,\n",
      "           1.4678,  -0.6800,  10.0319,   1.1944,   1.3238],\n",
      "        [-13.8594, -11.0665,   1.3167,  -3.3474,  10.3599,  -1.3191,  -2.2193,\n",
      "           0.0707,  -3.6537,  -1.4518,  -2.5974,   1.5885],\n",
      "        [-14.4246,  -2.7966,  -2.1415,   0.8739,  -4.6961,  -1.3622,  -0.6292,\n",
      "           0.3936,  10.8900,   0.8552,  -0.2878,   0.3208],\n",
      "        [ -3.4883,  18.1202,  -1.9577,  -0.2445,  -1.2806,  -1.4328,  -2.1125,\n",
      "           0.1846,   9.1505,   0.3911,  -1.1324,  -1.2036]],\n",
      "       grad_fn=<SelectBackward0>)\n"
     ]
    }
   ],
   "source": [
    "print(f\"{labels[12].shape=}, {logits[12].shape=}\")\n",
    "print(f\"{labels[12]=}\")\n",
    "print(f\"{src[12]=}\")\n",
    "print(f\"{targ[12]=}\")\n",
    "print(f\"{torch.argmax(logits[12], dim=1)=}\")\n",
    "print(logits[12])\n",
    "# plt.imshow(model.encoders[-1].attention.attn_store[0,3].detach().numpy())\n"
   ]
  },
  {
   "cell_type": "code",
   "execution_count": 907,
   "id": "062fcc33-b8a7-4a9f-b76d-0456e2666d0a",
   "metadata": {},
   "outputs": [
    {
     "data": {
      "text/plain": [
       "[<matplotlib.lines.Line2D at 0x7f0cedf02110>]"
      ]
     },
     "execution_count": 907,
     "metadata": {},
     "output_type": "execute_result"
    },
    {
     "data": {
      "image/png": "[encoded data removed]",
      "text/plain": [
       "<Figure size 640x480 with 1 Axes>"
      ]
     },
     "metadata": {},
     "output_type": "display_data"
    }
   ],
   "source": [
    "plt.plot(losses)"
   ]
  },
  {
   "cell_type": "code",
   "execution_count": 998,
   "id": "3a7fae14-9c07-47d4-a93a-e2081683922f",
   "metadata": {},
   "outputs": [
    {
     "name": "stdout",
     "output_type": "stream",
     "text": [
      "torch.Size([1, 10])\n",
      "torch.Size([1, 10, 32])\n",
      "tensor([[ 4,  3,  5,  6, 11,  6,  5,  6,  5, 10]])\n",
      "tensor([[ 4,  3,  5,  6, 11,  6,  5,  6,  5, 10]], dtype=torch.int32)\n"
     ]
    }
   ],
   "source": [
    "def greedy_decoding(model, src, context_size):\n",
    "    # targ = torch.zeros(1,context_size + 1).type(torch.int)\n",
    "    # targ = torch.zeros(1,src.shape[1] + 1).type(torch.int)\n",
    "    cur_targ = torch.tensor([[0]])\n",
    "    src_mask, _ = create_mask(src, src, 99)\n",
    "    features = model.encode(src, src_mask)\n",
    "    print(features.shape)\n",
    "    for i in range(context_size):\n",
    "        src_mask, targ_mask = create_mask(src, cur_targ, 99)\n",
    "        proj = model.decode(cur_targ, features, src_mask, targ_mask)\n",
    "        tok = torch.argmax(proj[0,-1,:], keepdims=True)\n",
    "        # print(tok.shape)\n",
    "        tok = tok.unsqueeze(0)\n",
    "        if tok.item() == 1:\n",
    "            return cur_targ[:,1:], proj\n",
    "        cur_targ = torch.cat([cur_targ, tok], dim=1).type(torch.int)\n",
    "        # targ[0, i+1] = tok\n",
    "    return cur_targ, proj\n",
    "\n",
    "cur_src = torch.randint(2, 12, size=(1, 10))\n",
    "print(cur_src.shape)\n",
    "\n",
    "cur_targ, proj = greedy_decoding(model, cur_src, 20)\n",
    "print(cur_src)\n",
    "print(cur_targ)\n",
    "assert torch.equal(cur_src, cur_targ)\n",
    "# print(proj)"
   ]
  },
  {
   "cell_type": "code",
   "execution_count": 858,
   "id": "8f652514-6ce9-4295-90eb-6cb481d0c468",
   "metadata": {},
   "outputs": [
    {
     "data": {
      "text/plain": [
       "tensor([[0]], dtype=torch.int32)"
      ]
     },
     "execution_count": 858,
     "metadata": {},
     "output_type": "execute_result"
    }
   ],
   "source": [
    "# ans = torch.max(proj[0,0],0)\n",
    "# ans\n",
    "torch.zeros((1,1)).type(torch.int)"
   ]
  },
  {
   "cell_type": "markdown",
   "id": "40b9dad9-5f19-4f78-a1f5-eacb12f71d43",
   "metadata": {},
   "source": [
    "# test training on real data"
   ]
  },
  {
   "cell_type": "code",
   "execution_count": 1086,
   "id": "df7dd8ed-52c5-46c1-b041-5d5aaa43d581",
   "metadata": {},
   "outputs": [],
   "source": [
    "import torchtext.datasets\n",
    "from torch.utils.data import DataLoader\n",
    "\n",
    "train_data = torchtext.datasets.Multi30k(split='train', language_pair=('de', 'en'))\n",
    "val_data = torchtext.datasets.Multi30k(split='valid', language_pair=('de', 'en'))"
   ]
  },
  {
   "cell_type": "code",
   "execution_count": 1087,
   "id": "dfda2e7e-4297-4106-9a72-6c729c9de94e",
   "metadata": {},
   "outputs": [],
   "source": [
    "import en_core_web_sm\n",
    "import de_core_news_sm\n",
    "\n",
    "en_tokenizer = en_core_web_sm.load()\n",
    "de_tokenizer = de_core_news_sm.load()"
   ]
  },
  {
   "cell_type": "code",
   "execution_count": 1091,
   "id": "7704b280-5bd1-4225-a5e9-693f18e8888e",
   "metadata": {},
   "outputs": [
    {
     "ename": "AttributeError",
     "evalue": "'ShardingFilterIterDataPipe' object has no attribute 'urls",
     "output_type": "error",
     "traceback": [
      "\u001b[0;31m---------------------------------------------------------------------------\u001b[0m",
      "\u001b[0;31mAttributeError\u001b[0m                            Traceback (most recent call last)",
      "Cell \u001b[0;32mIn[1091], line 1\u001b[0m\n\u001b[0;32m----> 1\u001b[0m \u001b[43mtrain_data\u001b[49m\u001b[38;5;241;43m.\u001b[39;49m\u001b[43murls\u001b[49m\n",
      "File \u001b[0;32m~/dev/translate-gpt/.env/lib/python3.11/site-packages/torch/utils/data/datapipes/datapipe.py:129\u001b[0m, in \u001b[0;36mIterDataPipe.__getattr__\u001b[0;34m(self, attribute_name)\u001b[0m\n\u001b[1;32m    127\u001b[0m     \u001b[38;5;28;01mreturn\u001b[39;00m function\n\u001b[1;32m    128\u001b[0m \u001b[38;5;28;01melse\u001b[39;00m:\n\u001b[0;32m--> 129\u001b[0m     \u001b[38;5;28;01mraise\u001b[39;00m \u001b[38;5;167;01mAttributeError\u001b[39;00m(\u001b[38;5;124mf\u001b[39m\u001b[38;5;124m\"\u001b[39m\u001b[38;5;124m'\u001b[39m\u001b[38;5;132;01m{\u001b[39;00m\u001b[38;5;28mself\u001b[39m\u001b[38;5;241m.\u001b[39m\u001b[38;5;18m__class__\u001b[39m\u001b[38;5;241m.\u001b[39m\u001b[38;5;18m__name__\u001b[39m\u001b[38;5;132;01m}\u001b[39;00m\u001b[38;5;124m'\u001b[39m\u001b[38;5;124m object has no attribute \u001b[39m\u001b[38;5;124m'\u001b[39m\u001b[38;5;132;01m{\u001b[39;00mattribute_name\u001b[38;5;132;01m}\u001b[39;00m\u001b[38;5;124m\"\u001b[39m)\n",
      "\u001b[0;31mAttributeError\u001b[0m: 'ShardingFilterIterDataPipe' object has no attribute 'urls"
     ]
    }
   ],
   "source": [
    "train_data.urls"
   ]
  },
  {
   "cell_type": "code",
   "execution_count": 1001,
   "id": "cf07167b-93bc-4a95-bd00-fcc368900741",
   "metadata": {},
   "outputs": [],
   "source": [
    "from collections import Counter\n",
    "\n",
    "def get_unique_tokens(text, tokenizer):\n",
    "    cnt = Counter()\n",
    "    for doc in tokenizer.pipe(text):\n",
    "        doc_tokens = [tok.text.strip() for tok in doc if len(tok.text) > 0]\n",
    "        cnt.update(doc_tokens)\n",
    "    return [tok[0] for tok in cnt.most_common(10000)]\n",
    "\n",
    "src_text, targ_text = list(zip(*train_data))\n",
    "\n",
    "de_toks = get_unique_tokens(src_text, de_tokenizer)\n",
    "en_toks = get_unique_tokens(targ_text, en_tokenizer)\n"
   ]
  },
  {
   "cell_type": "code",
   "execution_count": 1026,
   "id": "50469226-4ede-4e94-b45a-1531f75cd8d1",
   "metadata": {},
   "outputs": [],
   "source": [
    "# special token indices\n",
    "UNK_IDX = 0\n",
    "PAD_IDX = 1\n",
    "SOS_IDX = 2\n",
    "EOS_IDX = 3\n",
    "\n",
    "UNK = '<unk>' # Unknown\n",
    "PAD = '<pad>' # Padding\n",
    "SOS = '<sos>' # Start of sentence\n",
    "EOS = '<eos>' # End of sentence\n",
    "\n",
    "SPECIAL_TOKENS = [UNK, PAD, SOS, EOS]\n",
    "\n",
    "class Vocab:\n",
    "    def __init__(self, tokenizer, tokens):\n",
    "        self.tokenizer = tokenizer\n",
    "        self.tokens = SPECIAL_TOKENS + tokens\n",
    "        self.token_idxs = {self.tokens[i]: i for i in range(len(tokens))}\n",
    "\n",
    "    def __call__(self, text):\n",
    "        return [self.numerify(tok.text.strip()) for tok in self.tokenizer(text)]\n",
    "    \n",
    "    def numerify(self, tok):\n",
    "        if tok not in self.token_idxs:\n",
    "            return UNK_IDX\n",
    "        return self.token_idxs[tok]\n",
    "\n",
    "    def textify(self, idx):\n",
    "        return tokens[idx]\n",
    "\n",
    "de_vocab = Vocab(de_tokenizer, de_toks)\n",
    "en_vocab = Vocab(en_tokenizer, en_toks)"
   ]
  },
  {
   "cell_type": "code",
   "execution_count": 1003,
   "id": "7d0d16d8-9663-4a70-9bb6-f11851499309",
   "metadata": {},
   "outputs": [],
   "source": [
    "from torch.nn.utils.rnn import pad_sequence\n",
    "\n",
    "def make_dataloader(dataset, batch_size, context_size, device): \n",
    "    def collate_fn(batch):\n",
    "        srcs = []\n",
    "        targs = []\n",
    "        for i, (src_sentence, targ_sentence) in enumerate(batch):\n",
    "            src = de_vocab(src_sentence)\n",
    "            targ = [SOS_IDX] + en_vocab(targ_sentence) + [EOS_IDX]\n",
    "    \n",
    "            srcs.append(torch.tensor(src))\n",
    "            targs.append(torch.tensor(targ))\n",
    "    \n",
    "        src_batch = pad_sequence(srcs, padding_value=PAD_IDX, batch_first=True)\n",
    "        targ_batch = pad_sequence(targs, padding_value=PAD_IDX, batch_first=True)\n",
    "    \n",
    "        # decoder wants target starting with SOS\n",
    "        target_batch = targ_batch[:, :-1]\n",
    "        # however when calculating loss we are only interested in tokens after SOS and ending with EOS\n",
    "        label_batch = targ_batch[:, 1:]\n",
    "        src_mask, targ_mask = create_mask(src_batch, target_batch, PAD_IDX) # TODO: understand what the hell happens with different context lengths\n",
    "    \n",
    "        all_batches = [src_batch, target_batch, label_batch, src_mask, targ_mask]\n",
    "        return [b.to(device) for b in all_batches]\n",
    "\n",
    "    return DataLoader(dataset, batch_size=batch_size, collate_fn=collate_fn)\n",
    "\n",
    "# train_dataloader = make_dataloader(train_data, 32, 40, \"cpu\")\n",
    "val_dataloader = make_dataloader(val_data, 100, 40, \"cpu\")"
   ]
  },
  {
   "cell_type": "code",
   "execution_count": 1085,
   "id": "44d49ba4-0cdb-44e3-ab63-a4cd6de56d5a",
   "metadata": {},
   "outputs": [
    {
     "name": "stdout",
     "output_type": "stream",
     "text": [
      "epoch=0 step=0 loss.item()=12.463160514831543\n",
      "epoch=0 step=10 loss.item()=6.699718475341797\n",
      "epoch=0 step=20 loss.item()=5.784508228302002\n",
      "epoch=0 step=30 loss.item()=5.522207260131836\n",
      "epoch=0 step=40 loss.item()=5.704879283905029\n",
      "epoch=0 step=50 loss.item()=5.745138645172119\n",
      "epoch=0 step=60 loss.item()=5.3376545906066895\n",
      "epoch=0 step=70 loss.item()=5.151719570159912\n",
      "epoch=0 step=80 loss.item()=5.013647556304932\n",
      "epoch=0 step=90 loss.item()=4.826727390289307\n",
      "epoch=0 step=100 loss.item()=5.090468883514404\n",
      "epoch=0 step=110 loss.item()=4.916821002960205\n",
      "epoch=0 step=120 loss.item()=4.664466857910156\n",
      "epoch=0 step=130 loss.item()=4.7534308433532715\n",
      "epoch=0 step=140 loss.item()=4.265157699584961\n",
      "epoch=0 step=150 loss.item()=4.199601173400879\n",
      "epoch=0 step=160 loss.item()=5.579021453857422\n",
      "epoch=0 step=170 loss.item()=4.554587364196777\n",
      "epoch=0 step=180 loss.item()=4.419059753417969\n",
      "epoch=0 step=190 loss.item()=4.6456427574157715\n",
      "epoch=0 step=200 loss.item()=4.274139404296875\n",
      "epoch=0 step=210 loss.item()=4.502565860748291\n",
      "epoch=0 step=220 loss.item()=4.4385085105896\n",
      "epoch=0 step=230 loss.item()=4.110718250274658\n",
      "epoch=0 step=240 loss.item()=3.94274640083313\n",
      "epoch=0 step=250 loss.item()=4.356197357177734\n",
      "epoch=0 step=260 loss.item()=4.277547359466553\n",
      "epoch=0 step=270 loss.item()=4.032793998718262\n",
      "epoch=0 step=280 loss.item()=4.225339889526367\n",
      "epoch=0 step=290 loss.item()=4.04026460647583\n",
      "epoch=0 step=300 loss.item()=3.8120195865631104\n",
      "epoch=0 step=310 loss.item()=3.819293975830078\n",
      "epoch=0 step=320 loss.item()=4.123649597167969\n",
      "epoch=0 step=330 loss.item()=3.825528860092163\n",
      "epoch=0 step=340 loss.item()=3.4570748805999756\n",
      "epoch=0 step=350 loss.item()=4.082907199859619\n",
      "epoch=0 step=360 loss.item()=4.374055862426758\n",
      "epoch=0 step=370 loss.item()=3.9337515830993652\n",
      "epoch=0 step=380 loss.item()=3.8139843940734863\n",
      "epoch=0 step=390 loss.item()=3.856696367263794\n",
      "epoch=0 step=400 loss.item()=3.8444762229919434\n",
      "epoch=0 step=410 loss.item()=3.912252902984619\n",
      "epoch=0 step=420 loss.item()=3.664116382598877\n",
      "epoch=0 step=430 loss.item()=3.4164631366729736\n",
      "epoch=0 step=440 loss.item()=3.6236557960510254\n",
      "epoch=0 step=450 loss.item()=3.7367868423461914\n",
      "epoch=0 step=460 loss.item()=3.7041869163513184\n",
      "epoch=0 step=470 loss.item()=3.8779232501983643\n",
      "epoch=0 step=480 loss.item()=4.049343585968018\n",
      "epoch=0 step=490 loss.item()=3.8507134914398193\n",
      "epoch=0 step=500 loss.item()=4.1819963455200195\n",
      "epoch=0 step=510 loss.item()=3.7487876415252686\n",
      "epoch=0 step=520 loss.item()=3.811380624771118\n",
      "epoch=0 step=530 loss.item()=3.780446767807007\n",
      "epoch=0 step=540 loss.item()=3.81449818611145\n",
      "epoch=0 step=550 loss.item()=3.743511915206909\n",
      "epoch=0 step=560 loss.item()=3.549808979034424\n",
      "epoch=0 step=570 loss.item()=3.5535531044006348\n",
      "epoch=0 step=580 loss.item()=3.3399267196655273\n",
      "epoch=0 step=590 loss.item()=3.408862829208374\n",
      "epoch=0 step=600 loss.item()=3.5714704990386963\n",
      "epoch=0 step=610 loss.item()=3.9106106758117676\n",
      "epoch=0 step=620 loss.item()=3.937288999557495\n",
      "epoch=0 step=630 loss.item()=3.547736883163452\n",
      "epoch=0 step=640 loss.item()=3.3052713871002197\n",
      "epoch=0 step=650 loss.item()=3.5840494632720947\n",
      "epoch=0 step=660 loss.item()=3.4567034244537354\n",
      "epoch=0 step=670 loss.item()=3.42063307762146\n",
      "epoch=0 step=680 loss.item()=3.3384320735931396\n",
      "epoch=0 step=690 loss.item()=3.7803633213043213\n",
      "epoch=0 step=700 loss.item()=3.029829263687134\n",
      "epoch=0 step=710 loss.item()=3.8021914958953857\n",
      "epoch=0 step=720 loss.item()=3.1868655681610107\n",
      "epoch=0 step=730 loss.item()=3.5632338523864746\n",
      "epoch=0 step=740 loss.item()=3.7411861419677734\n",
      "epoch=0 step=750 loss.item()=3.630375385284424\n",
      "epoch=0 step=760 loss.item()=3.592721700668335\n",
      "epoch=0 step=770 loss.item()=3.9582953453063965\n",
      "epoch=0 step=780 loss.item()=3.779348134994507\n",
      "epoch=0 step=790 loss.item()=3.6402251720428467\n",
      "epoch=0 step=800 loss.item()=3.6208174228668213\n",
      "epoch=0 step=810 loss.item()=3.838850736618042\n",
      "epoch=0 step=820 loss.item()=3.5884084701538086\n",
      "epoch=0 step=830 loss.item()=3.721911907196045\n",
      "epoch=0 step=840 loss.item()=3.847738027572632\n",
      "epoch=0 step=850 loss.item()=3.6502978801727295\n",
      "epoch=0 step=860 loss.item()=3.2519681453704834\n",
      "epoch=0 step=870 loss.item()=3.944427967071533\n",
      "epoch=0 step=880 loss.item()=3.5418548583984375\n",
      "epoch=0 step=890 loss.item()=3.3679983615875244\n",
      "epoch=0 step=900 loss.item()=3.1972601413726807\n",
      "epoch=1 step=0 loss.item()=nan\n",
      "epoch=1 step=10 loss.item()=nan\n",
      "epoch=1 step=20 loss.item()=nan\n",
      "epoch=1 step=30 loss.item()=nan\n",
      "epoch=1 step=40 loss.item()=nan\n",
      "epoch=1 step=50 loss.item()=nan\n",
      "epoch=1 step=60 loss.item()=nan\n",
      "epoch=1 step=70 loss.item()=nan\n",
      "epoch=1 step=80 loss.item()=nan\n",
      "epoch=1 step=90 loss.item()=nan\n",
      "epoch=1 step=100 loss.item()=nan\n",
      "epoch=1 step=110 loss.item()=nan\n",
      "epoch=1 step=120 loss.item()=nan\n",
      "epoch=1 step=130 loss.item()=nan\n",
      "epoch=1 step=140 loss.item()=nan\n",
      "epoch=1 step=150 loss.item()=nan\n",
      "epoch=1 step=160 loss.item()=nan\n",
      "epoch=1 step=170 loss.item()=nan\n",
      "epoch=1 step=180 loss.item()=nan\n",
      "epoch=1 step=190 loss.item()=nan\n",
      "epoch=1 step=200 loss.item()=nan\n",
      "epoch=1 step=210 loss.item()=nan\n",
      "epoch=1 step=220 loss.item()=nan\n",
      "epoch=1 step=230 loss.item()=nan\n",
      "epoch=1 step=240 loss.item()=nan\n",
      "epoch=1 step=250 loss.item()=nan\n",
      "epoch=1 step=260 loss.item()=nan\n",
      "epoch=1 step=270 loss.item()=nan\n",
      "epoch=1 step=280 loss.item()=nan\n",
      "epoch=1 step=290 loss.item()=nan\n",
      "epoch=1 step=300 loss.item()=nan\n",
      "epoch=1 step=310 loss.item()=nan\n",
      "epoch=1 step=320 loss.item()=nan\n",
      "epoch=1 step=330 loss.item()=nan\n",
      "epoch=1 step=340 loss.item()=nan\n",
      "epoch=1 step=350 loss.item()=nan\n",
      "epoch=1 step=360 loss.item()=nan\n",
      "epoch=1 step=370 loss.item()=nan\n",
      "epoch=1 step=380 loss.item()=nan\n",
      "epoch=1 step=390 loss.item()=nan\n",
      "epoch=1 step=400 loss.item()=nan\n",
      "epoch=1 step=410 loss.item()=nan\n",
      "epoch=1 step=420 loss.item()=nan\n",
      "epoch=1 step=430 loss.item()=nan\n",
      "epoch=1 step=440 loss.item()=nan\n",
      "epoch=1 step=450 loss.item()=nan\n",
      "epoch=1 step=460 loss.item()=nan\n",
      "epoch=1 step=470 loss.item()=nan\n",
      "epoch=1 step=480 loss.item()=nan\n",
      "epoch=1 step=490 loss.item()=nan\n",
      "epoch=1 step=500 loss.item()=nan\n",
      "epoch=1 step=510 loss.item()=nan\n",
      "epoch=1 step=520 loss.item()=nan\n",
      "epoch=1 step=530 loss.item()=nan\n",
      "epoch=1 step=540 loss.item()=nan\n",
      "epoch=1 step=550 loss.item()=nan\n",
      "epoch=1 step=560 loss.item()=nan\n",
      "epoch=1 step=570 loss.item()=nan\n",
      "epoch=1 step=580 loss.item()=nan\n",
      "epoch=1 step=590 loss.item()=nan\n",
      "epoch=1 step=600 loss.item()=nan\n",
      "epoch=1 step=610 loss.item()=nan\n",
      "epoch=1 step=620 loss.item()=nan\n",
      "epoch=1 step=630 loss.item()=nan\n",
      "epoch=1 step=640 loss.item()=nan\n",
      "epoch=1 step=650 loss.item()=nan\n",
      "epoch=1 step=660 loss.item()=nan\n",
      "epoch=1 step=670 loss.item()=nan\n",
      "epoch=1 step=680 loss.item()=nan\n",
      "epoch=1 step=690 loss.item()=nan\n",
      "epoch=1 step=700 loss.item()=nan\n",
      "epoch=1 step=710 loss.item()=nan\n",
      "epoch=1 step=720 loss.item()=nan\n"
     ]
    },
    {
     "ename": "KeyboardInterrupt",
     "evalue": "",
     "output_type": "error",
     "traceback": [
      "\u001b[0;31m---------------------------------------------------------------------------\u001b[0m",
      "\u001b[0;31mKeyboardInterrupt\u001b[0m                         Traceback (most recent call last)",
      "Cell \u001b[0;32mIn[1085], line 15\u001b[0m\n\u001b[1;32m     13\u001b[0m train_dataloader \u001b[38;5;241m=\u001b[39m make_dataloader(train_data, \u001b[38;5;241m32\u001b[39m, \u001b[38;5;241m40\u001b[39m, \u001b[38;5;124m\"\u001b[39m\u001b[38;5;124mcpu\u001b[39m\u001b[38;5;124m\"\u001b[39m)\n\u001b[1;32m     14\u001b[0m \u001b[38;5;66;03m# with tqdm(train_dataloader, unit=\"batch\") as batch_iter:\u001b[39;00m\n\u001b[0;32m---> 15\u001b[0m \u001b[43m\u001b[49m\u001b[38;5;28;43;01mfor\u001b[39;49;00m\u001b[43m \u001b[49m\u001b[43mstep\u001b[49m\u001b[43m,\u001b[49m\u001b[43m \u001b[49m\u001b[43m(\u001b[49m\u001b[43msrc\u001b[49m\u001b[43m,\u001b[49m\u001b[43m \u001b[49m\u001b[43mtarg\u001b[49m\u001b[43m,\u001b[49m\u001b[43m \u001b[49m\u001b[43mlabels\u001b[49m\u001b[43m,\u001b[49m\u001b[43m \u001b[49m\u001b[43msrc_mask\u001b[49m\u001b[43m,\u001b[49m\u001b[43m \u001b[49m\u001b[43mtarg_mask\u001b[49m\u001b[43m)\u001b[49m\u001b[43m \u001b[49m\u001b[38;5;129;43;01min\u001b[39;49;00m\u001b[43m \u001b[49m\u001b[38;5;28;43menumerate\u001b[39;49m\u001b[43m(\u001b[49m\u001b[43mtrain_dataloader\u001b[49m\u001b[43m)\u001b[49m\u001b[43m:\u001b[49m\n\u001b[1;32m     16\u001b[0m \u001b[43m    \u001b[49m\u001b[38;5;66;43;03m# forward pass\u001b[39;49;00m\n\u001b[1;32m     17\u001b[0m \u001b[43m    \u001b[49m\u001b[43mlogits\u001b[49m\u001b[43m \u001b[49m\u001b[38;5;241;43m=\u001b[39;49m\u001b[43m \u001b[49m\u001b[43mmodel\u001b[49m\u001b[43m(\u001b[49m\u001b[43msrc\u001b[49m\u001b[43m,\u001b[49m\u001b[43m \u001b[49m\u001b[43mtarg\u001b[49m\u001b[43m,\u001b[49m\u001b[43m \u001b[49m\u001b[43msrc_mask\u001b[49m\u001b[43m,\u001b[49m\u001b[43m \u001b[49m\u001b[43mtarg_mask\u001b[49m\u001b[43m)\u001b[49m\n\u001b[1;32m     19\u001b[0m \u001b[43m    \u001b[49m\u001b[38;5;66;43;03m# logits = model(src, targ)\u001b[39;49;00m\n",
      "File \u001b[0;32m~/dev/translate-gpt/.env/lib/python3.11/site-packages/torch/utils/data/dataloader.py:630\u001b[0m, in \u001b[0;36m_BaseDataLoaderIter.__next__\u001b[0;34m(self)\u001b[0m\n\u001b[1;32m    627\u001b[0m \u001b[38;5;28;01mif\u001b[39;00m \u001b[38;5;28mself\u001b[39m\u001b[38;5;241m.\u001b[39m_sampler_iter \u001b[38;5;129;01mis\u001b[39;00m \u001b[38;5;28;01mNone\u001b[39;00m:\n\u001b[1;32m    628\u001b[0m     \u001b[38;5;66;03m# TODO(https://github.com/pytorch/pytorch/issues/76750)\u001b[39;00m\n\u001b[1;32m    629\u001b[0m     \u001b[38;5;28mself\u001b[39m\u001b[38;5;241m.\u001b[39m_reset()  \u001b[38;5;66;03m# type: ignore[call-arg]\u001b[39;00m\n\u001b[0;32m--> 630\u001b[0m data \u001b[38;5;241m=\u001b[39m \u001b[38;5;28;43mself\u001b[39;49m\u001b[38;5;241;43m.\u001b[39;49m\u001b[43m_next_data\u001b[49m\u001b[43m(\u001b[49m\u001b[43m)\u001b[49m\n\u001b[1;32m    631\u001b[0m \u001b[38;5;28mself\u001b[39m\u001b[38;5;241m.\u001b[39m_num_yielded \u001b[38;5;241m+\u001b[39m\u001b[38;5;241m=\u001b[39m \u001b[38;5;241m1\u001b[39m\n\u001b[1;32m    632\u001b[0m \u001b[38;5;28;01mif\u001b[39;00m \u001b[38;5;28mself\u001b[39m\u001b[38;5;241m.\u001b[39m_dataset_kind \u001b[38;5;241m==\u001b[39m _DatasetKind\u001b[38;5;241m.\u001b[39mIterable \u001b[38;5;129;01mand\u001b[39;00m \\\n\u001b[1;32m    633\u001b[0m         \u001b[38;5;28mself\u001b[39m\u001b[38;5;241m.\u001b[39m_IterableDataset_len_called \u001b[38;5;129;01mis\u001b[39;00m \u001b[38;5;129;01mnot\u001b[39;00m \u001b[38;5;28;01mNone\u001b[39;00m \u001b[38;5;129;01mand\u001b[39;00m \\\n\u001b[1;32m    634\u001b[0m         \u001b[38;5;28mself\u001b[39m\u001b[38;5;241m.\u001b[39m_num_yielded \u001b[38;5;241m>\u001b[39m \u001b[38;5;28mself\u001b[39m\u001b[38;5;241m.\u001b[39m_IterableDataset_len_called:\n",
      "File \u001b[0;32m~/dev/translate-gpt/.env/lib/python3.11/site-packages/torch/utils/data/dataloader.py:674\u001b[0m, in \u001b[0;36m_SingleProcessDataLoaderIter._next_data\u001b[0;34m(self)\u001b[0m\n\u001b[1;32m    672\u001b[0m \u001b[38;5;28;01mdef\u001b[39;00m \u001b[38;5;21m_next_data\u001b[39m(\u001b[38;5;28mself\u001b[39m):\n\u001b[1;32m    673\u001b[0m     index \u001b[38;5;241m=\u001b[39m \u001b[38;5;28mself\u001b[39m\u001b[38;5;241m.\u001b[39m_next_index()  \u001b[38;5;66;03m# may raise StopIteration\u001b[39;00m\n\u001b[0;32m--> 674\u001b[0m     data \u001b[38;5;241m=\u001b[39m \u001b[38;5;28;43mself\u001b[39;49m\u001b[38;5;241;43m.\u001b[39;49m\u001b[43m_dataset_fetcher\u001b[49m\u001b[38;5;241;43m.\u001b[39;49m\u001b[43mfetch\u001b[49m\u001b[43m(\u001b[49m\u001b[43mindex\u001b[49m\u001b[43m)\u001b[49m  \u001b[38;5;66;03m# may raise StopIteration\u001b[39;00m\n\u001b[1;32m    675\u001b[0m     \u001b[38;5;28;01mif\u001b[39;00m \u001b[38;5;28mself\u001b[39m\u001b[38;5;241m.\u001b[39m_pin_memory:\n\u001b[1;32m    676\u001b[0m         data \u001b[38;5;241m=\u001b[39m _utils\u001b[38;5;241m.\u001b[39mpin_memory\u001b[38;5;241m.\u001b[39mpin_memory(data, \u001b[38;5;28mself\u001b[39m\u001b[38;5;241m.\u001b[39m_pin_memory_device)\n",
      "File \u001b[0;32m~/dev/translate-gpt/.env/lib/python3.11/site-packages/torch/utils/data/_utils/fetch.py:42\u001b[0m, in \u001b[0;36m_IterableDatasetFetcher.fetch\u001b[0;34m(self, possibly_batched_index)\u001b[0m\n\u001b[1;32m     40\u001b[0m \u001b[38;5;28;01melse\u001b[39;00m:\n\u001b[1;32m     41\u001b[0m     data \u001b[38;5;241m=\u001b[39m \u001b[38;5;28mnext\u001b[39m(\u001b[38;5;28mself\u001b[39m\u001b[38;5;241m.\u001b[39mdataset_iter)\n\u001b[0;32m---> 42\u001b[0m \u001b[38;5;28;01mreturn\u001b[39;00m \u001b[38;5;28;43mself\u001b[39;49m\u001b[38;5;241;43m.\u001b[39;49m\u001b[43mcollate_fn\u001b[49m\u001b[43m(\u001b[49m\u001b[43mdata\u001b[49m\u001b[43m)\u001b[49m\n",
      "Cell \u001b[0;32mIn[1003], line 8\u001b[0m, in \u001b[0;36mmake_dataloader.<locals>.collate_fn\u001b[0;34m(batch)\u001b[0m\n\u001b[1;32m      6\u001b[0m targs \u001b[38;5;241m=\u001b[39m []\n\u001b[1;32m      7\u001b[0m \u001b[38;5;28;01mfor\u001b[39;00m i, (src_sentence, targ_sentence) \u001b[38;5;129;01min\u001b[39;00m \u001b[38;5;28menumerate\u001b[39m(batch):\n\u001b[0;32m----> 8\u001b[0m     src \u001b[38;5;241m=\u001b[39m \u001b[43mde_vocab\u001b[49m\u001b[43m(\u001b[49m\u001b[43msrc_sentence\u001b[49m\u001b[43m)\u001b[49m\n\u001b[1;32m      9\u001b[0m     targ \u001b[38;5;241m=\u001b[39m [SOS_IDX] \u001b[38;5;241m+\u001b[39m en_vocab(targ_sentence) \u001b[38;5;241m+\u001b[39m [EOS_IDX]\n\u001b[1;32m     11\u001b[0m     srcs\u001b[38;5;241m.\u001b[39mappend(torch\u001b[38;5;241m.\u001b[39mtensor(src))\n",
      "Cell \u001b[0;32mIn[1026], line 21\u001b[0m, in \u001b[0;36mVocab.__call__\u001b[0;34m(self, text)\u001b[0m\n\u001b[1;32m     20\u001b[0m \u001b[38;5;28;01mdef\u001b[39;00m \u001b[38;5;21m__call__\u001b[39m(\u001b[38;5;28mself\u001b[39m, text):\n\u001b[0;32m---> 21\u001b[0m     \u001b[38;5;28;01mreturn\u001b[39;00m [\u001b[38;5;28mself\u001b[39m\u001b[38;5;241m.\u001b[39mnumerify(tok\u001b[38;5;241m.\u001b[39mtext\u001b[38;5;241m.\u001b[39mstrip()) \u001b[38;5;28;01mfor\u001b[39;00m tok \u001b[38;5;129;01min\u001b[39;00m \u001b[38;5;28;43mself\u001b[39;49m\u001b[38;5;241;43m.\u001b[39;49m\u001b[43mtokenizer\u001b[49m\u001b[43m(\u001b[49m\u001b[43mtext\u001b[49m\u001b[43m)\u001b[49m]\n",
      "File \u001b[0;32m~/dev/translate-gpt/.env/lib/python3.11/site-packages/spacy/language.py:1049\u001b[0m, in \u001b[0;36mLanguage.__call__\u001b[0;34m(self, text, disable, component_cfg)\u001b[0m\n\u001b[1;32m   1047\u001b[0m     error_handler \u001b[38;5;241m=\u001b[39m proc\u001b[38;5;241m.\u001b[39mget_error_handler()\n\u001b[1;32m   1048\u001b[0m \u001b[38;5;28;01mtry\u001b[39;00m:\n\u001b[0;32m-> 1049\u001b[0m     doc \u001b[38;5;241m=\u001b[39m \u001b[43mproc\u001b[49m\u001b[43m(\u001b[49m\u001b[43mdoc\u001b[49m\u001b[43m,\u001b[49m\u001b[43m \u001b[49m\u001b[38;5;241;43m*\u001b[39;49m\u001b[38;5;241;43m*\u001b[39;49m\u001b[43mcomponent_cfg\u001b[49m\u001b[38;5;241;43m.\u001b[39;49m\u001b[43mget\u001b[49m\u001b[43m(\u001b[49m\u001b[43mname\u001b[49m\u001b[43m,\u001b[49m\u001b[43m \u001b[49m\u001b[43m{\u001b[49m\u001b[43m}\u001b[49m\u001b[43m)\u001b[49m\u001b[43m)\u001b[49m  \u001b[38;5;66;03m# type: ignore[call-arg]\u001b[39;00m\n\u001b[1;32m   1050\u001b[0m \u001b[38;5;28;01mexcept\u001b[39;00m \u001b[38;5;167;01mKeyError\u001b[39;00m \u001b[38;5;28;01mas\u001b[39;00m e:\n\u001b[1;32m   1051\u001b[0m     \u001b[38;5;66;03m# This typically happens if a component is not initialized\u001b[39;00m\n\u001b[1;32m   1052\u001b[0m     \u001b[38;5;28;01mraise\u001b[39;00m \u001b[38;5;167;01mValueError\u001b[39;00m(Errors\u001b[38;5;241m.\u001b[39mE109\u001b[38;5;241m.\u001b[39mformat(name\u001b[38;5;241m=\u001b[39mname)) \u001b[38;5;28;01mfrom\u001b[39;00m \u001b[38;5;21;01me\u001b[39;00m\n",
      "File \u001b[0;32m~/dev/translate-gpt/.env/lib/python3.11/site-packages/spacy/pipeline/trainable_pipe.pyx:52\u001b[0m, in \u001b[0;36mspacy.pipeline.trainable_pipe.TrainablePipe.__call__\u001b[0;34m()\u001b[0m\n",
      "File \u001b[0;32m~/dev/translate-gpt/.env/lib/python3.11/site-packages/spacy/pipeline/transition_parser.pyx:264\u001b[0m, in \u001b[0;36mspacy.pipeline.transition_parser.Parser.predict\u001b[0;34m()\u001b[0m\n",
      "File \u001b[0;32m~/dev/translate-gpt/.env/lib/python3.11/site-packages/spacy/pipeline/transition_parser.pyx:285\u001b[0m, in \u001b[0;36mspacy.pipeline.transition_parser.Parser.greedy_parse\u001b[0;34m()\u001b[0m\n",
      "File \u001b[0;32m~/dev/translate-gpt/.env/lib/python3.11/site-packages/thinc/model.py:334\u001b[0m, in \u001b[0;36mModel.predict\u001b[0;34m(self, X)\u001b[0m\n\u001b[1;32m    330\u001b[0m \u001b[38;5;28;01mdef\u001b[39;00m \u001b[38;5;21mpredict\u001b[39m(\u001b[38;5;28mself\u001b[39m, X: InT) \u001b[38;5;241m-\u001b[39m\u001b[38;5;241m>\u001b[39m OutT:\n\u001b[1;32m    331\u001b[0m \u001b[38;5;250m    \u001b[39m\u001b[38;5;124;03m\"\"\"Call the model's `forward` function with `is_train=False`, and return\u001b[39;00m\n\u001b[1;32m    332\u001b[0m \u001b[38;5;124;03m    only the output, instead of the `(output, callback)` tuple.\u001b[39;00m\n\u001b[1;32m    333\u001b[0m \u001b[38;5;124;03m    \"\"\"\u001b[39;00m\n\u001b[0;32m--> 334\u001b[0m     \u001b[38;5;28;01mreturn\u001b[39;00m \u001b[38;5;28;43mself\u001b[39;49m\u001b[38;5;241;43m.\u001b[39;49m\u001b[43m_func\u001b[49m\u001b[43m(\u001b[49m\u001b[38;5;28;43mself\u001b[39;49m\u001b[43m,\u001b[49m\u001b[43m \u001b[49m\u001b[43mX\u001b[49m\u001b[43m,\u001b[49m\u001b[43m \u001b[49m\u001b[43mis_train\u001b[49m\u001b[38;5;241;43m=\u001b[39;49m\u001b[38;5;28;43;01mFalse\u001b[39;49;00m\u001b[43m)\u001b[49m[\u001b[38;5;241m0\u001b[39m]\n",
      "File \u001b[0;32m~/dev/translate-gpt/.env/lib/python3.11/site-packages/spacy/ml/tb_framework.py:34\u001b[0m, in \u001b[0;36mforward\u001b[0;34m(model, X, is_train)\u001b[0m\n\u001b[1;32m     33\u001b[0m \u001b[38;5;28;01mdef\u001b[39;00m \u001b[38;5;21mforward\u001b[39m(model, X, is_train):\n\u001b[0;32m---> 34\u001b[0m     step_model \u001b[38;5;241m=\u001b[39m \u001b[43mParserStepModel\u001b[49m\u001b[43m(\u001b[49m\n\u001b[1;32m     35\u001b[0m \u001b[43m        \u001b[49m\u001b[43mX\u001b[49m\u001b[43m,\u001b[49m\n\u001b[1;32m     36\u001b[0m \u001b[43m        \u001b[49m\u001b[43mmodel\u001b[49m\u001b[38;5;241;43m.\u001b[39;49m\u001b[43mlayers\u001b[49m\u001b[43m,\u001b[49m\n\u001b[1;32m     37\u001b[0m \u001b[43m        \u001b[49m\u001b[43munseen_classes\u001b[49m\u001b[38;5;241;43m=\u001b[39;49m\u001b[43mmodel\u001b[49m\u001b[38;5;241;43m.\u001b[39;49m\u001b[43mattrs\u001b[49m\u001b[43m[\u001b[49m\u001b[38;5;124;43m\"\u001b[39;49m\u001b[38;5;124;43munseen_classes\u001b[39;49m\u001b[38;5;124;43m\"\u001b[39;49m\u001b[43m]\u001b[49m\u001b[43m,\u001b[49m\n\u001b[1;32m     38\u001b[0m \u001b[43m        \u001b[49m\u001b[43mtrain\u001b[49m\u001b[38;5;241;43m=\u001b[39;49m\u001b[43mis_train\u001b[49m\u001b[43m,\u001b[49m\n\u001b[1;32m     39\u001b[0m \u001b[43m        \u001b[49m\u001b[43mhas_upper\u001b[49m\u001b[38;5;241;43m=\u001b[39;49m\u001b[43mmodel\u001b[49m\u001b[38;5;241;43m.\u001b[39;49m\u001b[43mattrs\u001b[49m\u001b[43m[\u001b[49m\u001b[38;5;124;43m\"\u001b[39;49m\u001b[38;5;124;43mhas_upper\u001b[39;49m\u001b[38;5;124;43m\"\u001b[39;49m\u001b[43m]\u001b[49m\u001b[43m,\u001b[49m\n\u001b[1;32m     40\u001b[0m \u001b[43m    \u001b[49m\u001b[43m)\u001b[49m\n\u001b[1;32m     42\u001b[0m     \u001b[38;5;28;01mreturn\u001b[39;00m step_model, step_model\u001b[38;5;241m.\u001b[39mfinish_steps\n",
      "File \u001b[0;32m~/dev/translate-gpt/.env/lib/python3.11/site-packages/spacy/ml/parser_model.pyx:257\u001b[0m, in \u001b[0;36mspacy.ml.parser_model.ParserStepModel.__init__\u001b[0;34m()\u001b[0m\n",
      "File \u001b[0;32m~/dev/translate-gpt/.env/lib/python3.11/site-packages/spacy/ml/parser_model.pyx:398\u001b[0m, in \u001b[0;36mspacy.ml.parser_model.precompute_hiddens.__init__\u001b[0;34m()\u001b[0m\n",
      "File \u001b[0;32m~/dev/translate-gpt/.env/lib/python3.11/site-packages/thinc/model.py:310\u001b[0m, in \u001b[0;36mModel.__call__\u001b[0;34m(self, X, is_train)\u001b[0m\n\u001b[1;32m    307\u001b[0m \u001b[38;5;28;01mdef\u001b[39;00m \u001b[38;5;21m__call__\u001b[39m(\u001b[38;5;28mself\u001b[39m, X: InT, is_train: \u001b[38;5;28mbool\u001b[39m) \u001b[38;5;241m-\u001b[39m\u001b[38;5;241m>\u001b[39m Tuple[OutT, Callable]:\n\u001b[1;32m    308\u001b[0m \u001b[38;5;250m    \u001b[39m\u001b[38;5;124;03m\"\"\"Call the model's `forward` function, returning the output and a\u001b[39;00m\n\u001b[1;32m    309\u001b[0m \u001b[38;5;124;03m    callback to compute the gradients via backpropagation.\"\"\"\u001b[39;00m\n\u001b[0;32m--> 310\u001b[0m     \u001b[38;5;28;01mreturn\u001b[39;00m \u001b[38;5;28;43mself\u001b[39;49m\u001b[38;5;241;43m.\u001b[39;49m\u001b[43m_func\u001b[49m\u001b[43m(\u001b[49m\u001b[38;5;28;43mself\u001b[39;49m\u001b[43m,\u001b[49m\u001b[43m \u001b[49m\u001b[43mX\u001b[49m\u001b[43m,\u001b[49m\u001b[43m \u001b[49m\u001b[43mis_train\u001b[49m\u001b[38;5;241;43m=\u001b[39;49m\u001b[43mis_train\u001b[49m\u001b[43m)\u001b[49m\n",
      "File \u001b[0;32m~/dev/translate-gpt/.env/lib/python3.11/site-packages/spacy/ml/_precomputable_affine.py:27\u001b[0m, in \u001b[0;36mforward\u001b[0;34m(model, X, is_train)\u001b[0m\n\u001b[1;32m     25\u001b[0m \u001b[38;5;66;03m# Preallocate array for layer output, including padding.\u001b[39;00m\n\u001b[1;32m     26\u001b[0m Yf \u001b[38;5;241m=\u001b[39m model\u001b[38;5;241m.\u001b[39mops\u001b[38;5;241m.\u001b[39malloc2f(X\u001b[38;5;241m.\u001b[39mshape[\u001b[38;5;241m0\u001b[39m] \u001b[38;5;241m+\u001b[39m \u001b[38;5;241m1\u001b[39m, nF \u001b[38;5;241m*\u001b[39m nO \u001b[38;5;241m*\u001b[39m nP, zeros\u001b[38;5;241m=\u001b[39m\u001b[38;5;28;01mFalse\u001b[39;00m)\n\u001b[0;32m---> 27\u001b[0m \u001b[43mmodel\u001b[49m\u001b[38;5;241;43m.\u001b[39;49m\u001b[43mops\u001b[49m\u001b[38;5;241;43m.\u001b[39;49m\u001b[43mgemm\u001b[49m\u001b[43m(\u001b[49m\u001b[43mX\u001b[49m\u001b[43m,\u001b[49m\u001b[43m \u001b[49m\u001b[43mW\u001b[49m\u001b[38;5;241;43m.\u001b[39;49m\u001b[43mreshape\u001b[49m\u001b[43m(\u001b[49m\u001b[43m(\u001b[49m\u001b[43mnF\u001b[49m\u001b[43m \u001b[49m\u001b[38;5;241;43m*\u001b[39;49m\u001b[43m \u001b[49m\u001b[43mnO\u001b[49m\u001b[43m \u001b[49m\u001b[38;5;241;43m*\u001b[39;49m\u001b[43m \u001b[49m\u001b[43mnP\u001b[49m\u001b[43m,\u001b[49m\u001b[43m \u001b[49m\u001b[43mnI\u001b[49m\u001b[43m)\u001b[49m\u001b[43m)\u001b[49m\u001b[43m,\u001b[49m\u001b[43m \u001b[49m\u001b[43mtrans2\u001b[49m\u001b[38;5;241;43m=\u001b[39;49m\u001b[38;5;28;43;01mTrue\u001b[39;49;00m\u001b[43m,\u001b[49m\u001b[43m \u001b[49m\u001b[43mout\u001b[49m\u001b[38;5;241;43m=\u001b[39;49m\u001b[43mYf\u001b[49m\u001b[43m[\u001b[49m\u001b[38;5;241;43m1\u001b[39;49m\u001b[43m:\u001b[49m\u001b[43m]\u001b[49m\u001b[43m)\u001b[49m\n\u001b[1;32m     28\u001b[0m Yf \u001b[38;5;241m=\u001b[39m Yf\u001b[38;5;241m.\u001b[39mreshape((Yf\u001b[38;5;241m.\u001b[39mshape[\u001b[38;5;241m0\u001b[39m], nF, nO, nP))\n\u001b[1;32m     30\u001b[0m \u001b[38;5;66;03m# Set padding. Padding has shape (1, nF, nO, nP). Unfortunately, we cannot\u001b[39;00m\n\u001b[1;32m     31\u001b[0m \u001b[38;5;66;03m# change its shape to (nF, nO, nP) without breaking existing models. So\u001b[39;00m\n\u001b[1;32m     32\u001b[0m \u001b[38;5;66;03m# we'll squeeze the first dimension here.\u001b[39;00m\n",
      "\u001b[0;31mKeyboardInterrupt\u001b[0m: "
     ]
    }
   ],
   "source": [
    "from tqdm import tqdm\n",
    "\n",
    "model = EncoderDecoderTransformer(\n",
    "    n_heads=8, n_embed=128, dropout=0.2, n_blocks=6, context_size=44, input_vocab_size=len(de_vocab.tokens), output_vocab_size=len(en_vocab.tokens)\n",
    ")\n",
    "\n",
    "# model = TestModel(d_model=128, n_heads=8, n_block=6, dropout=0.2, input_vocab_size=len(de_vocab.tokens), output_vocab_size=len(en_vocab.tokens), context_size=44)\n",
    "\n",
    "optim = torch.optim.Adam(model.parameters(), lr=1e-3, betas=(0.9, 0.98), eps=1e-9)\n",
    "\n",
    "for epoch in range(3):\n",
    "    losses = []\n",
    "    train_dataloader = make_dataloader(train_data, 32, 40, \"cpu\")\n",
    "    # with tqdm(train_dataloader, unit=\"batch\") as batch_iter:\n",
    "    for step, (src, targ, labels, src_mask, targ_mask) in enumerate(train_dataloader):\n",
    "        # forward pass\n",
    "        logits = model(src, targ, src_mask, targ_mask)\n",
    "\n",
    "        # logits = model(src, targ)\n",
    "        loss = calculate_loss(logits, labels, PAD_IDX)\n",
    "        losses.append(loss.item())\n",
    "        optim.zero_grad()\n",
    "        loss.backward()\n",
    "        optim.step()\n",
    "        if step % 10 == 0:\n",
    "            print(f\"{epoch=} {step=} {loss.item()=}\")\n",
    "    "
   ]
  },
  {
   "cell_type": "code",
   "execution_count": 1084,
   "id": "b889cffb-f120-41ab-ac28-e65d90d1eea4",
   "metadata": {},
   "outputs": [
    {
     "data": {
      "text/plain": [
       "[nan,\n",
       " nan,\n",
       " nan,\n",
       " nan,\n",
       " nan,\n",
       " nan,\n",
       " nan,\n",
       " nan,\n",
       " nan,\n",
       " nan,\n",
       " nan,\n",
       " nan,\n",
       " nan,\n",
       " nan,\n",
       " nan,\n",
       " nan,\n",
       " nan,\n",
       " nan,\n",
       " nan,\n",
       " nan,\n",
       " nan,\n",
       " nan,\n",
       " nan,\n",
       " nan]"
      ]
     },
     "execution_count": 1084,
     "metadata": {},
     "output_type": "execute_result"
    }
   ],
   "source": [
    "losses"
   ]
  },
  {
   "cell_type": "code",
   "execution_count": 1073,
   "id": "91e849c3-2a13-4eaa-9934-c685b1424075",
   "metadata": {},
   "outputs": [
    {
     "data": {
      "text/plain": [
       "[<matplotlib.lines.Line2D at 0x7f0ceec0ec10>]"
      ]
     },
     "execution_count": 1073,
     "metadata": {},
     "output_type": "execute_result"
    },
    {
     "data": {
      "image/png": "[encoded data removed]",
      "text/plain": [
       "<Figure size 640x480 with 1 Axes>"
      ]
     },
     "metadata": {},
     "output_type": "display_data"
    }
   ],
   "source": [
    "import matplotlib.pyplot as plt\n",
    "\n",
    "plt.plot(losses)"
   ]
  },
  {
   "cell_type": "code",
   "execution_count": 1056,
   "id": "23ef70a1-6fb3-4e3d-b4cb-8e2925e65bad",
   "metadata": {},
   "outputs": [
    {
     "name": "stdout",
     "output_type": "stream",
     "text": [
      "torch.Size([33])\n"
     ]
    },
    {
     "ename": "AttributeError",
     "evalue": "'TestModel' object has no attribute 'encode'",
     "output_type": "error",
     "traceback": [
      "\u001b[0;31m---------------------------------------------------------------------------\u001b[0m",
      "\u001b[0;31mAttributeError\u001b[0m                            Traceback (most recent call last)",
      "Cell \u001b[0;32mIn[1056], line 20\u001b[0m\n\u001b[1;32m     17\u001b[0m cur_src \u001b[38;5;241m=\u001b[39m \u001b[38;5;28mnext\u001b[39m(val_dataloader\u001b[38;5;241m.\u001b[39m\u001b[38;5;21m__iter__\u001b[39m())[\u001b[38;5;241m0\u001b[39m][\u001b[38;5;241m0\u001b[39m]\n\u001b[1;32m     18\u001b[0m \u001b[38;5;28mprint\u001b[39m(cur_src\u001b[38;5;241m.\u001b[39mshape)\n\u001b[0;32m---> 20\u001b[0m cur_targ \u001b[38;5;241m=\u001b[39m \u001b[43mgreedy_decoding\u001b[49m\u001b[43m(\u001b[49m\u001b[43mmodel\u001b[49m\u001b[43m,\u001b[49m\u001b[43m \u001b[49m\u001b[43msrc\u001b[49m\u001b[43m,\u001b[49m\u001b[43m \u001b[49m\u001b[38;5;241;43m44\u001b[39;49m\u001b[43m)\u001b[49m\n\u001b[1;32m     21\u001b[0m \u001b[38;5;28mprint\u001b[39m(\u001b[38;5;124mf\u001b[39m\u001b[38;5;124m\"\u001b[39m\u001b[38;5;132;01m{\u001b[39;00mcur_src\u001b[38;5;241m.\u001b[39mshape\u001b[38;5;132;01m=}\u001b[39;00m\u001b[38;5;124m \u001b[39m\u001b[38;5;132;01m{\u001b[39;00mcur_targ\u001b[38;5;241m.\u001b[39mshape\u001b[38;5;132;01m=}\u001b[39;00m\u001b[38;5;124m\"\u001b[39m)\n\u001b[1;32m     22\u001b[0m \u001b[38;5;28mprint\u001b[39m(cur_src)\n",
      "Cell \u001b[0;32mIn[1056], line 4\u001b[0m, in \u001b[0;36mgreedy_decoding\u001b[0;34m(model, src, context_size)\u001b[0m\n\u001b[1;32m      2\u001b[0m cur_targ \u001b[38;5;241m=\u001b[39m torch\u001b[38;5;241m.\u001b[39mtensor([[SOS_IDX]])\n\u001b[1;32m      3\u001b[0m src_mask, _ \u001b[38;5;241m=\u001b[39m create_mask(src, src, PAD_IDX)\n\u001b[0;32m----> 4\u001b[0m features \u001b[38;5;241m=\u001b[39m \u001b[43mmodel\u001b[49m\u001b[38;5;241;43m.\u001b[39;49m\u001b[43mencode\u001b[49m(src, src_mask)\n\u001b[1;32m      5\u001b[0m \u001b[38;5;28;01mfor\u001b[39;00m i \u001b[38;5;129;01min\u001b[39;00m \u001b[38;5;28mrange\u001b[39m(context_size):\n\u001b[1;32m      6\u001b[0m     src_mask, targ_mask \u001b[38;5;241m=\u001b[39m create_mask(src, cur_targ, PAD_IDX)\n",
      "File \u001b[0;32m~/dev/translate-gpt/.env/lib/python3.11/site-packages/torch/nn/modules/module.py:1695\u001b[0m, in \u001b[0;36mModule.__getattr__\u001b[0;34m(self, name)\u001b[0m\n\u001b[1;32m   1693\u001b[0m     \u001b[38;5;28;01mif\u001b[39;00m name \u001b[38;5;129;01min\u001b[39;00m modules:\n\u001b[1;32m   1694\u001b[0m         \u001b[38;5;28;01mreturn\u001b[39;00m modules[name]\n\u001b[0;32m-> 1695\u001b[0m \u001b[38;5;28;01mraise\u001b[39;00m \u001b[38;5;167;01mAttributeError\u001b[39;00m(\u001b[38;5;124mf\u001b[39m\u001b[38;5;124m\"\u001b[39m\u001b[38;5;124m'\u001b[39m\u001b[38;5;132;01m{\u001b[39;00m\u001b[38;5;28mtype\u001b[39m(\u001b[38;5;28mself\u001b[39m)\u001b[38;5;241m.\u001b[39m\u001b[38;5;18m__name__\u001b[39m\u001b[38;5;132;01m}\u001b[39;00m\u001b[38;5;124m'\u001b[39m\u001b[38;5;124m object has no attribute \u001b[39m\u001b[38;5;124m'\u001b[39m\u001b[38;5;132;01m{\u001b[39;00mname\u001b[38;5;132;01m}\u001b[39;00m\u001b[38;5;124m'\u001b[39m\u001b[38;5;124m\"\u001b[39m)\n",
      "\u001b[0;31mAttributeError\u001b[0m: 'TestModel' object has no attribute 'encode'"
     ]
    }
   ],
   "source": [
    "def greedy_decoding(model, src, context_size):\n",
    "    cur_targ = torch.tensor([[SOS_IDX]])\n",
    "    src_mask, _ = create_mask(src, src, PAD_IDX)\n",
    "    features = model.encode(src, src_mask)\n",
    "    for i in range(context_size):\n",
    "        src_mask, targ_mask = create_mask(src, cur_targ, PAD_IDX)\n",
    "        proj = model.decode(cur_targ, features, src_mask, targ_mask)\n",
    "        tok = torch.argmax(proj[0,-1,:], keepdims=True)\n",
    "        tok = tok.unsqueeze(0)\n",
    "\n",
    "        if tok.item() == EOS_IDX:\n",
    "            return cur_targ[:,1:]\n",
    "        cur_targ = torch.cat([cur_targ, tok], dim=1).type(torch.int)\n",
    "    return cur_targ\n",
    "\n",
    "\n",
    "cur_src = next(val_dataloader.__iter__())[0][0]\n",
    "print(cur_src.shape)\n",
    "\n",
    "cur_targ = greedy_decoding(model, src, 44)\n",
    "print(f\"{cur_src.shape=} {cur_targ.shape=}\")\n",
    "print(cur_src)\n",
    "print(cur_targ)"
   ]
  },
  {
   "cell_type": "markdown",
   "id": "e529b334-2bcb-4f79-b3cf-1e1c24e74049",
   "metadata": {},
   "source": [
    "## prove i'm not going mad"
   ]
  },
  {
   "cell_type": "code",
   "execution_count": 430,
   "id": "aad8958f-e075-44b8-884e-0cf161924101",
   "metadata": {},
   "outputs": [],
   "source": [
    "mad_model = nn.Sequential(*[\n",
    "    nn.Embedding(12, 64),\n",
    "    nn.Linear(64, 64), \n",
    "    nn.ReLU(),\n",
    "    nn.Linear(64, 64),\n",
    "    nn.ReLU(),\n",
    "    nn.Linear(64, 12),\n",
    "])"
   ]
  },
  {
   "cell_type": "code",
   "execution_count": 442,
   "id": "d3173e6f-e4a2-4e52-a670-80e830f3f530",
   "metadata": {},
   "outputs": [
    {
     "name": "stdout",
     "output_type": "stream",
     "text": [
      "step=0 loss.item()=2.388169765472412\n",
      "step=100 loss.item()=2.3888556957244873\n",
      "step=200 loss.item()=2.388322114944458\n",
      "step=300 loss.item()=2.389343500137329\n",
      "step=400 loss.item()=2.3888862133026123\n",
      "step=500 loss.item()=2.389543294906616\n",
      "step=600 loss.item()=2.389639139175415\n",
      "step=700 loss.item()=2.3891899585723877\n",
      "step=800 loss.item()=2.3885772228240967\n",
      "step=900 loss.item()=2.3891406059265137\n",
      "step=1000 loss.item()=2.3889760971069336\n",
      "step=1100 loss.item()=2.3888492584228516\n",
      "step=1200 loss.item()=2.388840913772583\n",
      "step=1300 loss.item()=2.3880326747894287\n",
      "step=1400 loss.item()=2.3901073932647705\n",
      "step=1500 loss.item()=2.388791799545288\n",
      "step=1600 loss.item()=2.388441324234009\n",
      "step=1700 loss.item()=2.388833522796631\n",
      "step=1800 loss.item()=2.388218641281128\n",
      "step=1900 loss.item()=2.389049530029297\n",
      "step=2000 loss.item()=2.388721227645874\n",
      "step=2100 loss.item()=2.389326333999634\n",
      "step=2200 loss.item()=2.389786720275879\n",
      "step=2300 loss.item()=2.3887150287628174\n",
      "step=2400 loss.item()=2.3884451389312744\n",
      "step=2500 loss.item()=2.388829469680786\n",
      "step=2600 loss.item()=2.3886566162109375\n",
      "step=2700 loss.item()=2.388471841812134\n",
      "step=2800 loss.item()=2.3883447647094727\n",
      "step=2900 loss.item()=2.3894736766815186\n",
      "step=3000 loss.item()=2.388333559036255\n",
      "step=3100 loss.item()=2.388958692550659\n",
      "step=3200 loss.item()=2.3883378505706787\n",
      "step=3300 loss.item()=2.388303518295288\n",
      "step=3400 loss.item()=2.3892335891723633\n",
      "step=3500 loss.item()=2.3882555961608887\n",
      "step=3600 loss.item()=2.388693332672119\n",
      "step=3700 loss.item()=2.3885130882263184\n",
      "step=3800 loss.item()=2.3884992599487305\n",
      "step=3900 loss.item()=2.388610363006592\n",
      "step=4000 loss.item()=2.3887271881103516\n",
      "step=4100 loss.item()=2.38875675201416\n",
      "step=4200 loss.item()=2.388636589050293\n",
      "step=4300 loss.item()=2.3893606662750244\n",
      "step=4400 loss.item()=2.389040470123291\n",
      "step=4500 loss.item()=2.388888359069824\n",
      "step=4600 loss.item()=2.3881232738494873\n",
      "step=4700 loss.item()=2.388829469680786\n",
      "step=4800 loss.item()=2.38863205909729\n",
      "step=4900 loss.item()=2.388744354248047\n"
     ]
    }
   ],
   "source": [
    "## train model\n",
    "\n",
    "optim = torch.optim.Adam(mad_model.parameters(), lr=1e-3, betas=(0.9, 0.98), eps=1e-9)\n",
    "\n",
    "mad_losses = []\n",
    "\n",
    "for step in range(5000):\n",
    "    src, targ, labels, src_mask, targ_mask = generate_fake_data(10, 64)\n",
    "    # forward pass\n",
    "    logits = mad_model(targ)\n",
    "    loss = calculate_loss(logits, labels, 99)\n",
    "    mad_losses.append(loss.item())\n",
    "    optim.zero_grad()\n",
    "    loss.backward()\n",
    "    optim.step()\n",
    "    if step % 100 == 0:\n",
    "        print(f\"{step=} {loss.item()=}\")"
   ]
  },
  {
   "cell_type": "code",
   "execution_count": 434,
   "id": "733c0743-5bb9-4098-86ca-39867d7da8c0",
   "metadata": {},
   "outputs": [
    {
     "data": {
      "text/plain": [
       "[<matplotlib.lines.Line2D at 0x7f0cf49b3790>]"
      ]
     },
     "execution_count": 434,
     "metadata": {},
     "output_type": "execute_result"
    },
    {
     "data": {
      "image/png": "[encoded data removed]",
      "text/plain": [
       "<Figure size 640x480 with 1 Axes>"
      ]
     },
     "metadata": {},
     "output_type": "display_data"
    }
   ],
   "source": [
    "plt.plot(mad_losses)"
   ]
  },
  {
   "cell_type": "code",
   "execution_count": 443,
   "id": "edadf0b5-9838-4b27-b46d-a5aa54c3503b",
   "metadata": {},
   "outputs": [
    {
     "name": "stdout",
     "output_type": "stream",
     "text": [
      "torch.Size([11]) torch.Size([11, 12])\n",
      "tensor([ 7, 11, 10,  5,  7,  7,  7,  4,  2,  2,  1])\n",
      "tensor([9, 1, 1, 1, 1, 1, 1, 1, 1, 1, 1])\n",
      "tensor([ 7, 11, 10,  5,  7,  7,  7,  4,  2,  2])\n",
      "tensor([[-1.5438e+01, -8.4221e+00, -5.0352e-03,  8.0487e-03,  1.3012e-03,\n",
      "          1.4250e-02,  8.1259e-03,  3.2770e-02, -9.2824e-03,  6.3673e-02,\n",
      "          6.0511e-03,  4.4197e-03],\n",
      "        [-1.1735e+01,  1.2412e-01,  1.5581e-02,  1.7600e-02,  2.0030e-02,\n",
      "          1.9316e-02,  1.1991e-02,  2.8883e-02, -3.1396e-03,  4.1399e-02,\n",
      "          1.6999e-02,  2.2419e-02],\n",
      "        [-1.1735e+01,  1.2412e-01,  1.5581e-02,  1.7600e-02,  2.0030e-02,\n",
      "          1.9316e-02,  1.1991e-02,  2.8883e-02, -3.1396e-03,  4.1399e-02,\n",
      "          1.6999e-02,  2.2419e-02],\n",
      "        [-1.1735e+01,  1.2412e-01,  1.5581e-02,  1.7600e-02,  2.0030e-02,\n",
      "          1.9316e-02,  1.1991e-02,  2.8883e-02, -3.1396e-03,  4.1399e-02,\n",
      "          1.6999e-02,  2.2419e-02],\n",
      "        [-1.1735e+01,  1.2412e-01,  1.5581e-02,  1.7600e-02,  2.0030e-02,\n",
      "          1.9316e-02,  1.1991e-02,  2.8883e-02, -3.1396e-03,  4.1399e-02,\n",
      "          1.6999e-02,  2.2419e-02],\n",
      "        [-1.1735e+01,  1.2412e-01,  1.5581e-02,  1.7600e-02,  2.0030e-02,\n",
      "          1.9316e-02,  1.1991e-02,  2.8883e-02, -3.1396e-03,  4.1399e-02,\n",
      "          1.6999e-02,  2.2419e-02],\n",
      "        [-1.1735e+01,  1.2412e-01,  1.5581e-02,  1.7600e-02,  2.0030e-02,\n",
      "          1.9316e-02,  1.1991e-02,  2.8883e-02, -3.1396e-03,  4.1399e-02,\n",
      "          1.6999e-02,  2.2419e-02],\n",
      "        [-1.1735e+01,  1.2412e-01,  1.5581e-02,  1.7600e-02,  2.0030e-02,\n",
      "          1.9316e-02,  1.1991e-02,  2.8883e-02, -3.1396e-03,  4.1399e-02,\n",
      "          1.6999e-02,  2.2419e-02],\n",
      "        [-1.1735e+01,  1.2412e-01,  1.5581e-02,  1.7600e-02,  2.0030e-02,\n",
      "          1.9316e-02,  1.1991e-02,  2.8883e-02, -3.1396e-03,  4.1399e-02,\n",
      "          1.6999e-02,  2.2419e-02],\n",
      "        [-1.1735e+01,  1.2412e-01,  1.5581e-02,  1.7600e-02,  2.0030e-02,\n",
      "          1.9316e-02,  1.1991e-02,  2.8883e-02, -3.1396e-03,  4.1399e-02,\n",
      "          1.6999e-02,  2.2419e-02],\n",
      "        [-1.1735e+01,  1.2412e-01,  1.5581e-02,  1.7600e-02,  2.0030e-02,\n",
      "          1.9316e-02,  1.1991e-02,  2.8883e-02, -3.1396e-03,  4.1399e-02,\n",
      "          1.6999e-02,  2.2419e-02]], grad_fn=<SelectBackward0>)\n"
     ]
    }
   ],
   "source": [
    "print(labels[3].shape, logits[3].shape)\n",
    "print(labels[3])\n",
    "# print(logits[3])\n",
    "print(torch.argmax(logits[3], dim=1))\n",
    "# plt.imshow(model.decoders[-3].masked_attention.attn_store[0,3].detach().numpy())\n",
    "print(src[3])\n",
    "print(logits[3])"
   ]
  },
  {
   "cell_type": "code",
   "execution_count": null,
   "id": "9a3a3070-63fd-41cf-a542-745d99198510",
   "metadata": {},
   "outputs": [],
   "source": []
  },
  {
   "cell_type": "code",
   "execution_count": null,
   "id": "6fffe886-7977-4c01-85aa-920954a672d5",
   "metadata": {},
   "outputs": [],
   "source": [
    "\n"
   ]
  },
  {
   "cell_type": "code",
   "execution_count": null,
   "id": "033d1d2a-b349-4ec7-b7a3-0357ba471cc8",
   "metadata": {},
   "outputs": [],
   "source": []
  },
  {
   "cell_type": "code",
   "execution_count": null,
   "id": "1d4915f1-c75f-41ec-9640-256f47d138a3",
   "metadata": {},
   "outputs": [],
   "source": []
  },
  {
   "cell_type": "code",
   "execution_count": null,
   "id": "1e8611d9-4421-4a69-8fbe-da0e0a1004fa",
   "metadata": {},
   "outputs": [],
   "source": []
  },
  {
   "cell_type": "code",
   "execution_count": null,
   "id": "3574ab7f-efa5-4793-b0bf-3f2ff2e55c28",
   "metadata": {},
   "outputs": [],
   "source": []
  },
  {
   "cell_type": "code",
   "execution_count": null,
   "id": "5f961f8f-a0a7-4739-978f-e9728a6427f0",
   "metadata": {},
   "outputs": [],
   "source": []
  }
 ],
 "metadata": {
  "kernelspec": {
   "display_name": "Python 3 (ipykernel)",
   "language": "python",
   "name": "python3"
  },
  "language_info": {
   "codemirror_mode": {
    "name": "ipython",
    "version": 3
   },
   "file_extension": ".py",
   "mimetype": "text/x-python",
   "name": "python",
   "nbconvert_exporter": "python",
   "pygments_lexer": "ipython3",
   "version": "3.11.6"
  }
 },
 "nbformat": 4,
 "nbformat_minor": 5
}
