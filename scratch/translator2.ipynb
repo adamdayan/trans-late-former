{
  "cells": [
    {
      "cell_type": "code",
      "execution_count": 2,
      "metadata": {
        "colab": {
          "base_uri": "https://localhost:8080/"
        },
        "id": "bf47f195-66df-4daa-8e71-43aadc5c15a9",
        "outputId": "43e21df7-1f50-422f-c0c6-4d27b8c24ea6"
      },
      "outputs": [
        {
          "output_type": "stream",
          "name": "stdout",
          "text": [
            "Collecting portalocker\n",
            "  Downloading portalocker-2.8.2-py3-none-any.whl (17 kB)\n",
            "Installing collected packages: portalocker\n",
            "Successfully installed portalocker-2.8.2\n"
          ]
        }
      ],
      "source": [
        "!pip install portalocker\n",
        "import portalocker\n",
        "import torch\n",
        "import torch.nn as nn\n",
        "from torch.nn import functional as F\n",
        "import math\n"
      ],
      "id": "bf47f195-66df-4daa-8e71-43aadc5c15a9"
    },
    {
      "cell_type": "code",
      "execution_count": 3,
      "metadata": {
        "id": "8515a737-11c3-44b9-b8d7-57882b1e4fb7"
      },
      "outputs": [],
      "source": [
        "from tokenizers import Tokenizer\n",
        "from tokenizers.models import BPE\n",
        "from tokenizers.pre_tokenizers import Whitespace\n",
        "from tokenizers.trainers import BpeTrainer"
      ],
      "id": "8515a737-11c3-44b9-b8d7-57882b1e4fb7"
    },
    {
      "cell_type": "markdown",
      "metadata": {
        "id": "6240bdb2-2207-4603-b5bd-9d1afcc27d1b"
      },
      "source": [
        "## get data"
      ],
      "id": "6240bdb2-2207-4603-b5bd-9d1afcc27d1b"
    },
    {
      "cell_type": "code",
      "execution_count": null,
      "metadata": {
        "colab": {
          "base_uri": "https://localhost:8080/",
          "height": 245
        },
        "id": "29cc56a2-e384-4b45-88f8-0d13f23d9bac",
        "outputId": "dae307fb-a5ae-4e07-e112-dca65ed7a061"
      },
      "outputs": [
        {
          "ename": "FileNotFoundError",
          "evalue": "ignored",
          "output_type": "error",
          "traceback": [
            "\u001b[0;31m---------------------------------------------------------------------------\u001b[0m",
            "\u001b[0;31mFileNotFoundError\u001b[0m                         Traceback (most recent call last)",
            "\u001b[0;32m<ipython-input-289-59efc2286e21>\u001b[0m in \u001b[0;36m<cell line: 4>\u001b[0;34m()\u001b[0m\n\u001b[1;32m      2\u001b[0m \u001b[0meng_train_path\u001b[0m \u001b[0;34m=\u001b[0m \u001b[0;34m\"/home/adam/play/translate_data/train.en\"\u001b[0m\u001b[0;34m\u001b[0m\u001b[0;34m\u001b[0m\u001b[0m\n\u001b[1;32m      3\u001b[0m \u001b[0;34m\u001b[0m\u001b[0m\n\u001b[0;32m----> 4\u001b[0;31m \u001b[0mger_train_raw\u001b[0m \u001b[0;34m=\u001b[0m \u001b[0mopen\u001b[0m\u001b[0;34m(\u001b[0m\u001b[0mger_train_path\u001b[0m\u001b[0;34m,\u001b[0m \u001b[0;34m\"r\"\u001b[0m\u001b[0;34m)\u001b[0m\u001b[0;34m.\u001b[0m\u001b[0mreadlines\u001b[0m\u001b[0;34m(\u001b[0m\u001b[0;34m)\u001b[0m\u001b[0;34m\u001b[0m\u001b[0;34m\u001b[0m\u001b[0m\n\u001b[0m\u001b[1;32m      5\u001b[0m \u001b[0meng_train_raw\u001b[0m \u001b[0;34m=\u001b[0m \u001b[0mopen\u001b[0m\u001b[0;34m(\u001b[0m\u001b[0meng_train_path\u001b[0m\u001b[0;34m,\u001b[0m \u001b[0;34m\"r\"\u001b[0m\u001b[0;34m)\u001b[0m\u001b[0;34m.\u001b[0m\u001b[0mreadlines\u001b[0m\u001b[0;34m(\u001b[0m\u001b[0;34m)\u001b[0m\u001b[0;34m\u001b[0m\u001b[0;34m\u001b[0m\u001b[0m\n\u001b[1;32m      6\u001b[0m \u001b[0;34m\u001b[0m\u001b[0m\n",
            "\u001b[0;31mFileNotFoundError\u001b[0m: [Errno 2] No such file or directory: '/home/adam/play/translate_data/train.de'"
          ]
        }
      ],
      "source": [
        "ger_train_path = \"/home/adam/play/translate_data/train.de\"\n",
        "eng_train_path = \"/home/adam/play/translate_data/train.en\"\n",
        "\n",
        "ger_train_raw = open(ger_train_path, \"r\").readlines()\n",
        "eng_train_raw = open(eng_train_path, \"r\").readlines()\n",
        "\n",
        "# just to help my poor laptop\n",
        "ger_train_raw = ger_train_raw[:10000]\n",
        "eng_train_raw = eng_train_raw[:10000]"
      ],
      "id": "29cc56a2-e384-4b45-88f8-0d13f23d9bac"
    },
    {
      "cell_type": "code",
      "execution_count": null,
      "metadata": {
        "id": "1b342e7e-bd9c-489d-9cf0-f675475d0cfe",
        "outputId": "4657e458-6188-446e-b1f8-1796073be059"
      },
      "outputs": [
        {
          "name": "stdout",
          "output_type": "stream",
          "text": [
            "10000\n",
            "10000\n"
          ]
        }
      ],
      "source": [
        "print(len(ger_train))\n",
        "print(len(eng_train))"
      ],
      "id": "1b342e7e-bd9c-489d-9cf0-f675475d0cfe"
    },
    {
      "cell_type": "code",
      "execution_count": null,
      "metadata": {
        "id": "e981672b-1d7a-4ca9-907a-55240ad8540f",
        "outputId": "590c339b-6394-48fb-b2ba-363c3d7adb15"
      },
      "outputs": [
        {
          "name": "stdout",
          "output_type": "stream",
          "text": [
            "\n",
            "\n",
            "\n"
          ]
        }
      ],
      "source": [
        "### tokenize\n",
        "tokenizer = Tokenizer(BPE())\n",
        "\n",
        "tokenizer.pre_tokenizer = Whitespace()\n",
        "\n",
        "trainer = BpeTrainer(special_tokens=[\"[UNK]\", \"[CLS]\", \"[SEP]\", \"[PAD]\", \"[MASK]\"]) # do i need to account for the weird #AT things??\n",
        "tokenizer.train(files=[ger_train_path, eng_train_path,], trainer=trainer)\n",
        "tokenizer.enable_padding()\n",
        "# tokenizer.train_from_iterator(iter(ger_train + eng_train), trainer=trainer)\n"
      ],
      "id": "e981672b-1d7a-4ca9-907a-55240ad8540f"
    },
    {
      "cell_type": "code",
      "execution_count": null,
      "metadata": {
        "id": "55d01b5a-9e04-4196-a256-71e7bd72ae19"
      },
      "outputs": [],
      "source": [
        "ger_train = tokenizer.encode_batch(ger_train_raw)\n",
        "eng_train = tokenizer.encode_batch(eng_train_raw)"
      ],
      "id": "55d01b5a-9e04-4196-a256-71e7bd72ae19"
    },
    {
      "cell_type": "code",
      "execution_count": null,
      "metadata": {
        "id": "e6ce4708-7281-4a8f-9cad-41582ff471e2"
      },
      "outputs": [],
      "source": [
        "ger_train = torch.tensor([t.ids for t in ger_train])\n",
        "eng_train = torch.tensor([t.ids for t in eng_train])"
      ],
      "id": "e6ce4708-7281-4a8f-9cad-41582ff471e2"
    },
    {
      "cell_type": "code",
      "execution_count": null,
      "metadata": {
        "colab": {
          "base_uri": "https://localhost:8080/"
        },
        "id": "76ac0bce-b8da-4852-b2b4-929d4c4bfad5",
        "outputId": "de8f560b-81e9-435d-9f43-118e1838516b"
      },
      "outputs": [
        {
          "data": {
            "text/plain": [
              "1"
            ]
          },
          "execution_count": 26,
          "metadata": {},
          "output_type": "execute_result"
        }
      ],
      "source": [
        "PAD_IDX"
      ],
      "id": "76ac0bce-b8da-4852-b2b4-929d4c4bfad5"
    },
    {
      "cell_type": "markdown",
      "metadata": {
        "id": "781269b0-71c1-4034-8dc1-db1fd038c0b7"
      },
      "source": [
        "## define model"
      ],
      "id": "781269b0-71c1-4034-8dc1-db1fd038c0b7"
    },
    {
      "cell_type": "code",
      "execution_count": 4,
      "metadata": {
        "id": "411dbe29-89cd-415a-8abc-a96b4322b9c5"
      },
      "outputs": [],
      "source": [
        "def create_mask(src, targ, pad_token):\n",
        "    # NOTE: not fully confident in the unsqueeze - i think we get the extra-dimension so the masked_fill can broadcast it\n",
        "    # we want to broadcast for the padding mask because it's the same on both axes (unlike with the causal mask)\n",
        "    src_pad_mask = (src != pad_token).unsqueeze(1).unsqueeze(1) # (B, 1, 1, context_size)\n",
        "    full_mask = torch.ones((targ.shape[1], targ.shape[1])).type(torch.int).unsqueeze(0).unsqueeze(0) # (1, 1, targ.shape[-1], targ.shape[-1])\n",
        "    causal_atten_mask = torch.tril(full_mask) # (1, 1, context_size, context_size)\n",
        "    targ_pad_mask = (targ != pad_token).unsqueeze(1).unsqueeze(1)\n",
        "\n",
        "    return src_pad_mask, targ_pad_mask & causal_atten_mask\n",
        "\n",
        "def calculate_loss(logits, labels, pad_idx):\n",
        "    B, T, V = logits.shape # (batch, context_size, vocab_size)\n",
        "    # cross entropy expects list of indices and logits requiring reshape\n",
        "\n",
        "    out =  F.cross_entropy(logits.reshape(B * T, V), labels.reshape(B * T), ignore_index=pad_idx)\n",
        "    return out\n",
        "\n",
        "class MultiHeadAttention(nn.Module):\n",
        "    def __init__(self, n_heads, n_embed, dropout):\n",
        "        super().__init__()\n",
        "        self.n_embed = n_embed\n",
        "        self.n_heads = n_heads\n",
        "        assert(n_embed % n_heads == 0) # check dims work\n",
        "        self.head_size = n_embed // n_heads\n",
        "        self.dropout = dropout\n",
        "\n",
        "        self.wk = nn.Linear(n_embed, n_embed, bias=True)\n",
        "        self.wq = nn.Linear(n_embed, n_embed, bias=True)\n",
        "        self.wv = nn.Linear(n_embed, n_embed, bias=True)\n",
        "        self.proj = nn.Linear(n_embed, n_embed)\n",
        "\n",
        "        self.dropout = nn.Dropout(dropout)\n",
        "\n",
        "    def forward(self, x, features, mask):\n",
        "        B, T, C = features.shape # (batch, context_size, n_embed)\n",
        "\n",
        "        # create k\n",
        "        # NOTE: make sure the maths works here\n",
        "        k = self.wk(features) # (B, context_size, n_embed) @ (n_embed, n_embed) ---> (B, context_size, n_embed)\n",
        "        # split per head\n",
        "        k = k.view(B, T, self.n_heads, self.head_size)  # (B, context_size, n_embed) --> (B, context_size, n_heads, head_size)\n",
        "        # switch context size and n_heads dim so we can batch matmul over B and n_heads\n",
        "        k = k.transpose(1,2) # (B, context_size, n_heads, head_size) --> (B, n_heads, context_size, head_size)\n",
        "\n",
        "        # create q\n",
        "        q = self.wq(x)\n",
        "        q = q.view(q.shape[0], q.shape[1], self.n_heads, self.head_size) # q can be a different size to k and v so need to use its own .shape\n",
        "        q = q.transpose(1,2)\n",
        "\n",
        "        # create v\n",
        "        v = self.wv(features)\n",
        "        v = v.view(B, T, self.n_heads, self.head_size)\n",
        "        v = v.transpose(1, 2)\n",
        "\n",
        "        attn = q @ k.transpose(-2, -1) # (B, n_heads, context_size, head_size) @ (B, n_heads, head_size, context_size) --> (B, n_heads, context_size, context_size)\n",
        "        attn = attn / (q.shape[-1] ** 0.5) # divide by squareroot of n_embed to decrease magnitude\n",
        "\n",
        "        # if this is a masked attention layer (causal?) mask out all tokens before the cur pos, otherwise just mask out padding\n",
        "        attn = attn.masked_fill(mask == 0, -1e10) # TODO: check that the dimensions here work\n",
        "        attn = self.dropout(F.softmax(attn, dim=-1))\n",
        "        self.store = attn\n",
        "\n",
        "        # generate the v matrix and use the attn matrix to pluck out relevant info on a per head basis\n",
        "        out = attn @ v # (B, n_heads, context_size, context_size) @ (B, n_heads, context_size, head_size) --> (B, n_heads, context_size, head_size)\n",
        "\n",
        "        # remove per-head dimension and use final linear projection\n",
        "        out = out.transpose(1,2).contiguous()\n",
        "        out = out.view(out.shape[0], -1, self.n_embed) # (B, context_size , n_head, head_size) --> (B, context_size, n_embed)\n",
        "        out = self.proj(out)\n",
        "        return out\n",
        "\n",
        "class FeedForward(nn.Module):\n",
        "    def __init__(self, n_embed, ff_expansion_factor, dropout):\n",
        "        super().__init__()\n",
        "        self.ffw = nn.Sequential(\n",
        "            nn.Linear(n_embed, ff_expansion_factor* n_embed),\n",
        "            nn.ReLU(),\n",
        "            nn.Dropout(dropout),\n",
        "            nn.Linear(ff_expansion_factor*n_embed, n_embed),\n",
        "        )\n",
        "\n",
        "    def forward(self, x):\n",
        "        return self.ffw(x) # (B, context_size, n_embed) @ (n_embed, ff_expansion_factor*n_embed) @ (ff_expansion_factor*n_embed, n_embed) --> (B, context_size, n_embed)\n",
        "\n",
        "class EncoderBlock(nn.Module):\n",
        "    def __init__(self, n_heads, n_embed, ff_expansion_factor, dropout):\n",
        "        super().__init__()\n",
        "        self.attention = MultiHeadAttention(n_heads, n_embed, dropout)\n",
        "        self.ffw = FeedForward(n_embed, ff_expansion_factor, dropout)\n",
        "        self.ln1 = nn.LayerNorm(n_embed)\n",
        "        self.ln2 = nn.LayerNorm(n_embed)\n",
        "        self.dropout = nn.Dropout(dropout)\n",
        "\n",
        "    def forward(self, inputs):\n",
        "        x, mask = inputs\n",
        "        out = self.ln1(\n",
        "          self.dropout(self.attention(x, x, mask)) + x\n",
        "        )\n",
        "        out = self.ln2(\n",
        "          self.dropout(self.ffw(out)) + out\n",
        "        )\n",
        "        return (out, mask)\n",
        "\n",
        "class DecoderBlock(nn.Module):\n",
        "    def __init__(self, n_heads, n_embed, ff_expansion_factor, dropout):\n",
        "        super().__init__()\n",
        "        self.ln1 = nn.LayerNorm(n_embed)\n",
        "        self.ln2 = nn.LayerNorm(n_embed)\n",
        "        self.ln3 = nn.LayerNorm(n_embed)\n",
        "\n",
        "        self.masked_attention = MultiHeadAttention(n_heads, n_embed, dropout)\n",
        "        self.cross_attention = MultiHeadAttention(n_heads, n_embed, dropout)\n",
        "        self.ffw = FeedForward(n_embed, ff_expansion_factor, dropout)\n",
        "\n",
        "        self.dropout = nn.Dropout(dropout)\n",
        "\n",
        "    def forward(self, inputs):\n",
        "        y, features, src_mask, targ_mask = inputs\n",
        "\n",
        "        out = self.ln1(\n",
        "            self.dropout(self.masked_attention(y, y, targ_mask)) + y\n",
        "        )\n",
        "\n",
        "        out = self.ln2(\n",
        "            self.dropout(self.cross_attention(out, features, src_mask)) + out\n",
        "        )\n",
        "        out = self.ln3(\n",
        "            self.dropout(self.ffw(out)) + out\n",
        "        )\n",
        "\n",
        "        return (out, features, src_mask, targ_mask)\n",
        "\n",
        "class PositionalEmbedding(nn.Module):\n",
        "    def __init__(self, n_embed, context_size):\n",
        "        super().__init__()\n",
        "        self.posem = nn.Embedding(context_size, n_embed)\n",
        "\n",
        "    def forward(self, x):\n",
        "       pos = torch.arange(0, x.shape[1]).unsqueeze(0).to(device)\n",
        "       return x + self.posem(pos)\n",
        "\n",
        "class PositionalEncoding(nn.Module):\n",
        "    def __init__(self, d_model, context_size, dropout=0.1):\n",
        "        super(PositionalEncoding, self).__init__()\n",
        "        self.dropout = nn.Dropout(p=dropout)\n",
        "\n",
        "        pe = torch.zeros(context_size, d_model)\n",
        "        position = torch.arange(0, context_size, dtype=torch.float).unsqueeze(1)\n",
        "        div_term = torch.exp(torch.arange(0, d_model, 2).float() * (-math.log(10000.0) / d_model))\n",
        "        pe[:, 0::2] = torch.sin(position * div_term)\n",
        "        pe[:, 1::2] = torch.cos(position * div_term)\n",
        "        pe = pe.unsqueeze(0)\n",
        "        self.register_buffer('pe', pe)\n",
        "\n",
        "    def forward(self, x):\n",
        "        x = x + self.pe[:,:x.shape[1],:].requires_grad_(False)\n",
        "        return self.dropout(x)\n",
        "\n",
        "class Generator(nn.Module):\n",
        "    def __init__(self, n_embed, output_vocab_size):\n",
        "        super().__init__()\n",
        "        self.proj = nn.Linear(n_embed, output_vocab_size)\n",
        "\n",
        "    def forward(self, x):\n",
        "        return self.proj(x)\n",
        "\n",
        "class EncoderDecoderTransformer(nn.Module):\n",
        "    def __init__(self, n_heads, n_embed, dropout, n_blocks, ff_expansion_factor, context_size, input_vocab_size, output_vocab_size, pad_idx):\n",
        "        super().__init__()\n",
        "        self.src_embedding = nn.Embedding(input_vocab_size, n_embed, padding_idx=pad_idx)\n",
        "        self.targ_embedding = nn.Embedding(output_vocab_size, n_embed, padding_idx=pad_idx)\n",
        "        self.src_positional_embedding = PositionalEmbedding(n_embed, context_size)\n",
        "        self.targ_positional_embedding = PositionalEmbedding(n_embed, context_size)\n",
        "\n",
        "\n",
        "        self.encoders = nn.Sequential(*[EncoderBlock(n_heads, n_embed, ff_expansion_factor, dropout) for _ in range(n_blocks)])\n",
        "        self.decoders = nn.Sequential(*[DecoderBlock(n_heads, n_embed, ff_expansion_factor, dropout) for _ in range(n_blocks)])\n",
        "\n",
        "        self.output = Generator(n_embed, output_vocab_size)\n",
        "\n",
        "        # self.scale = n_embed ** 0.5\n",
        "        self.scale = torch.sqrt(torch.FloatTensor([n_embed])).to(device)\n",
        "\n",
        "    def encode(self, src, src_mask):\n",
        "        x = self.src_embedding(src) * self.scale\n",
        "        x = self.src_positional_embedding(x)\n",
        "        x = self.encoders((x, src_mask))[0]\n",
        "        return x\n",
        "\n",
        "    def decode(self, targ, features, src_mask, targ_mask):\n",
        "        targ = self.targ_embedding(targ) * self.scale\n",
        "        targ = self.targ_positional_embedding(targ)\n",
        "        # print(x.shape, features.shape)\n",
        "        out = self.decoders((targ , features, src_mask, targ_mask))[0]\n",
        "\n",
        "        return self.output(out)\n",
        "\n",
        "    def forward(self, src, targ, src_mask, targ_mask):\n",
        "        x = self.encode(src, src_mask)\n",
        "        out = self.decode(targ, x, src_mask, targ_mask)\n",
        "        return out"
      ],
      "id": "411dbe29-89cd-415a-8abc-a96b4322b9c5"
    },
    {
      "cell_type": "code",
      "execution_count": 5,
      "metadata": {
        "id": "uXmZGA45WffY"
      },
      "outputs": [],
      "source": [
        "from tqdm import tqdm\n",
        "\n",
        "def train(model, dataloader, criterion, optim):\n",
        "    loss_total = 0\n",
        "    cnt = 0\n",
        "    model.train()\n",
        "    with tqdm(dataloader, unit=\"batch\") as batch_iter:\n",
        "      for src, targ, labels, src_mask, targ_mask in batch_iter:\n",
        "          # forward pass\n",
        "          logits = model(src, targ, src_mask, targ_mask)\n",
        "\n",
        "          output_dim = logits.shape[-1]\n",
        "          logits = logits.contiguous().view(-1, output_dim)\n",
        "          labels = labels.contiguous().view(-1)\n",
        "\n",
        "          loss = criterion(logits, labels)\n",
        "          loss_total += loss.item()\n",
        "          cnt += 1\n",
        "\n",
        "          # backward pass\n",
        "          optim.zero_grad()\n",
        "          loss.backward()\n",
        "          nn.utils.clip_grad_norm_(model.parameters(), 1)\n",
        "\n",
        "          optim.step()\n",
        "\n",
        "      return loss_total /cnt\n",
        "\n",
        "\n",
        "\n",
        "def evaluate(model, dataloader, criterion):\n",
        "    loss = 0\n",
        "    cnt = 0\n",
        "    model.eval()\n",
        "    with torch.no_grad():\n",
        "        with tqdm(dataloader, unit=\"batch\") as batch_iter:\n",
        "            for src, targ, labels, src_mask, targ_mask in batch_iter:\n",
        "                logits = model(src, targ, src_mask, targ_mask)\n",
        "\n",
        "                output_dim = logits.shape[-1]\n",
        "                logits = logits.contiguous().view(-1, output_dim)\n",
        "                labels = labels.contiguous().view(-1)\n",
        "\n",
        "                loss += criterion(logits, labels).item()\n",
        "\n",
        "                cnt += 1\n",
        "\n",
        "    model.train()\n",
        "    return loss / cnt\n",
        "\n",
        "def train_test_model(model, dataloader, criterion, optim):\n",
        "  loss_total = 0\n",
        "  cnt = 0\n",
        "  with tqdm(dataloader, unit=\"batch\") as batch_iter:\n",
        "    for src, targ, labels, src_mask, targ_mask in batch_iter:\n",
        "        # forward pass\n",
        "        # logits = model(src, targ, src_mask.expand(src_mask.shape[0], 8, src_mask.shape[-1], src_mask.shape[-1]).reshape(src_mask.shape[0] * 8,src_mask.shape[-1],src_mask.shape[-1]))\n",
        "\n",
        "        logits = model(src, targ)[0]\n",
        "\n",
        "        output_dim = logits.shape[-1]\n",
        "        logits = logits.contiguous().view(-1, output_dim)\n",
        "        labels = labels.contiguous().view(-1)\n",
        "\n",
        "        loss = criterion(logits, labels)\n",
        "        loss_total += loss.item()\n",
        "        cnt += 1\n",
        "\n",
        "        # backward pass\n",
        "        optim.zero_grad()\n",
        "        loss.backward()\n",
        "        nn.utils.clip_grad_norm_(model.parameters(), 1)\n",
        "\n",
        "        optim.step()\n",
        "\n",
        "    return loss_total / cnt\n",
        "\n",
        "def evaluate_test_model(model, dataloader, criterion):\n",
        "  loss = 0\n",
        "  cnt = 0\n",
        "  model.eval()\n",
        "  with torch.no_grad():\n",
        "      with tqdm(dataloader, unit=\"batch\") as batch_iter:\n",
        "          for src, targ, labels, src_mask, targ_mask in batch_iter:\n",
        "              # logits = model(src.to(device), targ.to(device), src_mask.expand(src_mask.shape[0], 8, src_mask.shape[-1], src_mask.shape[-1]).reshape(src_mask.shape[0] * 8,src_mask.shape[-1],src_mask.shape[-1]))\n",
        "              logits = model(src, targ)[0]\n",
        "              output_dim = logits.shape[-1]\n",
        "              logits = logits.contiguous().view(-1, output_dim)\n",
        "              labels = labels.contiguous().view(-1)\n",
        "\n",
        "              loss += criterion(logits, labels).item()\n",
        "              cnt += 1\n",
        "\n",
        "  model.train()\n",
        "  return loss / cnt\n",
        "\n",
        "\n",
        "from torchtext.data.metrics import bleu_score\n",
        "\n",
        "def greedy_decoding(model, src, context_size, sos_idx, pad_idx):\n",
        "    cur_targ = torch.tensor([[sos_idx]])\n",
        "    src_mask, _ = create_mask(src.to(\"cpu\"), src.to(\"cpu\"), pad_idx)\n",
        "    features = model.encode(src.to(device), src_mask.to(device))\n",
        "    model.eval()\n",
        "    for i in range(context_size):\n",
        "        src_mask, targ_mask = create_mask(src, cur_targ.to(\"cpu\"), pad_idx)\n",
        "        proj = model.decode(cur_targ.to(device), features.to(device), src_mask.to(device), targ_mask.to(device))\n",
        "        tok = torch.argmax(proj[0,-1,:], keepdims=True)\n",
        "        tok = tok.unsqueeze(0)\n",
        "\n",
        "        if tok.item() == EOS_IDX:\n",
        "            return cur_targ[:,1:]\n",
        "        cur_targ = torch.cat([cur_targ.to(device), tok], dim=1).type(torch.int)\n",
        "    model.train()\n",
        "    return cur_targ\n",
        "\n",
        "def calculate_bleu(model, dataloader, context_size, sos_idx, pad_idx, eos_idx, vocab):\n",
        "  pred_sentences = []\n",
        "  label_sentences = []\n",
        "  model.eval()\n",
        "  with torch.no_grad():\n",
        "    with tqdm(dataloader, unit=\"batch\") as batch_iter:\n",
        "      for src, targ, labels, src_mask, targ_mask in batch_iter:\n",
        "        # create dummy inputs at start of setence\n",
        "        cur_targ_raw = [[sos_idx] for _ in range(labels.shape[0])]\n",
        "        translation_done = [False for _ in range(labels.shape[0])]\n",
        "        features = model.encode(src, src_mask)\n",
        "\n",
        "        for i in range(context_size):\n",
        "          cur_targ = torch.LongTensor(cur_targ_raw)\n",
        "          src_mask, targ_mask = create_mask(src, cur_targ.to(\"cpu\"), pad_idx)\n",
        "          proj = model.decode(cur_targ.to(device), features, src_mask.to(device), targ_mask.to(device))\n",
        "          toks = torch.argmax(proj[:, -1,:], dim=-1, keepdims=True)\n",
        "\n",
        "          for ti in range(toks.shape[0]):\n",
        "            if toks[ti] in [eos_idx, pad_idx]:\n",
        "              translation_done[ti] = True\n",
        "            cur_targ_raw[ti].append(toks[ti].item())\n",
        "          if all(translation_done):\n",
        "            break\n",
        "\n",
        "        for targ_sentence in cur_targ_raw:\n",
        "          pred_sentence = []\n",
        "          for i in range(1, len(targ_sentence)):\n",
        "              if targ_sentence[i] == eos_idx:\n",
        "                  break\n",
        "              pred_sentence.append(vocab.textify(targ_sentence[i]))\n",
        "          pred_sentences.append(pred_sentence)\n",
        "\n",
        "        label_sentences.extend([[vocab.textify(tok) for tok in label if tok not in [eos_idx, pad_idx]]] for label in labels.tolist())\n",
        "\n",
        "  print(pred_sentences)\n",
        "  print(label_sentences)\n",
        "  model.train()\n",
        "  return bleu_score(pred_sentences, label_sentences)\n",
        "\n",
        "def calculate_test_bleu(model, dataloader, context_size, sos_idx, pad_idx, eos_idx, vocab):\n",
        "  pred_sentences = []\n",
        "  label_sentences = []\n",
        "  model.eval()\n",
        "  with torch.no_grad():\n",
        "    with tqdm(dataloader, unit=\"batch\") as batch_iter:\n",
        "      for src, targ, labels, src_mask, targ_mask in batch_iter:\n",
        "        # create dummy inputs at start of setence\n",
        "        cur_targ_raw = [[sos_idx] for _ in range(labels.shape[0])]\n",
        "        translation_done = [False for _ in range(labels.shape[0])]\n",
        "\n",
        "        src_mask = model.make_src_mask(src)\n",
        "        features = model.encode(src, src_mask.to(device))\n",
        "\n",
        "        for i in range(context_size):\n",
        "          cur_targ = torch.LongTensor(cur_targ_raw)\n",
        "          proj = model.decode(features, cur_targ.to(device), src_mask.to(device))\n",
        "          toks = torch.argmax(proj[:, -1,:], dim=-1, keepdims=True)\n",
        "\n",
        "          for ti in range(toks.shape[0]):\n",
        "            if toks[ti] in [eos_idx, pad_idx]:\n",
        "              translation_done[ti] = True\n",
        "            cur_targ_raw[ti].append(toks[ti].item())\n",
        "          if all(translation_done):\n",
        "            break\n",
        "\n",
        "        for targ_sentence in cur_targ_raw:\n",
        "          pred_sentence = []\n",
        "          for i in range(1, len(targ_sentence)):\n",
        "              if targ_sentence[i] == eos_idx:\n",
        "                  break\n",
        "              pred_sentence.append(vocab.textify(targ_sentence[i]))\n",
        "          pred_sentences.append(pred_sentence)\n",
        "\n",
        "        label_sentences.extend([[vocab.textify(tok) for tok in label if tok not in [eos_idx, pad_idx]]] for label in labels.tolist())\n",
        "\n",
        "  print(pred_sentences)\n",
        "  print(label_sentences)\n",
        "  model.train()\n",
        "  return bleu_score(pred_sentences, label_sentences)\n",
        "\n",
        "def initialize_weights(p):\n",
        "    if hasattr(p, 'weight') and p.weight.dim() > 1:\n",
        "        nn.init.xavier_uniform_(p.weight.data)"
      ],
      "id": "uXmZGA45WffY"
    },
    {
      "cell_type": "markdown",
      "metadata": {
        "id": "342d5ae9-f236-415d-bc64-f9ec8ef7ce0e"
      },
      "source": [
        "# very scratch test forward pass"
      ],
      "id": "342d5ae9-f236-415d-bc64-f9ec8ef7ce0e"
    },
    {
      "cell_type": "code",
      "execution_count": null,
      "metadata": {
        "colab": {
          "base_uri": "https://localhost:8080/",
          "height": 245
        },
        "id": "e409cb06-f994-47c8-8679-54fd7938f769",
        "outputId": "1666ab78-67ae-4d66-e9e7-b72d2db4f5f3"
      },
      "outputs": [
        {
          "ename": "NameError",
          "evalue": "ignored",
          "output_type": "error",
          "traceback": [
            "\u001b[0;31m---------------------------------------------------------------------------\u001b[0m",
            "\u001b[0;31mNameError\u001b[0m                                 Traceback (most recent call last)",
            "\u001b[0;32m<ipython-input-8-189f2f25d16b>\u001b[0m in \u001b[0;36m<cell line: 3>\u001b[0;34m()\u001b[0m\n\u001b[1;32m      2\u001b[0m \u001b[0;34m\u001b[0m\u001b[0m\n\u001b[1;32m      3\u001b[0m model = EncoderDecoderTransformer(\n\u001b[0;32m----> 4\u001b[0;31m     \u001b[0mn_heads\u001b[0m\u001b[0;34m=\u001b[0m\u001b[0;36m3\u001b[0m\u001b[0;34m,\u001b[0m \u001b[0mn_embed\u001b[0m\u001b[0;34m=\u001b[0m\u001b[0;36m6\u001b[0m\u001b[0;34m,\u001b[0m \u001b[0mdropout\u001b[0m\u001b[0;34m=\u001b[0m\u001b[0;36m0.2\u001b[0m\u001b[0;34m,\u001b[0m \u001b[0mn_blocks\u001b[0m\u001b[0;34m=\u001b[0m\u001b[0;36m5\u001b[0m\u001b[0;34m,\u001b[0m \u001b[0mff_expansion_factor\u001b[0m\u001b[0;34m=\u001b[0m\u001b[0;36m4\u001b[0m\u001b[0;34m,\u001b[0m \u001b[0mcontext_size\u001b[0m\u001b[0;34m=\u001b[0m\u001b[0;36m12\u001b[0m\u001b[0;34m,\u001b[0m \u001b[0minput_vocab_size\u001b[0m\u001b[0;34m=\u001b[0m\u001b[0;36m13\u001b[0m\u001b[0;34m,\u001b[0m \u001b[0moutput_vocab_size\u001b[0m\u001b[0;34m=\u001b[0m\u001b[0;36m13\u001b[0m\u001b[0;34m,\u001b[0m \u001b[0mpad_idx\u001b[0m\u001b[0;34m=\u001b[0m\u001b[0mPAD_IDX\u001b[0m\u001b[0;34m\u001b[0m\u001b[0;34m\u001b[0m\u001b[0m\n\u001b[0m\u001b[1;32m      5\u001b[0m )\n\u001b[1;32m      6\u001b[0m \u001b[0;34m\u001b[0m\u001b[0m\n",
            "\u001b[0;31mNameError\u001b[0m: name 'PAD_IDX' is not defined"
          ]
        }
      ],
      "source": [
        "# TODO: work out how to handle extracting k and v from multiple heads in final encoder block?? very possibly I should just rewrite in the kombo-head pattern\n",
        "\n",
        "model = EncoderDecoderTransformer(\n",
        "    n_heads=3, n_embed=6, dropout=0.2, n_blocks=5, ff_expansion_factor=4, context_size=12, input_vocab_size=13, output_vocab_size=13, pad_idx=PAD_IDX\n",
        ")\n",
        "\n",
        "# x = torch.arange(11)\n",
        "# y = torch.tensor([[0]])\n",
        "src = torch.tensor([[0, 2, 5, 6, 4, 3, 9, 5, 2, 9, 10, 1],\n",
        "                    [0, 2, 8, 7, 3, 4, 5, 6, 7, 2, 10, 1]])\n",
        "# target = torch.tensor([[0, 1, 7, 4, 3, 5, 9, 2, 8, 10, 9, 1],\n",
        "#                        [0, 1, 5, 6, 2, 4, 7, 6, 2, 8, 10, 1]])\n",
        "\n",
        "target = torch.tensor([[0, 1, 3, 4], [0, 3, 4, 4]])\n",
        "start_symbol = torch.zeros(target.shape[0], 1).fill_(11).type_as(target)\n",
        "y = torch.cat((start_symbol, target[:,:-1]), dim=1)\n",
        "src_mask, targ_mask = create_mask(src, target, 99)\n",
        "out = model(src, y, src_mask, targ_mask)\n",
        "print(out.shape)\n",
        "# print(src.shape, src_mask.shape, targ_mask.shape)\n",
        "# print(targ_mask)\n",
        "\n",
        "# print(targ_mask)"
      ],
      "id": "e409cb06-f994-47c8-8679-54fd7938f769"
    },
    {
      "cell_type": "code",
      "execution_count": null,
      "metadata": {
        "id": "9df405d9-16af-4a4f-be26-48f76da33172"
      },
      "outputs": [],
      "source": [],
      "id": "9df405d9-16af-4a4f-be26-48f76da33172"
    },
    {
      "cell_type": "markdown",
      "metadata": {
        "id": "a9e06f27-8565-45d3-a903-533a2eae882c"
      },
      "source": [
        "# test on synthetic data"
      ],
      "id": "a9e06f27-8565-45d3-a903-533a2eae882c"
    },
    {
      "cell_type": "code",
      "execution_count": null,
      "metadata": {
        "id": "04299b62-079a-40be-a1de-45b613fcb62e"
      },
      "outputs": [],
      "source": [
        "def generate_fake_data(vocab_size, batch_size):\n",
        "    data = torch.randint(2, vocab_size+2, size=(batch_size, 10))\n",
        "    src = data.requires_grad_(False).clone().detach()\n",
        "    target = data.requires_grad_(False).clone().detach()\n",
        "    target = torch.cat((torch.zeros(target.shape[0], 1), target), dim=1)\n",
        "    target = torch.cat((target, torch.ones(target.shape[0], 1)), dim=1)\n",
        "    targ = target[:,:-1].type(torch.long)\n",
        "    labels = target[:,1:].type(torch.long)\n",
        "    src_mask, targ_mask = create_mask(src, targ, 99)\n",
        "    return [src, targ, labels, src_mask, targ_mask]"
      ],
      "id": "04299b62-079a-40be-a1de-45b613fcb62e"
    },
    {
      "cell_type": "code",
      "execution_count": null,
      "metadata": {
        "id": "6ed67acc-2208-4264-9775-a7185381a10d"
      },
      "outputs": [],
      "source": [
        "src, targ, labels, src_mask, targ_mask = generate_fake_data(10, 80)"
      ],
      "id": "6ed67acc-2208-4264-9775-a7185381a10d"
    },
    {
      "cell_type": "code",
      "execution_count": null,
      "metadata": {
        "id": "ed269e6d-e15c-4fb5-927e-23cba42d188f",
        "outputId": "6db2faa6-58ff-4c3e-8905-0c2d44af7809"
      },
      "outputs": [
        {
          "name": "stdout",
          "output_type": "stream",
          "text": [
            "torch.Size([80, 10]) torch.Size([80, 11]) torch.Size([80, 11])\n",
            "tensor([[[1, 0, 0, 0, 0, 0, 0, 0, 0, 0, 0],\n",
            "         [1, 1, 0, 0, 0, 0, 0, 0, 0, 0, 0],\n",
            "         [1, 1, 1, 0, 0, 0, 0, 0, 0, 0, 0],\n",
            "         [1, 1, 1, 1, 0, 0, 0, 0, 0, 0, 0],\n",
            "         [1, 1, 1, 1, 1, 0, 0, 0, 0, 0, 0],\n",
            "         [1, 1, 1, 1, 1, 1, 0, 0, 0, 0, 0],\n",
            "         [1, 1, 1, 1, 1, 1, 1, 0, 0, 0, 0],\n",
            "         [1, 1, 1, 1, 1, 1, 1, 1, 0, 0, 0],\n",
            "         [1, 1, 1, 1, 1, 1, 1, 1, 1, 0, 0],\n",
            "         [1, 1, 1, 1, 1, 1, 1, 1, 1, 1, 0],\n",
            "         [1, 1, 1, 1, 1, 1, 1, 1, 1, 1, 1]]], dtype=torch.int32)\n",
            "torch.Size([1, 1, 11, 11])\n"
          ]
        }
      ],
      "source": [
        "print(src.shape, targ.shape, labels.shape)\n",
        "print(targ_mask[0])\n",
        "print(targ_mask.shape)\n"
      ],
      "id": "ed269e6d-e15c-4fb5-927e-23cba42d188f"
    },
    {
      "cell_type": "code",
      "execution_count": null,
      "metadata": {
        "id": "4ec44491-5fe4-46b1-8e4a-38ce13237859"
      },
      "outputs": [],
      "source": [
        "## create model\n",
        "model = EncoderDecoderTransformer(\n",
        "    n_heads=4, n_embed=32, dropout=0.1, n_blocks=2, context_size=20, input_vocab_size=12, output_vocab_size=12\n",
        ")"
      ],
      "id": "4ec44491-5fe4-46b1-8e4a-38ce13237859"
    },
    {
      "cell_type": "code",
      "execution_count": null,
      "metadata": {
        "colab": {
          "base_uri": "https://localhost:8080/",
          "height": 245
        },
        "id": "debbf72e-07a1-4b42-9526-8c9de5032303",
        "outputId": "23bfbd37-7e4c-43fb-b11c-e3496a4ba307"
      },
      "outputs": [
        {
          "ename": "NameError",
          "evalue": "ignored",
          "output_type": "error",
          "traceback": [
            "\u001b[0;31m---------------------------------------------------------------------------\u001b[0m",
            "\u001b[0;31mNameError\u001b[0m                                 Traceback (most recent call last)",
            "\u001b[0;32m<ipython-input-1-a24763a740ee>\u001b[0m in \u001b[0;36m<cell line: 1>\u001b[0;34m()\u001b[0m\n\u001b[0;32m----> 1\u001b[0;31m \u001b[0;32mclass\u001b[0m \u001b[0mPositionalEncoding\u001b[0m\u001b[0;34m(\u001b[0m\u001b[0mnn\u001b[0m\u001b[0;34m.\u001b[0m\u001b[0mModule\u001b[0m\u001b[0;34m)\u001b[0m\u001b[0;34m:\u001b[0m\u001b[0;34m\u001b[0m\u001b[0;34m\u001b[0m\u001b[0m\n\u001b[0m\u001b[1;32m      2\u001b[0m     \u001b[0;32mdef\u001b[0m \u001b[0m__init__\u001b[0m\u001b[0;34m(\u001b[0m\u001b[0mself\u001b[0m\u001b[0;34m,\u001b[0m \u001b[0md_model\u001b[0m\u001b[0;34m,\u001b[0m \u001b[0mdropout\u001b[0m\u001b[0;34m=\u001b[0m\u001b[0;36m0.1\u001b[0m\u001b[0;34m,\u001b[0m \u001b[0mmax_len\u001b[0m\u001b[0;34m=\u001b[0m\u001b[0;36m100\u001b[0m\u001b[0;34m)\u001b[0m\u001b[0;34m:\u001b[0m\u001b[0;34m\u001b[0m\u001b[0;34m\u001b[0m\u001b[0m\n\u001b[1;32m      3\u001b[0m         \u001b[0msuper\u001b[0m\u001b[0;34m(\u001b[0m\u001b[0mPositionalEncoding\u001b[0m\u001b[0;34m,\u001b[0m \u001b[0mself\u001b[0m\u001b[0;34m)\u001b[0m\u001b[0;34m.\u001b[0m\u001b[0m__init__\u001b[0m\u001b[0;34m(\u001b[0m\u001b[0;34m)\u001b[0m\u001b[0;34m\u001b[0m\u001b[0;34m\u001b[0m\u001b[0m\n\u001b[1;32m      4\u001b[0m         \u001b[0mself\u001b[0m\u001b[0;34m.\u001b[0m\u001b[0mdropout\u001b[0m \u001b[0;34m=\u001b[0m \u001b[0mnn\u001b[0m\u001b[0;34m.\u001b[0m\u001b[0mDropout\u001b[0m\u001b[0;34m(\u001b[0m\u001b[0mp\u001b[0m\u001b[0;34m=\u001b[0m\u001b[0mdropout\u001b[0m\u001b[0;34m)\u001b[0m\u001b[0;34m\u001b[0m\u001b[0;34m\u001b[0m\u001b[0m\n\u001b[1;32m      5\u001b[0m \u001b[0;34m\u001b[0m\u001b[0m\n",
            "\u001b[0;31mNameError\u001b[0m: name 'nn' is not defined"
          ]
        }
      ],
      "source": [
        "\n",
        "\n",
        "class TestModel(nn.Module):\n",
        "    def __init__(self, d_model, n_heads, n_block, dropout, input_vocab_size, output_vocab_size, context_size):\n",
        "        super().__init__()\n",
        "        self.model = nn.Transformer(\n",
        "            d_model=d_model, nhead=n_heads, num_encoder_layers=n_block, num_decoder_layers=n_block, dim_feedforward=d_model*4, batch_first=True, dropout=dropout\n",
        "        )\n",
        "\n",
        "        self.src_emb = nn.Embedding(input_vocab_size, d_model)\n",
        "        self.targ_emb = nn.Embedding(output_vocab_size, d_model)\n",
        "        self.pos_encoder = PositionalEncoding(d_model, 0.1, context_size)\n",
        "        self.proj = nn.Linear(d_model, output_vocab_size)\n",
        "\n",
        "    def forward(self, src, targ, src_mask):\n",
        "        src = self.pos_encoder(self.src_emb(src))\n",
        "        # print(f\"{src.isnan().any()=}\")\n",
        "        targ = self.pos_encoder(self.targ_emb(targ))\n",
        "        # print(f\"{targ.isnan().any()=}\")\n",
        "        out = self.model(src=src, tgt=targ, src_mask=src_mask, tgt_mask=nn.Transformer.generate_square_subsequent_mask(targ.shape[1]), tgt_is_causal=True)\n",
        "        # print(f\"{out.isnan().any()=}\")\n",
        "        proj = self.proj(out)\n",
        "        # print(f\"{proj.isnan().any()=}\")\n",
        "        return proj\n",
        "\n",
        "# model = TestModel()"
      ],
      "id": "debbf72e-07a1-4b42-9526-8c9de5032303"
    },
    {
      "cell_type": "code",
      "execution_count": null,
      "metadata": {
        "id": "b9e234ce-5ece-4d8f-9be4-a80bc5986c3c",
        "outputId": "5cd8cc6f-9486-42e1-b50e-d442b13ef44f"
      },
      "outputs": [
        {
          "name": "stdout",
          "output_type": "stream",
          "text": [
            "step=0 loss.item()=3.0782485008239746\n",
            "step=100 loss.item()=1.5178436040878296\n",
            "step=200 loss.item()=0.9287382364273071\n",
            "step=300 loss.item()=0.28001466393470764\n",
            "step=400 loss.item()=0.07486676424741745\n",
            "step=500 loss.item()=0.048783134669065475\n",
            "step=600 loss.item()=0.018520882353186607\n",
            "step=700 loss.item()=0.025122443214058876\n",
            "step=800 loss.item()=0.0432889498770237\n",
            "step=900 loss.item()=0.02111428789794445\n",
            "step=1000 loss.item()=0.008165615610778332\n",
            "step=1100 loss.item()=0.009171709418296814\n",
            "step=1200 loss.item()=0.01689954847097397\n",
            "step=1300 loss.item()=0.026525046676397324\n",
            "step=1400 loss.item()=0.002337818965315819\n",
            "step=1500 loss.item()=0.017591223120689392\n",
            "step=1600 loss.item()=0.0028570888098329306\n",
            "step=1700 loss.item()=0.020785031840205193\n",
            "step=1800 loss.item()=0.0007740518194623291\n",
            "step=1900 loss.item()=0.014752286486327648\n"
          ]
        }
      ],
      "source": [
        "## train model\n",
        "\n",
        "optim = torch.optim.Adam(model.parameters(), lr=1e-3, betas=(0.9, 0.98), eps=1e-9)\n",
        "\n",
        "losses = []\n",
        "\n",
        "for step in range(2000):\n",
        "    src, targ, labels, src_mask, targ_mask = generate_fake_data(10, 80)\n",
        "    # forward pass\n",
        "    logits = model(src, targ, src_mask, targ_mask)\n",
        "    # logits = model(src, targ)\n",
        "\n",
        "    # print(logits.shape, labels.shape)\n",
        "    loss = calculate_loss(logits, labels, 99)\n",
        "    losses.append(loss.item())\n",
        "    optim.zero_grad()\n",
        "    loss.backward()\n",
        "    # nn.utils.clip_grad_norm_(model.parameters(), 1.0)\n",
        "    optim.step()\n",
        "    if step % 100 == 0:\n",
        "        print(f\"{step=} {loss.item()=}\")"
      ],
      "id": "b9e234ce-5ece-4d8f-9be4-a80bc5986c3c"
    },
    {
      "cell_type": "code",
      "execution_count": null,
      "metadata": {
        "id": "f7c29c13-4363-423e-9581-3183d5e9705e",
        "outputId": "0d711afc-c46e-4ea6-9ea3-b022548eb99d"
      },
      "outputs": [
        {
          "name": "stdout",
          "output_type": "stream",
          "text": [
            "labels[12].shape=torch.Size([11]), logits[12].shape=torch.Size([11, 12])\n",
            "labels[12]=tensor([10,  9,  7, 11,  7,  6,  3,  9,  4,  8,  1])\n",
            "src[12]=tensor([10,  9,  7, 11,  7,  6,  3,  9,  4,  8])\n",
            "targ[12]=tensor([ 0, 10,  9,  7, 11,  7,  6,  3,  9,  4,  8])\n",
            "torch.argmax(logits[12], dim=1)=tensor([10,  9,  7, 11,  7,  6,  3,  9,  4,  8,  1])\n",
            "tensor([[-13.0563,  -0.1346,  -1.6679,  -2.3136,  -1.2495,   0.0488,  -3.8849,\n",
            "          -0.5146,  -1.5872,   0.8989,  11.4112,   0.8164],\n",
            "        [-11.0475, -13.7259,  -2.5244,  -0.1804,   2.2375,  -1.4239,  -0.4979,\n",
            "           3.0238,  -1.2176,  10.4206,  -4.1232,  -1.3258],\n",
            "        [-11.5117, -18.2371,   0.1156,  -1.4028,   1.3638,  -1.1112,  -0.5050,\n",
            "          10.7667,  -0.6929,  -2.7019,  -1.2392,   0.3604],\n",
            "        [-11.4407, -15.9157,   0.7418,  -0.1549,  -2.2739,  -1.1314,  -1.7067,\n",
            "           0.1774,  -0.5108,   0.1951,   1.0337,  11.7634],\n",
            "        [-11.2095, -11.0170,  -0.8210,  -0.0513,  -3.3414,  -0.2282,  -1.4815,\n",
            "          11.7649,  -1.0786,  -0.6356,  -1.8250,  -0.8832],\n",
            "        [-13.7338,  -5.8793,  -3.7013,  -1.3368,  -4.1095,  -4.2127,   9.4643,\n",
            "           0.1088,  -0.0780,  -1.2502,   0.8134,   0.8366],\n",
            "        [-13.6145, -13.0086,  -2.3195,  11.1834,  -0.5622,  -2.8468,  -5.1625,\n",
            "           0.0839,  -1.3997,   2.1655,   1.0492,  -0.7068],\n",
            "        [-14.4399, -15.0088,  -0.1951,  -4.8791,  -1.2025,  -1.4163,  -3.6233,\n",
            "           1.4678,  -0.6800,  10.0319,   1.1944,   1.3238],\n",
            "        [-13.8594, -11.0665,   1.3167,  -3.3474,  10.3599,  -1.3191,  -2.2193,\n",
            "           0.0707,  -3.6537,  -1.4518,  -2.5974,   1.5885],\n",
            "        [-14.4246,  -2.7966,  -2.1415,   0.8739,  -4.6961,  -1.3622,  -0.6292,\n",
            "           0.3936,  10.8900,   0.8552,  -0.2878,   0.3208],\n",
            "        [ -3.4883,  18.1202,  -1.9577,  -0.2445,  -1.2806,  -1.4328,  -2.1125,\n",
            "           0.1846,   9.1505,   0.3911,  -1.1324,  -1.2036]],\n",
            "       grad_fn=<SelectBackward0>)\n"
          ]
        }
      ],
      "source": [
        "print(f\"{labels[12].shape=}, {logits[12].shape=}\")\n",
        "print(f\"{labels[12]=}\")\n",
        "print(f\"{src[12]=}\")\n",
        "print(f\"{targ[12]=}\")\n",
        "print(f\"{torch.argmax(logits[12], dim=1)=}\")\n",
        "print(logits[12])\n",
        "# plt.imshow(model.encoders[-1].attention.attn_store[0,3].detach().numpy())\n"
      ],
      "id": "f7c29c13-4363-423e-9581-3183d5e9705e"
    },
    {
      "cell_type": "code",
      "execution_count": null,
      "metadata": {
        "id": "062fcc33-b8a7-4a9f-b76d-0456e2666d0a",
        "outputId": "ad050bd8-2b5c-4bb7-bbe3-513fa37d2804"
      },
      "outputs": [
        {
          "data": {
            "text/plain": [
              "[<matplotlib.lines.Line2D at 0x7f0cedf02110>]"
            ]
          },
          "execution_count": 907,
          "metadata": {},
          "output_type": "execute_result"
        },
        {
          "data": {
            "image/png": "[encoded data removed]",
            "text/plain": [
              "<Figure size 640x480 with 1 Axes>"
            ]
          },
          "metadata": {},
          "output_type": "display_data"
        }
      ],
      "source": [
        "plt.plot(losses)"
      ],
      "id": "062fcc33-b8a7-4a9f-b76d-0456e2666d0a"
    },
    {
      "cell_type": "code",
      "execution_count": null,
      "metadata": {
        "id": "3a7fae14-9c07-47d4-a93a-e2081683922f",
        "outputId": "8625316e-607c-4517-aa62-111a38483e36"
      },
      "outputs": [
        {
          "name": "stdout",
          "output_type": "stream",
          "text": [
            "torch.Size([1, 10])\n",
            "torch.Size([1, 10, 32])\n",
            "tensor([[ 4,  3,  5,  6, 11,  6,  5,  6,  5, 10]])\n",
            "tensor([[ 4,  3,  5,  6, 11,  6,  5,  6,  5, 10]], dtype=torch.int32)\n"
          ]
        }
      ],
      "source": [
        "def greedy_decoding(model, src, context_size):\n",
        "    # targ = torch.zeros(1,context_size + 1).type(torch.int)\n",
        "    # targ = torch.zeros(1,src.shape[1] + 1).type(torch.int)\n",
        "    cur_targ = torch.tensor([[0]])\n",
        "    src_mask, _ = create_mask(src, src, 99)\n",
        "    features = model.encode(src, src_mask)\n",
        "    print(features.shape)\n",
        "    for i in range(context_size):\n",
        "        src_mask, targ_mask = create_mask(src, cur_targ, 99)\n",
        "        proj = model.decode(cur_targ, features, src_mask, targ_mask)\n",
        "        tok = torch.argmax(proj[0,-1,:], keepdims=True)\n",
        "        # print(tok.shape)\n",
        "        tok = tok.unsqueeze(0)\n",
        "        if tok.item() == 1:\n",
        "            return cur_targ[:,1:], proj\n",
        "        cur_targ = torch.cat([cur_targ, tok], dim=1).type(torch.int)\n",
        "        # targ[0, i+1] = tok\n",
        "    return cur_targ, proj\n",
        "\n",
        "cur_src = torch.randint(2, 12, size=(1, 10))\n",
        "print(cur_src.shape)\n",
        "\n",
        "cur_targ, proj = greedy_decoding(model, cur_src, 20)\n",
        "print(cur_src)\n",
        "print(cur_targ)\n",
        "assert torch.equal(cur_src, cur_targ)\n",
        "# print(proj)"
      ],
      "id": "3a7fae14-9c07-47d4-a93a-e2081683922f"
    },
    {
      "cell_type": "code",
      "execution_count": null,
      "metadata": {
        "id": "8f652514-6ce9-4295-90eb-6cb481d0c468",
        "outputId": "1b182b54-8bea-4a3f-b502-fa5a3fab4ecb"
      },
      "outputs": [
        {
          "data": {
            "text/plain": [
              "tensor([[0]], dtype=torch.int32)"
            ]
          },
          "execution_count": 858,
          "metadata": {},
          "output_type": "execute_result"
        }
      ],
      "source": [
        "# ans = torch.max(proj[0,0],0)\n",
        "# ans\n",
        "torch.zeros((1,1)).type(torch.int)"
      ],
      "id": "8f652514-6ce9-4295-90eb-6cb481d0c468"
    },
    {
      "cell_type": "markdown",
      "metadata": {
        "id": "40b9dad9-5f19-4f78-a1f5-eacb12f71d43"
      },
      "source": [
        "# test training on real data"
      ],
      "id": "40b9dad9-5f19-4f78-a1f5-eacb12f71d43"
    },
    {
      "cell_type": "code",
      "execution_count": 6,
      "metadata": {
        "id": "df7dd8ed-52c5-46c1-b041-5d5aaa43d581"
      },
      "outputs": [],
      "source": [
        "# !pip uninstall --yes portalocker\n",
        "# !pip install portalocker\n",
        "# !pip uninstall --yes torchtext\n",
        "# !pip install torchtext==0.15.2\n",
        "# import portalocker\n",
        "import torchtext.datasets\n",
        "from torch.utils.data import DataLoader\n",
        "\n",
        "train_data = torchtext.datasets.Multi30k(split='train', language_pair=('de', 'en'))\n",
        "val_data = torchtext.datasets.Multi30k(split='valid', language_pair=('de', 'en'))\n",
        "test_data = torchtext.datasets.Multi30k(split='test', language_pair=('de', 'en'))"
      ],
      "id": "df7dd8ed-52c5-46c1-b041-5d5aaa43d581"
    },
    {
      "cell_type": "code",
      "execution_count": 7,
      "metadata": {
        "id": "7_99QJ8olTnK"
      },
      "outputs": [],
      "source": [
        "# ! rm -f /root/.cache/torch/text/datasets/Multi30k/val.de\n",
        "# torchtext.__version__"
      ],
      "id": "7_99QJ8olTnK"
    },
    {
      "cell_type": "code",
      "execution_count": 8,
      "metadata": {
        "colab": {
          "base_uri": "https://localhost:8080/"
        },
        "id": "dfda2e7e-4297-4106-9a72-6c729c9de94e",
        "outputId": "d7703ae7-b5a2-4e39-a9a5-9d4732c77a97"
      },
      "outputs": [
        {
          "output_type": "stream",
          "name": "stdout",
          "text": [
            "Requirement already satisfied: spacy in /usr/local/lib/python3.10/dist-packages (3.6.1)\n",
            "Collecting spacy\n",
            "  Downloading spacy-3.7.2-cp310-cp310-manylinux_2_17_x86_64.manylinux2014_x86_64.whl (6.6 MB)\n",
            "\u001b[2K     \u001b[90m━━━━━━━━━━━━━━━━━━━━━━━━━━━━━━━━━━━━━━━━\u001b[0m \u001b[32m6.6/6.6 MB\u001b[0m \u001b[31m19.9 MB/s\u001b[0m eta \u001b[36m0:00:00\u001b[0m\n",
            "\u001b[?25hRequirement already satisfied: spacy-legacy<3.1.0,>=3.0.11 in /usr/local/lib/python3.10/dist-packages (from spacy) (3.0.12)\n",
            "Requirement already satisfied: spacy-loggers<2.0.0,>=1.0.0 in /usr/local/lib/python3.10/dist-packages (from spacy) (1.0.5)\n",
            "Requirement already satisfied: murmurhash<1.1.0,>=0.28.0 in /usr/local/lib/python3.10/dist-packages (from spacy) (1.0.10)\n",
            "Requirement already satisfied: cymem<2.1.0,>=2.0.2 in /usr/local/lib/python3.10/dist-packages (from spacy) (2.0.8)\n",
            "Requirement already satisfied: preshed<3.1.0,>=3.0.2 in /usr/local/lib/python3.10/dist-packages (from spacy) (3.0.9)\n",
            "Requirement already satisfied: thinc<8.3.0,>=8.1.8 in /usr/local/lib/python3.10/dist-packages (from spacy) (8.1.12)\n",
            "Requirement already satisfied: wasabi<1.2.0,>=0.9.1 in /usr/local/lib/python3.10/dist-packages (from spacy) (1.1.2)\n",
            "Requirement already satisfied: srsly<3.0.0,>=2.4.3 in /usr/local/lib/python3.10/dist-packages (from spacy) (2.4.8)\n",
            "Requirement already satisfied: catalogue<2.1.0,>=2.0.6 in /usr/local/lib/python3.10/dist-packages (from spacy) (2.0.10)\n",
            "Collecting weasel<0.4.0,>=0.1.0 (from spacy)\n",
            "  Downloading weasel-0.3.4-py3-none-any.whl (50 kB)\n",
            "\u001b[2K     \u001b[90m━━━━━━━━━━━━━━━━━━━━━━━━━━━━━━━━━━━━━━━━\u001b[0m \u001b[32m50.1/50.1 kB\u001b[0m \u001b[31m8.1 MB/s\u001b[0m eta \u001b[36m0:00:00\u001b[0m\n",
            "\u001b[?25hRequirement already satisfied: typer<0.10.0,>=0.3.0 in /usr/local/lib/python3.10/dist-packages (from spacy) (0.9.0)\n",
            "Requirement already satisfied: smart-open<7.0.0,>=5.2.1 in /usr/local/lib/python3.10/dist-packages (from spacy) (6.4.0)\n",
            "Requirement already satisfied: tqdm<5.0.0,>=4.38.0 in /usr/local/lib/python3.10/dist-packages (from spacy) (4.66.1)\n",
            "Requirement already satisfied: requests<3.0.0,>=2.13.0 in /usr/local/lib/python3.10/dist-packages (from spacy) (2.31.0)\n",
            "Requirement already satisfied: pydantic!=1.8,!=1.8.1,<3.0.0,>=1.7.4 in /usr/local/lib/python3.10/dist-packages (from spacy) (1.10.13)\n",
            "Requirement already satisfied: jinja2 in /usr/local/lib/python3.10/dist-packages (from spacy) (3.1.2)\n",
            "Requirement already satisfied: setuptools in /usr/local/lib/python3.10/dist-packages (from spacy) (67.7.2)\n",
            "Requirement already satisfied: packaging>=20.0 in /usr/local/lib/python3.10/dist-packages (from spacy) (23.2)\n",
            "Requirement already satisfied: langcodes<4.0.0,>=3.2.0 in /usr/local/lib/python3.10/dist-packages (from spacy) (3.3.0)\n",
            "Requirement already satisfied: numpy>=1.19.0 in /usr/local/lib/python3.10/dist-packages (from spacy) (1.23.5)\n",
            "Requirement already satisfied: typing-extensions>=4.2.0 in /usr/local/lib/python3.10/dist-packages (from pydantic!=1.8,!=1.8.1,<3.0.0,>=1.7.4->spacy) (4.5.0)\n",
            "Requirement already satisfied: charset-normalizer<4,>=2 in /usr/local/lib/python3.10/dist-packages (from requests<3.0.0,>=2.13.0->spacy) (3.3.2)\n",
            "Requirement already satisfied: idna<4,>=2.5 in /usr/local/lib/python3.10/dist-packages (from requests<3.0.0,>=2.13.0->spacy) (3.6)\n",
            "Requirement already satisfied: urllib3<3,>=1.21.1 in /usr/local/lib/python3.10/dist-packages (from requests<3.0.0,>=2.13.0->spacy) (2.0.7)\n",
            "Requirement already satisfied: certifi>=2017.4.17 in /usr/local/lib/python3.10/dist-packages (from requests<3.0.0,>=2.13.0->spacy) (2023.11.17)\n",
            "Requirement already satisfied: blis<0.8.0,>=0.7.8 in /usr/local/lib/python3.10/dist-packages (from thinc<8.3.0,>=8.1.8->spacy) (0.7.11)\n",
            "Requirement already satisfied: confection<1.0.0,>=0.0.1 in /usr/local/lib/python3.10/dist-packages (from thinc<8.3.0,>=8.1.8->spacy) (0.1.4)\n",
            "Requirement already satisfied: click<9.0.0,>=7.1.1 in /usr/local/lib/python3.10/dist-packages (from typer<0.10.0,>=0.3.0->spacy) (8.1.7)\n",
            "Collecting cloudpathlib<0.17.0,>=0.7.0 (from weasel<0.4.0,>=0.1.0->spacy)\n",
            "  Downloading cloudpathlib-0.16.0-py3-none-any.whl (45 kB)\n",
            "\u001b[2K     \u001b[90m━━━━━━━━━━━━━━━━━━━━━━━━━━━━━━━━━━━━━━━━\u001b[0m \u001b[32m45.0/45.0 kB\u001b[0m \u001b[31m6.7 MB/s\u001b[0m eta \u001b[36m0:00:00\u001b[0m\n",
            "\u001b[?25hRequirement already satisfied: MarkupSafe>=2.0 in /usr/local/lib/python3.10/dist-packages (from jinja2->spacy) (2.1.3)\n",
            "Installing collected packages: cloudpathlib, weasel, spacy\n",
            "  Attempting uninstall: spacy\n",
            "    Found existing installation: spacy 3.6.1\n",
            "    Uninstalling spacy-3.6.1:\n",
            "      Successfully uninstalled spacy-3.6.1\n",
            "\u001b[31mERROR: pip's dependency resolver does not currently take into account all the packages that are installed. This behaviour is the source of the following dependency conflicts.\n",
            "en-core-web-sm 3.6.0 requires spacy<3.7.0,>=3.6.0, but you have spacy 3.7.2 which is incompatible.\u001b[0m\u001b[31m\n",
            "\u001b[0mSuccessfully installed cloudpathlib-0.16.0 spacy-3.7.2 weasel-0.3.4\n",
            "2023-12-31 23:06:12.416834: E external/local_xla/xla/stream_executor/cuda/cuda_dnn.cc:9261] Unable to register cuDNN factory: Attempting to register factory for plugin cuDNN when one has already been registered\n",
            "2023-12-31 23:06:12.416897: E external/local_xla/xla/stream_executor/cuda/cuda_fft.cc:607] Unable to register cuFFT factory: Attempting to register factory for plugin cuFFT when one has already been registered\n",
            "2023-12-31 23:06:12.420994: E external/local_xla/xla/stream_executor/cuda/cuda_blas.cc:1515] Unable to register cuBLAS factory: Attempting to register factory for plugin cuBLAS when one has already been registered\n",
            "2023-12-31 23:06:12.431872: I tensorflow/core/platform/cpu_feature_guard.cc:182] This TensorFlow binary is optimized to use available CPU instructions in performance-critical operations.\n",
            "To enable the following instructions: AVX2 AVX512F FMA, in other operations, rebuild TensorFlow with the appropriate compiler flags.\n",
            "2023-12-31 23:06:13.921163: W tensorflow/compiler/tf2tensorrt/utils/py_utils.cc:38] TF-TRT Warning: Could not find TensorRT\n",
            "2023-12-31 23:06:15.471719: I external/local_xla/xla/stream_executor/cuda/cuda_executor.cc:901] successful NUMA node read from SysFS had negative value (-1), but there must be at least one NUMA node, so returning NUMA node zero. See more at https://github.com/torvalds/linux/blob/v6.0/Documentation/ABI/testing/sysfs-bus-pci#L344-L355\n",
            "2023-12-31 23:06:15.472175: I external/local_xla/xla/stream_executor/cuda/cuda_executor.cc:901] successful NUMA node read from SysFS had negative value (-1), but there must be at least one NUMA node, so returning NUMA node zero. See more at https://github.com/torvalds/linux/blob/v6.0/Documentation/ABI/testing/sysfs-bus-pci#L344-L355\n",
            "2023-12-31 23:06:15.472342: I external/local_xla/xla/stream_executor/cuda/cuda_executor.cc:901] successful NUMA node read from SysFS had negative value (-1), but there must be at least one NUMA node, so returning NUMA node zero. See more at https://github.com/torvalds/linux/blob/v6.0/Documentation/ABI/testing/sysfs-bus-pci#L344-L355\n",
            "Collecting de-core-news-sm==3.7.0\n",
            "  Downloading https://github.com/explosion/spacy-models/releases/download/de_core_news_sm-3.7.0/de_core_news_sm-3.7.0-py3-none-any.whl (14.6 MB)\n",
            "\u001b[2K     \u001b[90m━━━━━━━━━━━━━━━━━━━━━━━━━━━━━━━━━━━━━━━━\u001b[0m \u001b[32m14.6/14.6 MB\u001b[0m \u001b[31m44.8 MB/s\u001b[0m eta \u001b[36m0:00:00\u001b[0m\n",
            "\u001b[?25hRequirement already satisfied: spacy<3.8.0,>=3.7.0 in /usr/local/lib/python3.10/dist-packages (from de-core-news-sm==3.7.0) (3.7.2)\n",
            "Requirement already satisfied: spacy-legacy<3.1.0,>=3.0.11 in /usr/local/lib/python3.10/dist-packages (from spacy<3.8.0,>=3.7.0->de-core-news-sm==3.7.0) (3.0.12)\n",
            "Requirement already satisfied: spacy-loggers<2.0.0,>=1.0.0 in /usr/local/lib/python3.10/dist-packages (from spacy<3.8.0,>=3.7.0->de-core-news-sm==3.7.0) (1.0.5)\n",
            "Requirement already satisfied: murmurhash<1.1.0,>=0.28.0 in /usr/local/lib/python3.10/dist-packages (from spacy<3.8.0,>=3.7.0->de-core-news-sm==3.7.0) (1.0.10)\n",
            "Requirement already satisfied: cymem<2.1.0,>=2.0.2 in /usr/local/lib/python3.10/dist-packages (from spacy<3.8.0,>=3.7.0->de-core-news-sm==3.7.0) (2.0.8)\n",
            "Requirement already satisfied: preshed<3.1.0,>=3.0.2 in /usr/local/lib/python3.10/dist-packages (from spacy<3.8.0,>=3.7.0->de-core-news-sm==3.7.0) (3.0.9)\n",
            "Requirement already satisfied: thinc<8.3.0,>=8.1.8 in /usr/local/lib/python3.10/dist-packages (from spacy<3.8.0,>=3.7.0->de-core-news-sm==3.7.0) (8.1.12)\n",
            "Requirement already satisfied: wasabi<1.2.0,>=0.9.1 in /usr/local/lib/python3.10/dist-packages (from spacy<3.8.0,>=3.7.0->de-core-news-sm==3.7.0) (1.1.2)\n",
            "Requirement already satisfied: srsly<3.0.0,>=2.4.3 in /usr/local/lib/python3.10/dist-packages (from spacy<3.8.0,>=3.7.0->de-core-news-sm==3.7.0) (2.4.8)\n",
            "Requirement already satisfied: catalogue<2.1.0,>=2.0.6 in /usr/local/lib/python3.10/dist-packages (from spacy<3.8.0,>=3.7.0->de-core-news-sm==3.7.0) (2.0.10)\n",
            "Requirement already satisfied: weasel<0.4.0,>=0.1.0 in /usr/local/lib/python3.10/dist-packages (from spacy<3.8.0,>=3.7.0->de-core-news-sm==3.7.0) (0.3.4)\n",
            "Requirement already satisfied: typer<0.10.0,>=0.3.0 in /usr/local/lib/python3.10/dist-packages (from spacy<3.8.0,>=3.7.0->de-core-news-sm==3.7.0) (0.9.0)\n",
            "Requirement already satisfied: smart-open<7.0.0,>=5.2.1 in /usr/local/lib/python3.10/dist-packages (from spacy<3.8.0,>=3.7.0->de-core-news-sm==3.7.0) (6.4.0)\n",
            "Requirement already satisfied: tqdm<5.0.0,>=4.38.0 in /usr/local/lib/python3.10/dist-packages (from spacy<3.8.0,>=3.7.0->de-core-news-sm==3.7.0) (4.66.1)\n",
            "Requirement already satisfied: requests<3.0.0,>=2.13.0 in /usr/local/lib/python3.10/dist-packages (from spacy<3.8.0,>=3.7.0->de-core-news-sm==3.7.0) (2.31.0)\n",
            "Requirement already satisfied: pydantic!=1.8,!=1.8.1,<3.0.0,>=1.7.4 in /usr/local/lib/python3.10/dist-packages (from spacy<3.8.0,>=3.7.0->de-core-news-sm==3.7.0) (1.10.13)\n",
            "Requirement already satisfied: jinja2 in /usr/local/lib/python3.10/dist-packages (from spacy<3.8.0,>=3.7.0->de-core-news-sm==3.7.0) (3.1.2)\n",
            "Requirement already satisfied: setuptools in /usr/local/lib/python3.10/dist-packages (from spacy<3.8.0,>=3.7.0->de-core-news-sm==3.7.0) (67.7.2)\n",
            "Requirement already satisfied: packaging>=20.0 in /usr/local/lib/python3.10/dist-packages (from spacy<3.8.0,>=3.7.0->de-core-news-sm==3.7.0) (23.2)\n",
            "Requirement already satisfied: langcodes<4.0.0,>=3.2.0 in /usr/local/lib/python3.10/dist-packages (from spacy<3.8.0,>=3.7.0->de-core-news-sm==3.7.0) (3.3.0)\n",
            "Requirement already satisfied: numpy>=1.19.0 in /usr/local/lib/python3.10/dist-packages (from spacy<3.8.0,>=3.7.0->de-core-news-sm==3.7.0) (1.23.5)\n",
            "Requirement already satisfied: typing-extensions>=4.2.0 in /usr/local/lib/python3.10/dist-packages (from pydantic!=1.8,!=1.8.1,<3.0.0,>=1.7.4->spacy<3.8.0,>=3.7.0->de-core-news-sm==3.7.0) (4.5.0)\n",
            "Requirement already satisfied: charset-normalizer<4,>=2 in /usr/local/lib/python3.10/dist-packages (from requests<3.0.0,>=2.13.0->spacy<3.8.0,>=3.7.0->de-core-news-sm==3.7.0) (3.3.2)\n",
            "Requirement already satisfied: idna<4,>=2.5 in /usr/local/lib/python3.10/dist-packages (from requests<3.0.0,>=2.13.0->spacy<3.8.0,>=3.7.0->de-core-news-sm==3.7.0) (3.6)\n",
            "Requirement already satisfied: urllib3<3,>=1.21.1 in /usr/local/lib/python3.10/dist-packages (from requests<3.0.0,>=2.13.0->spacy<3.8.0,>=3.7.0->de-core-news-sm==3.7.0) (2.0.7)\n",
            "Requirement already satisfied: certifi>=2017.4.17 in /usr/local/lib/python3.10/dist-packages (from requests<3.0.0,>=2.13.0->spacy<3.8.0,>=3.7.0->de-core-news-sm==3.7.0) (2023.11.17)\n",
            "Requirement already satisfied: blis<0.8.0,>=0.7.8 in /usr/local/lib/python3.10/dist-packages (from thinc<8.3.0,>=8.1.8->spacy<3.8.0,>=3.7.0->de-core-news-sm==3.7.0) (0.7.11)\n",
            "Requirement already satisfied: confection<1.0.0,>=0.0.1 in /usr/local/lib/python3.10/dist-packages (from thinc<8.3.0,>=8.1.8->spacy<3.8.0,>=3.7.0->de-core-news-sm==3.7.0) (0.1.4)\n",
            "Requirement already satisfied: click<9.0.0,>=7.1.1 in /usr/local/lib/python3.10/dist-packages (from typer<0.10.0,>=0.3.0->spacy<3.8.0,>=3.7.0->de-core-news-sm==3.7.0) (8.1.7)\n",
            "Requirement already satisfied: cloudpathlib<0.17.0,>=0.7.0 in /usr/local/lib/python3.10/dist-packages (from weasel<0.4.0,>=0.1.0->spacy<3.8.0,>=3.7.0->de-core-news-sm==3.7.0) (0.16.0)\n",
            "Requirement already satisfied: MarkupSafe>=2.0 in /usr/local/lib/python3.10/dist-packages (from jinja2->spacy<3.8.0,>=3.7.0->de-core-news-sm==3.7.0) (2.1.3)\n",
            "Installing collected packages: de-core-news-sm\n",
            "Successfully installed de-core-news-sm-3.7.0\n",
            "\u001b[38;5;2m✔ Download and installation successful\u001b[0m\n",
            "You can now load the package via spacy.load('de_core_news_sm')\n",
            "2023-12-31 23:06:27.392545: E external/local_xla/xla/stream_executor/cuda/cuda_dnn.cc:9261] Unable to register cuDNN factory: Attempting to register factory for plugin cuDNN when one has already been registered\n",
            "2023-12-31 23:06:27.392589: E external/local_xla/xla/stream_executor/cuda/cuda_fft.cc:607] Unable to register cuFFT factory: Attempting to register factory for plugin cuFFT when one has already been registered\n",
            "2023-12-31 23:06:27.393828: E external/local_xla/xla/stream_executor/cuda/cuda_blas.cc:1515] Unable to register cuBLAS factory: Attempting to register factory for plugin cuBLAS when one has already been registered\n",
            "2023-12-31 23:06:27.400648: I tensorflow/core/platform/cpu_feature_guard.cc:182] This TensorFlow binary is optimized to use available CPU instructions in performance-critical operations.\n",
            "To enable the following instructions: AVX2 AVX512F FMA, in other operations, rebuild TensorFlow with the appropriate compiler flags.\n",
            "2023-12-31 23:06:28.418790: W tensorflow/compiler/tf2tensorrt/utils/py_utils.cc:38] TF-TRT Warning: Could not find TensorRT\n",
            "2023-12-31 23:06:29.831157: I external/local_xla/xla/stream_executor/cuda/cuda_executor.cc:901] successful NUMA node read from SysFS had negative value (-1), but there must be at least one NUMA node, so returning NUMA node zero. See more at https://github.com/torvalds/linux/blob/v6.0/Documentation/ABI/testing/sysfs-bus-pci#L344-L355\n",
            "2023-12-31 23:06:29.831567: I external/local_xla/xla/stream_executor/cuda/cuda_executor.cc:901] successful NUMA node read from SysFS had negative value (-1), but there must be at least one NUMA node, so returning NUMA node zero. See more at https://github.com/torvalds/linux/blob/v6.0/Documentation/ABI/testing/sysfs-bus-pci#L344-L355\n",
            "2023-12-31 23:06:29.831725: I external/local_xla/xla/stream_executor/cuda/cuda_executor.cc:901] successful NUMA node read from SysFS had negative value (-1), but there must be at least one NUMA node, so returning NUMA node zero. See more at https://github.com/torvalds/linux/blob/v6.0/Documentation/ABI/testing/sysfs-bus-pci#L344-L355\n",
            "Collecting en-core-web-sm==3.7.1\n",
            "  Downloading https://github.com/explosion/spacy-models/releases/download/en_core_web_sm-3.7.1/en_core_web_sm-3.7.1-py3-none-any.whl (12.8 MB)\n",
            "\u001b[2K     \u001b[90m━━━━━━━━━━━━━━━━━━━━━━━━━━━━━━━━━━━━━━━━\u001b[0m \u001b[32m12.8/12.8 MB\u001b[0m \u001b[31m37.7 MB/s\u001b[0m eta \u001b[36m0:00:00\u001b[0m\n",
            "\u001b[?25hRequirement already satisfied: spacy<3.8.0,>=3.7.2 in /usr/local/lib/python3.10/dist-packages (from en-core-web-sm==3.7.1) (3.7.2)\n",
            "Requirement already satisfied: spacy-legacy<3.1.0,>=3.0.11 in /usr/local/lib/python3.10/dist-packages (from spacy<3.8.0,>=3.7.2->en-core-web-sm==3.7.1) (3.0.12)\n",
            "Requirement already satisfied: spacy-loggers<2.0.0,>=1.0.0 in /usr/local/lib/python3.10/dist-packages (from spacy<3.8.0,>=3.7.2->en-core-web-sm==3.7.1) (1.0.5)\n",
            "Requirement already satisfied: murmurhash<1.1.0,>=0.28.0 in /usr/local/lib/python3.10/dist-packages (from spacy<3.8.0,>=3.7.2->en-core-web-sm==3.7.1) (1.0.10)\n",
            "Requirement already satisfied: cymem<2.1.0,>=2.0.2 in /usr/local/lib/python3.10/dist-packages (from spacy<3.8.0,>=3.7.2->en-core-web-sm==3.7.1) (2.0.8)\n",
            "Requirement already satisfied: preshed<3.1.0,>=3.0.2 in /usr/local/lib/python3.10/dist-packages (from spacy<3.8.0,>=3.7.2->en-core-web-sm==3.7.1) (3.0.9)\n",
            "Requirement already satisfied: thinc<8.3.0,>=8.1.8 in /usr/local/lib/python3.10/dist-packages (from spacy<3.8.0,>=3.7.2->en-core-web-sm==3.7.1) (8.1.12)\n",
            "Requirement already satisfied: wasabi<1.2.0,>=0.9.1 in /usr/local/lib/python3.10/dist-packages (from spacy<3.8.0,>=3.7.2->en-core-web-sm==3.7.1) (1.1.2)\n",
            "Requirement already satisfied: srsly<3.0.0,>=2.4.3 in /usr/local/lib/python3.10/dist-packages (from spacy<3.8.0,>=3.7.2->en-core-web-sm==3.7.1) (2.4.8)\n",
            "Requirement already satisfied: catalogue<2.1.0,>=2.0.6 in /usr/local/lib/python3.10/dist-packages (from spacy<3.8.0,>=3.7.2->en-core-web-sm==3.7.1) (2.0.10)\n",
            "Requirement already satisfied: weasel<0.4.0,>=0.1.0 in /usr/local/lib/python3.10/dist-packages (from spacy<3.8.0,>=3.7.2->en-core-web-sm==3.7.1) (0.3.4)\n",
            "Requirement already satisfied: typer<0.10.0,>=0.3.0 in /usr/local/lib/python3.10/dist-packages (from spacy<3.8.0,>=3.7.2->en-core-web-sm==3.7.1) (0.9.0)\n",
            "Requirement already satisfied: smart-open<7.0.0,>=5.2.1 in /usr/local/lib/python3.10/dist-packages (from spacy<3.8.0,>=3.7.2->en-core-web-sm==3.7.1) (6.4.0)\n",
            "Requirement already satisfied: tqdm<5.0.0,>=4.38.0 in /usr/local/lib/python3.10/dist-packages (from spacy<3.8.0,>=3.7.2->en-core-web-sm==3.7.1) (4.66.1)\n",
            "Requirement already satisfied: requests<3.0.0,>=2.13.0 in /usr/local/lib/python3.10/dist-packages (from spacy<3.8.0,>=3.7.2->en-core-web-sm==3.7.1) (2.31.0)\n",
            "Requirement already satisfied: pydantic!=1.8,!=1.8.1,<3.0.0,>=1.7.4 in /usr/local/lib/python3.10/dist-packages (from spacy<3.8.0,>=3.7.2->en-core-web-sm==3.7.1) (1.10.13)\n",
            "Requirement already satisfied: jinja2 in /usr/local/lib/python3.10/dist-packages (from spacy<3.8.0,>=3.7.2->en-core-web-sm==3.7.1) (3.1.2)\n",
            "Requirement already satisfied: setuptools in /usr/local/lib/python3.10/dist-packages (from spacy<3.8.0,>=3.7.2->en-core-web-sm==3.7.1) (67.7.2)\n",
            "Requirement already satisfied: packaging>=20.0 in /usr/local/lib/python3.10/dist-packages (from spacy<3.8.0,>=3.7.2->en-core-web-sm==3.7.1) (23.2)\n",
            "Requirement already satisfied: langcodes<4.0.0,>=3.2.0 in /usr/local/lib/python3.10/dist-packages (from spacy<3.8.0,>=3.7.2->en-core-web-sm==3.7.1) (3.3.0)\n",
            "Requirement already satisfied: numpy>=1.19.0 in /usr/local/lib/python3.10/dist-packages (from spacy<3.8.0,>=3.7.2->en-core-web-sm==3.7.1) (1.23.5)\n",
            "Requirement already satisfied: typing-extensions>=4.2.0 in /usr/local/lib/python3.10/dist-packages (from pydantic!=1.8,!=1.8.1,<3.0.0,>=1.7.4->spacy<3.8.0,>=3.7.2->en-core-web-sm==3.7.1) (4.5.0)\n",
            "Requirement already satisfied: charset-normalizer<4,>=2 in /usr/local/lib/python3.10/dist-packages (from requests<3.0.0,>=2.13.0->spacy<3.8.0,>=3.7.2->en-core-web-sm==3.7.1) (3.3.2)\n",
            "Requirement already satisfied: idna<4,>=2.5 in /usr/local/lib/python3.10/dist-packages (from requests<3.0.0,>=2.13.0->spacy<3.8.0,>=3.7.2->en-core-web-sm==3.7.1) (3.6)\n",
            "Requirement already satisfied: urllib3<3,>=1.21.1 in /usr/local/lib/python3.10/dist-packages (from requests<3.0.0,>=2.13.0->spacy<3.8.0,>=3.7.2->en-core-web-sm==3.7.1) (2.0.7)\n",
            "Requirement already satisfied: certifi>=2017.4.17 in /usr/local/lib/python3.10/dist-packages (from requests<3.0.0,>=2.13.0->spacy<3.8.0,>=3.7.2->en-core-web-sm==3.7.1) (2023.11.17)\n",
            "Requirement already satisfied: blis<0.8.0,>=0.7.8 in /usr/local/lib/python3.10/dist-packages (from thinc<8.3.0,>=8.1.8->spacy<3.8.0,>=3.7.2->en-core-web-sm==3.7.1) (0.7.11)\n",
            "Requirement already satisfied: confection<1.0.0,>=0.0.1 in /usr/local/lib/python3.10/dist-packages (from thinc<8.3.0,>=8.1.8->spacy<3.8.0,>=3.7.2->en-core-web-sm==3.7.1) (0.1.4)\n",
            "Requirement already satisfied: click<9.0.0,>=7.1.1 in /usr/local/lib/python3.10/dist-packages (from typer<0.10.0,>=0.3.0->spacy<3.8.0,>=3.7.2->en-core-web-sm==3.7.1) (8.1.7)\n",
            "Requirement already satisfied: cloudpathlib<0.17.0,>=0.7.0 in /usr/local/lib/python3.10/dist-packages (from weasel<0.4.0,>=0.1.0->spacy<3.8.0,>=3.7.2->en-core-web-sm==3.7.1) (0.16.0)\n",
            "Requirement already satisfied: MarkupSafe>=2.0 in /usr/local/lib/python3.10/dist-packages (from jinja2->spacy<3.8.0,>=3.7.2->en-core-web-sm==3.7.1) (2.1.3)\n",
            "Installing collected packages: en-core-web-sm\n",
            "  Attempting uninstall: en-core-web-sm\n",
            "    Found existing installation: en-core-web-sm 3.6.0\n",
            "    Uninstalling en-core-web-sm-3.6.0:\n",
            "      Successfully uninstalled en-core-web-sm-3.6.0\n",
            "Successfully installed en-core-web-sm-3.7.1\n",
            "\u001b[38;5;2m✔ Download and installation successful\u001b[0m\n",
            "You can now load the package via spacy.load('en_core_web_sm')\n"
          ]
        }
      ],
      "source": [
        "# !pip uninstall --yes spacy\n",
        "!pip install -U spacy\n",
        "!python -m spacy download de_core_news_sm\n",
        "!python -m spacy download en_core_web_sm\n",
        "import en_core_web_sm\n",
        "import de_core_news_sm\n",
        "\n",
        "en_tokenizer = en_core_web_sm.load()\n",
        "de_tokenizer = de_core_news_sm.load()"
      ],
      "id": "dfda2e7e-4297-4106-9a72-6c729c9de94e"
    },
    {
      "cell_type": "code",
      "execution_count": 9,
      "metadata": {
        "colab": {
          "base_uri": "https://localhost:8080/"
        },
        "id": "cf07167b-93bc-4a95-bd00-fcc368900741",
        "outputId": "336b173b-0aec-4f85-e146-b07ab7ba3641"
      },
      "outputs": [
        {
          "output_type": "stream",
          "name": "stdout",
          "text": [
            "len(de_toks)=7848 len(en_toks)=5889\n"
          ]
        }
      ],
      "source": [
        "from collections import Counter\n",
        "\n",
        "def get_unique_tokens(text, tokenizer, min_freq):\n",
        "    cnt = Counter()\n",
        "    for doc in tokenizer.pipe(text):\n",
        "        doc_tokens = [tok.text.strip().lower() for tok in doc if len(tok.text) > 0]\n",
        "        cnt.update(doc_tokens)\n",
        "    return [tok for tok, freq in cnt.most_common() if freq >= min_freq]\n",
        "\n",
        "src_text, targ_text = list(zip(*train_data))\n",
        "\n",
        "min_freq = 2\n",
        "\n",
        "de_toks = get_unique_tokens(src_text, de_tokenizer, min_freq)\n",
        "en_toks = get_unique_tokens(targ_text, en_tokenizer, min_freq)\n",
        "print(f\"{len(de_toks)=} {len(en_toks)=}\")\n"
      ],
      "id": "cf07167b-93bc-4a95-bd00-fcc368900741"
    },
    {
      "cell_type": "code",
      "execution_count": 10,
      "metadata": {
        "id": "50469226-4ede-4e94-b45a-1531f75cd8d1"
      },
      "outputs": [],
      "source": [
        "# special token indices\n",
        "UNK_IDX = 0\n",
        "PAD_IDX = 1\n",
        "SOS_IDX = 2\n",
        "EOS_IDX = 3\n",
        "\n",
        "UNK = '<unk>' # Unknown\n",
        "PAD = '<pad>' # Padding\n",
        "SOS = '<sos>' # Start of sentence\n",
        "EOS = '<eos>' # End of sentence\n",
        "\n",
        "SPECIAL_TOKENS = [UNK, PAD, SOS, EOS]\n",
        "\n",
        "class Vocab:\n",
        "    def __init__(self, tokenizer, tokens):\n",
        "        self.tokenizer = tokenizer\n",
        "        self.tokens = SPECIAL_TOKENS + tokens\n",
        "        self.token_idxs = {self.tokens[i]: i for i in range(len(self.tokens))}\n",
        "\n",
        "    def __call__(self, text):\n",
        "        return [self.numerify(tok.text.strip().lower()) for tok in self.tokenizer(text)]\n",
        "\n",
        "    def numerify(self, tok):\n",
        "        if tok not in self.token_idxs:\n",
        "            return UNK_IDX\n",
        "        return self.token_idxs[tok]\n",
        "\n",
        "    def textify(self, idx):\n",
        "        return self.tokens[idx]\n",
        "\n",
        "    def to_string(self, idxs):\n",
        "        for i in range(idxs.shape[0]):\n",
        "            return \" \".join([self.textify(idx) for idx in idxs[i]])\n",
        "\n",
        "de_vocab = Vocab(de_tokenizer, de_toks)\n",
        "en_vocab = Vocab(en_tokenizer, en_toks)"
      ],
      "id": "50469226-4ede-4e94-b45a-1531f75cd8d1"
    },
    {
      "cell_type": "code",
      "execution_count": 11,
      "metadata": {
        "id": "7d0d16d8-9663-4a70-9bb6-f11851499309"
      },
      "outputs": [],
      "source": [
        "from torch.nn.utils.rnn import pad_sequence\n",
        "import random\n",
        "\n",
        "def make_dataloader(dataset, batch_size, context_size, device):\n",
        "    def sort_by_length(bucket):\n",
        "      return sorted(bucket, key= lambda x: len(x[0]))\n",
        "\n",
        "    # dataset = dataset.bucketbatch(batch_size=batch_size, sort_key=sort_by_length, bucket_num=1)\n",
        "\n",
        "    def collate_fn(batch):\n",
        "        srcs = []\n",
        "        targs = []\n",
        "\n",
        "        for i, (src_sentence, targ_sentence) in enumerate(batch):\n",
        "            if len(src_sentence) == 0 or len(targ_sentence) == 0:\n",
        "              continue\n",
        "            src = [SOS_IDX] + de_vocab(src_sentence) + [EOS_IDX]\n",
        "            targ = [SOS_IDX] + en_vocab(targ_sentence) + [EOS_IDX]\n",
        "\n",
        "            srcs.append(torch.tensor(src))\n",
        "            targs.append(torch.tensor(targ))\n",
        "\n",
        "        src_batch = pad_sequence(srcs, padding_value=PAD_IDX, batch_first=True)\n",
        "        targ_batch = pad_sequence(targs, padding_value=PAD_IDX, batch_first=True)\n",
        "\n",
        "        # src_batch = torch.cat((src_batch, torch.full((src_batch.shape[0], 1), PAD_IDX)), axis=-1)\n",
        "        # targ_batch = torch.cat((targ_batch, torch.full((src_batch.shape[0], 1), PAD_IDX)), axis=-1)\n",
        "\n",
        "        # decoder wants target starting with SOS\n",
        "        target_batch = targ_batch[:, :-1]\n",
        "        # however when calculating loss we are only interested in tokens after SOS and ending with EOS\n",
        "        label_batch = targ_batch[:, 1:]\n",
        "        src_mask, targ_mask = create_mask(src_batch, target_batch, PAD_IDX) # TODO: understand what the hell happens with different context lengths\n",
        "\n",
        "        all_batches = [src_batch, target_batch, label_batch, src_mask, targ_mask]\n",
        "        return [b.to(device, dtype=torch.long) for b in all_batches]\n",
        "\n",
        "    return DataLoader(dataset, batch_size=batch_size, collate_fn=collate_fn)\n",
        "\n",
        "\n",
        "device= 'cuda' if torch.cuda.is_available() else 'cpu'\n",
        "# device=\"cpu\"\n",
        "\n",
        "\n",
        "train_dataloader = make_dataloader(train_data, 128, 100, device)\n",
        "val_dataloader = make_dataloader(val_data, 128, 100, device)\n",
        "# test_dataloader = make_dataloader(test_data, 100, 40, device)"
      ],
      "id": "7d0d16d8-9663-4a70-9bb6-f11851499309"
    },
    {
      "cell_type": "code",
      "execution_count": 12,
      "metadata": {
        "colab": {
          "base_uri": "https://localhost:8080/",
          "height": 442
        },
        "id": "44d49ba4-0cdb-44e3-ab63-a4cd6de56d5a",
        "outputId": "416d70c6-f01d-43fa-d29e-0847dc0f91fb"
      },
      "outputs": [
        {
          "output_type": "stream",
          "name": "stderr",
          "text": [
            "\r0batch [00:00, ?batch/s]/usr/local/lib/python3.10/dist-packages/torch/utils/data/datapipes/iter/combining.py:333: UserWarning: Some child DataPipes are not exhausted when __iter__ is called. We are resetting the buffer and each child DataPipe will read from the start again.\n",
            "  warnings.warn(\"Some child DataPipes are not exhausted when __iter__ is called. We are resetting \"\n",
            "95batch [03:20,  2.11s/batch]\n"
          ]
        },
        {
          "output_type": "error",
          "ename": "KeyboardInterrupt",
          "evalue": "ignored",
          "traceback": [
            "\u001b[0;31m---------------------------------------------------------------------------\u001b[0m",
            "\u001b[0;31mKeyboardInterrupt\u001b[0m                         Traceback (most recent call last)",
            "\u001b[0;32m<ipython-input-12-cd14a5f00e70>\u001b[0m in \u001b[0;36m<cell line: 68>\u001b[0;34m()\u001b[0m\n\u001b[1;32m     69\u001b[0m     \u001b[0mstart_time\u001b[0m \u001b[0;34m=\u001b[0m \u001b[0mdatetime\u001b[0m\u001b[0;34m.\u001b[0m\u001b[0mdatetime\u001b[0m\u001b[0;34m.\u001b[0m\u001b[0mutcnow\u001b[0m\u001b[0;34m(\u001b[0m\u001b[0;34m)\u001b[0m\u001b[0;34m\u001b[0m\u001b[0;34m\u001b[0m\u001b[0m\n\u001b[1;32m     70\u001b[0m \u001b[0;34m\u001b[0m\u001b[0m\n\u001b[0;32m---> 71\u001b[0;31m     \u001b[0mtrain_loss\u001b[0m \u001b[0;34m=\u001b[0m \u001b[0mtrain\u001b[0m\u001b[0;34m(\u001b[0m\u001b[0mmodel\u001b[0m\u001b[0;34m,\u001b[0m \u001b[0mtrain_dataloader\u001b[0m\u001b[0;34m,\u001b[0m \u001b[0mcriterion\u001b[0m\u001b[0;34m,\u001b[0m \u001b[0moptim\u001b[0m\u001b[0;34m)\u001b[0m\u001b[0;34m\u001b[0m\u001b[0;34m\u001b[0m\u001b[0m\n\u001b[0m\u001b[1;32m     72\u001b[0m     \u001b[0mval_loss\u001b[0m \u001b[0;34m=\u001b[0m \u001b[0mevaluate\u001b[0m\u001b[0;34m(\u001b[0m\u001b[0mmodel\u001b[0m\u001b[0;34m,\u001b[0m \u001b[0mval_dataloader\u001b[0m\u001b[0;34m,\u001b[0m \u001b[0mcriterion\u001b[0m\u001b[0;34m)\u001b[0m\u001b[0;34m\u001b[0m\u001b[0;34m\u001b[0m\u001b[0m\n\u001b[1;32m     73\u001b[0m \u001b[0;34m\u001b[0m\u001b[0m\n",
            "\u001b[0;32m<ipython-input-5-b67d4027f9da>\u001b[0m in \u001b[0;36mtrain\u001b[0;34m(model, dataloader, criterion, optim)\u001b[0m\n\u001b[1;32m      6\u001b[0m     \u001b[0mmodel\u001b[0m\u001b[0;34m.\u001b[0m\u001b[0mtrain\u001b[0m\u001b[0;34m(\u001b[0m\u001b[0;34m)\u001b[0m\u001b[0;34m\u001b[0m\u001b[0;34m\u001b[0m\u001b[0m\n\u001b[1;32m      7\u001b[0m     \u001b[0;32mwith\u001b[0m \u001b[0mtqdm\u001b[0m\u001b[0;34m(\u001b[0m\u001b[0mdataloader\u001b[0m\u001b[0;34m,\u001b[0m \u001b[0munit\u001b[0m\u001b[0;34m=\u001b[0m\u001b[0;34m\"batch\"\u001b[0m\u001b[0;34m)\u001b[0m \u001b[0;32mas\u001b[0m \u001b[0mbatch_iter\u001b[0m\u001b[0;34m:\u001b[0m\u001b[0;34m\u001b[0m\u001b[0;34m\u001b[0m\u001b[0m\n\u001b[0;32m----> 8\u001b[0;31m       \u001b[0;32mfor\u001b[0m \u001b[0msrc\u001b[0m\u001b[0;34m,\u001b[0m \u001b[0mtarg\u001b[0m\u001b[0;34m,\u001b[0m \u001b[0mlabels\u001b[0m\u001b[0;34m,\u001b[0m \u001b[0msrc_mask\u001b[0m\u001b[0;34m,\u001b[0m \u001b[0mtarg_mask\u001b[0m \u001b[0;32min\u001b[0m \u001b[0mbatch_iter\u001b[0m\u001b[0;34m:\u001b[0m\u001b[0;34m\u001b[0m\u001b[0;34m\u001b[0m\u001b[0m\n\u001b[0m\u001b[1;32m      9\u001b[0m           \u001b[0;31m# forward pass\u001b[0m\u001b[0;34m\u001b[0m\u001b[0;34m\u001b[0m\u001b[0m\n\u001b[1;32m     10\u001b[0m           \u001b[0mlogits\u001b[0m \u001b[0;34m=\u001b[0m \u001b[0mmodel\u001b[0m\u001b[0;34m(\u001b[0m\u001b[0msrc\u001b[0m\u001b[0;34m,\u001b[0m \u001b[0mtarg\u001b[0m\u001b[0;34m,\u001b[0m \u001b[0msrc_mask\u001b[0m\u001b[0;34m,\u001b[0m \u001b[0mtarg_mask\u001b[0m\u001b[0;34m)\u001b[0m\u001b[0;34m\u001b[0m\u001b[0;34m\u001b[0m\u001b[0m\n",
            "\u001b[0;32m/usr/local/lib/python3.10/dist-packages/tqdm/std.py\u001b[0m in \u001b[0;36m__iter__\u001b[0;34m(self)\u001b[0m\n\u001b[1;32m   1180\u001b[0m \u001b[0;34m\u001b[0m\u001b[0m\n\u001b[1;32m   1181\u001b[0m         \u001b[0;32mtry\u001b[0m\u001b[0;34m:\u001b[0m\u001b[0;34m\u001b[0m\u001b[0;34m\u001b[0m\u001b[0m\n\u001b[0;32m-> 1182\u001b[0;31m             \u001b[0;32mfor\u001b[0m \u001b[0mobj\u001b[0m \u001b[0;32min\u001b[0m \u001b[0miterable\u001b[0m\u001b[0;34m:\u001b[0m\u001b[0;34m\u001b[0m\u001b[0;34m\u001b[0m\u001b[0m\n\u001b[0m\u001b[1;32m   1183\u001b[0m                 \u001b[0;32myield\u001b[0m \u001b[0mobj\u001b[0m\u001b[0;34m\u001b[0m\u001b[0;34m\u001b[0m\u001b[0m\n\u001b[1;32m   1184\u001b[0m                 \u001b[0;31m# Update and possibly print the progressbar.\u001b[0m\u001b[0;34m\u001b[0m\u001b[0;34m\u001b[0m\u001b[0m\n",
            "\u001b[0;32m/usr/local/lib/python3.10/dist-packages/torch/utils/data/dataloader.py\u001b[0m in \u001b[0;36m__next__\u001b[0;34m(self)\u001b[0m\n\u001b[1;32m    628\u001b[0m                 \u001b[0;31m# TODO(https://github.com/pytorch/pytorch/issues/76750)\u001b[0m\u001b[0;34m\u001b[0m\u001b[0;34m\u001b[0m\u001b[0m\n\u001b[1;32m    629\u001b[0m                 \u001b[0mself\u001b[0m\u001b[0;34m.\u001b[0m\u001b[0m_reset\u001b[0m\u001b[0;34m(\u001b[0m\u001b[0;34m)\u001b[0m  \u001b[0;31m# type: ignore[call-arg]\u001b[0m\u001b[0;34m\u001b[0m\u001b[0;34m\u001b[0m\u001b[0m\n\u001b[0;32m--> 630\u001b[0;31m             \u001b[0mdata\u001b[0m \u001b[0;34m=\u001b[0m \u001b[0mself\u001b[0m\u001b[0;34m.\u001b[0m\u001b[0m_next_data\u001b[0m\u001b[0;34m(\u001b[0m\u001b[0;34m)\u001b[0m\u001b[0;34m\u001b[0m\u001b[0;34m\u001b[0m\u001b[0m\n\u001b[0m\u001b[1;32m    631\u001b[0m             \u001b[0mself\u001b[0m\u001b[0;34m.\u001b[0m\u001b[0m_num_yielded\u001b[0m \u001b[0;34m+=\u001b[0m \u001b[0;36m1\u001b[0m\u001b[0;34m\u001b[0m\u001b[0;34m\u001b[0m\u001b[0m\n\u001b[1;32m    632\u001b[0m             \u001b[0;32mif\u001b[0m \u001b[0mself\u001b[0m\u001b[0;34m.\u001b[0m\u001b[0m_dataset_kind\u001b[0m \u001b[0;34m==\u001b[0m \u001b[0m_DatasetKind\u001b[0m\u001b[0;34m.\u001b[0m\u001b[0mIterable\u001b[0m \u001b[0;32mand\u001b[0m\u001b[0;31m \u001b[0m\u001b[0;31m\\\u001b[0m\u001b[0;34m\u001b[0m\u001b[0;34m\u001b[0m\u001b[0m\n",
            "\u001b[0;32m/usr/local/lib/python3.10/dist-packages/torch/utils/data/dataloader.py\u001b[0m in \u001b[0;36m_next_data\u001b[0;34m(self)\u001b[0m\n\u001b[1;32m    672\u001b[0m     \u001b[0;32mdef\u001b[0m \u001b[0m_next_data\u001b[0m\u001b[0;34m(\u001b[0m\u001b[0mself\u001b[0m\u001b[0;34m)\u001b[0m\u001b[0;34m:\u001b[0m\u001b[0;34m\u001b[0m\u001b[0;34m\u001b[0m\u001b[0m\n\u001b[1;32m    673\u001b[0m         \u001b[0mindex\u001b[0m \u001b[0;34m=\u001b[0m \u001b[0mself\u001b[0m\u001b[0;34m.\u001b[0m\u001b[0m_next_index\u001b[0m\u001b[0;34m(\u001b[0m\u001b[0;34m)\u001b[0m  \u001b[0;31m# may raise StopIteration\u001b[0m\u001b[0;34m\u001b[0m\u001b[0;34m\u001b[0m\u001b[0m\n\u001b[0;32m--> 674\u001b[0;31m         \u001b[0mdata\u001b[0m \u001b[0;34m=\u001b[0m \u001b[0mself\u001b[0m\u001b[0;34m.\u001b[0m\u001b[0m_dataset_fetcher\u001b[0m\u001b[0;34m.\u001b[0m\u001b[0mfetch\u001b[0m\u001b[0;34m(\u001b[0m\u001b[0mindex\u001b[0m\u001b[0;34m)\u001b[0m  \u001b[0;31m# may raise StopIteration\u001b[0m\u001b[0;34m\u001b[0m\u001b[0;34m\u001b[0m\u001b[0m\n\u001b[0m\u001b[1;32m    675\u001b[0m         \u001b[0;32mif\u001b[0m \u001b[0mself\u001b[0m\u001b[0;34m.\u001b[0m\u001b[0m_pin_memory\u001b[0m\u001b[0;34m:\u001b[0m\u001b[0;34m\u001b[0m\u001b[0;34m\u001b[0m\u001b[0m\n\u001b[1;32m    676\u001b[0m             \u001b[0mdata\u001b[0m \u001b[0;34m=\u001b[0m \u001b[0m_utils\u001b[0m\u001b[0;34m.\u001b[0m\u001b[0mpin_memory\u001b[0m\u001b[0;34m.\u001b[0m\u001b[0mpin_memory\u001b[0m\u001b[0;34m(\u001b[0m\u001b[0mdata\u001b[0m\u001b[0;34m,\u001b[0m \u001b[0mself\u001b[0m\u001b[0;34m.\u001b[0m\u001b[0m_pin_memory_device\u001b[0m\u001b[0;34m)\u001b[0m\u001b[0;34m\u001b[0m\u001b[0;34m\u001b[0m\u001b[0m\n",
            "\u001b[0;32m/usr/local/lib/python3.10/dist-packages/torch/utils/data/_utils/fetch.py\u001b[0m in \u001b[0;36mfetch\u001b[0;34m(self, possibly_batched_index)\u001b[0m\n\u001b[1;32m     40\u001b[0m         \u001b[0;32melse\u001b[0m\u001b[0;34m:\u001b[0m\u001b[0;34m\u001b[0m\u001b[0;34m\u001b[0m\u001b[0m\n\u001b[1;32m     41\u001b[0m             \u001b[0mdata\u001b[0m \u001b[0;34m=\u001b[0m \u001b[0mnext\u001b[0m\u001b[0;34m(\u001b[0m\u001b[0mself\u001b[0m\u001b[0;34m.\u001b[0m\u001b[0mdataset_iter\u001b[0m\u001b[0;34m)\u001b[0m\u001b[0;34m\u001b[0m\u001b[0;34m\u001b[0m\u001b[0m\n\u001b[0;32m---> 42\u001b[0;31m         \u001b[0;32mreturn\u001b[0m \u001b[0mself\u001b[0m\u001b[0;34m.\u001b[0m\u001b[0mcollate_fn\u001b[0m\u001b[0;34m(\u001b[0m\u001b[0mdata\u001b[0m\u001b[0;34m)\u001b[0m\u001b[0;34m\u001b[0m\u001b[0;34m\u001b[0m\u001b[0m\n\u001b[0m\u001b[1;32m     43\u001b[0m \u001b[0;34m\u001b[0m\u001b[0m\n\u001b[1;32m     44\u001b[0m \u001b[0;34m\u001b[0m\u001b[0m\n",
            "\u001b[0;32m<ipython-input-11-c8d5e5c19cc1>\u001b[0m in \u001b[0;36mcollate_fn\u001b[0;34m(batch)\u001b[0m\n\u001b[1;32m     15\u001b[0m             \u001b[0;32mif\u001b[0m \u001b[0mlen\u001b[0m\u001b[0;34m(\u001b[0m\u001b[0msrc_sentence\u001b[0m\u001b[0;34m)\u001b[0m \u001b[0;34m==\u001b[0m \u001b[0;36m0\u001b[0m \u001b[0;32mor\u001b[0m \u001b[0mlen\u001b[0m\u001b[0;34m(\u001b[0m\u001b[0mtarg_sentence\u001b[0m\u001b[0;34m)\u001b[0m \u001b[0;34m==\u001b[0m \u001b[0;36m0\u001b[0m\u001b[0;34m:\u001b[0m\u001b[0;34m\u001b[0m\u001b[0;34m\u001b[0m\u001b[0m\n\u001b[1;32m     16\u001b[0m               \u001b[0;32mcontinue\u001b[0m\u001b[0;34m\u001b[0m\u001b[0;34m\u001b[0m\u001b[0m\n\u001b[0;32m---> 17\u001b[0;31m             \u001b[0msrc\u001b[0m \u001b[0;34m=\u001b[0m \u001b[0;34m[\u001b[0m\u001b[0mSOS_IDX\u001b[0m\u001b[0;34m]\u001b[0m \u001b[0;34m+\u001b[0m \u001b[0mde_vocab\u001b[0m\u001b[0;34m(\u001b[0m\u001b[0msrc_sentence\u001b[0m\u001b[0;34m)\u001b[0m \u001b[0;34m+\u001b[0m \u001b[0;34m[\u001b[0m\u001b[0mEOS_IDX\u001b[0m\u001b[0;34m]\u001b[0m\u001b[0;34m\u001b[0m\u001b[0;34m\u001b[0m\u001b[0m\n\u001b[0m\u001b[1;32m     18\u001b[0m             \u001b[0mtarg\u001b[0m \u001b[0;34m=\u001b[0m \u001b[0;34m[\u001b[0m\u001b[0mSOS_IDX\u001b[0m\u001b[0;34m]\u001b[0m \u001b[0;34m+\u001b[0m \u001b[0men_vocab\u001b[0m\u001b[0;34m(\u001b[0m\u001b[0mtarg_sentence\u001b[0m\u001b[0;34m)\u001b[0m \u001b[0;34m+\u001b[0m \u001b[0;34m[\u001b[0m\u001b[0mEOS_IDX\u001b[0m\u001b[0;34m]\u001b[0m\u001b[0;34m\u001b[0m\u001b[0;34m\u001b[0m\u001b[0m\n\u001b[1;32m     19\u001b[0m \u001b[0;34m\u001b[0m\u001b[0m\n",
            "\u001b[0;32m<ipython-input-10-9ae2a290cee6>\u001b[0m in \u001b[0;36m__call__\u001b[0;34m(self, text)\u001b[0m\n\u001b[1;32m     19\u001b[0m \u001b[0;34m\u001b[0m\u001b[0m\n\u001b[1;32m     20\u001b[0m     \u001b[0;32mdef\u001b[0m \u001b[0m__call__\u001b[0m\u001b[0;34m(\u001b[0m\u001b[0mself\u001b[0m\u001b[0;34m,\u001b[0m \u001b[0mtext\u001b[0m\u001b[0;34m)\u001b[0m\u001b[0;34m:\u001b[0m\u001b[0;34m\u001b[0m\u001b[0;34m\u001b[0m\u001b[0m\n\u001b[0;32m---> 21\u001b[0;31m         \u001b[0;32mreturn\u001b[0m \u001b[0;34m[\u001b[0m\u001b[0mself\u001b[0m\u001b[0;34m.\u001b[0m\u001b[0mnumerify\u001b[0m\u001b[0;34m(\u001b[0m\u001b[0mtok\u001b[0m\u001b[0;34m.\u001b[0m\u001b[0mtext\u001b[0m\u001b[0;34m.\u001b[0m\u001b[0mstrip\u001b[0m\u001b[0;34m(\u001b[0m\u001b[0;34m)\u001b[0m\u001b[0;34m.\u001b[0m\u001b[0mlower\u001b[0m\u001b[0;34m(\u001b[0m\u001b[0;34m)\u001b[0m\u001b[0;34m)\u001b[0m \u001b[0;32mfor\u001b[0m \u001b[0mtok\u001b[0m \u001b[0;32min\u001b[0m \u001b[0mself\u001b[0m\u001b[0;34m.\u001b[0m\u001b[0mtokenizer\u001b[0m\u001b[0;34m(\u001b[0m\u001b[0mtext\u001b[0m\u001b[0;34m)\u001b[0m\u001b[0;34m]\u001b[0m\u001b[0;34m\u001b[0m\u001b[0;34m\u001b[0m\u001b[0m\n\u001b[0m\u001b[1;32m     22\u001b[0m \u001b[0;34m\u001b[0m\u001b[0m\n\u001b[1;32m     23\u001b[0m     \u001b[0;32mdef\u001b[0m \u001b[0mnumerify\u001b[0m\u001b[0;34m(\u001b[0m\u001b[0mself\u001b[0m\u001b[0;34m,\u001b[0m \u001b[0mtok\u001b[0m\u001b[0;34m)\u001b[0m\u001b[0;34m:\u001b[0m\u001b[0;34m\u001b[0m\u001b[0;34m\u001b[0m\u001b[0m\n",
            "\u001b[0;32m/usr/local/lib/python3.10/dist-packages/spacy/language.py\u001b[0m in \u001b[0;36m__call__\u001b[0;34m(self, text, disable, component_cfg)\u001b[0m\n\u001b[1;32m   1047\u001b[0m                 \u001b[0merror_handler\u001b[0m \u001b[0;34m=\u001b[0m \u001b[0mproc\u001b[0m\u001b[0;34m.\u001b[0m\u001b[0mget_error_handler\u001b[0m\u001b[0;34m(\u001b[0m\u001b[0;34m)\u001b[0m\u001b[0;34m\u001b[0m\u001b[0;34m\u001b[0m\u001b[0m\n\u001b[1;32m   1048\u001b[0m             \u001b[0;32mtry\u001b[0m\u001b[0;34m:\u001b[0m\u001b[0;34m\u001b[0m\u001b[0;34m\u001b[0m\u001b[0m\n\u001b[0;32m-> 1049\u001b[0;31m                 \u001b[0mdoc\u001b[0m \u001b[0;34m=\u001b[0m \u001b[0mproc\u001b[0m\u001b[0;34m(\u001b[0m\u001b[0mdoc\u001b[0m\u001b[0;34m,\u001b[0m \u001b[0;34m**\u001b[0m\u001b[0mcomponent_cfg\u001b[0m\u001b[0;34m.\u001b[0m\u001b[0mget\u001b[0m\u001b[0;34m(\u001b[0m\u001b[0mname\u001b[0m\u001b[0;34m,\u001b[0m \u001b[0;34m{\u001b[0m\u001b[0;34m}\u001b[0m\u001b[0;34m)\u001b[0m\u001b[0;34m)\u001b[0m  \u001b[0;31m# type: ignore[call-arg]\u001b[0m\u001b[0;34m\u001b[0m\u001b[0;34m\u001b[0m\u001b[0m\n\u001b[0m\u001b[1;32m   1050\u001b[0m             \u001b[0;32mexcept\u001b[0m \u001b[0mKeyError\u001b[0m \u001b[0;32mas\u001b[0m \u001b[0me\u001b[0m\u001b[0;34m:\u001b[0m\u001b[0;34m\u001b[0m\u001b[0;34m\u001b[0m\u001b[0m\n\u001b[1;32m   1051\u001b[0m                 \u001b[0;31m# This typically happens if a component is not initialized\u001b[0m\u001b[0;34m\u001b[0m\u001b[0;34m\u001b[0m\u001b[0m\n",
            "\u001b[0;32m/usr/local/lib/python3.10/dist-packages/spacy/pipeline/trainable_pipe.pyx\u001b[0m in \u001b[0;36mspacy.pipeline.trainable_pipe.TrainablePipe.__call__\u001b[0;34m()\u001b[0m\n",
            "\u001b[0;32m/usr/local/lib/python3.10/dist-packages/spacy/pipeline/transition_parser.pyx\u001b[0m in \u001b[0;36mspacy.pipeline.transition_parser.Parser.set_annotations\u001b[0;34m()\u001b[0m\n",
            "\u001b[0;32m/usr/local/lib/python3.10/dist-packages/spacy/pipeline/_parser_internals/ner.pyx\u001b[0m in \u001b[0;36mspacy.pipeline._parser_internals.ner.BiluoPushDown.set_annotations\u001b[0;34m()\u001b[0m\n",
            "\u001b[0;32m/usr/local/lib/python3.10/dist-packages/spacy/tokens/doc.pyx\u001b[0m in \u001b[0;36mspacy.tokens.doc.Doc.set_ents\u001b[0;34m()\u001b[0m\n",
            "\u001b[0;32m/usr/local/lib/python3.10/dist-packages/spacy/tokens/doc.pyx\u001b[0m in \u001b[0;36mspacy.tokens.doc.SetEntsDefault.values\u001b[0;34m()\u001b[0m\n",
            "\u001b[0;32m/usr/lib/python3.10/enum.py\u001b[0m in \u001b[0;36m__members__\u001b[0;34m(cls)\u001b[0m\n\u001b[1;32m    449\u001b[0m         \u001b[0;32mreturn\u001b[0m \u001b[0mlen\u001b[0m\u001b[0;34m(\u001b[0m\u001b[0mcls\u001b[0m\u001b[0;34m.\u001b[0m\u001b[0m_member_names_\u001b[0m\u001b[0;34m)\u001b[0m\u001b[0;34m\u001b[0m\u001b[0;34m\u001b[0m\u001b[0m\n\u001b[1;32m    450\u001b[0m \u001b[0;34m\u001b[0m\u001b[0m\n\u001b[0;32m--> 451\u001b[0;31m     \u001b[0;34m@\u001b[0m\u001b[0mproperty\u001b[0m\u001b[0;34m\u001b[0m\u001b[0;34m\u001b[0m\u001b[0m\n\u001b[0m\u001b[1;32m    452\u001b[0m     \u001b[0;32mdef\u001b[0m \u001b[0m__members__\u001b[0m\u001b[0;34m(\u001b[0m\u001b[0mcls\u001b[0m\u001b[0;34m)\u001b[0m\u001b[0;34m:\u001b[0m\u001b[0;34m\u001b[0m\u001b[0;34m\u001b[0m\u001b[0m\n\u001b[1;32m    453\u001b[0m         \"\"\"\n",
            "\u001b[0;31mKeyboardInterrupt\u001b[0m: "
          ]
        }
      ],
      "source": [
        "import datetime\n",
        "import numpy as np\n",
        "from tqdm import tqdm\n",
        "\n",
        "SEED = 1234\n",
        "\n",
        "random.seed(SEED)\n",
        "np.random.seed(SEED)\n",
        "torch.manual_seed(SEED)\n",
        "torch.cuda.manual_seed(SEED)\n",
        "torch.backends.cudnn.deterministic = True\n",
        "\n",
        "# device = \"cuda\"\n",
        "\n",
        "\n",
        "model = EncoderDecoderTransformer(\n",
        "    n_heads=8, n_embed=256, dropout=0.1, n_blocks=3, ff_expansion_factor=2, context_size=100, input_vocab_size=len(de_vocab.tokens), output_vocab_size=len(en_vocab.tokens), pad_idx=PAD_IDX\n",
        ").to(device)\n",
        "\n",
        "criterion = nn.CrossEntropyLoss(ignore_index = PAD_IDX)\n",
        "\n",
        "# model = TestModel(d_model=256, n_heads=8, n_block=6, dropout=0.2, input_vocab_size=len(de_vocab.tokens), output_vocab_size=len(en_vocab.tokens), context_size=44+1).to(device)\n",
        "\n",
        "# NONSENSE START ##\n",
        "\n",
        "# INPUT_DIM = len(de_vocab.tokens)\n",
        "# OUTPUT_DIM = len(en_vocab.tokens)\n",
        "# HID_DIM = 256\n",
        "# ENC_LAYERS = 3\n",
        "# DEC_LAYERS = 3\n",
        "# ENC_HEADS = 8\n",
        "# DEC_HEADS = 8\n",
        "# ENC_PF_DIM = 512\n",
        "# DEC_PF_DIM = 512\n",
        "# ENC_DROPOUT = 0.1\n",
        "# DEC_DROPOUT = 0.1\n",
        "\n",
        "# enc = Encoder(INPUT_DIM,\n",
        "#               HID_DIM,\n",
        "#               ENC_LAYERS,\n",
        "#               ENC_HEADS,\n",
        "#               ENC_PF_DIM,\n",
        "#               ENC_DROPOUT,\n",
        "#               device)\n",
        "\n",
        "# dec = Decoder(OUTPUT_DIM,\n",
        "#               HID_DIM,\n",
        "#               DEC_LAYERS,\n",
        "#               DEC_HEADS,\n",
        "#               DEC_PF_DIM,\n",
        "#               DEC_DROPOUT,\n",
        "#               device)\n",
        "\n",
        "# model = Seq2Seq(enc, dec, PAD_IDX, PAD_IDX, device).to(device)\n",
        "\n",
        "model = model.apply(initialize_weights)\n",
        "\n",
        "# model.load_state_dict(torch.load(\"inited-model.pt\"))\n",
        "\n",
        "\n",
        "# NONSENSE END ##\n",
        "\n",
        "train_losses = []\n",
        "val_losses = []\n",
        "\n",
        "optim = torch.optim.Adam(model.parameters(), lr=0.0005, betas=(0.9, 0.999), eps=1e-08)\n",
        "\n",
        "for epoch in range(7):\n",
        "    start_time = datetime.datetime.utcnow()\n",
        "\n",
        "    train_loss = train(model, train_dataloader, criterion, optim)\n",
        "    val_loss = evaluate(model, val_dataloader, criterion)\n",
        "\n",
        "    # train_loss = train_test_model(model, train_dataloader, calculate_loss, optim, PAD_IDX)\n",
        "    # val_loss = evaluate_test_model(model, val_dataloader, calculate_loss, PAD_IDX)\n",
        "\n",
        "    end_time = datetime.datetime.utcnow()\n",
        "    print(f\"{train_loss=} {val_loss=} duration={end_time - start_time}\")\n",
        "    train_losses.append(train_loss)\n",
        "    val_losses.append(val_loss)\n"
      ],
      "id": "44d49ba4-0cdb-44e3-ab63-a4cd6de56d5a"
    },
    {
      "cell_type": "code",
      "execution_count": null,
      "metadata": {
        "id": "VJQW3T0Ouedd"
      },
      "outputs": [],
      "source": [
        "targ = torch.arange(99)\n",
        "src = torch.arange(5, 100)\n",
        "targ[-1] = PAD_IDX\n",
        "src[-1] = PAD_IDX\n",
        "targ = targ.unsqueeze(0)\n",
        "src = src.unsqueeze(0)\n",
        "\n",
        "src_mask, targ_mask = create_mask(src, targ, PAD_IDX)\n",
        "\n",
        "random.seed(SEED)\n",
        "np.random.seed(SEED)\n",
        "torch.manual_seed(SEED)\n",
        "torch.cuda.manual_seed(SEED)\n",
        "\n",
        "model = EncoderDecoderTransformer(\n",
        "    n_heads=8, n_embed=256, dropout=0.1, n_blocks=3, ff_expansion_factor=2, context_size=100, input_vocab_size=len(de_vocab.tokens), output_vocab_size=len(en_vocab.tokens), pad_idx=PAD_IDX\n",
        ").to(device)\n",
        "\n",
        "model.load_state_dict(torch.load(\"inited-model.pt\"))\n",
        "# model.apply(initialize_weights)\n",
        "model.eval()\n",
        "out = model(src.to(device), targ.to(device), src_mask.to(device), targ_mask.to(device))\n",
        "print(out.type())\n",
        "print(out[0, 80, 2])\n",
        "# print(torch.randn((1, 3)))"
      ],
      "id": "VJQW3T0Ouedd"
    },
    {
      "cell_type": "code",
      "execution_count": null,
      "metadata": {
        "id": "UIoKOZk47dZz"
      },
      "outputs": [],
      "source": [
        "print(model.encoders[0].attention.wk.weight.data[30,3])\n"
      ],
      "id": "UIoKOZk47dZz"
    },
    {
      "cell_type": "code",
      "execution_count": null,
      "metadata": {
        "id": "4BsWdoyN2-wX"
      },
      "outputs": [],
      "source": [
        "torch.all(labels.view(logits.shape[0] * logits.shape[1]) == labels.contiguous().view(-1))\n",
        "crit = nn.CrossEntropyLoss(ignore_index = PAD_IDX)\n",
        "\n",
        "t = logits.contiguous().view(logits.shape[0] * logits.shape[1], -1)\n",
        "l = labels.contiguous().view(-1)\n",
        "\n",
        "my_loss = F.cross_entropy(logits.view(logits.shape[0] * logits.shape[1], -1), labels.view(-1), ignore_index=PAD_IDX)\n",
        "their_loss = crit(t, l)\n",
        "\n",
        "my_loss == their_loss\n",
        "\n",
        "\n",
        "# print(de_vocab.to_string(src[57].unsqueeze(0)))\n",
        "# print(en_vocab.to_string(targ[57].unsqueeze(0)))\n",
        "# print(src[57].shape, targ[57].shape)\n",
        "\n",
        "# for i in range(src.shape[0]):\n",
        "#   print(de_vocab.to_string(src[i].unsqueeze(0)))\n",
        "#   print(en_vocab.to_string(targ[i].unsqueeze(0)))"
      ],
      "id": "4BsWdoyN2-wX"
    },
    {
      "cell_type": "code",
      "execution_count": null,
      "metadata": {
        "id": "b889cffb-f120-41ab-ac28-e65d90d1eea4"
      },
      "outputs": [],
      "source": [
        "de_vocab.tokens"
      ],
      "id": "b889cffb-f120-41ab-ac28-e65d90d1eea4"
    },
    {
      "cell_type": "code",
      "execution_count": null,
      "metadata": {
        "colab": {
          "base_uri": "https://localhost:8080/",
          "height": 447
        },
        "id": "91e849c3-2a13-4eaa-9934-c685b1424075",
        "outputId": "3a14d71f-f8aa-45c1-bb66-32fba462ddc8"
      },
      "outputs": [
        {
          "output_type": "execute_result",
          "data": {
            "text/plain": [
              "[<matplotlib.lines.Line2D at 0x798ae76b6200>]"
            ]
          },
          "metadata": {},
          "execution_count": 15
        },
        {
          "output_type": "display_data",
          "data": {
            "text/plain": [
              "<Figure size 640x480 with 1 Axes>"
            ],
            "image/png": "[encoded data removed]"
          },
          "metadata": {}
        }
      ],
      "source": [
        "import matplotlib.pyplot as plt\n",
        "\n",
        "plt.plot(val_losses)"
      ],
      "id": "91e849c3-2a13-4eaa-9934-c685b1424075"
    },
    {
      "cell_type": "code",
      "execution_count": null,
      "metadata": {
        "colab": {
          "base_uri": "https://localhost:8080/"
        },
        "id": "23ef70a1-6fb3-4e3d-b4cb-8e2925e65bad",
        "outputId": "f161d755-96a1-4fbd-a629-61a6592380f6"
      },
      "outputs": [
        {
          "name": "stdout",
          "output_type": "stream",
          "text": [
            "torch.Size([9])\n",
            "cur_src.shape=torch.Size([9]) cur_targ.shape=torch.Size([11])\n",
            "cur_src=tensor([   2,    5,   13, 1763,    7,    6,  296,    4,    3], device='cuda:0')\n",
            "cur_targ=tensor([   2,    4,    9,   10, 1643,    6,    4,  309,    5,    3,    1],\n",
            "       device='cuda:0')\n",
            "cur_label=tensor([   4,    9,   10, 1643,    6,    4,  309,    5,    3,    1,    1],\n",
            "       device='cuda:0')\n",
            "de_vocab.to_string(cur_src.unsqueeze(0))='<sos> ein mann watet in einem fluss . <eos>'\n",
            "en_vocab.to_string(cur_targ.unsqueeze(0))='<sos> a man is wading in a river . <eos> <pad>'\n",
            "en_vocab.to_string(cur_label.unsqueeze(0))='a man is wading in a river . <eos> <pad> <pad>'\n"
          ]
        }
      ],
      "source": [
        "\n",
        "idx = 127\n",
        "\n",
        "cur_src = next(train_dataloader.__iter__())[0][idx]\n",
        "cur_targ = next(train_dataloader.__iter__())[1][idx]\n",
        "cur_label = next(train_dataloader.__iter__())[2][idx]\n",
        "print(cur_src.shape)\n",
        "\n",
        "# cur_targ = greedy_decoding(model, cur_src.unsqueeze(0), 44, SOS_IDX, PAD_IDX)\n",
        "print(f\"{cur_src.shape=} {cur_targ.shape=}\")\n",
        "print(f\"{cur_src=}\")\n",
        "print(f\"{cur_targ=}\")\n",
        "print(f\"{cur_label=}\")\n",
        "print(f\"{de_vocab.to_string(cur_src.unsqueeze(0))=}\")\n",
        "print(f\"{en_vocab.to_string(cur_targ.unsqueeze(0))=}\")\n",
        "print(f\"{en_vocab.to_string(cur_label.unsqueeze(0))=}\")\n"
      ],
      "id": "23ef70a1-6fb3-4e3d-b4cb-8e2925e65bad"
    },
    {
      "cell_type": "code",
      "execution_count": null,
      "metadata": {
        "colab": {
          "base_uri": "https://localhost:8080/"
        },
        "id": "7CV6CrC-ux5O",
        "outputId": "c0ca5c47-b9e6-4570-f221-34bfbd50bccf"
      },
      "outputs": [
        {
          "name": "stdout",
          "output_type": "stream",
          "text": [
            "99\n",
            "199\n",
            "299\n",
            "399\n",
            "499\n",
            "599\n",
            "699\n",
            "799\n",
            "899\n",
            "999\n",
            "1014\n",
            "1014\n"
          ]
        }
      ],
      "source": [
        "cnt = 0\n",
        "train_iter = iter(val_dataloader)\n",
        "for src, targ, label, src_mask, targ_mask in train_iter:\n",
        "  cnt += src.shape[0]\n",
        "  print(cnt)\n",
        "\n",
        "print(cnt)"
      ],
      "id": "7CV6CrC-ux5O"
    },
    {
      "cell_type": "code",
      "execution_count": null,
      "metadata": {
        "colab": {
          "base_uri": "https://localhost:8080/"
        },
        "id": "Q4KRbnI9cAly",
        "outputId": "1b8a4ccb-6a2e-4b1b-93c7-78e6ae2ea1a1"
      },
      "outputs": [
        {
          "name": "stderr",
          "output_type": "stream",
          "text": [
            "/usr/local/lib/python3.10/dist-packages/torch/utils/data/datapipes/iter/combining.py:333: UserWarning: Some child DataPipes are not exhausted when __iter__ is called. We are resetting the buffer and each child DataPipe will read from the start again.\n",
            "  warnings.warn(\"Some child DataPipes are not exhausted when __iter__ is called. We are resetting \"\n"
          ]
        },
        {
          "name": "stdout",
          "output_type": "stream",
          "text": [
            "Mehrere Männer mit Schutzhelmen bedienen ein Antriebsradsystem . <pad> <pad> <pad> <pad> <pad> <pad> <pad> <pad> <pad> <pad> <pad> <pad> <pad> <pad> <pad> <pad> <pad> <pad>\n",
            "Several men in hard hats are operating a giant pulley system . <eos> <pad> <pad> <pad> <pad> <pad> <pad> <pad> <pad> <pad> <pad> <pad>\n",
            "tensor([  84,   31,   10,  837, 2095,   15, 8013,    4,    1,    1,    1,    1,\n",
            "           1,    1,    1,    1,    1,    1,    1,    1,    1,    1,    1,    1,\n",
            "           1,    1], device='cuda:0')\n",
            "tensor([[[[ True,  True,  True,  True,  True,  True,  True,  True, False, False,\n",
            "           False, False, False, False, False, False, False, False, False, False,\n",
            "           False, False, False, False, False, False]]]])\n",
            "trans .\n"
          ]
        }
      ],
      "source": [
        "for src, targ, labels, src_mask, targ_mask in train_dataloader:\n",
        "  print(de_vocab.to_string(src[1].unsqueeze(0)))\n",
        "  print(en_vocab.to_string(labels[1].unsqueeze(0)))\n",
        "  # print(src_mask[1])\n",
        "  # print(targ_mask[1])\n",
        "  src_mask, targ_mask = create_mask(src[1].unsqueeze(0).to(\"cpu\"), targ[1].unsqueeze(0).to(\"cpu\"), PAD_IDX)\n",
        "  break\n",
        "\n",
        "print(src[1])\n",
        "print(src_mask)\n",
        "print(\"trans\", de_vocab.to_string(torch.tensor([[4]])))"
      ],
      "id": "Q4KRbnI9cAly"
    },
    {
      "cell_type": "code",
      "execution_count": null,
      "metadata": {
        "colab": {
          "base_uri": "https://localhost:8080/"
        },
        "id": "1KLyPOFW9IJn",
        "outputId": "3c40c7c9-a45c-43f7-931d-236bdba6dd7c"
      },
      "outputs": [
        {
          "output_type": "stream",
          "name": "stdout",
          "text": [
            "The model has 9,038,085 trainable parameters\n"
          ]
        }
      ],
      "source": [
        "def count_parameters(model):\n",
        "    return sum(p.numel() for p in model.parameters() if p.requires_grad)\n",
        "\n",
        "print(f'The model has {count_parameters(model):,} trainable parameters')\n"
      ],
      "id": "1KLyPOFW9IJn"
    },
    {
      "cell_type": "code",
      "execution_count": null,
      "metadata": {
        "colab": {
          "base_uri": "https://localhost:8080/"
        },
        "id": "cIHS3bYYBMaB",
        "outputId": "fbcbfb35-02f7-4084-d92f-b776dc5ed278"
      },
      "outputs": [
        {
          "output_type": "stream",
          "name": "stderr",
          "text": [
            "\r0batch [00:00, ?batch/s]/usr/local/lib/python3.10/dist-packages/torch/utils/data/datapipes/iter/combining.py:333: UserWarning: Some child DataPipes are not exhausted when __iter__ is called. We are resetting the buffer and each child DataPipe will read from the start again.\n",
            "  warnings.warn(\"Some child DataPipes are not exhausted when __iter__ is called. We are resetting \"\n",
            "8batch [00:20,  2.53s/batch]\n"
          ]
        },
        {
          "output_type": "stream",
          "name": "stdout",
          "text": [
            "[['a', 'group', 'of', 'men', '<unk>', 'a', 'truck', 'at', 'a', 'truck', '.'], ['a', 'man', 'is', 'sleeping', 'on', 'a', 'couch', 'in', 'a', 'green', 'room', '.'], ['a', 'young', 'boy', 'with', 'headphones', 'on', 'on', 'top', 'of', 'a', 'woman', \"'s\", 'shoulders', '.'], ['two', 'men', 'building', 'a', '<unk>', 'on', 'a', 'lake', '.'], ['a', 'balding', 'man', 'wearing', 'a', 'red', 'life', 'jacket', 'sits', 'in', 'a', 'small', 'boat', '.'], ['a', 'woman', 'in', 'a', 'red', 'coat', ',', 'holding', 'a', '<unk>', '<unk>', '<unk>', 'for', 'a', 'book', 'to', 'an', 'asia', 'in', 'an', 'asia', '.'], ['a', 'brown', 'dog', 'runs', 'after', 'the', 'black', 'dog', '.'], ['a', 'little', 'boy', 'with', 'a', 'baseball', 'bat', ',', 'swings', 'a', 'baseball', 'bat', 'for', 'a', 'ball', 'on', 'a', 'ball', '.'], ['a', 'man', 'is', 'talking', 'on', 'a', 'messy', 'office', 'at', 'an', 'office', 'office', 'office', '.'], ['a', 'smiling', 'woman', 'with', 'a', 'peach', 'top', 'holds', 'a', 'luggage', '.'], ['a', 'small', 'child', 'stands', 'alone', 'on', 'a', 'rock', '.'], ['a', 'person', 'on', 'a', 'jump', 'in', 'the', 'middle', 'of', 'a', 'jump', '.'], ['three', 'young', 'children', 'stand', 'around', 'a', 'blue', 'and', 'blue', 'pipe', '.'], ['a', 'woman', 'is', 'sitting', 'at', 'a', '<unk>', 'open', 'air', 'market', '.'], ['a', 'woman', 'playing', 'a', 'song', 'on', 'her', 'violin', '.'], ['three', 'people', 'on', 'two', '<unk>', 'and', 'four', 'wheeler', 'are', 'riding', 'through', 'a', 'brown', 'four', 'brown', 'grass', '.'], ['a', 'man', 'is', 'sleeping', 'outside', 'on', 'his', 'chair', '.'], ['a', 'group', 'of', 'people', 'stand', 'in', 'front', 'of', 'a', 'parking', 'lot', '.'], ['a', 'young', 'woman', 'making', 'tea', 'in', 'the', '<unk>', '.'], ['three', 'girls', ',', 'one', 'of', 'one', 'standing', 'and', 'faces', 'are', 'standing', 'in', 'a', 'busy', 'street', '.'], ['a', 'lone', 'man', 'in', 'a', 'black', 't', '-', 'shirt', '<unk>', 'the', 'other', 'people', 'in', 'a', 'bar', '.'], ['woman', 'and', 'man', 'walk', 'across', 'a', 'rope', 'with', '<unk>', '.'], ['a', 'man', 'wearing', 'a', 'skirt', 'is', 'jumping', 'with', 'wires', '.'], ['an', 'asian', 'girl', 'in', 'a', 'green', 'hat', 'and', 'apron', 'serving', 'food', 'on', 'a', 'tray', '.'], ['construction', 'workers', 'are', 'on', 'a', 'machine', '.'], ['two', 'dogs', 'play', 'with', 'a', 'tall', 'orange', 'toy', 'in', 'the', 'grass', '.'], ['a', 'toddler', 'smiles', 'to', 'another', 'child', '.'], ['three', 'men', 'are', 'walking', 'on', 'the', 'street', 'in', 'a', 'mountains', '.'], ['a', 'person', 'is', 'parasailing', 'over', 'a', 'large', 'body', 'of', 'water', '.'], ['a', 'tractor', 'moving', 'dirt', 'for', 'a', 'tractor', '.'], ['a', 'young', 'girl', 'runs', 'alone', 'in', 'a', 'park', '.'], ['a', 'person', 'is', 'crossing', 'the', 'street', 'while', 'wearing', 'paint', 'paint', '.'], ['child', 'playing', 'on', 'playground', 'poles', 'while', 'on', 'playground', 'poles', '.'], ['a', 'person', 'in', 'a', 'red', '<unk>', 'is', 'laying', 'on', 'a', 'very', '<unk>', 'on', 'a', 'very', '<unk>', 'wall', 'in', 'front', 'of', 'a', 'brick', 'wall', '.'], ['a', 'group', 'of', 'people', 'are', 'gathering', 'a', 'young', 'man', 'in', 'a', 'suit', 'and', 'a', 'young', 'boy', 'in', 'a', 'suit', '.'], ['a', 'woman', 'sitting', 'at', 'a', 'dark', 'bar', '.'], ['people', 'walk', 'at', 'an', 'outdoor', 'market', 'where', 'an', 'open', 'market', '.'], ['a', 'man', 'with', 'a', 'blue', 'backpack', 'reads', 'the', 'newspaper', 'while', 'waiting', 'for', 'the', 'subway', '.'], ['a', 'large', 'brown', 'dog', 'is', 'holding', 'his', 'face', 'in', 'the', '<unk>', '.'], ['a', 'blond', 'boy', 'in', 'a', 'blue', 't', '-', 'shirt', 'is', 'smiling', 'at', 'a', 'boat', '.'], ['a', 'young', 'white', 'man', 'sweeping', 'a', 'porch', 'with', 'a', 'large', 'broom', '.'], ['a', 'person', 'is', 'throwing', 'a', 'green', 'bowling', 'ball', 'down', 'a', 'bowling', 'alley', '.'], ['a', 'band', 'is', 'performing', 'a', 'rock', 'crowd', 'of', 'spectators', '.'], ['an', 'older', 'man', 'is', 'walking', 'a', 'brown', 'dog', 'on', 'a', 'leash', '.'], ['a', 'man', 'is', 'racing', 'a', 'red', 'race', 'car', '.'], ['young', 'adults', 'in', 'a', 'line', 'of', 'colorful', 'shirts', ',', 'including', 'a', 'black', 't', '-', 'shirts', 'and', 'black', 't', '-', 'shirts', 'are', 'performing', 'a', 'musical', 'skit', 'on', 'a', 'musical', 'skit', '.'], ['a', 'little', 'boy', 'is', 'throwing', 'a', 'rock', 'into', 'water', '.'], ['two', 'women', 'with', 'short', 'hair', 'are', 'standing', 'over', 'each', 'other', 'and', 'talking', '.'], ['a', '<unk>', 'figure', 'in', 'costume', 'outside', 'a', 'structure', '.'], ['a', 'dog', 'walks', 'through', 'a', 'small', 'stream', 'in', 'its', 'mouth', '.'], ['three', 'small', 'dogs', 'are', 'sniffing', 'at', 'something', '.'], ['two', 'men', 'are', 'paddling', 'a', 'kayak', 'on', 'a', 'river', 'with', 'trees', '.'], ['two', 'girls', 'are', 'walking', 'down', 'a', 'street', '.'], ['a', 'group', 'of', 'children', 'sit', 'in', 'the', 'back', 'looking', 'at', 'a', 'book', '.'], ['<unk>', \"'s\", 'head', 'as', 'a', 'security', 'guard', 'looks', 'at', 'the', 'sky', 'from', 'a', '<unk>', 'sky', '.'], ['a', 'girl', 'is', 'sitting', 'in', 'a', 'public', 'place', 'with', 'a', 'book', 'and', 'holding', 'a', 'book', 'to', 'her', 'hand', '.'], ['a', 'man', 'is', 'eating', 'lunch', 'in', 'a', 'restaurant', '.'], ['a', 'man', 'wearing', 'glasses', 'and', 'glasses', 'holds', 'a', 'object', 'into', 'a', 'object', '.'], ['a', 'man', 'in', 'a', 'black', 'wetsuit', 'surfing', 'on', 'a', 'wave', '.'], ['a', 'woman', 'with', 'pink', 'bag', 'sitting', 'on', 'a', 'bench', '.'], ['three', 'women', 'are', 'sitting', 'and', 'smiling', '.'], ['a', 'red', 'plane', 'flies', 'through', 'smoke', 'while', 'the', 'smoke', 'is', 'pulling', 'it', 'behind', 'him', '.'], ['a', 'man', 'in', 'a', 'harness', 'climbing', 'a', 'rock', 'wall', '.'], ['two', 'construction', 'workers', 'help', 'a', 'hard', 'at', 'a', 'construction', 'site', '.'], ['a', 'woman', 'in', 'brightly', 'colored', 'clothing', 'walks', 'past', 'a', 'white', 'truck', 'filled', 'with', 'bottles', 'of', 'bottles', '.'], ['a', 'woman', 'in', 'a', 'blue', 'hat', 'and', 'yellow', 'skirt', 'jumping', 'at', 'a', 'camera', 'to', 'a', '<unk>', '.'], ['a', 'man', 'with', 'a', 'golden', 'clothing', 'stands', 'next', 'to', 'his', 'bike', '.'], ['baby', 'looking', 'at', 'the', 'leaves', 'on', 'a', 'tree', 'branch', '.'], ['a', '<unk>', 'is', 'about', 'to', 'go', '-', 'cola', '.'], ['two', 'young', 'black', 'boys', 'playing', 'with', 'multicolored', 'bottles', 'and', 'have', 'headphones', '.'], ['<unk>', '<unk>', 'on', 'green', 'motorcycles', 'as', 'people', 'look', 'at', 'the', 'motorcycles', '.'], ['two', 'people', 'are', 'climbing', 'a', 'rope', 'with', 'a', 'rope', '.'], ['a', 'man', 'and', 'a', 'woman', 'fishing', 'on', 'the', 'beach', '.'], ['a', 'child', 'is', 'doing', 'a', 'back', 'flip', 'while', 'a', 'trampoline', '.'], ['children', 'are', 'riding', 'on', 'a', 'swing', '.'], ['two', 'people', 'hold', 'a', 'large', '<unk>', '<unk>', '<unk>', 'as', 'they', 'are', 'jumping', 'over', 'a', 'child', \"'s\", '<unk>', '.'], ['two', 'men', 'are', 'playing', 'baseball', 'game', 'while', 'the', 'baseball', '.'], ['a', 'woman', 'in', 'a', 'black', 'dress', 'pushes', 'a', 'cart', 'down', 'a', 'brick', 'paved', 'paved', 'paved', 'paved', '<unk>', '.'], ['a', 'police', 'officer', 'is', 'holding', 'a', 'vehicle', 'by', 'the', 'side', 'of', 'the', 'road', '.'], ['man', 'on', 'a', 'pier', 'next', 'to', 'a', 'boat', 'on', 'a', 'calm', 'lake', '.'], ['a', 'group', 'of', 'kayakers', 'are', 'competing', 'for', 'a', 'performance', '.'], ['a', 'woman', 'and', 'a', 'child', 'sit', 'together', 'at', 'a', 'sidewalk', 'in', 'a', 'gray', 'hoodie', 'and', 'two', 'women', 'walk', 'by', '.'], ['a', 'lone', 'fireman', 'helping', 'the', 'fireman', \"'s\", 'face', '.'], ['a', 'person', 'in', 'a', 'purple', 'shirt', 'painting', 'a', 'picture', 'of', 'a', 'woman', 'on', 'a', 'white', 'wall', '.'], ['a', 'little', 'girl', 'laying', 'on', 'the', 'floor', 'while', 'her', 'younger', 'boy', 'plays', '.'], ['a', 'young', 'woman', 'and', 'an', 'older', 'woman', 'dressed', 'in', 'traditional', 'traditional', 'saris', 'are', 'rehearsing', 'in', 'traditional', 'location', ',', 'as', 'three', 'other', 'people', 'from', '<unk>', 'from', 'the', 'other', 'people', 'from', '<unk>', 'are', 'coming', 'out', 'of', 'fresh', 'fruit', 'in', 'traditional', '<unk>', 'are', 'coming', 'to', 'be', '<unk>', 'are', 'dressed', 'in', 'traditional', '<unk>', 'are', 'coming', 'to', 'be', '<unk>', 'in', 'traditional', '<unk>', 'are', 'dressed', 'in', 'traditional', 'style', 'location', '.'], ['women', 'walk', 'down', 'a', 'steep', 'steep', 'steep', 'steep', 'steep', 'steep', 'steep', 'steep', 'slope', '.'], ['the', '<unk>', 'is', 'listening', 'to', 'the', 'workers', 'in', 'the', 'green', 'hard', 'hat', 'while', '<unk>', 'equipment', '.'], ['the', 'brown', 'dog', 'is', 'carrying', 'a', 'black', 'collar', '.'], ['a', 'brown', 'and', 'white', 'dog', 'running', 'down', 'a', 'ramp', '.'], ['a', 'child', 'is', 'getting', 'ready', 'to', 'read', 'a', 'book', '.'], ['an', 'older', 'japanese', 'man', 'trying', 'to', 'repair', 'a', 'piece', 'of', 'machine', '.'], ['a', 'small', 'child', 'and', 'a', 'woman', 'stand', 'around', 'a', 'rooster', '.'], ['a', 'child', 'dressed', 'as', 'a', '<unk>', 'door', '.'], ['a', 'man', 'in', 'brown', 'and', 'white', '<unk>', '.'], ['a', 'young', 'woman', 'sings', 'into', 'a', 'microphone', 'while', 'a', 'man', 'behind', 'her', 'guitar', '.'], ['two', 'children', 'are', 'digging', 'debris', 'in', 'the', 'dirt', '.'], ['many', '<unk>', 'are', '<unk>', 'with', 'only', 'their', 'chairs', 'and', 'some', 'passengers', 'enjoy', 'the', 'sun', '.'], ['some', 'men', 'are', 'sitting', 'near', 'a', 'boat', 'that', 'has', '<unk>', 'and', '<unk>', 'on', 'the', 'beach', '.'], ['a', 'young', 'man', 'carries', 'something', 'black', '<unk>', '.'], ['an', 'older', 'man', 'is', 'mixing', 'a', 'kitchen', 'while', 'doing', 'food', '.'], ['men', 'in', 'yellow', 'suits', 'and', 'a', 'piano', ',', 'and', 'a', 'man', 'playing', 'a', 'piano', 'and', 'a', 'man', '.'], ['several', 'people', 'stand', 'near', 'the', 'trees', 'in', 'the', 'trees', '.'], ['a', 'brown', 'dog', 'chews', 'on', 'a', 'large', 'log', '.'], ['a', 'hiker', 'poses', 'for', 'a', 'picture', 'in', 'a', 'snowy', 'mountain', 'area', '.'], ['a', 'group', 'of', 'children', 'play', 'under', 'a', 'bridge', '.'], ['a', 'woman', 'smiles', 'next', 'to', 'a', 'man', 'holding', 'a', 'cotton', 'candy', '.'], ['two', 'women', 'stand', 'outside', 'a', 'class', 'and', 'talk', '.'], ['two', 'brunette', 'women', 'talk', 'in', 'front', 'of', 'a', 'class', 'full', 'of', 'blond', '-', 'hair', '.'], ['a', 'person', 'in', 'a', 'hat', 'and', 'scarf', 'looks', 'to', 'the', 'right', '.'], ['two', 'people', 'cross', 'a', 'street', '.'], ['an', 'old', 'man', 'holding', 'a', 'dog', 'while', 'another', 'dog', 'climbs', 'his', 'lap', '.'], ['three', 'children', 'watch', 'a', 'man', 'playing', 'a', 'guitar', 'on', 'a', 'stage', '.'], ['a', 'boy', 'is', 'taking', 'a', 'volleyball', 'at', 'a', 'race', '.'], ['a', 'blue', 'jeep', 'is', 'driving', 'through', 'muddy', 'water', '.'], ['the', 'woman', 'in', 'a', 'black', 'hat', 'is', 'taking', 'a', 'picture', 'at', 'the', 'camera', '.'], ['a', 'man', 'is', 'sitting', 'on', 'the', 'ground', 'playing', 'a', 'guitar', '.'], ['a', 'dog', 'walks', 'through', 'a', 'rocky', 'mountain', 'that', 'is', 'on', 'a', 'rocky', 'mountain', '.'], ['a', 'young', 'asian', 'woman', 'performs', 'a', 'flip', 'in', 'a', 'busy', 'ice', 'cream', '.'], ['a', 'female', 'team', 'of', 'performers', 'on', 'stage', '.'], ['four', 'young', 'people', '<unk>', 'against', 'the', '<unk>', 'of', '<unk>', '.'], ['a', 'man', 'cooking', 'on', 'a', 'black', 'grill', '.'], ['a', 'man', 'in', 'a', 'red', 'baseball', 'cap', 'leans', 'on', 'a', 'pole', '.'], ['a', 'little', 'boy', 'in', 'a', 'yellow', 't', '-', 'shirt', 'hangs', 'from', 'a', 'ring', 'while', 'other', 'children', 'are', 'surrounded', 'by', 'other', 'children', '.'], ['a', 'small', 'child', 'eating', 'a', 'drink', 'while', 'drinking', 'a', 'glass', '.'], ['a', 'man', 'and', 'two', 'women', 'in', 'shorts', 'walk', 'down', 'the', 'street', '.'], ['two', 'poodles', 'running', 'through', 'the', 'snow', '.'], ['a', 'little', 'red', '-', 'haired', 'little', 'girl', 'in', 'a', 'toy', 'horse', '.'], ['man', 'in', 'white', 'boat', 'on', 'a', 'lake', '.'], ['the', '<unk>', 'is', 'in', 'front', 'of', 'the', 'hut', '.'], ['people', 'are', 'climbing', 'or', 'climb', 'some', 'kind', 'of', 'stairs', '.'], ['some', 'people', 'are', 'swimming', 'in', 'a', 'body', 'of', 'water', '.'], ['women', 'in', '<unk>', 'volleyball', 'uniforms', 'play', 'volleyball', '.'], ['a', 'man', 'and', 'a', 'woman', 'are', 'sitting', 'at', 'a', 'restaurant', 'table', '.'], ['a', 'mother', 'and', 'two', 'children', 'are', 'posing', 'with', 'funny', 'faces', '.'], ['a', 'lab', 'is', 'swimming', 'with', 'a', 'toy', 'in', 'its', 'mouth', '.'], ['four', 'men', 'stand', 'by', 'a', 'yellow', 'car', '.'], ['a', 'group', 'of', 'men', ',', 'men', ',', 'and', 'women', 'are', 'all', 'wearing', 'hats', 'at', 'the', 'beach', 'hats', '.'], ['little', 'boy', 'in', 'brown', 'outfit', 'crawling', 'on', 'floor', '.'], ['a', 'little', 'girl', '<unk>', 'at', 'a', 'white', '<unk>', 'with', 'white', '<unk>', 'for', '<unk>', '.'], ['a', 'yellow', 'dog', 'carries', 'a', 'ball', 'in', 'its', 'mouth', 'on', 'the', 'beach', '.'], ['a', 'man', 'in', 'a', 'red', 't', '-', 'shirt', 'is', 'standing', 'in', 'front', 'of', 'two', 'young', 'girls', '.'], ['man', 'watching', 'a', 'woman', 'in', 'a', 'bar', '.'], ['a', 'band', 'plays', 'on', 'a', 'river', 'by', 'the', 'river', '.'], ['two', 'women', 'smile', 'at', 'an', 'event', '.'], ['a', 'woman', 'in', 'a', 'pink', 'blouse', 'shows', 'a', 'man', 'with', 'a', 'striped', 'sweatshirt', 'being', '<unk>', 'by', 'a', '<unk>', '.'], ['a', 'child', 'is', 'sitting', 'on', 'a', '<unk>', '.'], ['a', 'man', 'sits', 'on', 'a', 'chair', 'in', 'a', 'chair', 'with', 'something', 'food', '<unk>', 'something', 'food', 'at', 'a', 'food', 'screen', '.'], ['a', 'police', 'officer', 'in', 'uniform', 'is', 'carrying', 'a', '<unk>', '.'], ['a', 'man', 'in', '<unk>', 'gear', 'crosses', 'the', 'street', 'by', 'a', 'white', 'bus', 'and', 'red', 'bus', '.'], ['a', 'black', 'and', 'white', 'dog', 'swimming', 'in', 'the', 'water', '.'], ['a', 'band', 'plays', 'music', 'on', 'a', 'stage', 'at', 'a', 'concert', '.'], ['three', 'people', 'are', 'playing', 'musical', 'instruments', 'while', 'one', 'is', 'holding', 'a', 'person', '.'], ['a', 'man', 'playing', 'a', 'keyboard', 'and', 'singing', 'into', 'a', 'microphone', '.'], ['a', 'little', 'boy', 'is', 'jumping', 'into', 'the', 'water', '.'], ['a', 'woman', 'reads', 'a', 'map', 'while', 'sitting', 'on', 'the', 'edge', 'of', 'a', 'bucket', 'next', 'to', 'a', 'woman', 'with', 'her', 'hand', '.'], ['construction', 'workers', 'are', 'working', 'at', 'a', '<unk>', '.'], ['a', 'man', 'is', 'shaving', 'while', 'sitting', 'on', 'the', 'beach', 'by', 'the', 'ocean', '.'], ['a', 'blond', 'woman', 'in', 'a', 'blue', 'hat', 'is', 'unpacking', 'a', 'ball', '.'], ['two', 'men', 'are', 'talking', 'to', 'a', 'lasso', 'a', 'woman', 'while', 'a', 'can', 'of', 'people', 'stand', '.'], ['a', 'young', 'man', 'with', 'blond', '-', 'hair', 'is', 'talking', 'into', 'a', 'microphone', '.'], ['a', 'motocross', 'racer', 'in', 'a', 'coat', 'pushes', 'a', 'luggage', '.'], ['dog', '<unk>', 'to', 'look', 'at', 'camera', '.'], ['a', 'group', 'of', 'people', 'playing', 'music', 'on', 'a', 'stage', '.'], ['three', 'dogs', 'play', 'in', 'the', 'snow', '.'], ['a', 'man', 'and', 'a', 'woman', 'are', 'talking', 'while', 'standing', 'next', 'to', 'a', 'tree', '.'], ['a', 'dog', 'jumps', 'after', 'a', 'yellow', 'ball', '.'], ['an', 'older', 'lady', 'in', 'a', 'baseball', 'sweater', 'cooking', 'a', 'meal', '.'], ['woman', 'in', 'winter', 'coat', 'in', 'front', 'of', 'a', 'house', '.'], ['a', 'woman', 'carries', 'other', 'athletic', 'outfits', 'on', 'her', 'back', '.'], ['a', 'child', 'stands', 'next', 'to', 'a', 'stroller', 'and', 'holding', 'a', 'baby', '.'], ['a', 'guy', 'with', 'gray', 'hair', 'is', 'skateboarding', 'down', 'a', 'yellow', 'ramp', '.'], ['a', 'man', 'is', 'rolling', 'a', 'round', 'round', 'round', 'the', 'table', '.'], ['a', 'group', 'of', 'people', 'in', 'a', 'boat', 'on', 'a', 'large', 'body', 'of', 'water', '.'], ['a', 'man', 'in', 'a', 'yellow', 'shirt', 'stands', 'on', 'the', 'sidewalk', 'in', 'front', 'of', 'the', '<unk>', '.'], ['a', 'woman', 'in', 'a', 'blue', 'blouse', 'and', 'jeans', 'is', 'throwing', 'something', 'into', 'a', 'dumpster', '.'], ['a', 'woman', 'with', 'a', '<unk>', 'and', '<unk>', 'hair', 'is', 'at', 'a', 'party', '.'], ['a', 'person', 'is', 'parasailing', 'on', 'a', 'board', '.'], ['men', 'in', 'blue', 'uniforms', 'sit', 'on', 'a', 'bus', '.'], ['an', 'atv', 'is', 'trying', 'out', 'of', 'a', 'dirt', '.'], ['a', 'man', 'reaches', 'into', 'another', 'man', 'at', 'another', 'game', '.'], ['a', 'football', 'player', 'in', 'red', 'and', 'white', 'is', 'talking', 'to', 'a', 'coach', '.'], ['two', 'girls', 'are', 'sitting', 'at', 'a', 'wall', 'watching', 'a', 'sporting', 'event', '.'], ['a', 'man', 'playing', 'tennis', 'ball', ',', 'while', 'a', '<unk>', 'of', 'sunglasses', 'on', 'top', 'of', 'a', '<unk>', '.'], ['this', 'team', 'is', 'wearing', 'red', 'uniforms', 'and', 'red', 'helmets', '.'], ['a', 'boy', 'in', 'black', 'is', 'hitting', 'a', 'bike', 'on', 'the', 'beach', '.'], ['they', 'pose', 'for', 'a', 'picture', '.'], ['a', 'man', 'in', 'a', 'green', 'shirt', 'is', 'kissing', 'a', 'crying', 'infant', 'while', 'another', 'watches', '.'], ['five', 'members', 'of', 'a', 'band', 'play', 'a', 'song', '.'], ['three', 'women', 'sit', 'on', 'a', 'blanket', 'and', 'have', 'fun', 'on', 'the', 'floor', 'having', 'fun', '.'], ['a', 'man', 'and', 'a', 'boy', 'are', 'sitting', 'at', 'an', 'award', 'and', 'both', 'have', 'an', 'award', '.'], ['a', 'man', 'with', 'sunglasses', 'is', 'helping', 'a', 'child', 'with', 'sunglasses', 'slide', '.'], ['a', 'dog', 'runs', 'through', 'the', 'grass', 'towards', 'the', 'camera', '.'], ['the', 'girl', 'with', 'a', 'long', 'ponytail', 'ready', 'to', 'play', 'the', 'ball', 'on', 'a', 'field', '.'], ['two', 'men', 'are', 'wrestling', 'on', 'a', 'blue', 'and', 'yellow', 'and', 'blue', 'car', '.'], ['a', 'girl', 'in', 'a', 'red', 'and', 'white', 't', '-', 'shirt', 'and', 'blue', 'shorts', 'is', 'getting', 'ready', 'to', 'throw', 'a', 'ball', '.'], ['a', 'man', 'is', 'working', 'with', 'his', 'hands', '.'], ['a', 'brown', 'dog', 'runs', 'over', 'the', 'sand', 'with', 'a', 'stick', 'in', 'its', 'mouth', '.'], ['a', 'person', 'rowing', 'in', 'her', 'boat', 'in', 'the', 'water', '.'], ['a', 'man', 'in', 'a', 'red', 'and', 'white', 'striped', 'shirt', 'sits', 'on', 'a', 'stool', 'on', 'a', 'wooden', 'platform', '.'], ['a', 'man', 'is', 'taking', 'pictures', 'with', 'yellow', 'ear', '.'], ['two', 'men', 'with', '<unk>', 'are', 'talking', 'to', 'each', 'other', 'at', 'an', 'open', 'air', 'market', '.'], ['man', 'and', 'boy', 'play', 'with', 'a', 'dog', 'on', 'the', 'beach', '.'], ['a', 'hot', 'air', 'man', 'is', 'landing', 'with', 'a', 'man', 'in', 'the', 'shade', '.'], ['this', 'man', 'is', 'wearing', 'a', 'white', 'hat', 'or', 'hat', '.'], ['a', 'woman', 'gets', 'her', 'face', 'out', 'of', 'a', 'black', '<unk>', ',', 'and', 'black', '<unk>', '.'], ['a', 'small', 'child', 'with', 'rubber', 'tires', '.'], ['a', 'crowd', 'of', 'people', 'stand', 'on', 'the', 'street', 'in', 'front', 'of', 'a', 'white', 'tents', '.'], ['a', 'female', 'mountain', 'biker', 'walking', 'through', 'the', 'park', '.'], ['a', 'dark', '-', 'haired', 'woman', 'with', 'a', 'blue', 'blouse', 'and', 'sunglasses', 'is', 'holding', 'a', 'young', 'girl', 'with', 'her', 'hair', '.'], ['many', 'asian', 'children', 'are', 'kneeling', 'under', 'a', 'train', '.'], ['a', 'cowboy', 'attempts', 'to', '<unk>', 'a', 'horse', 'while', 'a', 'horse', '<unk>', 'from', 'behind', 'a', 'horse', 'horse', 'horse', '.'], ['a', 'bride', 'and', 'groom', 'are', 'watching', 'her', '<unk>', '.'], ['two', '<unk>', 'workers', 'are', 'putting', 'horses', 'under', 'a', 'train', '.'], ['man', 'working', 'at', 'a', 'train', 'station', '.'], ['a', 'couple', 'of', 'construction', 'workers', 'are', 'being', '<unk>', 'by', 'concrete', 'or', 'graffiti', 'on', 'a', 'wall', '.'], ['a', 'band', 'plays', 'on', 'the', 'sidewalk', '.'], ['men', 'in', 'orange', 'suits', 'watch', 'a', 'machine', 'while', 'digging', 'what', 'looks', 'like', 'a', 'machine', '.'], ['young', 'adults', 'dressed', 'in', 'casual', 'attire', 'walk', 'around', 'in', 'a', 'field', '.'], ['the', 'large', 'brown', 'dog', 'is', 'running', 'through', 'water', '.'], ['a', 'man', 'and', 'a', 'woman', 'cross', 'an', 'empty', 'street', '.'], ['a', 'man', '<unk>', '<unk>', 'at', 'the', 'basket', 'of', '<unk>', 'in', 'a', 'basket', '.'], ['two', 'children', 'with', 'yellow', 'jackets', 'play', 'in', 'the', 'mud', '.'], ['several', 'people', '<unk>', 'a', '<unk>', 'in', 'a', '<unk>', 'stand', '.'], ['a', 'woman', 'and', 'a', 'young', 'boy', 'are', 'sharing', 'a', 'chair', '.'], ['a', 'group', 'of', 'people', 'stand', 'in', 'a', 'line', 'on', 'a', 'stone', 'stone', 'stone', 'stone', '.'], ['a', 'little', 'girl', 'swimming', 'in', 'a', 'pool', '.'], ['a', 'boy', 'in', 'an', 'orange', 't', '-', 'shirt', 'smiles', 'while', 'a', 'boy', 'in', 'a', 'blue', 't', '-', 'shirt', 'looks', 'at', 'him', '.'], ['a', 'little', 'girl', 'is', 'standing', 'outside', 'in', 'a', 'puddle', '.'], ['a', 'little', 'blond', 'girl', 'holding', 'a', 'sandwich', '.'], ['four', 'people', 'are', 'trying', 'to', 'fix', 'a', 'bicycle', 'on', 'a', 'park', 'park', '.'], ['a', 'very', 'brown', 'dog', 'diving', 'out', 'of', 'the', 'water', '.'], ['a', 'dog', 'runs', 'through', 'a', 'field', 'with', 'a', 'ball', 'in', 'its', 'mouth', '.'], ['a', 'group', 'of', 'people', 'are', 'waiting', 'to', 'look', 'at', 'a', 'barrier', 'and', 'looking', 'at', 'the', 'right', '.'], ['a', 'child', 'in', 'a', 'red', 'sweatshirt', 'hangs', 'upside', 'down', 'on', 'a', 'tree', '.'], ['the', '<unk>', 'of', 'a', '<unk>', 'of', '<unk>', 'is', '<unk>', 'money', 'from', 'two', '<unk>', '.'], ['a', 'young', 'boy', 'in', 'a', 'group', 'of', 'children', 'smile', 'for', 'the', 'camera', '.'], ['two', 'kids', 'without', 'a', 'shirt', 'sitting', 'at', 'the', 'edge', 'of', 'a', 'carnival', '.'], ['a', 'man', 'pulls', 'his', 'sweater', 'while', 'a', 'kayak', 'on', 'his', 'feet', '.'], ['an', 'old', 'man', 'is', 'walking', 'with', 'a', 'karate', 'meet', '.'], ['a', 'young', 'woman', 'and', 'an', 'older', 'man', 'stand', 'at', 'a', 'bar', '.'], ['a', 'little', 'blond', 'boy', 'is', 'leaping', 'from', 'bed', '.'], ['a', 'small', 'child', 'swings', 'a', 'red', 'baseball', 'bat', '.'], ['the', 'man', 'is', 'talking', 'on', 'a', 'cellphone', 'outside', 'of', 'a', 'store', '.'], ['here', 'are', 'here', 'is', 'two', 'young', 'children', 'attending', 'a', 'small', 'child', '.'], ['a', 'woman', 'in', 'a', 'blue', 't', '-', 'shirt', 'playing', 'an', 'instrument', '.'], ['the', '<unk>', 'is', 'in', 'a', 'busy', 'intersection', 'at', 'night', '.'], ['a', 'man', 'sits', 'in', 'the', 'shallow', 'water', 'to', 'a', 'large', 'rock', 'face', '.'], ['two', 'hikers', 'take', 'a', 'break', 'to', 'take', 'a', 'picture', '.'], ['four', '<unk>', 'looking', 'people', 'walk', 'down', 'a', 'street', 'with', 'trees', 'in', 'the', 'background', '.'], ['four', 'people', 'are', 'at', 'an', 'amusement', 'park', 'ride', '.'], ['a', 'boy', 'is', 'doing', 'a', 'skateboard', 'trick', 'from', 'a', '<unk>', '.'], ['a', 'man', 'on', 'a', 'sand', 'castle', 'are', 'building', '.'], ['the', 'large', 'brown', 'dog', 'chases', 'the', 'small', 'brown', 'dog', '.'], ['men', 'dressed', 'in', 'white', 'are', 'raising', 'their', 'hands', '.'], ['a', 'woman', 'is', 'throwing', 'a', 'dog', 'to', 'catch', 'a', 'frisbee', 'in', 'a', 'baseball', 'uniform', 'while', 'a', 'baseball', 'uniform', 'in', 'a', 'baseball', 'uniform', '.'], ['a', 'black', 'dog', 'stands', 'in', 'the', 'grass', 'holding', 'a', 'white', 'container', '.'], ['a', 'boat', 'with', 'their', 'belongings', 'in', 'the', 'water', '.'], ['a', 'group', 'of', 'bicyclists', 'ride', 'down', 'the', 'road', 'in', 'a', 'road', 'race', '.'], ['three', 'people', 'sit', 'outside', 'at', 'a', 'table', 'that', 'is', 'leaning', 'against', 'a', 'coffee', 'table', '.'], ['a', 'white', 'woman', 'and', 'a', 'black', 'man', 'walk', 'down', 'a', 'street', '.'], ['a', 'man', 'in', 'a', 'white', 't', '-', 'shirt', 'is', 'painting', 'on', 'a', 'stone', 'street', '.'], ['a', 'black', 'and', 'white', 'dog', '<unk>', 'up', 'a', 'tree', '.'], ['a', 'man', 'with', '<unk>', 'face', 'poses', 'for', 'a', 'woman', 'with', 'a', 'painting', '.'], ['two', 'boys', 'playing', 'a', 'sport', '.'], ['two', 'men', 'wait', 'in', 'the', 'backseat', 'of', 'a', 'car', 'while', 'the', 'driver', \"'s\", 'driver', 'takes', 'a', 'move', '.'], ['a', 'boy', 'is', 'sitting', 'on', 'a', 'swing', '.'], ['a', 'black', 'man', 'watches', 'another', 'man', 'in', 'a', 'black', 'waterfall', '.'], ['person', 'with', 'a', 'red', 'backpack', 'walking', '.'], ['the', '<unk>', 'of', '<unk>', ',', 'an', 'orange', '-', 'like', 'produce', ',', 'and', 'an', 'asian', 'boat', 'on', 'his', 'small', 'boat', '.'], ['a', 'large', 'crowd', 'watches', 'something', 'with', 'buildings', 'in', 'the', 'background', '.'], ['three', 'women', 'with', 'dark', 'hats', 'and', 'hats', 'talk', 'while', 'a', 'dog', 'sits', 'on', 'the', 'brick', 'street', 'next', 'to', 'them', '.'], ['a', 'man', 'in', 'a', 'white', 'shirt', 'is', 'doing', 'pottery', '.'], ['a', 'person', 'with', '<unk>', 'hair', 'and', 'a', 'yellow', 't', '-', 'shirt', 'is', 'looking', 'over', 'a', 'beach', '.'], ['a', 'man', 'watches', 'the', 'woman', 'smokes', 'on', 'the', 'sidewalk', '.'], ['a', 'man', 'in', 'a', 'black', 't', '-', 'shirt', 'and', 'brown', 'shovel', 'over', 'his', 'head', '.'], ['a', 'man', 'licks', 'the', 'face', 'of', 'a', 'woman', 'with', 'glasses', '.'], ['a', 'child', 'is', 'walking', 'in', 'front', 'of', 'another', 'child', '.'], ['the', 'young', 'girl', 'is', 'being', 'kissed', 'behind', 'her', 'little', 'boy', '.'], ['a', 'small', 'baby', 'dressed', 'in', 'pink', 'is', 'smiling', 'while', 'smiling', '.'], ['the', 'closeup', 'of', 'a', 'man', 'with', 'red', 'hair', '.'], ['a', 'soccer', 'player', 'in', 'a', 'green', 'jersey', 'runs', 'from', 'the', 'field', '.'], ['a', 'girl', 'is', 'walking', 'his', 'dog', 'over', 'a', 'hurdle', '.'], ['several', 'children', 'are', 'raising', 'their', 'hands', 'while', 'sitting', 'on', 'a', 'wooden', 'carpet', 'in', 'a', 'classroom', '.'], ['<unk>', 'stand', 'by', 'a', 'large', 'ship', 'as', 'a', 'large', 'ship', 'performs', 'a', 'horse', '.'], ['a', 'white', 'dog', 'jumps', 'up', 'to', 'catch', 'a', 'small', 'frisbee', '.'], ['a', 'man', 'in', 'a', 'gray', 't', '-', 'shirt', 'is', 'resting', '.'], ['a', 'black', 'dog', 'jumps', 'through', 'the', 'water', 'while', 'carrying', 'a', 'stick', 'in', 'his', 'mouth', '.'], ['two', 'black', 'dogs', 'running', 'on', 'a', 'horse', 'with', 'a', 'podium', '.'], ['four', 'people', 'dressed', 'in', 'casual', 'attire', 'stand', 'outside', 'and', 'hold', '<unk>', '.'], ['people', '<unk>', 'and', '<unk>', 'in', 'the', 'desert', '.'], ['four', 'dogs', 'play', 'a', 'circle', 'and', 'a', 'black', 'dog', 'runs', 'on', 'the', 'path', '.'], ['a', 'man', 'in', 'a', '<unk>', 'suit', 'is', 'speaking', 'into', 'a', 'microphone', '.'], ['a', 'group', 'of', 'asian', 'people', 'are', 'watching', 'a', 'new', 'vehicle', 'during', 'a', 'performance', 'of', '<unk>', '.'], ['a', 'swimmer', 'swimming', 'in', 'a', 'pool', '.'], ['woman', 'in', 'white', 't', '-', 'shirt', 'and', 'pants', 'relaxing', 'on', 'a', 'couch', 'in', 'a', 'house', '.'], ['a', 'man', 'is', '<unk>', 'next', 'to', 'two', 'young', 'girls', '.'], ['girls', 'in', 'white', 't', '-', 'shirt', 'making', 'bubbles', '.'], ['young', 'girls', 'and', '<unk>', 'smile', 'for', 'a', 'country', '.'], ['a', 'child', 'in', 'an', 'orange', 'shirt', 'jumps', 'from', 'a', 'hay', 'while', 'other', 'children', 'watch', '.'], ['young', 'boy', 'doing', 'tricks', 'on', 'a', 'skateboard', '.'], ['a', 'man', 'reaches', 'to', 'make', 'a', 'desk', 'over', 'the', 'top', 'of', 'a', 'desk', '.'], ['a', 'small', 'child', 'is', 'sitting', 'at', 'a', 'table', 'eating', 'a', 'snack', '.'], ['four', 'children', 'with', 'backpacks', 'turning', 'the', 'camera', 'and', 'smile', 'towards', 'a', 'road', 'while', 'smiling', '.'], ['a', 'man', 'with', '<unk>', '<unk>', 'his', 'ear', 'can', 'be', 'admiring', 'a', 'projector', '.'], ['in', 'a', 'large', '<unk>', '<unk>', '<unk>', '<unk>', '<unk>', ',', 'while', 'another', 'man', 'watches', '.'], ['a', 'dog', 'in', 'a', 'grassy', 'field', 'looking', 'at', 'the', '<unk>', '.'], ['a', 'woman', 'and', 'a', 'small', 'child', 'enjoy', 'a', 'board', 'game', '.'], ['four', 'children', 'are', 'sitting', 'on', 'a', 'wooden', 'structure', 'conversing', '.'], ['the', 'small', 'brown', 'dog', 'is', 'in', 'the', 'middle', 'of', 'stones', 'and', 'trash', '.'], ['two', 'men', 'are', 'painting', 'a', 'building', 'while', 'a', 'third', 'man', 'walks', 'by', '.'], ['some', 'men', 'are', 'looking', 'at', 'a', 'computer', 'computer', 'computer', 'screen', '.'], ['two', 'women', 'looking', 'at', 'a', 'camera', '.'], ['a', 'blond', 'woman', 'in', 'a', 'cowboy', 'hat', 'is', 'taking', 'a', '<unk>', 'camera', 'to', 'the', 'camera', '.'], ['the', 'white', 'and', 'white', 'dog', 'is', 'running', 'through', 'the', 'grass', '.'], ['a', 'teenager', 'with', 'his', '<unk>', 'is', 'reading', 'a', 'book', 'while', 'looking', 'at', '<unk>', '<unk>', '.'], ['two', 'little', 'girls', 'walk', 'through', 'leaves', '.'], ['a', 'bride', 'her', 'bride', 'in', 'the', 'flower', 'print', 'jacket', 'holding', 'her', 'bouquet', 'of', 'flowers', '.'], ['the', 'woman', 'is', '<unk>', 'a', '<unk>', 'as', 'the', 'man', '<unk>', 'by', 'the', '<unk>', '.'], ['two', 'women', 'walking', 'their', 'stroller', 'with', 'leaves', 'on', 'a', 'street', '.'], ['four', 'women', 'are', 'dressed', 'in', 'costumes', 'with', 'glasses', '.'], ['these', 'old', 'asian', 'woman', 'are', 'relaxing', 'and', 'appear', 'to', 'be', 'seen', 'in', 'the', 'air', 'at', 'a', 'hot', 'day', '.'], ['girls', 'in', 'black', 'bikinis', 'play', 'volleyball', '.'], ['a', 'man', 'with', 'glasses', 'and', 'a', 'little', 'girl', 'in', 'a', 'pool', 'with', 'a', 'small', 'life', 'jacket', '.'], ['three', 'children', 'in', 'brown', 'shirts', 'and', 'jeans', 'are', 'jumping', 'on', 'the', 'ground', 'with', 'leaves', '.'], ['a', 'woman', 'is', 'focused', 'on', 'her', 'favorite', 'piece', 'of', '<unk>', '.'], ['a', 'person', 'carries', 'many', 'bags', '.'], ['a', 'child', 'on', 'a', 'stage', 'with', 'a', 'colorful', 'figure', '.'], ['a', 'boy', 'stands', 'on', 'a', 'formal', 'event', 'by', 'a', 'formal', 'attire', '.'], ['this', 'child', 'is', 'in', 'a', 'classroom', ',', 'possibly', '<unk>', ',', 'and', '<unk>', '<unk>', 'for', 'school', '.'], ['a', 'man', 'is', 'suspended', 'in', 'the', 'water', '.'], ['children', 'are', 'looking', 'out', 'the', 'window', 'of', 'a', 'blue', 'building', 'with', 'red', '<unk>', '.'], ['a', 'man', 'in', 'black', 'with', '<unk>', 'hair', 'and', 'glasses', 'sits', 'in', 'the', 'grass', '.'], ['a', 'woman', 'and', 'two', 'children', 'are', 'high', 'in', 'the', 'beach', ',', 'and', 'the', 'woman', 'is', 'jumping', 'high', 'in', 'the', 'air', '.'], ['some', 'men', 'walk', 'on', 'a', 'public', 'street', '.'], ['a', 'guy', 'doing', 'a', '<unk>', 'in', 'a', 'park', '.'], ['a', 'man', 'in', 'a', 'bright', 'colorful', 'jacket', 'stands', 'on', 'a', 'street', 'in', 'europe', '.'], ['a', 'woman', 'with', 'a', 'yellow', 't', '-', 'shirt', 'and', 'sunglasses', 'is', 'walking', 'down', 'a', 'sidewalk', '.'], ['two', 'women', 'are', 'looking', 'down', 'at', 'many', 'houses', '.'], ['two', 'large', 'dogs', 'are', 'wrestling', 'on', 'a', 'grassy', 'field', '.'], ['the', 'group', 'of', 'people', 'dressed', 'in', '<unk>', 'attire', 'and', '<unk>', '.'], ['a', 'group', 'of', 'people', 'eating', 'in', 'a', 'restaurant', '.'], ['a', 'woman', 'in', 'a', 'black', 't', '-', 'shirt', 'appears', 'to', 'be', 'an', 'escalator', '.'], ['a', 'room', 'full', 'of', 'adults', 'and', 'adults', 'sit', 'and', 'stand', 'together', 'with', 'black', 'blanket', 'and', 'black', '.'], ['a', 'man', 'and', 'a', 'woman', 'pose', 'together', 'on', 'a', 'street', '.'], ['two', 'dogs', 'running', 'and', 'play', 'in', 'the', 'snow', '.'], ['a', 'small', 'dog', 'jumping', 'on', 'a', 'street', '.'], ['a', 'man', 'in', 'a', 'black', 't', '-', 'shirt', 'is', 'playing', 'a', 'bass', 'bass', 'bass', 'bass', 'guitar', 'on', 'a', 'stage', '.'], ['a', 'young', 'old', 'man', 'and', 'a', 'stick', 'have', 'a', 'stick', '.'], ['a', 'girl', 'with', 'a', 'white', 'jersey', 'and', 'black', 'shorts', 'is', 'playing', 'volleyball', '.'], ['two', 'men', 'stand', 'on', 'the', 'street', 'covered', 'in', 'graffiti', '.'], ['a', 'boy', 'in', 'a', 't', '-', 'shirt', 'and', 'shorts', 'holds', 'a', 'snowball', 'towards', 'a', 'snow', '-', 'covered', 'snow', '-', 'covered', 'mountain', '.'], ['a', 'person', 'is', 'surfing', 'on', 'the', 'ocean', '.'], ['two', '<unk>', 'are', 'sitting', 'on', 'horses', 'in', '<unk>', ',', 'one', 'of', 'the', 'horse', 'and', 'both', 'holding', 'a', 'horse', '<unk>', 'in', 'their', 'left', 'hand', '.'], ['a', 'dog', 'runs', 'through', 'a', 'deep', 'water', '.'], ['a', 'medium', '-', 'haired', 'group', 'of', 'people', 'posing', 'for', 'the', 'camera', '.'], ['a', 'large', 'brown', 'dog', 'and', 'a', 'spotted', 'dog', 'lay', 'on', 'the', 'street', '.'], ['two', 'teenagers', 'hold', 'up', 'a', 'map', 'and', 'one', 'of', 'them', 'are', 'smiling', '.'], ['a', 'mother', 'and', 'her', 'son', 'smile', 'as', 'they', 'are', 'putting', 'their', '<unk>', 'the', 'hill', '.'], ['a', 'man', 'in', 'a', 'black', 't', '-', 'shirt', 'cooking', '<unk>', 'in', 'a', 'messy', 'kitchen', '.'], ['a', 'woman', 'in', 'white', 'playing', 'a', 'guitar', '.'], ['a', 'snowboarder', 'is', 'jumping', 'in', 'the', 'air', 'next', 'to', 'a', 'ski', 'lift', '.'], ['several', 'people', 'stand', 'in', 'a', 'room', 'eating', 'food', '.'], ['a', 'man', 'in', 'a', 'hat', 'is', 'playing', 'for', 'money', 'on', 'an', 'instrument', 'at', 'an', 'instrument', '.'], ['a', 'guy', 'grinding', 'a', 'railing', 'near', 'an', 'old', 'building', '.'], ['a', 'woman', 'in', 'a', 'white', 't', '-', 'shirt', 'and', 'black', 'pants', 'dances', 'while', 'a', 'large', 'group', 'of', 'people', 'watch', 'her', '.'], ['an', 'older', 'man', '<unk>', 'another', 'man', 'in', 'a', '<unk>', '.'], ['two', 'men', 'in', 'red', 'robes', 'are', 'performing', 'a', 'science', 'experiment', '.'], ['a', 'small', 'child', 'rides', 'a', 'motorcycle', 'through', 'the', 'mud', '.'], ['a', 'child', 'in', 'a', 'hat', 'and', 'jacket', 'is', 'running', 'over', 'a', 'wooden', 'surface', '.'], ['a', 'child', 'sits', 'on', 'his', 'father', \"'s\", 'shoulders', 'in', 'a', 'crowd', 'of', 'father', '.'], ['two', 'old', 'men', 'in', 'hats', 'work', 'outside', 'in', 'the', 'sun', '.'], ['two', 'boys', 'in', 'a', 'tent', 'smile', 'for', 'the', 'camera', '.'], ['a', 'woman', 'in', 'black', 'kneels', 'with', 'a', 'small', 'tan', 'dog', 'in', 'a', 'small', 'crowd', '.'], ['two', 'men', 'building', 'equipment', 'on', 'electronic', 'equipment', '.'], ['a', 'woman', 'wearing', 'a', 'shopping', 'bag', 'is', 'asleep', 'while', 'she', 'is', 'touching', 'paper', '.'], ['a', 'cyclist', 'is', 'performing', 'a', 'trick', 'in', 'midair', '.'], ['a', 'young', 'man', 'in', 'a', 'green', 'sweatshirt', 'reads', 'a', 'newspaper', 'on', 'the', 'beach', '.'], ['a', 'man', 'in', 'a', 'green', 'jacket', 'smiles', '.'], ['a', 'man', 'climbing', 'a', 'rock', 'cliff', 'with', '<unk>', '.'], ['a', 'young', 'man', 'rides', 'a', 'bicycle', 'across', 'the', 'street', '.'], ['two', 'brown', 'dogs', 'are', 'wrestling', 'on', 'the', 'grassy', 'hill', '.'], ['person', 'in', 'long', 'red', 'coat', 'walking', 'in', 'front', 'of', 'a', 'building', '.'], ['there', 'are', 'there', 'is', 'a', 'foreign', 'foreign', 'large', 'colorful', 'fabric', '.'], ['two', 'boys', 'in', 'a', '<unk>', 'uniform', 'jumping', 'into', 'the', 'air', 'while', 'holding', 'a', 'basketball', '.'], ['a', 'man', 'with', 'glasses', 'is', 'looking', 'at', 'some', 'kind', 'of', 'wood', '.'], ['a', 'child', 'with', 'a', 'green', 'shirt', 'holding', 'a', 'ball', 'on', 'his', 'mouth', '.'], ['a', 'man', 'with', 'a', 'tattoo', 'on', 'his', 'arm', 'cooking', 'in', 'a', '<unk>', '.'], ['a', 'four', 'four', 'four', 'band', 'are', 'performing', 'a', 'performance', '.'], ['a', 'group', 'of', 'young', 'asian', 'men', 'are', 'running', 'in', 'a', 'marathon', '.'], ['a', 'man', 'is', 'pulling', 'items', 'on', 'a', 'cart', '.'], ['three', 'large', 'dogs', 'enjoy', 'the', 'same', 'time', 'while', 'the', 'same', 'time', 'watches', '.'], ['a', 'bird', 'is', 'flying', 'over', 'the', 'water', '.'], ['a', 'group', 'of', 'parents', 'are', 'sitting', 'outside', 'at', 'an', 'outdoor', 'gathering', '.'], ['a', 'yellow', 'car', 'returns', 'a', 'snowy', 'field', '.'], ['a', 'group', 'of', 'kids', 'are', '<unk>', 'and', '<unk>', 'their', 'instruments', '.'], ['group', 'of', 'adults', 'sit', 'around', 'a', 'table', 'listening', 'to', 'a', 'presentation', '.'], ['a', 'woman', 'in', 'a', 'green', 'shirt', 'reads', 'a', '<unk>', 'of', 'a', 'projector', '.'], ['young', 'people', 'are', 'gathered', 'together', '.'], ['<unk>', 'in', 'white', 'uniform', 'and', 'white', 'uniform', 'playing', 'baseball', 'game', 'on', 'the', 'field', '.'], ['a', 'woman', 'and', 'two', 'boys', 'look', 'at', 'a', '<unk>', '.'], ['a', 'group', 'of', 'people', 'are', 'walking', 'by', 'a', '<unk>', '.'], ['two', 'women', 'stand', 'with', 'ski', 'poles', 'in', 'the', 'snow', '.'], ['people', 'stand', 'together', 'in', 'front', 'of', 'a', '<unk>', 'weather', '.'], ['a', 'young', 'skier', 'looks', 'at', 'the', 'camera', '.'], ['two', 'little', 'girls', 'in', 'pink', 'pajamas', 'sit', 'on', 'the', 'floor', 'in', 'front', 'of', 'the', 'large', 'window', 'and', 'play', '.'], ['a', 'woman', 'and', 'a', 'child', 'ride', 'camels', 'by', 'the', 'ocean', '.'], ['a', 'man', 'in', 'a', 'crowded', 'bar', 'smiling', 'at', 'a', 'bar', 'with', 'his', 'forehead', '.'], ['the', 'street', 'with', 'people', 'wearing', 'jackets', '.'], ['two', 'men', 'in', 'a', 'foreign', 'country', 'smiling', 'while', 'sitting', 'with', 'one', 'legs', 'by', 'them', '.'], ['a', 'small', 'brown', 'dog', 'running', 'through', 'the', 'grass', '.'], ['a', 'view', 'at', 'a', 'restaurant', 'with', 'a', 'restaurant', '.'], ['a', 'snowboarder', 'is', 'performing', 'a', 'trick', '.'], ['asian', 'woman', 'in', 'a', 'large', '<unk>', 'mask', '.'], ['a', 'woman', 'in', 'a', 'blue', 'shirt', 'riding', 'a', 'bicycle', '.'], ['a', 'woman', 'in', 'white', 'tennis', 'outfit', 'jumping', 'up', 'to', 'hit', 'the', 'ball', '.'], ['a', 'young', 'woman', 'playing', 'a', 'string', 'instrument', 'in', 'the', 'house', '.'], ['a', 'bride', 'and', 'groom', 'are', 'taking', 'pictures', 'while', 'two', 'men', 'stand', 'nearby', '.'], ['a', 'woman', 'holding', 'a', '<unk>', 'dog', '.'], ['a', 'boy', 'in', 'a', 'red', 't', '-', 'shirt', 'tries', 'to', 'play', 'guitar', '.'], ['a', 'young', 'female', '<unk>', '<unk>', 'is', 'checking', 'out', 'her', 'customers', '.'], ['three', 'older', 'women', 'in', 'a', '<unk>', 'room', 'with', 'an', 'art', '<unk>', 'stand', 'in', 'the', 'middle', 'of', 'the', 'attention', '.'], ['a', 'fluffy', 'white', 'dog', 'jumping', 'up', 'and', 'catching', 'a', 'toy', '.'], ['a', 'light', 'blue', 'rides', 'a', 'bull', 'on', 'a', 'bull', '.'], ['children', 'in', 'water', 'glasses', 'pouring', 'large', '<unk>', '.'], ['a', 'black', 'dog', 'jumps', 'up', 'with', 'a', 'yellow', 'ball', 'in', 'its', 'mouth', '.'], ['a', 'group', 'of', 'people', 'in', 'blue', 't', '-', 'shirts', 'are', 'at', 'a', 'sporting', 'event', '.'], ['the', 'tennis', 'player', 'is', 'wearing', 'a', 'baseball', 't', '-', 'shirt', 'and', 'blue', 'headband', '.'], ['two', 'little', 'girls', 'in', 'blue', 'dresses', 'laugh', '.'], ['a', 'little', 'girl', 'in', 'a', 'pink', 'outfit', 'practicing', 'a', 'bowl', '.'], ['two', 'people', 'are', 'running', 'on', 'top', 'of', 'a', 'mountain', '.'], ['a', 'group', 'of', 'brightly', 'colored', 'women', 'and', 'white', 'dance', 'for', '<unk>', '.'], ['a', 'cyclist', 'is', 'performing', 'a', 'jump', 'in', 'a', 'forest', '.'], ['several', 'people', 'walk', 'along', 'a', 'fence', 'in', 'a', 'foreign', 'country', '.'], ['woman', 'on', 'a', 'brick', 'wall', 'is', 'standing', 'against', 'a', 'brick', 'wall', '.'], ['a', 'woman', 'in', 'a', 'white', 'shorts', ',', 'a', 'yellow', 'shirt', 'and', 'sandals', 'appears', 'to', 'be', 'throwing', 'a', 'stick', '.'], ['a', 'person', 'is', 'riding', 'her', 'dirt', 'bike', '.'], ['a', 'little', 'asian', 'girl', 'in', 'black', 'bucket', 'eating', 'a', 'bucket', 'with', 'a', 'large', 'bottle', 'of', 'water', '.'], ['two', '<unk>', 'play', 'on', 'a', 'wooden', 'floor', '.'], ['a', 'little', 'boy', 'with', 'a', 'red', 'shirt', 'and', 'a', 't', '-', 'shirt', 'plays', 'with', 'a', 'toy', '<unk>', '.'], ['a', 'teenage', 'boy', 'performing', 'tricks', 'on', 'a', 'bicycle', '.'], ['an', 'old', 'man', 'in', 'a', 'black', 'jacket', 'looking', 'at', 'the', 'table', '.'], ['the', 'man', 'in', 'the', 'blue', 'shirt', 'is', 'walking', 'with', 'the', 'man', 'in', 'red', '.'], ['a', 'woman', 'with', 'a', 'leg', 'hanging', 'from', 'a', 'tree', '-', 'style', 'tree', '.'], ['a', 'little', 'girl', 'with', 'a', 'helmet', 'is', 'walking', 'over', 'a', 'tree', 'covered', 'tree', 'with', 'large', '<unk>', '.'], ['a', 'black', 'dog', 'jumps', 'over', 'an', 'obstacle', '.'], ['a', 'boy', 'in', 'blue', 'playing', 'soccer', 'and', 'kicks', 'the', 'ball', 'to', 'the', 'ball', '.'], ['the', 'members', 'of', 'a', 'race', 'team', 'are', 'getting', 'ready', 'to', 'race', '.'], ['a', 'guy', 'running', 'away', 'from', 'a', 'black', 'bull', '.'], ['a', 'young', 'boy', 'with', 'a', 'mohawk', 'chases', 'wood', 'in', 'a', 'park', '.'], ['small', 'white', 'and', 'white', 'dog', 'running', 'on', 'the', 'sidewalk', '.'], ['two', 'children', 'are', 'wearing', 'their', 'faces', 'looking', 'at', 'a', 'picture', 'of', 'a', 'lady', 'and', 'one', 'lady', \"'s\", 'picture', '.'], ['the', 'two', 'men', 'are', '<unk>', 'something', 'to', 'the', 'shade', '.'], ['a', 'black', 'poodle', 'playing', 'with', 'another', 'dog', 'on', 'a', 'field', '.'], ['several', 'people', 'enjoy', 'a', 'cigarette', 'while', 'enjoying', 'a', '<unk>', '.'], ['a', 'white', 'dog', 'with', 'brown', 'leaves', 'jumping', 'from', 'the', 'water', '.'], ['a', 'photographer', 'is', 'taking', 'a', 'picture', 'of', 'a', 'couple', 'of', 'paper', 'on', 'top', 'of', 'a', 'couple', '.'], ['a', 'little', 'girl', 'in', 'a', 'plaid', 'dress', 'plays', 'near', 'a', 'large', 'blue', 'ball', 'near', 'her', 'blue', 'ball', '.'], ['a', 'man', 'boxing', '.'], ['a', 'group', 'of', 'young', 'people', 'pose', 'in', 'the', 'air', 'on', 'a', 'sandy', 'beach', '.'], ['the', 'woman', 'is', 'holding', 'a', 'violin', '.'], ['<unk>', 'hiking', 'on', 'a', 'very', 'very', 'very', 'very', 'very', '<unk>', 'day', '.'], ['a', 'man', 'in', 'a', 'gray', 't', '-', 'shirt', 'is', 'performing', 'a', 'skateboard', 'on', 'a', 'stairs', '.'], ['three', 'men', 'are', 'walking', 'by', 'a', 'tent', 'with', 'a', '<unk>', '.'], ['a', 'young', 'girl', 'stands', 'in', 'a', 'grassy', 'field', '.'], ['a', 'boy', 'in', 'black', 'and', 'red', 'outfit', 'is', 'learning', '.'], ['a', 'man', 'and', 'a', 'woman', 'are', 'playing', 'a', 'game', 'outside', '.'], ['a', 'little', 'girl', 'in', 'a', 'dress', 'and', 'sandals', 'runs', 'through', 'the', 'grass', '.'], ['a', 'woman', 'with', 'purple', 'hair', 'and', 'a', 'man', 'in', '<unk>', '.'], ['people', 'are', 'dancing', 'and', 'are', 'dancing', 'in', 'their', 'hands', '.'], ['a', 'man', 'is', 'staring', 'at', 'a', 'couple', 'as', 'he', 'walks', 'by', 'the', '<unk>', '<unk>', '.'], ['man', 'in', 'white', 't', '-', 'shirt', 'and', 'shorts', 'plays', 'an', 'organ', 'as', 'a', 'man', 'in', 'a', 'yellow', 't', '-', 'shirt', 'watches', '.'], ['a', 'large', 'group', 'of', 'people', 'watch', 'a', 'performer', 'on', 'a', 'stage', '.'], ['the', '<unk>', 'is', 'focused', 'on', 'the', 'dirt', 'track', 'as', 'the', 'cloud', 'of', 'dust', '.'], ['a', 'group', 'of', 'people', 'are', 'listening', 'to', 'a', 'man', 'outside', '.'], ['a', 'bald', 'man', 'with', 'a', 'striped', 'shirt', 'is', 'leaning', 'his', 'head', 'of', 'another', 'man', 'in', 'a', 'striped', 'shirt', 'on', 'his', 'head', '.'], ['a', 'boy', 'is', 'putting', 'on', 'a', 'wooden', 'board', '.'], ['a', 'cyclist', 'rides', 'his', 'bicycle', 'along', 'the', 'road', 'on', 'the', 'snow', '-', 'covered', 'road', '.'], ['a', 'long', '-', 'haired', 'man', 'is', 'waving', 'his', 'hair', 'in', 'the', 'ocean', '.'], ['a', 'boy', 'and', 'a', 'man', 'dressed', 'as', 'the', 'sand', '.'], ['a', 'little', 'girl', 'smiles', 'and', 'holds', 'her', 'thumb', 'up', 'while', 'she', 'poses', 'in', 'front', 'of', 'a', 'drink', '.'], ['a', 'man', 'in', 'blue', 'rides', 'a', 'bicycle', 'on', 'a', 'slope', '.'], ['a', 'lone', 'person', 'is', 'flying', 'through', 'a', 'sunset', 'with', 'a', '<unk>', 'sunset', '.'], ['a', 'female', 'is', 'standing', 'behind', 'a', 'cake', 'full', 'of', 'cake', '.'], ['two', 'bicyclists', 'cross', 'the', 'street', 'by', 'a', 'very', '<unk>', 'in', 'a', 'very', '<unk>', '.'], ['a', 'group', 'of', 'musicians', 'performing', 'on', 'rollerskates', '.'], ['two', 'people', 'playing', '<unk>', 'in', 'a', 'pool', '.'], ['there', 'is', 'a', 'man', 'at', 'a', 'cafe', 'corner', 'of', 'the', '<unk>', 'building', 'with', 'the', '<unk>', 'of', 'the', 'building', '.'], ['a', 'boy', 'is', 'lifting', 'another', 'boy', 'on', 'his', 'back', '.'], ['a', 'woman', 'is', 'taking', 'a', 'picture', 'with', 'a', 'large', 'camera', 'while', 'standing', 'on', 'the', 'street', '.'], ['a', 'girl', 'is', 'wearing', 'a', 'large', 'white', 'and', 'white', 'hat', '.'], ['a', 'woman', 'wearing', 'a', '<unk>', 'hat', 'while', 'holding', 'a', 'mohawk', 'is', 'holding', 'a', 'mirror', '.'], ['a', 'group', 'of', 'young', 'adults', 'are', 'gathered', 'at', 'a', 'gathering', 'a', 'man', 'with', 'a', 'tattoo', '.'], ['a', 'man', 'in', 'a', 'blue', 'shirt', 'is', 'riding', 'his', 'unicycle', 'on', 'fire', '.'], ['a', 'small', 'child', 'plays', 'under', 'a', 'wooden', 'box', '.'], ['four', 'children', 'play', 'on', 'the', 'porch', 'in', 'front', 'of', 'their', 'house', 'while', 'her', 'father', 'looks', 'on', '.'], ['a', 'man', 'is', 'holding', 'a', 'toddler', 'leaning', 'against', 'a', 'building', '.'], ['woman', 'with', 'two', 'cowboys', 'around', 'her', 'neck', ',', 'holding', 'seven', 'finger', '.'], ['the', 'men', 'are', 'fighting', 'during', 'the', 'game', '.'], ['two', 'girls', 'are', 'eating', 'cake', 'with', 'blue', '<unk>', 'on', 'his', 'face', '.'], ['a', 'woman', 'pulls', 'a', 'little', 'girl', 'in', 'a', 'helmet', '.'], ['a', 'crowd', 'of', 'people', 'are', 'outside', 'watching', 'someone', 'in', 'the', 'middle', '.'], ['a', 'boy', 'in', 'a', 'park', 'playing', 'with', 'two', 'balls', '.'], ['a', 'little', 'blond', '-', 'haired', 'girl', 'stands', 'on', 'a', 'pillow', 'and', 'smiles', 'at', 'her', 'eyes', 'closed', '.'], ['a', 'man', 'is', 'singing', 'into', 'a', 'microphone', 'while', 'holding', 'a', 'guitar', '.'], ['man', 'with', '<unk>', 'around', 'neck', 'shirt', 'carrying', 'a', 'pole', '.'], ['a', 'man', 'in', 'green', 'and', 'a', 'woman', 'in', 'black', 'are', 'making', '<unk>', '.'], ['a', 'man', 'is', 'taking', 'a', 'picture', 'of', 'another', 'man', 'and', 'white', 'dogs', 'on', 'a', 'grassy', 'grassy', 'field', '.'], ['a', 'man', 'doing', 'some', 'kind', 'of', 'fire', 'with', 'public', '.'], ['a', 'large', 'black', 'dog', 'runs', 'along', 'the', 'grass', 'by', 'a', 'fence', '.'], ['a', 'motocross', 'rider', 'is', 'being', 'thrown', 'through', 'the', 'air', 'on', 'a', 'racetrack', '.'], ['there', 'is', 'a', 'woman', 'riding', 'a', 'bicycle', 'with', 'a', 'wheelie', 'on', 'the', 'street', '.'], ['the', 'black', 'dog', 'is', 'jumping', 'over', 'the', 'water', 'toward', 'a', 'boat', 'near', 'a', 'boat', '.'], ['a', 'man', 'in', 'a', 'black', 'jacket', 'and', 'black', 'hat', 'plays', 'a', 'trumpet', '.'], ['a', 'man', 'in', 'green', 'is', 'snowboarding', 'on', 'a', 'bench', '.'], ['an', 'indian', 'man', 'sits', 'at', 'a', 'table', 'in', 'front', 'of', 'a', 'restaurant', '.'], ['three', 'men', 'in', 'suits', 'are', 'putting', 'their', 'hands', '.'], ['small', 'dog', 'in', 'a', 'costume', 'standing', 'on', 'hind', 'legs', 'around', 'flowers', '.'], ['man', 'grinds', 'a', 'bicycle', 'on', 'the', 'stairs', '.'], ['a', 'man', 'with', 'a', 'bucket', 'on', 'the', 'beach', 'with', 'a', 'girl', '.'], ['people', 'walk', 'on', 'a', 'sidewalk', 'in', 'front', 'of', 'a', 'city', '.'], ['a', 'large', 'dog', 'jumps', 'around', 'while', 'a', 'man', 'in', 'a', 'black', 'vest', 'and', 'vest', 'sits', 'around', 'a', 'man', 'with', 'a', 't', '-', 'shirt', '.'], ['a', 'man', 'with', 'orange', 'pants', 'is', 'holding', 'a', 'rope', 'on', 'a', 'boat', '.'], ['two', 'men', 'are', 'on', 'a', 'bright', 'green', 'day', 'to', 'catch', 'a', 'few', 'fish', 'in', 'the', 'lake', '.'], ['a', 'man', 'is', 'standing', 'on', 'scaffolding', 'painting', 'a', 'painting', 'of', 'scaffolding', '.'], ['a', 'vendor', 'sit', 'in', 'the', 'middle', 'of', 'his', 'country', 'street', 'market', 'at', 'an', 'asian', 'country', '.'], ['two', 'people', 'with', 'white', 'shirts', 'walk', 'along', 'the', 'sidewalk', 'talking', '.'], ['the', 'little', 'girl', 'with', 'green', 'collar', 'running', 'away', 'from', 'the', 'net', '.'], ['a', 'artist', 'painting', 'outside', '.'], ['two', 'asian', 'children', ',', 'one', 'boy', 'and', 'a', 'girl', 'stand', 'next', 'to', 'a', 'tree', '.'], ['people', 'in', 'line', 'ready', 'to', 'get', 'a', 'bus', 'to', 'take', 'a', 'bus', '.'], ['two', 'teams', ',', 'one', 'in', 'pink', 'and', 'one', 'of', 'a', 'lacrosse', 'players', 'in', 'white', 'and', 'one', 'on', 'a', 'sports', 'field', '.'], ['a', 'woman', 'wearing', 'a', 'yellow', 'helmet', 'is', 'using', 'a', 'zip', 'line', '.'], ['a', 'black', 'dog', 'swims', 'with', 'a', 'tennis', 'ball', 'in', 'its', 'mouth', '.'], ['three', 'men', 'are', 'riding', 'in', 'a', 'dark', 'dark', 'blue', 'car', '.'], ['a', 'bathtub', 'with', 'flags', 'on', 'the', 'roof', 'of', 'a', 'boat', 'getting', 'ready', 'to', 'go', 'the', 'finish', 'line', '.'], ['a', 'man', 'in', 'a', 'blue', 'shirt', 'is', 'blowing', 'a', 'trumpet', '.'], ['a', 'dark', '-', 'haired', 'man', 'in', 'a', '<unk>', 'or', '<unk>', '<unk>', 'holding', 'a', '<unk>', 'bag', 'while', 'holding', 'a', '<unk>', 'left', 'hand', '.'], ['many', 'people', 'stand', 'by', 'a', 'fountain', 'under', 'a', 'white', 'umbrella', '.'], ['a', 'woman', 'sewing', 'to', '<unk>', 'her', 'country', '.'], ['street', 'vendors', '<unk>', 'the', 'produce', 'at', 'the', 'table', '.'], ['three', 'men', 'stand', 'near', 'a', 'cart', 'with', 'bikes', '.'], ['a', '<unk>', 'is', 'standing', 'at', 'a', 'counter', '.'], ['a', 'man', 'in', 'a', 'red', 'hoodie', 'and', 'a', 'white', 'apron', 'standing', 'outside', 'of', 'a', 'mural', '.'], ['a', 'man', 'is', 'looking', 'at', 'a', '<unk>', '<unk>', '.'], ['two', 'people', 'are', 'riding', 'bikes', 'on', 'a', 'dirt', 'road', '.'], ['a', 'little', 'asian', 'girl', 'with', 'her', 'face', 'carrying', 'a', 'pillow', '.'], ['a', 'child', 'at', 'the', 'edge', 'of', 'a', 'lake', 'at', 'the', 'sky', '.'], ['two', 'older', 'boys', 'playing', 'guitar', '.'], ['a', 'man', 'in', 'a', 'white', 't', '-', 'shirt', 'and', 'khakis', 'is', 'juggling', 'on', 'a', 'log', '.'], ['two', 'young', 'boys', 'prepare', 'a', 'small', 'sailboat', 'from', 'the', 'beach', 'while', 'two', 'girls', 'watch', 'from', 'the', 'beach', '.'], ['a', 'man', 'in', 'medieval', 'medieval', 'armor', ',', 'standing', 'on', 'a', 'hill', 'holding', 'an', 'axe', '.'], ['three', 'people', 'are', 'kneeling', 'or', 'kneeling', 'near', 'the', 'water', 'near', 'the', 'beach', '.'], ['a', 'man', 'in', 'a', 'yellow', 'shirt', 'standing', 'in', 'front', 'of', 'a', 'small', '<unk>', '<unk>', '.'], ['a', 'child', 'is', 'about', 'to', 'bite', 'a', 'giant', 'bite', '.'], ['two', 'women', 'in', 'pink', 't', '-', 'shirts', 'and', 'blue', 'jeans', 'talk', 'in', 'front', 'of', 'a', 'clothing', 'shop', '.'], ['a', 'police', 'officer', 'is', 'on', 'a', 'horse', ',', '<unk>', 'a', 'horse', '.'], ['a', 'large', 'black', 'dog', '<unk>', 'in', 'the', 'snow', '.'], ['a', 'man', 'is', 'taking', 'a', 'picture', 'of', 'a', 'lake', 'with', 'mountains', 'in', 'the', 'background', '.'], ['a', 'brunette', 'woman', 'wearing', 'a', 'brown', 'apron', 'is', '<unk>', 'a', 'brown', 'animal', '.'], ['people', '<unk>', 'in', 'a', '<unk>', '<unk>', '<unk>', 'against', 'the', '<unk>', '.'], ['two', 'young', 'girls', 'play', 'basketball', ',', 'one', 'in', 'white', ',', 'the', 'other', 'is', 'trying', 'to', 'catch', 'a', 'baby', 'in', 'red', '-', 'up', 'on', 'a', 'baby', '.'], ['a', 'lady', 'in', 'a', 'bikini', 'is', 'hitting', 'a', 'bike', 'in', 'the', 'sand', '.'], ['a', 'man', 'with', 'a', 'brown', 'shirt', ',', 'a', 'gray', 'hat', 'and', 'a', 'black', 'hat', 'is', 'playing', 'a', 'card', 'game', '.'], ['a', 'woman', 'with', 'blond', '-', 'hair', 'is', 'drinking', 'from', 'a', 'glass', '.'], ['a', 'little', 'boy', 'is', 'laying', 'on', 'the', 'leg', 'in', 'a', 'hospital', 'bed', 'with', 'one', 'leg', '.'], ['two', 'middle', '-', 'aged', 'men', 'are', 'talking', 'to', 'each', 'other', 'in', 'a', 'musical', 'instrument', '.'], ['the', 'dog', 'is', 'opening', 'his', 'teeth', 'while', 'opening', '.'], ['an', 'older', 'man', 'and', 'woman', 'in', 'home', '.'], ['a', 'man', 'is', 'laying', 'on', 'a', 'snow', '-', '<unk>', 'the', '<unk>', 'of', 'his', 'house', '.'], ['a', 'little', 'girl', 'holding', 'a', 'deer', 'to', 'get', 'to', '<unk>', 'a', 'meal', '.'], ['a', 'woman', 'with', 'black', 'hair', ',', 'a', 'black', 'shirt', ',', 'and', 'red', 'skirt', 'with', 'a', 'fourth', 'photographer', '<unk>', 'to', 'someone', '.'], ['a', 'man', 'is', 'being', 'kissed', 'through', 'a', 'wheelchair', 'in', 'a', 'wheelchair', '.'], ['two', 'dogs', 'are', 'lying', 'in', 'the', 'snow', 'with', 'its', 'mouth', '.'], ['a', 'woman', 'with', '<unk>', 'her', 'face', '-', '<unk>', 'her', 'face', '.'], ['two', 'hockey', 'players', 'are', 'ready', 'for', 'the', 'game', 'while', 'the', 'hockey', 'players', 'are', 'in', 'the', 'puck', 'by', 'them', '.'], ['runners', 'are', 'passing', 'through', 'the', 'city', '.'], ['group', 'of', 'people', 'dancing', 'in', 'a', 'club', 'or', 'party', '.'], ['two', 'children', 'are', 'getting', 'ready', 'to', '<unk>', 'a', 'elephant', 'elephant', '.'], ['a', 'young', 'adult', 'wearing', 'jeans', 'and', 'black', 'electric', 'guitar', 'is', 'playing', 'an', 'electric', 'guitar', '.'], ['a', 'person', 'in', 'a', 'yellow', '<unk>', 'area', '.'], ['swimmer', 'in', 'a', 'lake', 'are', 'watching', 'a', 'boy', 'sits', 'on', 'a', 'wall', '.'], ['a', 'crowd', 'of', 'people', 'in', 'a', 'dirt', 'with', 'smoke', 'and', 'smoke', '.'], ['dog', '<unk>', 'high', 'in', 'snow', 'high', 'high', 'in', 'the', 'snow', 'area', '.'], ['a', 'group', 'of', 'rollerskaters', 'are', 'gathered', 'in', 'an', 'area', '.'], ['a', '<unk>', 'with', 'a', 'black', '<unk>', '<unk>', '.'], ['a', 'young', 'boys', 'are', 'being', '<unk>', 'by', 'another', 'boy', '.'], ['the', 'picture', 'of', 'a', 'picture', \"'s\", 'hair', 'is', 'cutting', 'his', 'haircut', '.'], ['tourist', '<unk>', 'are', 'taking', 'pictures', 'in', 'a', 'building', 'in', 'china', '.'], ['the', 'picture', 'is', 'pointing', 'and', 'a', 'man', 'in', 'a', 'green', 'parking', 'lot', 'with', 'his', 'cars', 'on', 'the', 'front', 'of', 'the', 'cars', '.'], ['two', 'men', 'behind', 'a', 'bar', 'filled', 'with', 'people', '.'], ['men', 'and', 'women', 'wait', 'for', 'a', 'train', '.'], ['children', 'are', 'conversing', 'and', 'having', 'a', 'conversation', '.'], ['a', 'man', 'is', 'singing', 'into', 'a', 'microphone', 'while', 'his', 'band', 'plays', '.'], ['a', 'singer', 'is', 'singing', 'together', 'with', 'a', 'crowd', '.'], ['an', 'older', 'woman', 'in', 'a', 'blue', 'hat', 'is', 'sitting', 'on', 'the', 'sidewalk', 'next', 'to', 'something', 'yellow', 'board', '.'], ['a', 'construction', 'worker', 'in', 'a', 'black', 't', '-', 'shirt', 'and', 'jeans', 'is', 'putting', 'his', 'ladder', '.'], ['a', 'female', 'is', '<unk>', '<unk>', '<unk>', 'in', 'a', 'restaurant', '.'], ['blond', 'man', 'in', 'a', 'black', '<unk>', 'using', 'a', 'sculpture', '.'], ['a', 'girl', 'performing', 'a', 'routine', 'at', 'a', 'karate', 'event', 'and', 'crowd', 'watches', '.'], ['a', 'artist', 'working', 'on', 'an', 'ice', 'sculpture', '.'], ['a', 'man', 'in', 'a', 'blue', 'jacket', 'is', 'being', 'pulled', 'by', 'two', 'dogs', '.'], ['this', 'is', 'a', 'band', 'or', 'practicing', 'or', 'practicing', 'some', 'orchestra', '.'], ['two', 'people', 'are', 'playing', 'a', 'game', 'of', 'game', '.'], ['several', 'girls', 'are', 'playing', 'with', 'brush', '.'], ['a', 'young', 'girl', 'playing', 'a', 'musical', 'instrument', 'and', 'singing', 'into', 'a', 'microphone', '.'], ['a', 'man', 'is', 'playing', 'a', '<unk>', 'for', 'his', 'computer', '.'], ['a', 'man', 'who', 'appears', 'to', 'be', '<unk>', 'the', '<unk>', 'of', 'the', '<unk>', '<unk>', '<unk>', 'of', 'the', 'floor', '.'], ['scene', 'from', 'a', 'man', 'in', 'a', '<unk>', '<unk>', ',', 'including', 'a', '<unk>', 'for', '<unk>', 'around', 'a', 'cold', 'winter', 'setting', '.'], ['a', 'group', 'of', 'people', 'in', 'black', 'shirts', ',', 'black', 'shirts', 'and', 'white', 'shirts', 'with', 'a', 'brown', 'collar', '.'], ['a', 'female', 'diver', 'practices', 'their', 'martial', 'arts', 'in', 'a', 'red', 'jacket', '.'], ['a', 'group', 'of', 'people', 'are', 'walking', 'in', 'the', 'winter', '.'], ['a', 'woman', 'and', 'a', 'boy', 'on', 'a', 'stage', 'laughing', 'with', 'a', 'tent', 'in', 'the', 'background', '.'], ['a', 'black', 'man', 'in', 'a', 'chef', \"'s\", 'jacket', 'talks', 'while', 'two', 'other', 'men', 'are', 'laughing', '.'], ['a', 'little', 'girl', 'walking', 'along', 'a', 'small', 'stream', '.'], ['a', 'brown', '-', 'haired', 'man', 'in', 'a', 'brown', 'blazer', 'speaks', 'for', 'an', 'audience', '.'], ['two', 'children', 'dance', 'at', 'a', 'carnival', 'attraction', '.'], ['the', 'picture', 'is', 'holding', 'a', 'man', 'and', 'a', 'child', 'are', 'taking', 'a', 'walk', 'in', 'her', 'parking', 'lot', '.'], ['<unk>', 'kicks', 'a', 'concert', '.'], ['a', 'man', 'and', 'a', 'woman', 'sit', 'on', 'a', 'bench', ',', 'as', 'a', 'boat', 'passes', 'by', '.'], ['a', 'city', 'street', 'with', 'many', 'signs', 'signs', 'in', 'the', 'city', '.'], ['several', 'people', 'are', 'conversing', 'and', 'have', 'themselves', 'in', 'a', 'room', '.'], ['a', 'group', 'of', 'musicians', 'performing', 'music', 'on', 'the', 'street', '.'], ['this', 'man', 'is', 'trying', 'to', 'be', '<unk>', 'in', 'a', 'busy', 'city', 'scene', 'of', 'some', 'sort', 'of', 'city', '.'], ['two', 'children', 'play', 'on', 'a', 'jungle', 'gym', '.'], ['a', 'man', 'is', 'sitting', 'on', 'the', 'steps', 'in', 'front', 'of', 'a', 'window', '.'], ['<unk>', 'man', 'in', 'a', 'business', 'suit', 'walks', 'down', 'a', 'busy', 'street', '.'], ['a', 'man', 'in', 'a', 'white', 'apron', 'and', 'hat', 'sells', 'meat', 'at', 'a', 'busy', 'street', '.'], ['a', 'woman', 'is', 'carrying', 'a', 'green', 'and', 'green', 'scarf', '.'], ['an', 'older', 'woman', 'wearing', 'sunglasses', ',', 'a', 'beret', 'and', 'a', 'yellow', 'scarf', 'and', 'a', 'scarf', '.'], ['people', 'sit', 'between', 'a', 'few', '<unk>', 'while', 'another', 'person', 'walk', 'by', '.'], ['a', '<unk>', 'and', '<unk>', 'are', 'examining', 'a', 'very', 'tiger', 'that', 'is', 'laying', 'down', 'on', 'the', 'ground', '.'], ['two', 'people', 'watch', 'in', 'a', 'store', '.'], ['a', 'man', 'with', 'a', 'backpack', 'sits', 'on', 'a', 'dirt', 'road', 'and', 'pointing', 'to', 'the', 'horizon', '.'], ['two', 'men', 'sit', 'around', 'a', 'shiny', 'grill', '.'], ['a', 'woman', 'in', 'a', 'yellow', 'jacket', 'follows', 'two', 'other', 'women', '.'], ['a', 'man', 'in', 'a', 'coat', 'talks', 'on', 'the', 'street', '.'], ['the', 'picture', 'of', 'a', 'boy', 'in', 'a', 'green', 't', '-', 'shirt', 'sitting', 'on', 'a', 'bicycle', 'in', 'a', '<unk>', 'room', '.'], ['a', 'little', 'girl', 'is', 'peeking', 'over', 'a', 'blue', 'wall', '.'], ['a', 'young', 'man', 'is', 'preparing', 'food', 'at', 'a', 'food', 'market', '.'], ['an', 'old', 'man', 'is', 'sitting', 'on', 'a', 'tray', 'with', 'a', 'tray', '.'], ['an', 'african', 'american', 'man', 'wearing', 'a', 'brown', 'hat', ',', 'hat', ',', 'and', 'sunglasses', 'is', 'standing', 'on', 'a', 'brick', 'wall', '.'], ['three', 'men', 'are', 'conversing', 'on', 'the', 'stairs', 'in', 'front', 'of', 'an', 'old', 'building', '.'], ['black', 'people', 'are', 'shopping', 'for', 'food', 'to', 'food', '.'], ['a', 'man', 'and', 'two', 'children', 'cross', 'a', 'street', '.'], ['man', 'in', 'suit', 'smoking', 'a', 'cigar', 'reading', 'a', 'newspaper', 'on', 'the', 'street', 'reading', 'a', 'newspaper', '.'], ['a', 'group', 'of', 'people', 'wearing', 'white', 'playing', 'guitar', '.'], ['a', 'dog', 'jumps', 'into', 'the', 'air', 'to', 'catch', 'an', 'orange', 'frisbee', '.'], ['some', 'people', 'stand', 'on', 'a', 'wooden', 'structure', '.'], ['the', 'three', 'children', 'are', 'in', 'a', 'cage', '.'], ['two', 'people', 'stand', 'outside', 'a', 'building', '.'], ['an', 'elderly', 'woman', 'using', 'a', 'pink', 'umbrella', 'to', 'protect', 'the', 'sun', '.'], ['a', 'baseball', 'player', 'flies', 'off', 'of', 'a', 'wave', 'while', 'sliding', 'over', 'the', 'ground', '.'], ['two', 'women', 'in', 'blue', 'suits', 'sit', 'outside', 'on', 'concrete', 'with', 'concrete', 'behind', 'them', 'and', '<unk>', '.'], ['two', 'men', 'are', 'smoking', 'outside', '.'], ['a', 'man', 'in', 'a', 'blue', 'shirt', 'holds', 'a', 'sign', 'that', 'says', '\"', '<unk>', '\"', '<unk>', '\"', '<unk>', '\"', '.'], ['a', 'woman', 'in', 'a', 'green', 'shirt', 'is', 'walking', 'down', 'a', 'busy', 'street', '.'], ['two', 'women', 'sit', 'on', 'a', 'silver', 'train', 'at', 'a', 'train', 'station', ',', 'waiting', 'for', 'a', 'train', '.'], ['a', 'crowd', 'of', 'people', 'are', 'standing', 'at', 'the', 'starting', 'sport', '.'], ['a', 'little', 'boy', 'carries', 'a', 'flag', 'and', 'hat', 'next', 'to', 'a', 'woman', '.'], ['many', 'people', 'gathered', 'around', 'two', 'men', 'are', 'gathered', 'around', 'a', 'sign', 'and', 'are', 'playing', 'an', 'instrument', '.'], ['a', 'man', 'in', 'a', 'black', 'and', 'white', 'striped', 't', '-', 'shirt', 'is', 'taking', 'a', 'picture', 'of', 'a', 'woman', '.'], ['two', 'people', 'are', 'sitting', 'on', 'a', 'bench', 'having', 'lunch', 'from', 'a', 'lunch', '.'], ['a', 'female', 'performer', 'holding', 'a', 'camera', 'and', 'a', 'child', 'on', 'a', 'movie', 'film', '.'], ['a', 'man', 'pushing', 'a', 'chair', 'on', 'a', 'busy', 'street', '.'], ['a', 'man', 'with', 'a', 'microphone', 'talking', 'to', 'a', 'group', 'of', 'people', '.'], ['two', 'men', 'are', 'talking', 'to', 'a', 'painted', 'wall', 'with', 'graffiti', '.'], ['a', 'girl', 'with', 'a', 'face', 'and', 'an', 'orange', 'sweater', 'is', 'standing', 'by', 'her', 'face', '.'], ['a', 'person', 'stands', 'next', 'to', 'a', 'wooden', 'fence', 'near', 'trees', '.'], ['a', 'young', 'woman', 'practicing', 'yoga', 'with', 'a', 'red', 'gym', '.'], ['<unk>', '<unk>', 'at', 'the', 'day', 'for', 'the', 'day', '.'], ['a', 'man', 'sits', 'at', 'a', 'bright', 'colorful', 'stand', 'with', 'a', 'stand', 'behind', 'him', '.'], ['a', '<unk>', ',', 'three', 'young', 'adults', ',', 'are', 'fighting', 'for', 'the', 'football', 'game', '.'], ['a', 'man', 'carries', 'a', 'child', 'on', 'his', 'shoulders', 'while', 'people', 'walk', 'around', 'him', '.'], ['a', 'man', 'in', 'an', 'apron', 'stands', 'in', 'front', 'of', 'a', 'booth', ',', 'studying', '.'], ['street', 'scene', 'with', 'blond', 'woman', 'and', 'black', 'coat', 'and', '<unk>', 'in', 'front', 'of', 'a', '<unk>', 'stand', '.'], ['several', 'boys', 'in', 'white', 'are', 'standing', 'facing', 'each', 'other', 'in', 'maroon', 'balls', '.'], ['a', 'woman', 'with', 'a', 'blue', 'bag', 'is', 'riding', 'a', 'scooter', 'on', 'a', 'scooter', '.'], ['a', 'woman', 'is', 'sitting', 'on', 'a', 'public', 'bench', '.'], ['a', 'group', 'of', 'people', 'sit', 'outside', 'at', 'a', 'table', 'having', 'a', 'conversation', '.'], ['a', 'little', 'asian', 'girl', 'runs', 'down', 'the', 'street', 'in', 'a', 'brick', '-', 'paved', 'street', '.'], ['a', 'woman', 'and', 'four', 'children', 'cross', 'a', 'busy', 'street', '.'], ['women', 'in', 'different', 'colored', 'clothing', 'are', 'singing', 'together', '.'], ['a', 'woman', 'is', 'talking', 'over', 'a', 'little', 'girl', '.'], ['a', 'woman', 'grilling', 'food', 'at', 'the', 'park', '.'], ['police', 'officer', 'with', 'a', 'man', 'holding', 'a', 'hand', '-', 'hair', 'while', 'another', 'police', 'officer', 'watch', '.'], ['a', 'man', 'in', 'a', 'black', 't', '-', 'shirt', 'is', 'singing', 'into', 'a', 'microphone', '.'], ['two', 'young', 'men', 'in', 'blue', 'jeans', 'and', 'sneakers', 'cross', 'a', 'city', 'street', '.'], ['two', 'girls', 'play', 'with', 'a', 'dog', 'on', 'a', 'tree', '.'], ['a', 'young', 'woman', 'with', 'a', 'bag', 'standing', 'in', 'front', 'of', 'a', 'building', 'smiling', '.'], ['a', 'man', 'and', 'a', 'woman', 'are', 'walking', 'along', 'a', 'boardwalk', 'to', 'a', 'rope', '.'], ['three', 'women', 'running', 'through', 'the', 'sand', 'to', 'land', '.'], ['a', 'baby', 'is', 'sitting', 'on', 'a', 'blue', 'board', '.'], ['two', 'men', 'look', 'at', 'the', 'screen', 'while', 'one', 'is', 'writing', 'on', 'a', 'screen', 'and', 'the', 'other', 'is', 'writing', 'on', 'a', 'screen', '.'], ['a', 'parade', 'of', 'a', 'man', 'being', '<unk>', 'by', 'a', 'red', 'flag', '.'], ['a', 'man', 'in', 'a', 'gray', 'hat', ',', 'black', 'shorts', 'and', 'black', 'shorts', 'is', 'doing', 'a', 'handstand', '.'], ['the', 'woman', 'is', 'holding', 'onto', 'the', 'young', 'boy', 'as', 'she', 'looks', 'over', 'the', 'street', '.'], ['the', 'picture', 'of', 'a', 'man', 'who', 'is', 'showing', 'of', 'some', 'sort', 'of', '<unk>', 'of', '<unk>', '.'], ['a', 'happy', 'man', 'lifting', 'a', 'woman', '.'], ['the', 'man', 'with', 'white', 'hair', 'and', 'sunglasses', 'is', 'holding', 'the', 'girls', \"'s\", 'hand', '.'], ['a', 'man', 'walking', 'down', 'the', 'street', 'next', 'to', 'a', 'city', 'sidewalk', '.'], ['a', 'man', 'in', 'black', 'holding', 'his', 'hands', 'above', 'the', 'ground', '.'], ['photographers', 'are', 'taking', 'a', 'london', 'event', '.'], ['man', 'and', 'woman', 'in', 'black', 'are', 'standing', 'close', 'to', 'each', 'other', 'on', 'the', 'street', '.'], ['people', 'participating', 'in', 'a', 'race', 'race', 'race', 'race', 'to', 'be', 'competing', '.'], ['the', 'girl', 'and', 'boy', 'are', 'kissing', 'while', 'sitting', 'on', 'a', 'wooden', 'bench', '.'], ['a', 'man', 'with', 'goggles', 'is', 'getting', 'out', 'of', 'a', 'pool', '.'], ['there', 'is', 'a', 'young', 'woman', 'and', 'red', 'makeup', 'with', 'a', 'giant', 'heart', '-', 'haired', 'woman', 'in', 'red', 'makeup', '.'], ['a', 'cyclist', 'flies', 'over', 'a', 'ramp', 'in', 'the', 'forest', '.'], ['two', 'women', 'in', 'all', 'white', 'walking', 'on', 'the', 'street', 'with', 'tall', 'heels', '.'], ['an', 'indian', 'man', 'walks', 'past', 'the', '<unk>', 'to', 'a', 'temple', '.'], ['a', 'well', '-', 'dressed', 'black', '<unk>', 'is', 'standing', 'on', 'the', 'subway', 'while', 'listening', 'to', 'something', 'headphones', '.'], ['two', 'men', 'sit', 'outside', 'and', 'talk', 'for', 'a', 'sign', '.'], ['a', 'woman', 'with', 'a', 'red', 'dress', 'and', 'red', 'hair', 'stands', 'in', 'front', 'of', 'a', 'house', '.'], ['a', 'woman', 'in', 'matching', 'athletic', 'uniforms', 'are', 'rollerskating', '.'], ['a', 'woman', 'with', 'a', 'black', 'dress', 'and', 'earmuffs', 'is', 'walking', 'down', 'the', 'street', '.'], ['there', 'are', 'many', 'people', 'in', 'a', 'building', 'and', 'some', 'food', 'are', 'some', 'food', '.'], ['people', 'enjoy', 'a', 'local', 'local', 'watermelon', 'by', 'a', 'local', 'bakery', '.'], ['view', 'of', 'street', 'in', 'street', 'lined', 'by', 'large', 'buildings', '.'], ['a', 'girl', 'with', 'blue', '<unk>', 'sits', 'on', 'the', 'side', 'of', 'the', 'road', '.'], ['a', 'man', 'in', 'a', '<unk>', 't', '-', 'shirt', 'is', 'doing', 'a', 'gun', '.'], ['a', 'woman', 'is', 'being', '<unk>', 'by', 'a', 'balloon', '.'], ['a', 'man', 'in', 'a', 'long', 'blue', '<unk>', 'suit', 'is', 'walking', 'a', 'old', 'stone', 'building', '.'], ['a', 'lady', 'in', 'a', 'bright', 'pink', 'blouse', 'pulls', 'a', 'cart', 'with', 'food', '<unk>', '.'], ['a', 'person', 'with', 'long', 'blue', 'hair', 'is', 'standing', 'behind', 'a', 'large', 'crowd', '.'], ['a', 'group', 'of', '<unk>', 'holding', 'hands', 'and', 'walk', 'along', 'the', 'beach', 'near', 'a', 'line', 'of', 'water', '.'], ['a', 'man', 'in', 'a', 'white', 't', '-', 'shirt', 'is', 'playing', 'violin', 'on', 'the', 'street', '.'], ['many', 'people', 'in', 'summer', 'clothes', 'walk', 'on', 'a', 'dirt', 'day', 'on', 'a', 'sunny', 'day', '.'], ['two', 'people', 'in', '<unk>', '<unk>', '<unk>', 'sit', 'on', 'a', 'stage', 'in', 'chairs', '.'], ['a', 'black', 'man', 'in', 'a', 'hat', 'is', 'sitting', 'on', 'a', 'bus', '.'], ['a', 'gentleman', 'is', 'coming', 'out', 'of', 'a', 'laundromat', '.'], ['a', 'man', 'in', 'a', 'suit', 'and', 'tie', 'talking', 'on', 'a', 'podium', 'in', 'a', 'building', '.'], ['the', 'man', 'is', 'asleep', 'on', 'the', 'couch', '.'], ['five', 'men', 'all', 'wearing', 'white', 'suits', 'stand', 'next', 'to', 'a', 'fenced', 'in', 'a', 'fenced', 'area', '.'], ['two', '<unk>', ',', 'one', 'of', 'the', 'other', ',', 'one', 'in', 'red', 'and', 'white', 'is', 'on', 'a', 'crowd', '.'], ['a', 'group', 'of', 'four', 'people', 'are', 'photographed', 'from', 'a', 'car', '.'], ['people', 'on', 'the', 'street', 'at', 'a', 'street', 'fair', '.'], ['two', 'girls', 'are', 'wet', 'from', 'behind', 'them', 'and', 'one', 'woman', 'holding', 'an', 'umbrella', '.'], ['a', 'woman', 'in', 'white', 'is', 'holding', 'a', '<unk>', '.'], ['a', 'young', 'woman', 'in', 'street', 'clothes', 'and', 'boots', 'performs', 'a', 'flute', 'screen', 'by', 'a', 'lake', '.'], ['a', 'man', 'and', 'a', 'woman', 'walk', 'up', 'a', 'stone', 'archway', '.'], ['four', 'men', 'in', 't', '-', 'shirts', 'and', 'shorts', 'look', 'down', 'the', 'street', '.'], ['several', 'men', 'stand', 'on', 'a', 'street', ',', 'including', 'a', 'lot', 'of', 'people', 'with', 'lots', 'of', 'people', '.'], ['an', 'old', '<unk>', 'man', 'with', 'white', 'hair', 'sitting', 'in', 'front', 'of', 'a', 'white', 'chain', 'link', 'fence', '.'], ['a', 'shirtless', 'man', 'is', 'performing', 'a', 'skateboard', 'at', 'a', 'skate', 'park', '.'], ['a', 'man', 'with', 'headphones', 'walking', 'past', 'a', 'red', 'wall', 'with', 'graffiti', '.'], ['two', 'men', 'are', 'wearing', '<unk>', 'clothing', 'in', 'new', 'york', 'city', '.'], ['a', 'woman', 'in', 'a', 'purple', 'shirt', 'and', 'white', 'skirt', 'looks', 'at', 'a', '<unk>', '.'], ['a', 'person', 'is', 'riding', 'a', 'motorcycle', 'down', 'a', 'dirt', 'mound', '.'], ['a', 'woman', 'in', 'yellow', 'and', 'a', 'man', 'in', 'a', 'stroller', 'with', 'a', 'blue', 'shirt', 'and', 'backpack', 'walk', 'through', 'a', '<unk>', '.'], ['a', 'man', 'in', 'his', 'living', 'room', 'for', 'a', 'game', 'of', 'musical', 'time', 'to', 'be', 'computer', '.'], ['an', 'african', 'american', 'woman', 'is', 'sitting', 'at', 'a', 'table', 'wearing', 'a', 'purple', 'dress', 'and', 'sunglasses', '.'], ['a', 'man', 'on', 'a', 'motorized', 'board', 'in', 'a', 'city', 'chair', 'looking', 'at', 'the', 'women', 'and', 'look', 'on', '.'], ['two', 'men', ',', 'one', 'of', 'the', 'other', 'selling', 'fruit', 'and', 'fruits', 'are', 'conversing', 'with', 'fruit', 'and', 'fruits', '.'], ['a', 'man', 'and', 'a', 'woman', 'embracing', 'on', 'a', 'street', '.'], ['many', 'people', 'in', 'white', 'are', 'conversing', 'with', 'each', 'other', 'in', 'a', 'stadium', '.'], ['many', 'people', 'gathered', 'for', 'something', 'to', 'take', 'something', 'picture', '.'], ['a', 'couple', 'sitting', 'on', 'a', 'bench', 'and', 'talk', 'while', 'a', 'woman', 'walks', 'a', 'dog', 'in', 'the', 'background', '.'], ['two', 'women', 'in', 'polka', 'dot', 'dresses', 'walk', 'down', 'a', 'sidewalk', '.'], ['a', 'group', 'of', 'girls', 'play', 'in', 'a', 'water', 'fountain', '.'], ['people', '<unk>', 'and', '<unk>', 'in', '<unk>', 'attire', 'around', 'the', '<unk>', '<unk>', '.'], ['a', 'balding', 'man', 'wearing', 'sunglasses', 'and', 'a', 'red', 'shirt', 'standing', 'in', 'front', 'of', 'a', 'building', '.'], ['a', 'boy', 'with', 'a', 'striped', 'white', 'and', 'white', 'striped', 'hat', 'is', 'standing', 'on', 'the', 'beach', '.'], ['a', 'couple', 'and', 'two', 'girls', 'look', 'over', 'a', 'railing', '.'], ['people', 'in', 'a', 'store', 'to', 'produce', '.'], ['a', 'professional', 'professional', 'professional', 'gymnast', 'is', 'carrying', 'the', 'pottery', 'on', 'the', 'bowling', '.'], ['a', 'woman', 'stands', 'next', 'to', 'two', 'people', ',', 'showing', 'up', 'to', 'the', 'sky', '.'], ['a', 'couple', 'walks', 'down', 'a', 'hallway', 'at', 'a', 'store', 'that', 'sells', '<unk>', 'and', '<unk>', '.'], ['a', 'man', 'with', 'a', 'name', 'tag', 'is', 'sitting', 'in', 'a', 'chair', '.'], ['a', 'man', 'in', 'the', 'distance', 'at', 'a', 'temple', '.'], ['a', 'man', 'balances', 'his', 'arm', 'on', 'top', 'of', 'a', 'mountain', '.'], ['a', 'black', 'man', 'in', 'a', 'white', 't', '-', 'shirt', 'and', 'black', 'hat', 'is', 'sitting', 'on', 'the', 'curb', '.'], ['a', 'boy', 'in', 'a', 'black', 't', '-', 'shirt', 'is', 'carrying', 'a', 'blue', 'bucket', 'next', 'to', 'a', 'young', 'men', '.'], ['a', 'young', 'dark', '-', 'haired', 'woman', 'with', 'red', '<unk>', 'holding', 'an', 'umbrella', 'in', 'the', 'middle', 'of', 'a', 'crowd', 'of', 'people', '.'], ['a', 'man', 'holding', 'a', 'small', 'child', 'who', 'is', 'carrying', 'a', 'backpack', '.'], ['a', 'young', 'man', 'is', '<unk>', 'on', 'a', 'purple', 'plastic', 'set', 'with', 'a', 'wooden', 'post', '.'], ['girls', 'are', 'sitting', 'in', 'his', 'hands', '.'], ['a', 'girl', 'in', 'a', 'black', 'and', 'black', 't', '-', 'shirt', 'is', 'dancing', 'with', 'several', 'other', 'people', 'surrounded', 'by', 'other', 'people', '.'], ['a', 'boy', 'and', 'a', 'girl', 'in', 'a', 'black', 'overalls', 'stand', 'by', 'a', 'girl', 'in', 'a', 'pink', 'jacket', '.'], ['a', 'man', 'and', 'a', 'woman', 'are', 'walking', 'past', 'some', 'goods', 'with', 'some', 'tents', '.'], ['a', 'woman', 'in', 'striped', 'costume', 'being', '<unk>', 'by', '<unk>', '.'], ['a', 'construction', 'worker', 'in', 'an', 'orange', 'vest', 'is', '<unk>', 'a', '<unk>', '.'], ['an', 'asian', 'woman', 'sits', 'in', 'front', 'of', 'a', 'vegetable', 'stand', '.'], ['a', 'man', 'is', 'laying', 'around', 'his', 'room', 'with', 'no', 'food', '.'], ['a', 'trailer', 'drives', 'a', 'trailer', 'of', '<unk>', 'with', 'a', 'red', '<unk>', '.'], ['a', 'young', 'woman', 'with', 'brown', 'hair', 'and', 'a', 'long', 'camera', 'is', 'taking', 'a', 'photo', '.'], ['a', 'person', 'laying', 'on', 'a', 'bench', 'in', 'front', 'of', 'a', '<unk>', '.'], ['a', 'smiling', 'young', 'man', 'walks', 'by', 'the', 'beach', 'near', 'the', 'beach', ',', 'wearing', 'a', 'blue', 'baseball', 'cap', 'and', 'jeans', '.'], ['a', 'group', 'of', 'people', 'waving', 'at', 'a', 'balcony', '.'], ['a', 'man', 'in', 'a', 'uniform', 'is', 'practicing', 'a', 'german', 'shepherd', 'with', 'a', 'german', 'shepherd', '.'], ['a', 'young', 'boy', 'practicing', 'martial', 'arts', 'on', 'a', 'skateboard', '.'], ['some', 'men', 'on', 'a', 'boat', 'or', 'appear', 'to', 'be', 'be', 'ordering', 'something', '.'], ['a', 'man', 'with', '<unk>', 'glasses', 'and', 'a', 'glasses', 'sits', 'on', 'the', 'street', '.'], ['people', 'cross', 'a', 'street', 'in', 'front', 'of', 'a', 'building', '.'], ['a', 'man', 'in', 'a', 'gray', 'shirt', 'puts', 'his', 'head', 'on', 'a', 'table', '.'], ['a', 'man', 'in', 'a', 'white', 'shirt', 'and', 'dark', 'shorts', 'works', 'outside', '.'], ['a', 'woman', 'in', 'black', 'pants', 'is', 'looking', 'at', 'her', 'cellphone', '.'], ['a', 'young', 'woman', 'in', 'a', 'pink', 'shirt', 'tries', 'to', 'rope', 'a', 'calf', '.'], ['a', 'family', 'is', 'standing', 'outside', 'on', 'a', 'cloudy', 'day', '.'], ['a', 'very', 'young', 'child', 'with', 'paint', 'on', 'his', 'face', 'and', 'body', 'of', 'water', 'are', 'sitting', 'in', 'the', 'sink', 'playing', 'with', '<unk>', '.'], ['children', 'are', 'being', '<unk>', 'in', 'a', '<unk>', '.'], ['a', 'man', 'and', 'a', 'woman', 'are', 'holding', 'up', 'signs', '.'], ['a', 'woman', 'is', 'working', 'on', 'her', 'patio', '.'], ['an', 'older', 'man', 'in', 'a', 'blue', 'outfit', 'is', 'sitting', 'on', 'a', 'bench', '.'], ['a', 'woman', 'with', 'her', 'camera', 'taking', 'a', 'photo', '.'], ['an', 'older', 'man', 'in', 'blue', 'jeans', 'and', 'a', 'brown', 'jacket', 'leaning', 'against', 'an', 'orange', 'building', '.'], ['a', 'man', 'holding', 'a', 'head', 'of', 'head', 'of', 'a', 'bench', ',', '<unk>', 'a', 'window', 'of', 'water', '.'], ['two', 'women', 'sit', 'on', 'a', 'bench', 'at', 'night', '.'], ['a', 'man', 'in', 'a', 'white', 't', '-', 'shirt', 'is', 'sitting', 'on', 'a', 'box', '.'], ['an', 'older', 'man', 'with', 'tattoos', 'and', 'tattoos', 'strolls', 'on', 'a', 'city', 'street', '.'], ['a', 'man', 'is', 'sitting', 'alone', 'at', 'the', 'shore', 'of', 'a', 'shore', '.'], ['an', 'older', 'man', 'sits', 'outside', 'a', 'large', 'banner', 'that', 'says', '\"', '<unk>', '\"', '<unk>', '\"', '.'], ['a', 'man', 'in', 'a', 'gray', 'jacket', 'on', 'a', 'bicycle', '.'], ['a', 'boy', 'with', 'glasses', 'and', 'a', 'bright', 'yellow', 't', '-', 'shirt', 'is', 'standing', 'on', 'a', 'parking', 'lot', '.'], ['two', 'men', 'are', 'walking', 'down', 'a', 'dirt', 'path', '.'], ['a', 'mother', 'with', 'a', 'blue', 'shoes', 'and', 'blue', 'shoes', 'is', 'celebrating', 'two', 'fingers', '.'], ['two', 'dogs', 'play', 'with', 'a', 'blue', 'ball', '.'], ['a', 'man', 'in', 'a', 'bright', 'colorful', 'helmet', 'is', 'sitting', 'on', 'a', 'motorcycle', '.'], ['a', 'man', 'crouches', 'in', 'front', 'of', 'a', 'yellow', 'wall', '.'], ['a', 'vendor', 'as', 'he', 'is', 'pouring', 'various', 'items', 'with', 'various', 'items', '.'], ['a', 'blond', '-', 'haired', 'boy', 'wearing', 'a', 'blue', 't', '-', 'shirt', 'with', 'glasses', 'sitting', '.'], ['a', 'man', 'in', 'a', 'white', 'shirt', 'is', 'looking', 'at', 'her', 'eyes', 'while', 'holding', 'the', '<unk>', 'her', 'eyes', 'of', '<unk>', '.'], ['people', 'play', 'at', 'dusk', '.'], ['four', 'boys', 'posing', 'while', 'his', 'boy', \"'s\", 'drink', '.'], ['a', 'lady', 'carries', 'a', 'lady', 'on', 'her', 'head', 'on', 'a', 'busy', 'street', '.'], ['a', 'street', 'performer', 'in', 'an', 'orange', 'jumpsuit', 'is', 'riding', 'a', 'large', 'unicycle', 'while', 'a', 'crowd', 'watches', '.'], ['a', 'person', 'sitting', 'in', 'front', 'of', 'a', 'crowd', '.'], ['a', 'man', 'waits', 'for', 'the', 'train', 'at', 'the', 'train', 'station', '.'], ['three', 'white', 'men', 'in', 't', '-', 'shirts', 'jump', 'into', 'the', 'air', '.'], ['a', 'singer', 'performs', 'in', 'the', 'crowd', 'of', 'people', '.'], ['the', 'participants', '<unk>', 'a', 'race', 'car', \"'s\", 'photo', 'with', 'the', '<unk>', '.'], ['a', 'woman', 'in', 'a', 'striped', 'shirt', '<unk>', 'as', 'she', 'stands', 'in', 'a', 'grocery', 'store', '.'], ['a', '<unk>', 'car', 'being', '<unk>', 'by', 'many', '<unk>', '.'], ['several', 'people', 'wait', 'at', 'a', 'museum', 'with', 'a', 'poster', 'in', 'a', 'store', '.'], ['two', 'girls', 'play', 'volleyball', ',', 'the', 'volleyball', ',', 'while', 'the', 'ball', 'is', 'hitting', 'a', 'ball', '.'], ['an', 'older', 'man', 'is', 'pouring', 'something', 'from', 'a', 'bag', '.'], ['six', 'people', 'in', 'a', 'gym', 'are', 'fixing', 'some', 'bicycles', '.'], ['two', 'young', 'asian', 'boys', 'are', 'fighting', '.'], ['a', 'woman', 'prepares', 'a', 'ingredients', 'to', 'cut', 'a', 'ingredients', '.'], ['two', 'men', 'in', 'shorts', 'are', 'working', 'on', 'a', 'blue', 'bicycle', '.'], ['a', 'man', 'and', 'a', 'woman', 'are', 'taking', 'a', 'nap', 'on', 'a', 'boat', '.'], ['there', 'is', 'a', 'man', 'with', 'a', 'blanket', 'on', 'a', 'blanket', 'and', 'snow', 'covered', 'hill', '.'], ['a', 'man', 'and', 'a', 'woman', 'enjoy', 'dinner', 'at', 'a', 'party', '.'], ['a', 'soldier', '<unk>', 'another', 'group', 'of', '<unk>', 'playing', 'a', 'group', 'of', 'other', 'girls', '.'], ['two', 'young', 'adults', 'walk', 'down', 'a', 'street', '.'], ['a', 'woman', 'in', 'a', 'restaurant', 'drinks', 'from', 'a', '<unk>', '.'], ['a', 'woman', 'in', 'a', 'blue', 'uniform', 'stands', 'looking', 'down', 'and', 'looks', 'down', '.'], ['a', 'man', 'in', 'shorts', 'talking', 'to', 'another', 'man', 'in', 'a', 'blue', 'jeans', 'in', 'front', 'of', 'another', 'man', 'in', 'blue', 'jeans', '.'], ['a', 'man', 'feeding', 'a', 'baby', 'in', 'a', 'highchair', '.'], ['a', 'young', 'cyclist', ',', 'riding', 'a', 'bicycle', 'in', 'blue', 'race', ',', 'is', 'being', 'pulled', 'over', 'the', 'hill', 'by', 'small', 'cyclists', '.'], ['a', 'little', 'baby', 'in', 'a', 'pink', 'hat', 'is', 'sleeping', 'and', 'sleeping', '.'], ['two', 'children', 'lay', '<unk>', 'on', 'their', '<unk>', 'under', 'a', '<unk>', 'floor', '.'], ['two', 'people', 'are', 'talking', 'while', 'a', 'red', 'telephone', 'booth', 'near', 'a', 'pay', 'phone', '.'], ['a', 'woman', 'works', 'on', 'a', '<unk>', '.'], ['children', 'chase', 'after', 'a', 'ball', 'during', 'the', 'soccer', 'game', '.'], ['two', 'children', 'jump', 'on', 'a', 'blue', 'and', 'blue', 'trampoline', 'surrounded', 'by', 'trees', '.'], ['two', 'dogs', 'run', 'through', 'a', 'field', 'while', 'looking', 'at', 'a', 'frisbee', '.'], ['a', 'drummer', 'and', 'a', 'guitarist', '-', 'guitarist', 'fight', 'on', 'an', 'area', '.'], ['three', 'people', 'hike', 'up', 'a', 'very', 'large', 'trail', '.'], ['a', 'group', 'of', 'people', 'are', 'gathered', 'by', 'a', 'small', 'river', '.'], ['a', 'woman', 'is', 'peeking', 'through', 'a', 'telescope', '.'], ['a', 'little', 'blond', '-', 'haired', 'girl', 'in', 'a', 'pink', 't', '-', 'shirt', 'is', 'throwing', 'a', 'stuffed', 'animal', 'in', 'a', 'sink', '.'], ['a', 'young', 'man', 'with', 'a', '<unk>', 'teeth', '<unk>', '.'], ['a', 'skier', 'flies', 'through', 'the', 'air', 'as', 'the', 'other', 'skier', 'drives', 'with', 'the', '<unk>', '.'], ['three', 'girls', 'ride', 'horses', 'as', 'the', 'girl', 'is', '<unk>', 'in', 'the', '<unk>', '.'], ['a', 'female', '<unk>', 'herself', 'with', 'her', 'hair', 'smiles', 'as', 'she', 'smiles', '.'], ['a', 'chef', 'is', 'working', 'in', 'a', 'kitchen', 'with', 'a', 'knife', '.'], ['a', 'man', 'pushing', 'flowers', 'while', 'a', 'woman', 'is', 'taking', 'a', 'hand', 'towards', 'his', 'left', '.'], ['a', 'woman', 'is', 'singing', 'into', 'a', 'microphone', 'while', 'a', 'man', 'plays', 'drums', 'in', 'the', 'background', '.'], ['the', 'man', 'in', 'the', 'hat', 'is', 'giving', 'the', 'younger', 'boy', 'with', 'a', 'purple', 'hat', '.'], ['a', 'worker', 'is', '<unk>', 'to', 'the', 'tree', '.'], ['several', 'people', 'are', 'standing', 'around', 'a', 'man', 'in', 'a', 'brown', 'object', '.'], ['a', 'roller', 'coaster', 'performer', 'with', 'sunglasses', 'praying', 'with', 'a', 'beautiful', 'fire', 'for', 'a', 'couple', 'who', 'are', 'performing', '.'], ['a', 'woman', 'with', 'sunglasses', 'and', 'a', 'blue', 't', '-', 'shirt', 'is', 'selling', 'an', 'older', 'man', 'with', 'an', 'older', 'black', 't', '-', 'shirt', '.'], ['an', 'old', 'man', 'is', 'sweeping', 'the', 'ground', 'while', 'a', 'lady', 'walks', 'away', 'from', 'the', 'camera', '.'], ['a', 'man', 'with', 'a', '<unk>', 'hair', 'plays', 'in', 'a', 'chair', 'on', 'a', 'street', '.'], ['a', 'man', 'is', 'working', 'on', 'a', 'construction', 'site', '.'], ['a', 'man', 'is', 'hitting', 'a', 'volleyball', '.'], ['a', 'man', 'standing', 'in', 'a', 'mobile', 'food', 'stand', 'looking', 'over', 'the', 'door', '.'], ['a', 'baseball', 'player', 'wearing', 'a', 'red', 'helmet', 'and', 'white', 'pants', 'is', 'being', '<unk>', 'by', 'the', 'baseball', 'player', 'with', 'her', 'ball', '.'], ['a', 'man', 'in', 'an', 'orange', 'robe', 'is', 'sweeping', 'outdoors', '.'], ['man', 'in', 'a', 'black', 't', '-', 'shirt', 'working', 'in', 'a', '<unk>', '.'], ['a', 'man', 'is', 'walking', 'two', 'small', '<unk>', 'in', 'a', 'park', '.'], ['two', 'women', ',', 'one', '<unk>', 'and', 'one', 'female', 'compete', 'in', 'china', '.'], ['a', 'man', 'and', 'a', 'woman', 'are', 'asleep', 'on', 'a', 'bench', '.'], ['a', 'man', 'and', 'a', 'woman', 'are', 'sitting', 'on', 'the', 'ground', 'in', 'front', 'of', 'her', 'luggage', '.'], ['a', '<unk>', 'waits', 'for', 'his', 'next', 'drink', '.'], ['two', 'girls', 'are', 'sitting', 'at', 'a', 'table', 'working', 'on', 'a', '<unk>', '.'], ['a', 'man', 'running', 'through', 'the', 'snow', 'with', 'the', 'snow', '.'], ['a', 'dancer', 'in', 'a', 'red', 'suit', 'is', 'jumping', 'in', 'the', 'air', '.'], ['a', 'man', 'is', 'sitting', 'in', 'a', '<unk>', 'race', '.'], ['a', 'bearded', 'man', 'in', 'a', 'heavy', 'jacket', 'sits', 'in', 'a', 'corner', '.'], ['man', 'on', 'skateboard', 'skateboarding', 'at', 'an', 'empty', 'pool', 'as', 'a', 'beautiful', 'empty', 'young', 'boy', 'day', '.'], ['a', 'man', 'in', 'a', 'large', 'hat', 'is', 'paddling', '.'], ['the', 'closeup', 'of', 'a', 'child', \"'s\", 'face', 'as', 'she', 'eats', 'a', 'blue', 'heart', '.'], ['a', 'man', 'and', 'a', 'woman', 'are', 'eating', '.'], ['a', 'little', 'boy', 'showing', 'his', '<unk>', '.'], ['a', 'man', 'in', 'a', 'gray', 't', '-', 'shirt', '<unk>', 'a', 'fire', 'in', 'the', 'hallway', 'to', '<unk>', 'a', 'wooden', 'structure', '.'], ['a', 'woman', 'standing', 'in', 'front', 'of', 'trees', 'smiling', '.'], ['someone', 'in', 'an', 'asian', 'costume', 'is', 'sitting', 'while', 'holding', 'a', 'sword', '.'], ['a', 'young', 'football', 'player', 'is', 'making', 'a', '<unk>', 'for', '<unk>', '.'], ['a', 'guy', 'wearing', 'a', 'bright', 'green', 'hoodie', 'is', 'crossing', 'a', 'crosswalk', 'while', 'looking', 'at', 'a', 'bicycle', 'past', 'a', 'car', 'and', 'cars', '.'], ['a', 'young', 'man', 'getting', 'ready', 'to', 'score', 'a', 'soccer', 'ball', '.'], ['a', '<unk>', '<unk>', '<unk>', '<unk>', 'in', 'a', 'competition', '.'], ['two', 'men', ',', 'one', 'in', 'blue', 'and', 'the', 'other', 'in', 'red', 'uniforms', 'are', 'competing', 'in', 'a', 'boxing', 'match', '.'], ['a', 'group', 'of', 'friends', 'lay', 'out', 'on', 'the', 'ground', 'and', 'enjoying', 'themselves', '.'], ['a', 'man', 'standing', 'in', 'front', 'of', 'a', 'microphone', 'holding', 'a', 'guitar', '.'], ['<unk>', 'are', 'skating', 'with', 'other', 'skaters', '.'], ['a', 'woman', 'is', 'getting', 'ice', 'cream', 'at', 'a', 'store', '.'], ['two', 'motorcyclist', '<unk>', 'around', 'a', 'turn', '.'], ['a', 'man', 'stands', 'alone', 'on', 'a', 'sidewalk', '.'], ['a', 'man', 'with', 'a', '<unk>', ',', 'with', 'his', 'legs', ',', 'has', 'his', 'legs', 'next', 'to', 'another', 'man', 'in', 'a', 'marathon', '.'], ['several', 'soccer', 'players', 'are', 'competing', 'at', 'each', 'other', '.'], ['two', 'people', ',', 'one', 'dressed', 'in', 'the', 'other', ',', 'one', 'wearing', 'a', 'matching', 'matching', 'dress', 'and', 'a', 'race', ',', 'are', 'running', 'in', 'an', 'area', '.'], ['three', 'men', 'on', 'horses', 'during', 'a', 'race', '.'], ['a', 'black', 'man', 'in', 'a', 'white', 'tank', 'top', 'and', 'black', 'shirt', 'is', '<unk>', 'a', 'large', 'buildings', 'on', 'a', 'skateboard', 'surrounded', 'by', 'palm', 'trees', '.'], ['a', 'man', 'with', 'a', '<unk>', 'hat', 'sits', 'at', 'a', 'fountain', 'watching', 'people', '.'], ['swimmers', 'stand', 'on', 'the', 'steps', 'of', 'a', 'large', 'room', 'with', 'walls', 'of', 'walls', 'which', 'have', '<unk>', '.'], ['a', 'young', 'indian', 'boy', 'sits', 'and', 'thinking', 'at', 'his', 'time', '.'], ['a', 'boy', 'in', 'a', 'gray', 'hoodie', 'is', 'throwing', 'an', 'object', 'into', 'a', 'dirty', 'pool', '.'], ['brightly', 'colored', 'men', 'in', 'costume', 'perform', '.'], ['two', 'boxers', 'are', 'ready', 'to', 'fight', 'as', 'the', 'other', 'crowd', 'watches', '.'], ['children', 'are', 'playing', 'a', 'sport', 'on', 'a', 'sports', 'field', '.'], ['a', 'female', 'with', 'a', 'guitar', 'and', 'singing', 'into', 'a', 'microphone', '.'], ['boys', 'in', 'a', 'race', 'car', 'race', 'by', 'each', 'other', '.'], ['a', 'group', 'of', 'black', 't', '-', 'shirts', 'performs', 'in', 'a', 'fenced', 'in', 'a', 'fenced', 'in', 'park', '.'], ['<unk>', 'in', 'uniforms', 'are', 'marching', 'and', 'playing', 'instruments', 'together', '.'], ['a', 'man', 'filling', 'a', 'chicken', 'with', 'a', 'blue', 'bowl', '.'], ['the', 'boy', 'is', 'jumping', 'from', 'a', 'bed', 'with', 'a', 'bed', '.'], ['a', 'baby', 'in', 'a', 'seesaw', 'and', 'a', 'boy', 'are', 'surrounded', 'by', 'toys', '.'], ['these', 'people', 'are', 'gathered', 'around', 'the', 'table', 'playing', 'jenga', '.'], ['this', 'bearded', 'man', 'is', '<unk>', 'and', 'an', 'older', 'lady', 'sharing', 'food', 'with', 'a', 'bowl', '.'], ['a', 'young', 'man', 'skateboarding', 'on', 'a', 'skateboard', '.'], ['people', 'are', 'riding', 'a', 'boat', 'on', 'a', 'lake', 'with', 'clouds', 'in', 'the', 'sun', '.'], ['two', 'men', 'in', 'martial', 'arts', 'uniforms', 'are', 'practicing', 'martial', 'arts', '.'], ['a', '<unk>', '<unk>', '<unk>', 'is', '<unk>', 'a', 'small', 'blue', 'and', 'white', 'object', '.'], ['a', 'group', 'of', '<unk>', '<unk>', 'around', 'the', '<unk>', '.'], ['a', 'person', 'in', 'winter', 'clothes', 'poses', 'with', 'a', 'snowman', 'as', 'she', 'walks', 'by', 'a', 'snow', '-', 'covered', 'snow', 'covered', 'area', '.'], ['a', 'man', 'is', 'giving', 'a', 'presentation', 'to', 'a', 'crowd', '.'], ['a', 'middle', '-', 'aged', 'man', 'is', 'putting', 'a', '<unk>', 'on', 'top', 'of', 'a', 'younger', 'younger', 'younger', 'boy', 'who', 'is', 'sitting', 'on', 'a', '<unk>', '.'], ['a', 'tattooed', 'man', 'in', 'a', 'microphone', 'is', 'holding', 'a', 'microphone', 'on', 'a', 'stage', '.'], ['a', 'little', 'girl', 'playing', 'with', 'a', '<unk>', 'and', 'three', '<unk>', 'and', 'one', 'of', 'them', '.'], ['man', 'in', 'a', 'blue', 'helmet', 'on', 'bicycle', 'with', 'a', 'bicycle', 'race', 'car', '.'], ['several', 'young', 'adults', '<unk>', 'intently', 'as', 'they', 'play', 'their', '<unk>', 'while', 'playing', '.'], ['a', 'little', 'boy', 'in', 'green', 'practicing', 'gymnastics', 'in', 'a', 'parking', 'lot', '.'], ['a', 'little', 'girl', 'in', 'a', 'polka', 'dot', 'dress', 'looking', 'at', 'a', 'woman', 'in', 'a', 'black', 'dress', '.'], ['a', 'man', 'is', 'putting', 'the', 'boat', 'near', 'the', 'water', '.'], ['there', 'is', 'a', '<unk>', 'in', 'this', 'stadium', '.'], ['a', 'child', 'is', 'coming', 'into', 'the', 'snowboard', '.'], ['while', 'two', 'men', 'are', 'trying', 'to', 'get', 'the', 'ball', 'from', 'their', 'opponent', \"'s\", 'opponent', \"'s\", 'opponent', \"'s\", 'opponent', \"'s\", 'ball', '.'], ['young', 'women', 'and', 'children', 'in', 'a', 'village', 'looking', 'at', 'a', 'woman', 'in', 'a', 'village', '<unk>', 'look', 'at', 'the', 'camera', '.'], ['young', 'child', 'in', 'a', 'green', 'shirt', 'brushes', 'his', 'teeth', 'with', 'a', 'yellow', 'toothbrush', 'with', 'a', 'yellow', 'toothbrush', '.'], ['a', 'man', 'in', 'a', 'wheelchair', 'and', 'a', 'red', 'torch', '.'], ['a', 'son', 'and', 'his', 'son', 'are', 'in', 'a', 'church', '.'], ['three', 'men', 'compete', 'in', 'a', 'race', '.'], ['two', 'men', 'watch', 'a', '<unk>', 'while', 'they', 'are', 'served', 'to', 'the', 'wet', '<unk>', '.'], ['a', 'soldier', 'looks', 'through', 'binoculars', 'in', 'the', 'mountains', '.'], ['a', 'group', 'of', 'young', 'boys', 'are', 'performing', 'a', 'race', 'on', 'a', 'snowy', 'day', '.'], ['a', 'man', 'practicing', 'rope', 'while', 'a', 'crowd', 'watches', 'him', '.'], ['a', 'little', 'boy', 'and', 'a', 'girl', 'laugh', 'while', 'a', 'girl', 'watches', '.'], ['two', 'men', 'from', 'opposing', 'teams', 'are', 'running', 'towards', 'a', 'soccer', 'ball', '.'], ['a', 'cyclist', 'in', 'a', 'yellow', 'shirt', 'performing', 'a', 'trick', 'off', 'of', 'the', 'air', '.'], ['two', '<unk>', ',', 'one', 'of', 'one', 'in', 'a', 'purple', 'sports', 'field', ',', 'one', 'in', 'an', 'arena', '.'], ['two', 'men', 'on', 'motorcycles', 'take', 'a', 'turn', 'on', 'a', 'racetrack', '.'], ['two', 'men', '<unk>', 'the', 'basketball', 'during', 'a', 'game', 'of', 'basketball', 'during', 'a', 'game', '.'], ['a', 'man', 'wearing', 'a', 'helmet', 'and', 'white', 'helmet', 'rides', 'a', 'horse', 'over', 'an', 'obstacle', '.'], ['a', 'group', 'of', 'men', 'in', 'costumes', 'playing', 'music', '.'], ['a', 'man', 'and', 'several', 'women', 'are', 'seen', 'from', 'or', 'full', 'of', 'produce', ',', 'stand', '.'], ['a', '<unk>', 'is', 'being', '<unk>', 'by', 'a', '<unk>', 'by', 'a', '<unk>', '.'], ['a', 'group', 'of', '<unk>', 'walk', 'down', 'the', 'street', 'with', 'american', 'flags', '.'], ['a', 'man', 'holds', 'a', 'camera', 'from', 'a', '<unk>', '.'], ['a', 'man', 'on', 'stage', 'playing', 'guitar', 'with', 'a', 'crowd', 'in', 'the', 'background', '.'], ['four', 'young', 'children', 'play', 'with', 'an', 'empty', 'plastic', 'toy', '.'], ['a', 'group', 'of', 'workers', 'are', 'listening', 'to', 'a', '<unk>', '.'], ['a', '<unk>', 'is', 'riding', 'a', 'tractor', 'along', 'the', 'street', 'a', 'large', 'green', 'tractor', '.'], ['three', 'dogs', 'play', 'in', 'the', 'water', '.'], ['a', 'man', 'is', 'hitting', 'a', 'small', ',', 'a', 'young', 'boy', 'and', 'his', '<unk>', 'his', 'drum', '.'], ['a', 'group', 'of', 'girls', 'play', 'a', 'game', 'of', 'horse', '.'], ['a', 'man', 'watches', 'a', 'woman', 'while', 'a', 'gun', 'at', 'a', 'gun', '.'], ['the', '<unk>', 'cyclist', 'is', '<unk>', 'his', '<unk>', 'around', 'as', 'he', '<unk>', 'the', '<unk>', '<unk>', '<unk>', '.'], ['a', 'team', 'of', 'soccer', 'players', 'are', 'together', 'team', ',', 'and', 'one', 'has', '<unk>', 'a', '<unk>', 'and', '<unk>', '.'], ['a', 'group', 'of', 'people', 'in', 'purple', 'shirts', 'and', 'blue', 'pants', 'walk', 'together', 'toward', 'the', 'same', 'time', '.'], ['a', 'man', 'in', 'a', 'colorful', 'shirt', 'plays', 'a', 'trumpet', '.'], ['the', 'guy', 'wearing', 'the', 'denim', 'shorts', 'is', 'doing', 'tricks', 'on', 'his', 'bicycle', '.'], ['mother', 'and', 'daughter', 'posing', 'for', 'a', 'picture', 'in', 'a', 'pose', '.'], ['a', 'young', 'boy', 'using', 'a', 'hole', 'to', 'make', 'a', 'hole', 'in', 'a', 'wood', '.'], ['two', 'bicyclists', 'are', 'racing', 'around', 'the', 'dirt', 'road', '.'], ['the', 'girl', 'is', 'being', 'thrown', 'a', 'frisbee', 'while', 'the', 'other', 'girls', 'appears', 'to', 'be', 'bowling', 'ball', '.'], ['a', '<unk>', 'is', 'working', 'on', 'a', 'patient', 'while', 'a', 'man', 'is', 'holding', 'a', 'lamp', '.'], ['two', 'people', 'are', 'eating', 'burgers', 'on', 'lawn', 'while', 'a', 'third', 'can', '.'], ['two', 'bicyclists', 'ride', 'past', 'a', 'street', 'conversation', 'while', 'talking', '.'], ['a', 'man', 'is', 'holding', 'a', 'black', 't', '-', 'shirt', 'and', 'bowling', 'ball', 'down', 'the', 'lane', 'at', 'a', 'bowling', 'alley', '.'], ['two', 'men', 'in', 'black', 'and', 'a', 'red', 'bowtie', 'are', 'competing', 'in', 'front', 'of', 'a', 'crowd', 'of', 'people', '.'], ['two', 'men', ',', 'one', 'wearing', 'black', 'and', 'one', 'white', ',', 'are', 'standing', 'outside', 'and', 'the', 'other', 'is', 'playing', 'guitar', '.'], ['a', '<unk>', 'jumper', 'lands', 'a', 'face', 'in', 'his', 'opponent', '.'], ['three', 'people', 'are', 'running', 'a', 'red', 'race', '.'], ['football', 'players', 'have', '<unk>', 'through', 'their', 'line', 'to', '<unk>', 'by', 'the', 'line', '.'], ['several', 'men', 'are', 'praying', 'while', 'standing', 'at', 'the', 'end', 'of', 'a', 'table', 'with', 'food', '.'], ['two', 'indian', 'children', 'dressed', 'in', 'formal', 'attire', 'dance', 'like', 'a', 'dance', 'routine', '.'], ['three', 'children', 'stand', 'near', 'a', 'tall', 'blue', 'wooden', 'structure', '.'], ['a', 'group', 'of', 'people', 'are', 'walking', '.'], ['two', 'women', 'walk', 'along', 'the', 'beach', 'with', 'boards', 'and', 'boards', 'at', 'boards', '.'], ['a', 'boy', 'sits', 'on', 'a', 'rock', 'looking', 'into', 'the', 'valley', 'under', 'him', '.'], ['a', 'woman', 'is', 'standing', 'on', 'one', 'leg', 'looking', 'over', 'a', 'tall', 'cliff', '.'], ['a', 'brunette', 'woman', 'is', 'standing', 'on', 'the', 'sidewalk', 'looking', 'down', 'the', 'street', '.'], ['a', 'group', 'of', 'three', 'friends', 'are', 'having', 'a', 'conversation', 'in', 'a', 'house', '.'], ['two', 'people', 'stand', 'on', 'a', 'blackboard', '.'], ['a', 'person', 'in', 'blue', 'jeans', 'and', 'a', 'red', 'sweater', 'does', 'a', 'trick', 'on', 'a', 'brick', 'wall', '.'], ['this', 'karate', 'team', 'is', 'performing', 'their', '<unk>', '.'], ['a', 'man', 'is', '<unk>', 'a', 'fishing', 'device', 'at', 'a', 'carnival', '.'], ['a', 'group', 'of', 'police', 'officers', 'stand', 'outside', 'a', 'bus', '.'], ['an', 'older', 'white', '-', 'haired', 'woman', 'looks', 'through', 'her', 'laundry', 'through', 'her', 'register', '.'], ['two', 'men', 'stand', 'outside', 'at', 'a', 'phone', '.'], ['two', 'women', 'in', 'red', 'and', 'a', 'man', 'are', 'coming', 'out', 'of', 'a', '<unk>', '.']]\n",
            "[[['a', 'group', 'of', 'men', 'are', 'loading', 'cotton', 'onto', 'a', 'truck']], [['a', 'man', 'sleeping', 'in', 'a', 'green', 'room', 'on', 'a', 'couch', '.']], [['a', 'boy', 'wearing', 'headphones', 'sits', 'on', 'a', 'woman', \"'s\", 'shoulders', '.']], [['two', 'men', 'setting', 'up', 'a', 'blue', 'ice', 'fishing', 'hut', 'on', 'an', 'iced', 'over', 'lake']], [['a', 'balding', 'man', 'wearing', 'a', 'red', 'life', 'jacket', 'is', 'sitting', 'in', 'a', 'small', 'boat', '.']], [['a', 'lady', 'in', 'a', 'red', 'coat', ',', 'holding', 'a', '<unk>', 'hand', 'bag', 'likely', 'of', 'asian', 'descent', ',', 'jumping', 'off', 'the', 'ground', 'for', 'a', '<unk>', '.']], [['a', 'brown', 'dog', 'is', 'running', 'after', 'the', 'black', 'dog', '.']], [['a', 'young', 'boy', 'wearing', 'a', '<unk>', 'jersey', 'swings', 'a', 'baseball', 'bat', 'at', 'an', 'incoming', 'pitch', '.']], [['a', 'man', 'in', 'a', 'cluttered', 'office', 'is', 'using', 'the', 'telephone']], [['a', 'smiling', 'woman', 'in', 'a', 'peach', 'tank', 'top', 'stands', 'holding', 'a', 'mountain', 'bike']], [['a', 'young', 'child', 'is', 'standing', 'alone', 'on', 'some', 'jagged', 'rocks', '.']], [['a', 'person', 'on', 'a', 'snowmobile', 'in', 'mid', 'jump', '.']], [['three', 'young', 'children', 'stand', 'around', 'a', 'blue', 'and', 'white', 'barrel', '.']], [['a', 'woman', 'is', 'sitting', 'by', 'her', 'dried', 'flower', 'display', 'at', 'an', 'outside', 'market', '.']], [['a', 'female', 'playing', 'a', 'song', 'on', 'her', 'violin', '.']], [['three', 'people', 'on', 'two', 'dirt', '-', 'bikes', 'and', 'one', 'four', '-', 'wheeler', 'are', 'riding', 'through', 'brown', 'grass', '.']], [['a', 'half', 'naked', 'man', 'is', 'sleeping', 'on', 'his', 'chair', 'outdoors', '.']], [['a', 'group', 'of', 'people', 'standing', 'in', 'front', 'of', 'a', 'hut', 'in', 'a', 'parking', 'lot', '.']], [['a', 'young', 'woman', 'is', 'making', 'rugs', 'in', 'the', 'rain', 'forest']], [['three', 'girls', 'make', 'faces', 'as', 'one', 'takes', 'a', 'drink', 'while', 'they', 'stand', 'in', 'a', 'busy', 'street', '.']], [['a', 'single', 'man', 'in', 'a', 'black', 't', '-', 'shirt', 'standing', 'above', 'the', 'crowd', 'at', 'a', 'busy', 'bar', '.']], [['woman', 'and', 'man', 'walking', 'across', 'wooden', 'rope', 'bridge', 'with', 'a', 'caution', 'sign', 'beside', 'it', '.']], [['a', 'man', 'in', 'a', 'skirt', 'is', 'jumping', 'while', 'juggling', 'knives', '.']], [['an', 'asian', 'girl', 'in', 'a', 'green', 'hat', 'and', 'apron', 'is', 'serving', 'drinks', 'on', 'a', 'tray', '.']], [['construction', 'workers', 'standing', 'on', 'top', 'of', 'a', 'piece', 'of', 'machinery', '.']], [['two', 'dogs', 'play', 'with', 'an', 'orange', 'toy', 'in', 'tall', 'grass', '.']], [['a', 'cute', 'baby', 'is', 'smiling', 'at', 'another', 'child', '.']], [['three', 'men', 'are', 'walking', 'on', 'a', 'road', 'in', 'the', 'mountains', '.']], [['a', 'person', 'is', 'parasailing', 'over', 'a', 'large', 'body', 'of', 'water', '.']], [['a', 'tractor', 'is', 'moving', 'dirt', 'to', 'help', 'build', 'up', 'a', '<unk>', 'wall', '.']], [['a', 'young', 'girl', 'running', 'by', 'herself', 'in', 'a', 'park', '.']], [['a', 'person', 'crosses', 'the', 'street', 'and', '<unk>', 'the', '<unk>', 'of', 'paint', '.']], [['child', 'playing', 'on', 'a', 'playground', ',', 'hanging', 'from', 'bars', '.']], [['a', 'person', 'wearing', 'a', 'red', 'long', '-', 'sleeved', 'shirt', 'is', 'lying', 'down', 'on', 'a', 'wall', 'in', 'front', 'of', 'a', 'lamp', 'post', 'in', 'a', 'very', 'unusual', 'manner', '.']], [['a', 'group', 'of', 'people', '<unk>', 'around', 'a', 'man', 'in', 'a', 'suit', 'and', 'a', 'little', 'boy', '.']], [['a', 'woman', 'sits', 'at', 'a', 'dark', 'bar', '.']], [['people', 'are', 'walking', 'down', 'a', 'sidewalk', 'where', 'there', 'is', 'an', 'outdoors', 'market', '.']], [['a', 'man', 'with', 'a', 'blue', 'backpack', 'reads', 'the', 'paper', 'while', 'waiting', 'to', 'board', 'the', 'subway', '.']], [['a', 'large', 'brown', 'dog', 'is', 'sticking', 'his', 'face', 'in', 'the', 'sprinkler', '.']], [['a', 'blond', 'boy', 'in', 'a', 'blue', 't', '-', 'shirt', 'stands', 'smiling', 'before', 'a', 'craft', 'of', 'green', '<unk>', 'fabric', '.']], [['a', 'young', 'white', 'male', 'is', 'sweeping', 'a', 'porch', 'with', 'a', 'large', 'broom', '.']], [['a', 'person', 'about', 'in', 'the', 'middle', 'of', 'throwing', 'a', 'green', 'bowling', 'ball', 'down', 'a', 'bowling', 'lane', '.']], [['a', 'band', 'plays', 'a', 'rock', 'show', 'to', 'a', 'bar', 'audience', '.']], [['an', 'elderly', 'man', 'is', 'walking', 'a', 'brown', 'dog', 'using', 'a', 'red', 'leash', '.']], [['a', 'man', 'drives', 'an', 'old', '-', 'fashioned', 'red', 'race', 'car', '.']], [['young', 'adults', 'wearing', 'red', ',', 'yellow', ',', 'and', 'black', 'shirts', 'in', 'a', 'straight', 'line', 'perform', 'a', 'sketch', '.']], [['a', 'young', 'boy', ',', 'throwing', 'a', 'stone', 'into', 'calm', 'water', '.']], [['two', 'women', 'with', 'short', 'hair', 'are', 'facing', 'each', 'other', 'and', 'the', 'blond', 'one', 'is', 'talking', '.']], [['an', 'elaborate', 'costumed', 'figure', 'is', 'in', 'front', 'of', 'a', 'brightly', 'decorated', 'structure', '.']], [['a', 'dog', 'walking', 'through', 'a', 'small', 'stream', 'with', 'a', 'rag', 'in', 'his', 'mouth', '.']], [['three', 'small', 'dogs', '<unk>', 'at', 'something', '.']], [['two', 'man', 'are', 'paddling', 'a', 'kayak', 'along', 'a', 'river', 'with', 'green', 'trees', 'on', 'either', 'side', '.']], [['two', 'girls', 'walking', 'down', 'the', 'street', '.']], [['a', 'group', 'of', 'kids', 'sitting', 'in', 'the', 'back', 'of', 'a', 'van', 'together', 'looking', 'at', 'a', 'book', '.']], [['beach', 'goers', 'look', 'at', 'a', 'heart', 'left', 'in', 'the', 'sky', 'by', 'a', 'sky', '<unk>', '.']], [['sitting', 'casually', 'in', 'a', 'public', 'place', ',', 'a', 'girl', 'reads', 'holding', 'the', 'book', 'open', 'with', 'her', 'hand', 'on', 'which', 'is', 'a', 'butterfly', 'ring', '.']], [['a', 'man', 'in', 'a', 'restaurant', 'having', 'lunch', '.']], [['a', 'man', 'in', 'a', 'suit', 'and', 'glass', 'has', 'an', 'object', 'in', 'his', 'hands', '.']], [['a', 'man', 'in', 'a', 'black', 'wetsuit', 'is', 'surfing', 'on', 'a', 'wave', '.']], [['a', 'woman', 'with', 'a', 'pink', 'purse', 'is', 'sitting', 'on', 'a', 'bench', '.']], [['three', 'women', 'smiling', 'and', 'sitting', 'down', '.']], [['a', 'red', 'plane', 'flying', 'over', 'a', 'boat', 'as', 'it', 'trails', 'pink', 'smoke', '.']], [['a', 'man', 'in', 'a', 'harness', 'climbing', 'a', 'rock', 'wall']], [['two', 'construction', 'workers', '<unk>', 'in', 'the', 'loading', 'of', 'a', 'dump', 'truck', 'at', 'an', 'urban', 'construction', 'site', '.']], [['a', 'woman', 'in', 'a', 'colorful', 'outfit', 'is', 'walking', 'by', 'a', 'white', 'truck', 'filled', 'with', 'bottles', '.']], [['a', 'woman', 'in', 'a', 'blue', 'hat', 'and', 'yellow', 'skirt', 'is', 'jumping', 'in', 'an', 'area', 'with', '<unk>', '.']], [['a', 'man', 'is', 'wearing', 'a', 'gold', 'outfit', 'while', 'standing', 'with', 'his', 'gold', 'bike', '.']], [['baby', 'looking', 'at', 'the', 'leaves', 'on', 'a', 'branch', 'of', 'a', 'tree', '.']], [['a', 'janitor', 'about', 'to', 'mop', 'in', 'a', 'train', 'station', '.']], [['two', 'little', 'black', 'boys', 'are', 'playing', 'with', 'plastic', 'bottles', 'and', 'having', 'a', 'lot', 'of', 'fun', '.']], [['green', 'traffic', '<unk>', 'light', 'up', 'as', 'people', 'look', 'at', 'motorcycles', '.']], [['two', 'people', 'are', 'climbing', 'a', 'rock', 'wall', 'with', 'a', 'rope', '.']], [['a', 'man', 'and', 'woman', 'fishing', 'at', 'the', 'beach', '.']], [['a', 'child', 'is', 'doing', 'a', 'back', 'flip', 'whilst', 'jumping', 'on', 'a', 'trampoline', '.']], [['kids', 'are', 'riding', 'a', 'swinging', 'carnival', 'ride']], [['two', 'people', 'are', 'holding', 'a', 'large', 'upside', '-', 'down', 'earth', '<unk>', ',', 'about', '4', \"'\", 'in', '<unk>', ',', 'and', 'a', 'child', 'appears', 'to', 'be', 'jumping', 'over', '<unk>', '.']], [['two', 'men', 'in', 'the', 'military', 'are', 'playing', 'baseball', '.']], [['a', 'woman', 'in', 'a', 'black', 'dress', 'is', 'pushing', 'a', 'cart', 'with', '<unk>', 'down', 'a', 'paved', 'walkway', '.']], [['a', 'policeman', 'stopping', 'a', 'vehicle', 'on', 'the', 'side', 'of', 'the', 'road', '.']], [['man', 'standing', 'on', 'a', 'pier', 'next', 'to', 'a', 'boat', 'on', 'a', 'still', 'lake', '.']], [['a', 'group', 'of', 'scottish', 'officers', 'doing', 'a', 'demonstration', '.']], [['a', 'woman', 'and', 'a', 'child', 'sit', 'together', 'in', 'a', 'door', 'frame', 'along', 'a', 'gray', 'sidewalk', ',', 'as', 'a', 'man', 'and', 'two', 'women', 'walk', 'past', '.']], [['a', 'lone', 'firefighter', 'helps', '<unk>', 'a', 'large', 'fire', '.']], [['a', 'person', 'with', 'a', 'purple', 'shirt', 'is', 'painting', 'an', 'image', 'of', 'a', 'woman', 'on', 'a', 'white', 'wall', '.']], [['a', 'small', 'girl', 'is', 'lying', 'on', 'the', 'floor', 'while', 'her', 'younger', 'sister', 'is', 'pretending', 'to', 'be', 'a', 'nurse', '.']], [['a', 'young', 'woman', 'and', 'older', 'woman', 'wear', 'traditional', 'saris', 'as', 'they', 'spin', '<unk>', ',', 'three', 'people', 'are', 'pictured', 'at', 'only', 'the', '<unk>', ',', 'and', 'wear', 'modern', 'clothes', '.']], [['women', 'walking', 'through', 'deep', 'snow', 'and', 'down', 'a', 'steep', 'hill', '.']], [['the', '<unk>', 'driver', 'listens', 'to', 'the', 'workman', 'in', 'the', 'green', 'hard', 'hat', 'while', 'the', 'equipment', 'to', 'ship', 'is', 'being', 'loaded', '.']], [['the', 'brown', 'dog', 'is', 'wearing', 'a', 'black', 'collar', '.']], [['a', 'brown', 'a', 'white', 'dog', 'runs', 'down', 'a', 'yellow', 'and', 'blue', 'ramp', '.']], [['a', 'child', 'is', 'getting', 'ready', 'to', 'read', 'a', 'book', '.']], [['a', 'older', 'japanese', 'man', 'trying', 'to', 'fix', 'a', 'small', 'red', 'and', 'gray', 'machine', '.']], [['a', 'young', 'child', 'and', 'a', 'woman', 'are', 'standing', 'around', 'a', 'caged', 'rooster', '.']], [['a', 'child', 'that', 'is', 'dressed', 'as', 'spiderman', 'is', '<unk>', 'the', '<unk>', '.']], [['a', 'man', 'dressed', 'in', 'brown', 'holding', 'a', 'light', '<unk>', '.']], [['a', 'young', 'woman', 'stands', 'singing', 'at', 'a', 'microphone', 'while', 'a', 'man', 'behind', 'her', 'holds', 'a', 'guitar', '.']], [['<unk>', 'children', 'dig', 'holes', 'in', 'the', 'dirt', '.']], [['many', 'of', 'the', 'chairs', 'are', 'empty', 'with', 'only', 'a', 'few', 'people', 'enjoying', 'the', 'sun', '.']], [['some', 'men', 'are', 'sitting', 'on', 'a', 'boat', 'near', 'a', 'beach', 'covered', 'in', 'stacked', 'logs', 'and', 'sticks', '.']], [['a', 'young', 'man', 'is', 'carrying', 'something', 'in', 'a', 'large', 'black', 'plastic', 'garbage', 'bag', '.']], [['an', 'older', ',', 'overweight', 'man', 'flips', 'a', 'pancake', 'while', 'making', 'breakfast', '.']], [['men', 'wearing', 'yellow', 'suits', 'are', 'on', 'stage', 'with', 'a', 'piano', 'and', 'one', 'man', 'is', 'playing', 'an', 'upright', 'bass', '.']], [['several', 'people', 'are', 'standing', 'near', 'trees', 'at', 'dusk', '.']], [['a', 'brown', 'dog', 'chewing', 'on', 'a', 'large', 'piece', 'of', 'wood', '.']], [['a', 'hiker', 'posing', 'for', 'a', 'photo', 'in', 'an', 'arid', 'mountain', 'landscape', '.']], [['a', 'group', 'of', 'children', 'play', 'in', 'the', 'water', 'under', 'a', 'bridge', '.']], [['a', 'woman', 'is', 'smiling', 'next', 'to', 'man', 'who', 'is', 'also', 'smiling', 'while', 'holding', 'cotton', 'candy', 'cone', '.']], [['two', 'women', 'are', 'standing', 'in', 'front', 'of', 'a', 'class', 'of', 'children', 'talking', 'about', 'a', 'book', '.']], [['two', 'brunette', 'women', 'talking', 'to', 'a', 'classroom', 'full', 'of', 'blond', 'children', '.']], [['a', 'person', 'wearing', 'a', 'hat', 'and', 'scarf', 'looks', 'to', 'the', 'right', '.']], [['two', 'people', 'walking', 'across', 'a', 'street', '.']], [['an', 'old', 'man', 'is', 'holding', 'up', 'one', 'dog', 'while', 'his', 'other', 'dog', 'climbs', 'on', 'his', 'lap', '.']], [['three', 'children', 'watch', 'a', 'man', 'on', 'stage', 'playing', 'guitar', '.']], [['a', 'boy', 'who', 'is', 'taking', 'a', 'stick', 'from', 'a', 'girl', 'in', 'the', 'middle', 'of', 'a', 'race', '.']], [['a', 'blue', 'jeep', 'drive', 'into', 'deep', ',', 'muddy', 'water', '.']], [['the', 'lady', 'wearing', 'a', 'black', 'hat', 'is', 'taking', 'a', 'picture', 'while', 'the', '<unk>', '.']], [['a', 'man', 'sitting', 'on', 'the', 'ground', ',', 'playing', 'guitar', '.']], [['a', 'dog', 'treads', 'through', 'a', 'shallow', 'area', 'of', 'water', 'located', 'on', 'a', 'rocky', 'mountainside', '.']], [['a', 'young', 'asian', 'woman', 'is', 'jumping', 'midair', 'in', 'a', 'crowded', 'city', 'part', '.']], [['a', 'three', 'man', 'band', 'is', 'performing', 'on', 'stage', '.']], [['four', 'people', 'are', 'protesting', 'the', 'treatment', 'of', 'young', 'workers', 'by', '<unk>', '.']], [['a', 'man', 'cooking', 'burgers', 'on', 'a', 'black', 'grill', '.']], [['a', 'man', 'in', 'a', 'red', 'baseball', 'cap', 'is', 'leaning', 'against', 'a', 'light', 'pole', '.']], [['a', 'young', 'boy', 'in', 'yellow', 't', '-', 'shirt', 'hanging', 'from', 'a', 'ring', 'with', 'other', 'kids', 'around', '.']], [['a', 'small', 'child', 'eating', 'fruit', 'and', 'drinking', 'a', 'glass', 'of', 'juice', '.']], [['one', 'man', 'and', 'two', 'women', 'wearing', 'shorts', ',', 'walk', 'down', 'the', 'street', '.']], [['two', 'poodles', 'are', 'running', 'through', 'the', 'snow', '.']], [['a', 'little', 'redheaded', 'girl', 'wears', 'a', 'spider', '-', 'man', 'suit', 'while', 'riding', 'a', 'play', 'horse', '.']], [['man', 'in', 'a', 'small', 'white', 'boat', 'on', 'a', 'lake', '.']], [['the', 'skiers', 'are', 'in', 'front', 'of', 'the', 'lodge', '.']], [['people', 'are', 'being', 'photographed', 'while', 'mountain', 'climbing', 'or', 'hiking', '.']], [['several', 'people', 'swim', 'in', 'a', 'body', 'of', 'water', '.']], [['women', 'in', 'beach', 'bikinis', 'play', 'volleyball', 'in', 'the', 'sunny', 'weather', '.']], [['a', 'man', 'and', 'woman', 'sit', 'across', 'from', 'each', 'other', 'at', 'a', 'restaurant', 'table', '.']], [['a', 'mother', 'and', 'two', 'children', 'are', 'posing', 'with', 'funny', 'faces', '.']], [['a', 'golden', '<unk>', 'is', 'swimming', 'through', 'water', 'with', 'a', 'red', 'toy', 'in', 'its', 'mouth', '.']], [['four', 'men', 'standing', 'near', 'a', 'yellow', 'car', '.']], [['a', 'group', 'of', 'men', ',', 'women', ',', 'and', 'children', ',', 'all', 'wearing', 'hats', ',', 'talk', 'on', 'the', 'beach', '.']], [['little', 'boy', 'in', '<unk>', 'crawling', 'on', 'brown', 'floor']], [['a', 'little', 'girl', '<unk>', 'to', 'the', '<unk>', 'army', 'near', 'a', 'storefront', 'with', 'white', ',', 'plastic', 'containers', '.']], [['a', 'yellow', 'dog', 'carries', 'a', 'ball', 'in', 'its', 'mouth', 'on', 'the', 'beach', '.']], [['a', 'man', 'in', 'a', 'red', 'shirt', 'is', 'standing', 'with', 'two', '<unk>', 'in', 'front', 'of', 'an', 'old', 'structure', '.']], [['man', 'looks', 'on', 'as', 'woman', 'is', 'talking', 'while', 'at', 'a', 'bar', '.']], [['a', 'band', 'playing', 'in', 'an', 'outdoor', 'theater', ',', 'along', 'the', 'river', '.']], [['two', 'women', 'are', 'smiling', 'at', 'an', 'event', '.']], [['a', 'woman', 'wearing', 'a', 'pink', 'shirt', 'showing', 'a', 'man', 'with', 'a', 'striped', 'sweater', 'how', 'to', 'do', 'some', 'work', 'with', 'yarn', '.']], [['a', 'child', 'sitting', 'on', 'a', 'rock', 'formation', '.']], [['a', 'man', 'sitting', 'on', 'a', 'chair', 'with', 'a', 'beer', 'in', 'his', 'hands', '<unk>', 'something', 'to', 'eat', 'on', 'a', 'wooden', 'stick', '.']], [['a', 'police', 'officer', 'in', 'his', 'uniform', 'wearing', 'an', 'ear', 'piece', '.']], [['there', 'is', 'a', 'man', 'in', 'fireman', \"'s\", 'gear', 'crossing', 'the', 'road', 'near', 'a', 'white', 'bus', 'and', 'a', 'red', 'semi', '.']], [['a', 'black', 'and', 'white', 'dog', 'swimming', 'in', 'clear', 'water', '.']], [['a', 'band', 'is', 'playing', 'music', 'on', 'stage', 'at', 'a', 'concert', '.']], [['there', 'are', '3', 'people', 'playing', 'musical', 'instrument', 'and', 'one', 'other', 'person', 'looks', 'like', 'she', 'is', 'singing', '.']], [['a', 'man', 'playing', 'a', 'keyboard', 'and', 'singing', 'into', 'a', 'microphone', '.']], [['a', 'young', 'boy', 'jumps', 'into', 'water', '.']], [['a', 'woman', 'is', 'reading', 'a', 'card', 'while', 'sitting', 'on', 'an', 'end', 'of', 'a', 'couch', ',', 'while', 'another', 'woman', 'is', 'standing', 'next', 'to', 'her', 'holding', 'a', 'glass', 'to', 'drink', '.']], [['there', 'are', 'construction', 'workers', 'working', 'hard', 'on', 'a', 'project', '.']], [['a', 'man', 'is', 'shaving', 'while', 'sitting', 'on', 'the', 'beach', 'in', 'front', 'of', 'the', 'ocean', '.']], [['a', 'blond', '-', 'haired', 'woman', 'wearing', 'a', 'blue', 'shirt', 'unwraps', 'a', 'hat', '.']], [['two', 'men', 'talk', 'to', 'each', 'other', 'behind', 'an', 'organ', 'while', 'a', 'lone', 'woman', 'stands', 'to', 'their', 'right', '.']], [['a', 'young', 'blond', '-', 'haired', 'man', 'speaks', 'into', 'a', 'microphone', '.']], [['a', '<unk>', '<unk>', 'man', 'wearing', 'a', 'trench', 'coat', 'pushing', 'a', 'load', 'of', 'luggage', '.']], [['dog', 'in', 'plants', 'crouches', 'to', 'look', 'at', 'camera', '.']], [['a', 'group', 'is', 'playing', 'music', 'on', 'stage', 'in', 'front', 'of', 'a', 'crowd', 'of', 'people', '.']], [['three', 'dogs', 'playing', 'in', 'the', 'snow', '.']], [['a', 'man', 'and', 'a', 'woman', 'talk', 'while', 'standing', 'next', 'to', 'a', 'tree', '.']], [['a', 'dog', 'jumps', 'for', 'a', 'yellow', 'and', 'black', 'ball', '.']], [['an', 'older', 'lady', 'in', 'a', 'gray', 'and', 'red', 'sweater', 'is', 'cooking', 'on', 'a', 'meal', '.']], [['woman', 'in', 'coat', 'outside', 'a', 'house', 'while', 'snowing']], [['a', 'woman', 'carrying', 'another', 'woman', 'wearing', 'matching', 'exercise', 'attire', 'on', 'her', 'back', '.']], [['a', 'child', 'standing', 'by', 'a', 'stroller', 'and', 'holding', 'a', 'toy', 'sword', '.']], [['a', 'guy', 'with', 'curly', 'hair', 'is', 'skateboarding', 'along', 'a', 'gray', 'ramp', 'with', 'yellow', 'letters', '.']], [['a', 'man', 'is', 'rolling', 'a', 'circular', 'table', 'across', 'the', 'floor', '.']], [['a', 'group', 'of', 'people', 'are', 'in', 'a', 'boat', 'on', 'a', 'large', 'body', 'of', 'water', '.']], [['a', 'man', 'in', 'a', 'yellow', 'shirt', 'is', 'standing', 'in', 'the', 'sidewalk', 'measuring', '.']], [['a', 'woman', 'in', 'a', 'blue', 'shirt', 'and', 'jeans', 'is', 'throwing', 'something', 'away', 'in', 'a', 'dumpster', '.']], [['a', 'woman', 'in', 'a', '<unk>', 'mask', 'and', '<unk>', 'hair', 'is', 'at', 'a', 'party', '.']], [['a', 'person', '<unk>', 'on', 'the', 'crest', 'of', 'a', 'wave', '.']], [['men', 'wearing', 'blue', 'uniforms', 'sit', 'on', 'a', 'bus', '.']], [['an', 'atv', 'attempts', 'to', 'get', 'out', 'of', 'a', 'ditch', '.']], [['a', 'man', 'tackles', 'another', 'man', 'while', 'playing', 'football', '.']], [['a', 'football', 'player', 'in', 'red', 'and', 'white', 'is', 'talking', 'to', 'a', 'coach', '.']], [['two', 'girls', 'sit', 'near', 'a', 'wall', 'and', 'watch', 'a', 'sporting', 'event', '.']], [['a', 'man', 'on', 'the', '<unk>', 'staff', 'for', '<unk>', 'has', 'sunglasses', 'on', 'his', 'head', 'during', 'a', 'football', 'game', '.']], [['this', 'football', 'team', 'wears', 'red', 'shirts', 'and', 'red', 'helmets', '.']], [['a', 'boy', 'in', 'black', 'clothes', 'is', 'doing', 'a', 'cartwheel', 'on', 'the', 'beach', '.']], [['they', 'are', 'posing', 'for', 'a', 'picture', '.']], [['a', 'man', 'in', 'a', 'green', 'shirt', 'is', 'kissing', 'a', 'crying', 'toddler', 'whilst', 'watching', 'runners', 'in', 'a', 'road', 'race', '.']], [['five', 'members', 'of', 'a', 'band', 'are', 'playing', 'a', 'song', '.']], [['three', 'women', 'are', 'sitting', 'on', 'a', 'blanket', 'on', 'the', 'ground', 'with', 'a', 'baby', ',', 'and', 'are', 'talking', 'and', 'having', 'a', 'good', 'time', '.']], [['a', 'man', 'and', 'a', 'boy', 'are', 'sitting', 'at', 'an', '<unk>', 'both', 'are', 'holding', '<unk>', '.']], [['a', 'man', 'with', 'sunglasses', 'is', 'helping', 'a', 'child', 'with', 'sunglasses', 'slide', 'down', 'a', 'slide', '.']], [['a', 'dog', 'runs', 'through', 'the', 'grass', 'towards', 'the', 'camera', '.']], [['the', 'girl', 'with', 'the', 'long', 'ponytail', 'prepared', 'to', 'throw', 'the', 'ball', 'to', 'another', 'player', 'on', 'the', 'field', '.']], [['two', 'man', 'are', 'wrestling', 'on', 'a', 'yellow', 'and', 'blue', 'floor', '.']], [['a', 'girl', 'in', 'a', 'red', 'and', 'white', 'shirt', 'and', 'blue', 'shorts', 'is', 'getting', 'ready', 'to', 'throw', 'a', 'ball', '.']], [['a', 'seated', 'man', 'is', 'working', 'with', 'his', 'hands', '.']], [['a', 'brown', 'dog', 'runs', 'on', 'the', 'sand', 'carrying', 'a', 'stick', '.']], [['a', 'person', 'rowing', 'in', 'their', 'boat', 'in', 'the', 'water', '.']], [['a', 'man', 'in', 'a', 'red', 'and', 'white', 'striped', 'shirts', 'sits', 'on', 'a', 'stool', 'at', 'a', 'hotdog', 'stand', '.']], [['a', 'man', 'takes', 'pictures', 'of', 'white', 'and', 'yellow', 'tulips', '.']], [['two', 'men', 'in', '<unk>', \"'s\", 'have', 'a', 'discussion', 'in', 'an', 'outdoor', 'market', '.']], [['man', 'and', 'boy', 'play', 'with', 'dog', 'at', 'sunset', 'on', 'a', 'beach', '.']], [['a', 'hot', 'air', 'balloon', 'touching', 'down', 'with', 'a', 'man', \"'s\", 'shadow', 'in', 'the', 'background', '.']], [['this', 'man', 'is', 'wearing', 'a', 'white', 'cap', 'or', 'hat', '.']], [['a', 'female', 'getting', 'a', 'face', 'tattoo', 'of', 'black', 'lines', 'and', '<unk>', '.']], [['a', 'toddler', 'in', 'a', 'denim', 'hats', 'plays', 'in', 'a', 'tire', '.']], [['a', 'crowd', 'of', 'people', 'stand', 'in', 'street', 'in', 'front', 'of', 'a', 'series', 'of', 'white', 'tents', '.']], [['a', 'mass', 'of', 'people', 'walk', 'through', 'the', 'park', '.']], [['a', 'dark', '-', 'haired', 'woman', 'wearing', 'a', 'blue', 'blouse', 'and', 'sunglasses', 'holds', 'a', 'banner', 'while', 'a', 'young', 'girl', 'with', 'braided', 'hair', 'writes', 'on', 'the', 'banner', '.']], [['many', 'asian', 'children', 'made', 'a', 'train', 'under', 'a', '<unk>', '<unk>', 'sign', '.']], [['a', 'cowboy', '<unk>', 'a', 'horse', 'in', 'a', 'rodeo', 'as', 'the', 'horse', 'does', 'a', 'back', 'kick']], [['a', 'bride', 'and', 'a', 'groom', 'at', 'their', 'wedding', 'kissing']], [['two', 'emergency', '<unk>', 'workers', 'are', 'putting', 'blocks', 'underneath', 'a', 'train', '.']], [['man', 'working', 'on', 'the', 'railroad', 'in', 'a', 'railroad', 'station', '.']], [['some', 'construction', 'workers', ',', 'there', 'is', 'concrete', 'being', 'mixed', 'in', '<unk>', ',', 'they', 'are', 'building', 'or', 'repairing', 'a', 'wall', ',', 'the', 'wall', 'is', 'wet', 'still', '.']], [['a', 'band', 'playing', 'on', 'a', 'sidewalk', '.']], [['men', 'in', 'orange', 'suits', 'watching', 'a', 'machine', 'dig', 'near', 'what', 'looks', 'to', 'be', 'subway', 'tracks', '.']], [['young', 'adults', 'dressed', 'casually', 'walk', 'around', 'in', 'a', 'field', '.']], [['the', 'large', 'brown', 'dog', 'is', 'running', 'through', 'shallow', 'water', '.']], [['a', 'man', 'and', 'woman', 'walk', 'across', 'an', 'empty', 'street', '.']], [['a', 'man', 'bundled', 'up', 'in', 'the', 'cold', 'weather', 'up', 'in', 'a', 'bucket', 'working', 'on', 'a', 'power', 'line', '.']], [['two', 'children', 'in', 'yellow', 'jackets', 'are', 'playing', 'in', 'mud', '.']], [['there', 'are', 'multiple', 'people', 'going', 'over', 'a', 'loop', 'on', 'an', '<unk>', 'roller', 'coaster', '.']], [['a', 'woman', 'and', 'little', 'boy', 'share', 'a', 'chair', '.']], [['a', 'group', 'of', 'people', 'stand', 'in', 'a', 'loose', 'line', 'on', 'a', 'brick', 'ground', '.']], [['a', 'young', 'girl', 'is', 'swimming', 'in', 'a', 'pool', '.']], [['a', 'boy', 'with', 'an', 'orange', 'shirt', 'smiles', ',', 'while', 'a', 'boy', 'in', 'a', 'blue', 'shirt', 'looks', 'on', '.']], [['a', 'little', 'girl', 'stands', 'in', 'a', 'puddle', 'outside', '.']], [['a', 'small', 'blond', 'girl', 'is', 'holding', 'a', 'sandwich', '.']], [['4', 'people', 'trying', 'to', 'fix', 'a', 'bike', 'on', 'a', 'park']], [['a', 'very', 'wet', 'brown', 'dog', 'is', 'emerging', 'from', 'the', 'water', '.']], [['a', 'dog', 'running', 'across', 'a', 'field', 'with', 'a', 'ball', 'in', 'its', 'mouth', '.']], [['a', 'group', 'of', 'people', 'wait', 'behind', 'a', 'barricade', 'and', 'look', 'toward', 'the', 'right', '.']], [['a', 'child', 'wearing', 'a', 'red', 'sweatshirt', 'is', 'hanging', 'upside', 'down', 'from', 'a', 'tree', '.']], [['a', 'carnival', 'game', '<unk>', 'takes', 'the', 'money', 'of', 'two', '<unk>', 'contestants', '.']], [['a', 'boy', 'smiles', 'for', 'the', 'camera', 'in', 'a', 'group', 'of', 'sitting', 'children', '.']], [['two', 'children', 'without', 'shirts', 'on', 'sit', 'at', 'the', 'edge', 'of', 'a', 'fountain', '.']], [['a', 'man', 'pulls', 'on', 'his', 'sweater', 'as', 'a', 'kayak', 'lays', 'at', 'his', 'feet', '.']], [['an', 'old', 'man', 'walking', 'with', 'a', '<unk>', 'in', 'his', 'hand']], [['a', '<unk>', 'young', 'woman', 'and', 'an', 'older', 'man', 'stand', 'by', 'a', 'bar', '.']], [['a', 'young', 'blond', 'boy', 'is', 'jumping', 'from', 'bed', 'to', 'bed', '.']], [['a', 'small', 'child', 'swings', 'back', 'a', 'red', 'baseball', 'bat', '.']], [['the', 'man', 'is', 'talking', 'on', 'his', 'cellphone', 'in', 'front', 'of', 'a', 'sports', 'store', '.']], [['here', 'are', '2', 'moms', 'listening', 'to', 'a', 'toddler', '.']], [['a', 'woman', 'in', 'a', 'blue', 'shirt', 'is', 'playing', 'an', 'instrument', '.']], [['this', 'is', 'a', 'crowded', 'intersection', 'in', 'a', 'big', 'city', 'at', 'night', '.']], [['a', 'man', 'sitting', 'in', 'clear', 'shallow', 'water', 'beside', 'a', 'large', 'rock', 'face', '.']], [['a', 'couple', 'of', 'hikers', 'taking', 'a', 'break', 'to', 'take', 'a', 'picture', '.']], [['four', '<unk>', 'looking', 'people', 'walking', 'down', 'a', 'street', 'with', 'trees', 'in', 'the', 'background']], [['4', 'people', 'are', 'strapped', 'to', 'an', 'amusement', 'park', 'ride']], [['a', 'boy', 'does', 'a', 'skateboard', 'trick', 'off', 'a', 'metal', 'plank', '.']], [['a', 'man', 'on', 'a', 'beach', 'building', 'a', 'sand', 'castle', '.']], [['the', 'large', 'brown', 'dog', 'is', 'chasing', 'after', 'the', 'little', 'brown', 'dog', '.']], [['men', 'in', 'white', 'outfits', 'are', 'holding', 'up', 'their', 'hands', '.']], [['a', 'woman', '<unk>', 'a', 'frisbee', 'to', 'a', 'dog', 'as', 'a', 'baseball', 'player', 'in', 'uniform', 'runs', 'behind', 'her', '.']], [['a', 'black', 'dog', 'standing', 'in', 'some', 'grass', 'holding', 'a', 'white', 'plastic', 'item', 'in', 'its', 'mouth', '.']], [['a', 'boat', 'with', 'people', 'and', 'their', 'belongings', 'is', 'in', 'the', 'water', '.']], [['a', 'pack', 'of', 'bicycle', 'road', 'racers', 'lean', 'through', 'a', 'curve', '.']], [['three', 'people', 'are', 'sitting', 'outside', 'at', 'a', 'table', 'with', 'artwork', 'leaning', 'against', 'it', '.']], [['a', 'white', 'woman', 'and', 'black', 'man', 'walking', 'down', 'the', 'street', '.']], [['a', 'man', 'in', 'a', 'white', 't', '-', 'shirt', 'painting', 'in', 'the', 'middle', 'of', 'a', 'stone', 'paved', 'road', '.']], [['a', 'brown', ',', 'black', ',', 'and', 'white', 'dog', 'barking', 'up', 'a', 'tree', '.']], [['a', 'man', 'in', 'blue', 'and', 'red', 'face', 'paint', 'poses', 'for', 'a', 'picture', 'with', 'a', 'woman', '.']], [['two', 'boys', 'playing', 'a', 'game', 'with', '<unk>', '.']], [['two', 'men', 'waiting', 'in', 'the', 'backseat', 'of', 'a', 'car', 'while', 'the', 'driver', 'gets', 'in', 'to', 'the', 'driver', \"'s\", 'seat', '.']], [['a', 'boy', 'rides', 'a', 'swing', '.']], [['a', 'black', 'man', 'is', 'watching', 'another', 'black', 'man', 'playing', 'in', 'the', 'waterfall', '.']], [['person', 'with', 'a', 'red', '<unk>', 'going', 'for', 'a', 'hike', '.']], [['an', 'asian', 'fruit', 'and', 'vegetable', 'vendor', \"'s\", 'selection', 'of', 'bananas', ',', 'oranges', ',', 'melons', 'and', 'more', 'in', 'his', 'small', 'boat', '.']], [['a', 'large', 'crowd', 'stand', 'watching', 'with', 'a', 'large', 'buildings', 'in', 'the', 'background', '.']], [['three', 'women', 'in', 'dark', 'shawls', 'and', 'hats', 'talk', 'on', 'a', 'brick', 'street', 'while', 'a', 'dog', 'sits', 'next', 'to', 'them', '.']], [['a', 'man', 'in', 'a', 'white', 'shirt', 'is', 'making', 'shish', '<unk>', '.']], [['a', 'person', 'with', 'neon', 'pink', 'hair', 'and', 'yellow', 'shirt', 'is', 'looking', 'out', 'across', 'a', 'beach', '.']], [['man', 'looking', 'at', 'a', 'woman', 'that', 'is', 'smoking', 'on', 'the', 'sidewalk', '.']], [['a', 'male', 'in', 'a', 'black', 'shirt', 'and', 'brown', 'cargo', 'pants', 'holding', 'a', 'shovel', 'above', 'his', 'head', '.']], [['a', 'man', 'licking', 'the', 'face', 'of', 'a', 'woman', 'wearing', 'glasses', '.']], [['one', 'child', 'is', 'walking', 'ahead', 'of', 'the', 'other', '.']], [['the', 'young', 'girl', 'is', 'given', 'rabbit', 'ears', 'by', 'the', 'young', 'boy', 'behind', 'her', '.']], [['a', 'young', 'baby', ',', 'dressed', 'in', 'a', 'pink', 'fleece', 'outfit', ',', 'smiles', 'while', 'laying', 'in', 'autumn', 'leaves', '.']], [['a', 'closeup', 'of', 'a', 'woman', 'with', 'short', 'red', '-', 'hair', '.']], [['a', 'soccer', 'team', 'player', 'in', 'a', 'green', 'shirt', 'is', 'running', 'off', 'the', 'field', '.']], [['a', 'girl', 'leads', 'her', 'dog', 'over', 'a', 'hurdle', '.']], [['several', 'children', 'are', 'raising', 'their', 'hands', 'while', 'sitting', 'on', 'a', 'colorful', 'rug', 'in', 'a', 'classroom', '.']], [['<unk>', 'stand', 'at', 'the', 'top', 'of', 'a', '<unk>', 'to', 'a', 'large', 'boat', '.']], [['a', 'medium', 'sized', 'white', 'dog', 'is', 'jumping', 'up', 'to', 'catch', 'a', 'small', 'cloth', 'frisbee', '.']], [['a', 'man', 'in', 'a', 'gray', 't', '-', 'shirt', 'rests', '.']], [['a', 'black', 'dog', 'is', 'jumping', 'through', 'some', 'water', ',', 'while', 'holding', 'a', 'stick', 'in', 'his', 'mouth', '.']], [['two', 'black', 'dogs', 'running', 'down', 'either', 'side', 'of', 'a', 'paved', 'pathway']], [['four', 'people', 'in', 'casual', 'clothing', 'are', 'standing', 'outside', 'holding', 'garbage', 'bags', '.']], [['people', 'and', 'camels', 'taking', 'a', 'break', 'in', 'the', 'desert', '.']], [['four', 'dogs', 'are', 'playing', 'in', 'a', 'circle', 'and', 'one', 'black', 'dog', 'is', 'walking', 'away', '.']], [['a', 'man', 'in', 'an', 'army', 'uniform', 'speaks', 'into', 'a', 'microphone', '.']], [['a', 'group', 'of', 'asian', 'people', 'at', 'an', '<unk>', 'show', 'stare', 'and', 'take', 'picture', 'of', 'a', 'new', 'vehicle', '.']], [['an', 'swimmer', 'swimming', 'in', 'a', 'swimming', 'pool', '.']], [['woman', 'with', 'a', 'white', 'shirt', 'and', '<unk>', 'lounging', 'on', 'a', 'couch', 'inside', 'of', 'a', 'house', '.']], [['one', 'man', 'is', 'making', 'hand', '<unk>', 'next', 'to', 'two', 'young', 'girls', '.']], [['girl', 'in', 'white', 'shirt', 'blowing', 'bubbles', 'in', 'dark', 'room', '.']], [['boys', 'and', 'girls', 'from', 'an', 'eastern', '<unk>', 'smiling', 'in', 'a', 'field', '.']], [['a', 'child', 'in', 'an', 'orange', 'shirt', 'jumps', 'off', 'bales', 'of', 'hay', 'while', 'other', 'children', 'watch', '.']], [['boy', 'doing', 'tricks', 'on', 'a', 'skateboard']], [['a', 'man', 'reaches', 'up', 'to', 'work', 'with', 'cables', 'above', 'a', 'desk', '.']], [['a', 'toddler', 'is', 'sitting', 'at', 'a', 'table', 'eating', 'a', 'snack', '.']], [['four', 'children', 'carrying', 'backpacks', 'turn', 'to', 'face', 'the', 'camera', 'and', 'smile', 'as', 'they', 'walk', 'down', 'a', 'country', 'road', '.']], [['a', 'man', 'with', 'dreadlocks', 'is', 'plugging', 'his', 'ear', 'to', 'hear', 'a', 'phone', 'call', '.']], [['soft', 'large', '<unk>', 'are', 'being', 'stacked', 'on', 'a', '<unk>', 'in', 'an', 'industrial', 'environment', 'by', 'one', 'man', 'as', 'another', 'looks', 'on', '.']], [['a', 'dog', 'in', 'a', 'grassy', 'field', ',', 'looking', 'up', '.']], [['a', 'woman', 'and', 'a', 'young', 'child', 'has', 'fun', 'while', 'playing', 'a', 'board', 'game', '.']], [['4', 'kids', 'sit', 'on', 'a', 'ledge', 'and', 'converse', '.']], [['the', 'small', 'brown', 'dog', 'is', 'amidst', 'the', 'potted', 'plants', 'and', 'fallen', 'leaves', '.']], [['two', 'men', 'are', 'painting', 'a', 'building', 'while', 'a', 'third', 'is', 'walking', 'past', 'on', 'his', 'cellphone', '.']], [['some', 'men', 'are', 'looking', 'at', 'a', 'computer', 'screen', 'in', 'an', 'office', '.']], [['two', 'woman', 'examine', 'a', 'photograph', 'on', 'a', 'camera', '.']], [['a', 'blond', 'women', 'in', 'a', 'brown', 'cowboy', 'hat', 'makes', 'an', '<unk>', 'gesture', 'toward', 'the', 'camera', '.']], [['the', 'white', 'and', 'brown', 'dog', 'runs', 'across', 'the', 'grass', '.']], [['a', 'teenager', 'reading', 'a', 'book', 'in', 'class', 'with', 'notes', 'on', 'her', 'desk', 'looking', 'bored', '.']], [['two', 'small', 'girls', 'walk', 'along', 'the', 'leaves', '.']], [['a', 'bride', 'adjust', 'her', '<unk>', 'flower', 'on', 'his', 'coat', 'as', 'she', 'holds', 'her', 'own', 'bouquet', 'of', 'flowers', '.']], [['the', 'woman', 'is', 'placing', 'an', 'orange', 'rose', 'as', 'a', '<unk>', 'on', 'the', 'man', \"'s\", 'suit', 'jacket', 'collar', '.']], [['two', 'women', 'with', 'their', 'baby', 'strollers', 'walking', 'along', 'a', 'leaves', 'covered', 'street', '.']], [['four', 'women', 'dressed', 'up', 'in', 'funny', 'costumes', '.']], [['this', 'old', 'asian', 'woman', 'rests', 'and', 'fans', 'herself', 'on', 'an', '<unk>', 'hot', 'day', 'in', 'the', 'city', '.']], [['girls', 'in', 'black', 'bikinis', 'playing', 'beach', 'volleyball', '.']], [['a', 'man', 'with', 'glasses', 'and', 'a', 'little', 'girl', 'with', 'a', 'life', 'jacket', 'swimming', 'in', 'a', 'pool', '.']], [['three', 'kids', 'wearing', 'brown', 'shirts', 'and', 'jeans', 'jumping', 'outdoors', 'with', 'leaves', 'on', 'the', 'ground', '.']], [['a', 'woman', 'is', '<unk>', 'on', 'her', 'game', 'of', 'curling', '.']], [['a', 'person', 'is', 'carrying', 'many', 'bags', '.']], [['a', 'child', 'near', 'a', 'blue', 'stage', 'with', 'a', 'colorful', 'creature', 'on', 'it', '.']], [['a', 'boy', 'stands', '<unk>', 'in', 'the', 'middle', 'of', 'a', 'social', 'gathering', '.']], [['this', 'child', 'is', 'in', 'a', 'classroom', ',', 'finished', 'for', 'the', 'day', ',', 'maybe']], [['a', 'man', 'wakeboards', 'in', 'the', 'water', '.']], [['children', 'are', 'staring', 'out', 'the', 'window', 'of', 'a', 'blue', 'building', 'with', 'red', '<unk>', '.']], [['a', '<unk>', '-', 'and', '-', '<unk>', '-', 'haired', 'man', 'with', 'beard', 'and', 'glasses', 'wearing', 'black', 'sits', 'on', 'the', 'grass', '.']], [['a', 'woman', 'and', 'her', 'two', 'kids', 'are', 'on', 'the', 'beach', 'and', 'the', 'woman', 'is', 'leaping', 'high', 'into', 'the', 'air', '.']], [['a', 'couple', 'of', 'men', 'walking', 'on', 'a', 'public', 'city', 'street', '.']], [['a', 'guy', 'is', 'doing', 'a', 'bike', 'trick', 'in', 'a', 'park', '.']], [['a', 'man', 'in', 'a', 'brightly', '-', 'colored', 'ski', 'jacket', 'stands', 'with', 'others', 'on', 'a', 'european', 'street', '.']], [['a', 'woman', 'in', 'a', 'yellow', 't', '-', 'shirt', 'and', 'sunglasses', 'walks', 'down', 'a', 'sidewalk', '.']], [['two', 'women', 'look', 'out', 'at', 'many', 'houses', 'below', '.']], [['two', 'large', 'dogs', 'frolic', 'in', 'a', 'grassy', 'field', '.']], [['the', 'people', 'are', 'dressed', 'in', 'heavy', 'layered', 'clothing', ',', 'and', 'are', '<unk>', 'together', '.']], [['a', 'group', 'of', 'people', 'eating', 'at', 'a', 'restaurant', '.']], [['a', 'woman', 'wearing', 'a', 'black', 't', '-', 'shirt', 'appears', 'to', 'being', 'going', 'up', 'a', 'escalator', '.']], [['a', 'room', 'full', 'of', 'sitting', 'and', 'standing', 'adults', 'and', 'children', ',', 'and', 'eight', 'pink', 'and', 'black', 'balloons', 'hanging', 'from', 'the', 'ceiling', '.']], [['a', 'man', 'and', 'woman', 'pose', 'together', 'on', 'a', 'cobblestone', 'street', '.']], [['two', 'dogs', 'are', 'running', 'and', 'playing', 'in', 'the', 'snow']], [['a', 'small', 'dog', 'jumping', 'on', 'a', 'street', '.']], [['a', 'man', 'wearing', 'a', 'black', 't', '-', 'shirt', 'is', 'playing', 'seven', 'string', 'bass', 'a', 'stage', '.']], [['a', 'boy', 'and', 'an', 'old', 'man', 'with', 'a', 'cane', 'are', 'talking', '.']], [['a', 'girl', 'wearing', 'a', 'white', 'shirt', ',', 'black', 'shorts', ',', 'and', 'a', 'headband', 'is', 'playing', 'volleyball', '.']], [['two', 'men', 'are', 'standing', 'on', 'the', 'street', 'covered', 'in', 'graffiti', '.']], [['a', 'boy', 'in', 'a', 't', '-', 'shirt', 'and', 'shorts', 'is', 'holding', 'a', 'snowball', 'and', 'facing', 'a', 'snowy', 'mountain', '.']], [['a', 'person', 'is', 'hang', 'gliding', 'in', 'the', 'ocean', '.']], [['two', '<unk>', 'sit', 'perched', 'on', 'horses', ',', 'dressed', 'in', '<unk>', 'ceremonial', 'wear', ',', 'each', 'holding', 'a', '<unk>', 'in', 'their', 'right', 'hand', ',', '<unk>', 'to', 'the', 'horse', 'in', 'their', 'left', '.']], [['a', 'dog', 'running', 'through', 'deep', 'snow', 'pack', '.']], [['a', 'medium', 'sized', 'group', 'of', 'people', 'pose', 'in', 'front', 'of', 'the', 'camera', '.']], [['big', 'brown', 'and', 'white', 'spotted', 'dog', 'laying', 'on', 'a', 'jacket', 'on', 'the', 'street', '.']], [['two', 'teenage', 'girls', 'hold', 'a', 'card', '<unk>', 'to', '<unk>', 'as', 'they', 'smile', '.']], [['a', 'mother', 'and', 'son', 'smiling', 'as', 'they', 'sled', 'downhill', '.']], [['a', 'man', 'in', 'a', 'black', 'shirt', 'is', 'cooking', 'out', 'of', 'a', '<unk>', 'in', 'a', 'cluttered', 'kitchen', '.']], [['a', 'woman', 'in', 'white', 'plays', 'a', 'black', 'guitar', '.']], [['a', 'snowboarder', 'is', 'jumping', 'in', 'the', 'air', 'next', 'to', 'the', 'ski', 'lift', '.']], [['several', 'people', 'are', 'standing', 'in', 'a', 'room', 'eating', '.']], [['a', 'man', 'in', 'a', 'hat', 'plays', 'an', 'unusual', 'instrument', 'for', 'cash', 'next', 'to', 'the', 'metro', 'exit', '.']], [['a', 'guy', 'grinds', 'a', 'windowsill', 'near', 'an', 'old', '<unk>']], [['a', 'woman', 'in', 'a', 'white', 'shirt', 'and', 'black', 'pants', 'hula', 'hoops', 'as', 'a', 'large', 'group', 'of', 'people', 'look', 'on', '.']], [['one', 'older', 'man', 'interviews', 'another', 'in', 'a', 'racing', 'suit', '.']], [['two', 'men', 'in', 'red', 'robes', 'performing', 'martial', 'arts', '.']], [['a', 'young', 'child', 'rides', 'a', 'motorbike', 'through', 'the', 'mud', '.']], [['a', 'child', 'wearing', 'a', 'hat', 'and', 'jacket', 'is', 'outside', 'running', 'on', 'a', 'stone', 'surface', '.']], [['a', 'child', 'sitting', 'on', 'her', 'dad', \"'s\", 'shoulders', 'in', 'a', 'crowd', '.']], [['two', 'old', 'men', 'in', 'hats', '<unk>', 'in', 'the', 'sun', 'outside', '.']], [['two', 'boys', 'in', 'a', 'tent', 'smile', 'for', 'the', 'camera', '.']], [['a', 'warmly', 'dressed', 'woman', 'in', 'black', 'kneels', 'with', 'a', 'small', 'tan', 'dog', 'near', 'a', 'crowd', 'of', 'onlookers', '.']], [['two', 'men', 'are', 'setting', 'up', 'some', 'electronic', '<unk>']], [['a', 'woman', 'carrying', 'a', '<unk>', 'joe', \"'s\", 'grocery', 'bag', 'has', 'fallen', 'asleep', 'on', 'the', 'train', '.']], [['a', 'bicyclist', 'is', 'doing', 'a', 'trick', 'in', 'midair', '.']], [['a', 'young', 'man', 'in', 'a', 'green', 'sweatshirt', 'reads', 'a', 'newspaper', 'on', 'the', 'beach', '.']], [['a', 'man', 'in', 'a', 'green', 'jacket', 'is', 'smiling', '.']], [['a', 'man', 'is', 'climbing', 'a', 'steep', 'rock', 'wall', 'with', 'a', 'safety', 'harness', 'on']], [['a', 'young', 'man', 'rides', 'a', 'self', 'built', 'bicycle', 'across', 'the', 'street', '.']], [['two', 'brown', 'dogs', 'wrestle', 'on', 'the', 'grassy', 'hill', '.']], [['person', 'in', 'a', 'long', 'red', 'coat', 'walking', 'in', 'front', 'of', 'a', 'building', '.']], [['a', 'foreign', 'woman', 'is', 'sitting', 'with', 'a', 'lot', 'of', 'colorful', 'fabric', '.']], [['two', 'boys', 'inside', 'a', 'fence', 'jump', 'in', 'the', 'air', 'while', 'holding', 'a', 'basketball', '.']], [['a', 'man', 'wearing', 'glasses', 'at', 'the', 'microphone', 'is', 'looking', 'down', 'at', 'some', 'paper', 'in', 'his', 'hand', '.']], [['a', 'child', 'with', 'a', 'green', 'shirt', 'is', 'holding', 'a', 'red', 'ball', 'against', 'its', 'mouth', '.']], [['a', 'man', 'with', 'a', 'tattoo', 'on', 'his', 'arm', 'cooking', 'something', 'in', 'a', 'frying', 'pan', '.']], [['a', 'band', 'of', 'four', 'playing', 'a', 'gig', '.']], [['a', 'group', 'of', 'young', 'asian', 'men', 'walking', 'in', 'a', 'marathon', '.']], [['a', 'man', 'pulling', 'items', 'on', 'a', 'cart', '.']], [['three', 'large', 'dogs', 'enjoy', 'a', '<unk>', 'in', 'the', 'snow', '.']], [['a', 'bird', 'flies', 'across', 'the', 'water', '.']], [['a', 'group', 'of', 'parents', 'are', 'sitting', 'at', 'an', 'outdoor', 'assembly', '.']], [['a', 'yellow', 'car', 'speeds', 'along', 'a', 'snowy', 'field', '.']], [['a', 'group', 'of', 'kids', 'sat', 'around', 'and', 'played', 'their', 'instruments', '.']], [['group', 'of', 'adults', 'sitting', 'around', 'table', 'listening', 'to', 'presentation']], [['a', 'woman', 'dressed', 'in', 'a', 'green', 'shirt', 'reads', 'off', 'of', 'a', 'projector', 'to', 'her', 'class', '.']], [['young', 'people', 'are', 'engaged', 'in', 'a', 'game', '.']], [['<unk>', 'in', 'blue', 'and', 'white', 'uniforms', 'are', 'on', 'the', 'field', 'playing', 'baseball', '.']], [['a', 'woman', 'and', 'two', 'boys', 'looking', 'at', 'an', 'information', 'station', '.']], [['a', 'group', 'of', 'people', 'running', 'a', '<unk>', 'marathon', '.']], [['two', 'women', 'are', 'standing', 'with', 'ski', 'poles', 'in', 'deep', 'snow', '.']], [['people', 'are', 'all', 'standing', 'together', 'in', 'front', 'of', 'a', 'statue', 'of', 'an', 'animal', ',', 'and', 'they', 'are', 'all', 'wearing', 'cool', '-', 'weather', 'clothing', '.']], [['a', 'young', 'skier', 'looks', 'at', 'the', 'camera', '.']], [['two', 'young', 'girls', 'dressed', 'in', 'pink', 'pajamas', 'sit', 'on', 'the', 'floor', 'in', 'front', 'of', 'large', 'windows', 'playing', 'house', '.']], [['a', 'woman', 'and', 'child', 'riding', 'camels', 'near', 'the', 'ocean', '.']], [['a', 'man', 'is', 'smiling', 'with', 'one', 'hand', 'on', 'his', 'forehead', 'at', 'a', 'crowded', 'bar', '.']], [['the', 'street', 'is', 'crowded', 'with', 'many', 'people', 'with', 'coats', 'on', '.']], [['two', 'men', 'in', 'a', 'foreign', 'country', 'smiling', ',', 'one', 'standing', 'and', 'one', 'sitting', 'with', 'his', 'legs', 'crossed', '.']], [['a', 'little', 'brown', 'dog', 'is', 'running', 'on', 'the', 'grass', '.']], [['a', 'nighttime', 'street', 'scene', 'of', 'a', 'restaurant', '.']], [['a', 'snowboarder', 'is', 'doing', 'a', 'trick', '.']], [['asian', 'woman', 'in', 'postal', 'delivery', 'uniform', 'is', 'pushing', 'a', 'large', 'pile', 'of', 'packages', '.']], [['a', 'woman', 'in', 'a', 'blue', 'shirt', 'is', 'riding', 'a', 'bicycle', '.']], [['a', 'woman', 'in', 'a', 'white', 'tennis', 'outfit', 'is', 'jumping', 'up', 'to', 'hit', 'the', 'ball', '.']], [['a', 'young', 'woman', 'practices', 'a', 'string', 'instrument', 'indoors', '.']], [['a', 'bride', 'and', 'groom', 'are', 'taking', 'pictures', 'while', 'two', 'men', 'stand', 'nearby', '.']], [['a', 'woman', 'holding', 'a', 'white', 'and', 'black', 'dog', '.']], [['a', 'boy', 'in', 'a', 'red', 'shirt', 'trying', 'to', 'play', 'a', 'guitar', '.']], [['a', 'young', 'clerk', 'looking', 'for', 'new', '<unk>', 'from', '<unk>', '.']], [['three', 'older', 'women', 'in', 'a', 'living', 'room', ',', 'decorated', 'for', 'christmas', ',', 'a', '\"', '<unk>', '\"', 'notebook', 'is', 'the', 'center', 'of', 'attention', '.']], [['a', 'white', 'fluffy', 'dog', 'is', 'jumping', 'and', 'catching', 'a', 'toy', '.']], [['a', 'matador', 'in', 'a', 'colorful', 'outfit', 'is', 'riding', 'a', 'bull']], [['children', '<unk>', 'in', 'water', 'from', 'large', 'drums', '.']], [['a', 'tan', 'and', 'white', 'dog', 'jumps', 'up', 'with', 'a', 'yellow', 'ball', 'in', 'its', 'mouth', '.']], [['a', 'group', 'of', 'people', 'in', 'blue', 'shirts', 'at', 'a', 'sporting', 'event', '.']], [['the', 'tennis', 'player', 'is', 'wearing', 'a', 'yellow', 'and', 'blue', 'shirt', 'and', 'a', 'blue', 'headband', '.']], [['two', 'little', 'girls', 'in', 'blue', 'dresses', 'laugh', '.']], [['a', 'little', 'girl', 'in', 'a', 'pink', 'tutu', 'practices', 'dancing', 'with', 'scarves', '.']], [['two', 'people', 'are', 'running', 'at', 'the', 'top', 'of', 'a', 'mountain', '.']], [['a', 'group', 'of', 'women', 'dances', '<unk>', 'style', 'in', 'colorful', 'outfits', 'and', 'makeup', '.']], [['a', 'biker', 'doing', 'a', 'jump', 'in', 'a', 'forest', '.']], [['several', 'people', 'are', 'walking', 'beside', 'a', 'white', 'fence', 'in', 'a', 'foreign', 'country', '.']], [['woman', 'standing', 'on', 'a', 'brick', 'wall', 'and', 'taking', 'a', 'picture']], [['a', 'woman', 'who', 'is', 'wearing', 'white', 'shorts', ',', 'yellow', 'top', 'and', 'white', 'sandals', 'appears', 'to', 'be', 'throwing', 'a', 'stick', '.']], [['a', 'person', 'is', 'riding', 'his', 'dirt', 'bike', '.']], [['a', 'little', 'girl', 'of', 'asian', 'descent', ',', 'is', 'sitting', 'in', 'a', 'black', 'bucket', 'eating', 'a', '<unk>', ',', 'with', 'a', 'big', 'smile', 'on', 'her', 'face', '.']], [['two', '<unk>', 'play', 'on', 'the', 'wood', 'floor', 'of', 'their', 'home', '.']], [['a', 'toddler', 'boy', 'with', 'a', 'pacifier', 'and', 'a', 'red', 'shirt', 'plays', 'with', 'a', 'garden', 'hose', '.']], [['a', 'teenage', 'boy', 'on', 'a', 'bicycle', 'does', 'tricks', '.']], [['an', 'old', 'man', 'wearing', 'a', 'black', 'jacket', 'is', 'looking', 'on', 'the', 'table']], [['the', 'man', 'in', 'the', 'blue', 'shirt', 'is', 'walking', 'with', 'the', 'man', 'in', 'red', '.']], [['a', 'woman', 'hanging', 'from', 'a', 'tree', ',', 'her', 'leg', 'wrapped', 'in', 'cloth', '.']], [['a', 'young', 'barefoot', 'girl', 'wearing', 'a', 'helmet', 'walks', 'down', 'a', '<unk>', 'covered', 'fallen', 'down', 'tree', '.']], [['a', 'black', 'dog', 'is', 'jumping', 'over', 'a', 'multicolored', 'barrier', '.']], [['a', 'boy', 'in', 'a', 'blue', ',', 'playing', 'soccer', ',', 'about', 'to', 'kick', 'the', 'ball', '.']], [['a', 'crew', 'of', 'cycling', 'member', 'getting', 'ready', 'for', 'a', 'race', '.']], [['a', 'guy', 'is', 'running', 'away', 'from', 'a', 'black', 'bull', '.']], [['a', 'boy', 'with', 'a', 'mohawk', 'chasing', 'geese', 'in', 'a', 'park', '.']], [['little', 'brown', 'and', 'white', 'dog', 'running', 'on', 'the', 'sidewalk', '.']], [['two', 'children', 'are', 'putting', 'their', 'faces', 'into', 'a', 'knight', 'and', '<unk>', 'woman', \"'s\", 'picture', '.']], [['the', 'shadow', 'of', 'two', 'men', 'on', '<unk>', '.']], [['a', 'black', 'poodle', 'plays', 'with', 'another', 'dog', 'in', 'a', 'dry', 'field', '.']], [['several', 'people', 'are', 'enjoying', 'a', 'cigarette', 'near', 'an', '<unk>', '.']], [['a', 'white', 'dog', 'with', 'brown', 'marks', 'jumps', 'from', 'the', 'bank', 'into', 'the', 'water', '.']], [['a', 'photographer', 'taking', 'a', 'photo', 'of', 'a', 'message', 'on', 'a', 'set', 'of', 'doors', '.']], [['a', 'little', 'girl', 'in', 'a', 'checkered', 'dress', 'plays', 'with', 'her', 'big', 'blue', 'ball', 'near', 'a', 'mesh', 'fence', '.']], [['a', 'man', 'practices', 'boxing']], [['a', 'group', 'of', 'young', 'people', 'posing', 'in', 'the', 'air', 'on', 'a', 'sandy', 'beach', '.']], [['the', 'woman', 'is', 'holding', 'a', 'violin', '.']], [['<unk>', 'on', 'a', 'very', 'cold', 'day', 'hiking', '.']], [['a', 'man', 'wearing', 'a', 'gray', 'shirt', 'is', 'doing', 'a', 'skateboard', 'trick', 'on', 'stairs', '.']], [['three', 'men', 'walking', 'next', 'to', 'a', 'tent', 'with', 'a', 'billboard', 'sign', 'on', 'it', '.']], [['a', 'young', 'girl', 'standing', 'in', 'a', 'grassy', 'field', '.']], [['a', 'boy', 'in', 'green', 'and', 'yellow', 'dress', 'is', 'learning', 'boxing', '.']], [['a', 'man', 'and', 'woman', 'playing', 'a', 'game', 'outside', '.']], [['a', 'young', 'girl', 'wearing', 'a', 'dress', 'and', 'sandals', 'runs', 'in', 'the', 'grass', '.']], [['a', 'woman', 'with', 'purple', 'hair', 'and', 'a', 'man', 'in', 'military', '<unk>', '.']], [['people', 'are', 'dancing', 'and', 'clapping', 'there', 'hands', '.']], [['a', 'man', 'stare', 'at', 'a', 'passing', 'couple', 'while', 'walking', 'down', 'the', 'block', '.']], [['man', 'in', 'white', 'shirt', 'and', 'striped', 'shorts', 'playing', 'organ', 'being', 'observed', 'by', 'man', 'wearing', 'yellow', 'shirt']], [['a', 'large', 'group', 'of', 'people', 'watching', 'a', 'performer', 'on', 'a', 'stage', '.']], [['the', 'car', 'leaves', 'a', 'dust', 'trail', 'as', 'it', 'goes', 'around', 'the', 'dirt', 'track', '.']], [['a', 'group', 'of', 'people', 'listening', 'to', 'a', 'man', 'talking', 'outside', '.']], [['a', 'bearded', 'bald', 'man', 'in', 'a', 'tan', 'striped', 'shirt', 'rests', 'his', 'head', 'on', 'another', 'man', \"'s\", 'arm', '.']], [['a', 'boy', 'prepares', 'to', 'kick', 'a', 'goal', 'shot']], [['a', 'bicycler', 'rides', 'his', 'bike', 'on', 'the', 'road', 'next', 'to', 'rocks', 'with', 'snow', '.']], [['a', 'long', '-', 'haired', 'mail', 'is', 'swinging', 'his', 'wet', 'hair', 'around', 'in', 'the', 'ocean', '.']], [['a', 'boy', 'and', 'a', 'man', 'dressed', 'as', 'rodeo', 'clowns', 'standing', 'in', 'sand']], [['a', 'young', 'girl', 'smiles', 'and', 'sticks', 'her', 'thumb', 'up', 'while', 'posing', 'in', 'front', 'of', 'a', 'turtle', '.']], [['a', 'man', 'in', 'blue', 'is', 'riding', 'a', 'bicycle', 'on', 'a', 'track', '.']], [['a', 'single', 'person', 'parachutes', 'through', 'a', 'peaceful', 'sunset', '.']], [['a', 'waitress', 'stands', 'behind', 'a', 'counter', 'full', 'of', 'cakes', '.']], [['two', 'cyclists', 'cross', 'the', 'street', 'on', 'a', 'very', '<unk>', 'california', 'day', '.']], [['a', 'group', 'of', 'musicians', 'are', 'recording', 'music', '.']], [['two', 'people', 'play', 'water', 'volleyball', 'in', 'a', 'pool', '.']], [['there', 'is', 'a', 'cafe', 'on', 'a', 'street', 'corner', 'with', 'an', '<unk>', 'painting', 'on', 'the', 'corner', 'of', 'its', 'building', '.']], [['one', 'boy', '<unk>', 'another', 'boy', 'up', 'on', 'his', 'back', '.']], [['a', 'woman', 'using', 'a', 'large', 'camera', 'while', 'standing', 'in', 'the', 'street', '.']], [['a', 'girl', 'is', 'wearing', 'a', 'large', 'blue', 'and', 'red', 'hat', '.']], [['a', 'woman', 'applies', 'face', 'paint', 'while', 'a', 'boy', 'with', 'a', 'mohawk', 'holds', 'a', 'mirror', '.']], [['<unk>', 'group', 'of', 'adults', 'at', 'a', 'gathering', ',', 'one', 'man', 'with', 'tattoos', 'is', 'throwing', 'something', '.']], [['a', 'man', 'in', 'a', 'blue', 'shirt', 'rides', 'a', 'unicycle', 'with', 'flaming', 'batons', 'in', 'hand', '.']], [['a', 'young', 'child', 'is', 'playing', 'in', 'a', 'water', 'sprinkler', '.']], [['four', 'children', 'are', 'playing', 'on', 'their', 'front', 'porch', 'while', 'their', 'father', 'looks', 'on', '.']], [['a', 'man', 'holds', 'an', 'infant', 'while', 'leaning', 'against', 'a', 'building', '.']], [['woman', 'with', 'two', 'medals', 'around', 'her', 'neck', ',', 'holding', 'up', 'seven', 'fingers', '.']], [['the', 'men', 'fight', 'during', 'the', 'game', '.']], [['two', 'girls', 'are', 'eating', 'cake', 'and', 'one', 'has', 'blue', '<unk>', 'on', 'her', 'face', '.']], [['a', 'woman', 'is', 'putting', 'a', 'helmet', 'on', 'a', 'small', 'girl', '.']], [['a', 'crowd', 'is', 'outside', 'watching', 'someone', 'in', 'the', 'center', 'of', 'them', '.']], [['a', 'boy', 'in', 'a', 'park', 'playing', 'with', 'two', 'orange', 'balls', '.']], [['a', 'young', 'blond', 'girl', 'standing', 'on', 'a', 'pillow', 'on', 'a', 'bed', 'smiling', 'with', 'her', 'eyes', 'closed', '.']], [['a', 'man', 'sings', 'into', 'a', 'microphone', 'while', 'holding', 'a', 'guitar', '.']], [['man', 'with', '<unk>', '<unk>', 'beads', 'around', 'his', 'neck', 'holding', 'pole', 'with', 'banner']], [['a', 'man', 'in', 'green', 'and', 'a', 'woman', 'in', 'black', 'stretching', '.']], [['a', 'man', 'is', 'taking', 'a', 'photo', 'of', 'another', 'man', 'and', 'his', 'two', 'dogs', 'on', 'some', 'grassy', 'hills']], [['a', 'man', 'doing', 'some', 'type', 'of', 'public', 'show', 'involving', 'fire', '.']], [['a', 'large', 'black', 'dog', 'runs', 'along', 'a', 'fence', 'in', 'the', 'grass', '.']], [['a', 'motocross', 'rider', 'is', 'slightly', 'airborne', 'on', 'a', 'competition', 'circuit', 'jump', '.']], [['there', 'is', 'a', 'woman', 'riding', 'a', 'bike', 'down', 'the', 'road', ',', 'and', 'she', '<unk>', 'a', 'wheelie', '.']], [['the', 'black', 'dog', 'jumps', 'above', 'the', 'water', 'towards', 'a', 'frisbee', 'floating', 'near', 'a', 'boat', '.']], [['one', 'man', 'in', 'a', 'black', 'jacket', 'and', 'black', 'hat', 'is', 'playing', 'a', 'trumpet', '.']], [['a', 'man', 'dressed', 'in', 'green', 'snowboarding', 'on', 'a', 'bench', '.']], [['an', 'indian', 'man', 'sits', 'outside', 'of', 'a', 'restaurant', 'at', 'a', 'table', '.']], [['three', 'men', 'in', 'suits', 'putting', 'their', 'hands', 'together', '.']], [['small', 'dog', 'in', 'costume', 'stands', 'on', 'hind', 'legs', 'to', 'reach', '<unk>', 'flowers', '.']], [['man', 'sliding', 'down', 'stair', '<unk>', 'on', 'a', 'bike', '.']], [['a', 'man', 'with', 'a', 'bucket', 'and', 'a', 'girl', 'in', 'a', 'hat', 'on', 'the', 'beach', '.']], [['people', 'walk', 'on', 'a', 'metropolitan', 'sidewalk', 'in', 'front', 'of', 'a', 'bar', 'and', 'grill', '.']], [['a', 'large', 'dog', 'is', 'jumping', 'in', 'a', 'fountain', 'while', 'a', 'man', 'in', 'a', 'black', 't', '-', 'shirt', 'and', 'vest', 'stands', 'nearby', '.']], [['a', 'man', 'on', 'a', 'boat', 'wearing', 'orange', 'pants', 'holding', 'a', 'rope', '.']], [['two', 'men', 'are', 'out', 'on', 'a', 'bright', ',', 'sunny', 'day', 'attempting', 'to', 'catch', 'some', 'fish', 'on', 'the', 'lake', '.']], [['a', 'man', 'stands', 'on', 'scaffolding', 'painting', 'a', 'wall', 'in', 'a', '<unk>', 'color', '.']], [['a', 'vendor', 'sits', 'in', 'the', 'middle', 'of', 'a', 'display', 'of', 'glasses', 'at', 'a', 'street', 'market', 'in', 'an', 'asian', 'country', '.']], [['two', 'people', 'with', 'white', 'shirts', 'walking', 'up', 'the', 'sidewalk', 'talking', 'on', 'their', '<unk>', '.']], [['the', 'little', 'girl', 'with', 'the', 'green', 'necklace', 'is', 'running', 'away', 'from', 'the', 'net', '.']], [['an', 'artist', 'is', 'painting', 'outside', '.']], [['two', 'asian', 'children', ',', 'a', 'boy', 'and', 'a', 'girl', ',', 'are', 'standing', 'on', 'the', 'floor', 'next', 'to', 'a', 'tree', '.']], [['people', 'in', 'line', 'getting', 'ready', 'to', 'board', 'a', 'bus', '.']], [['two', 'teams', ',', 'one', 'in', 'pink', 'and', 'one', 'in', 'white', ',', 'play', 'lacrosse', 'on', 'a', 'field', '.']], [['a', 'woman', 'wearing', 'a', 'yellow', 'helmet', 'is', 'using', 'a', '<unk>', '.']], [['a', 'black', 'dog', 'swimming', 'in', 'the', 'water', 'with', 'a', 'tennis', 'ball', 'in', 'his', 'mouth']], [['three', 'men', 'ride', 'in', 'a', 'dark', 'blue', 'car', '.']], [['with', 'a', 'tub', 'resting', 'on', 'its', '<unk>', 'roof', ',', 'flags', 'attached', ',', 'the', 'car', 'is', 'ready', 'to', 'take', 'off', 'for', 'the', 'rally', '.']], [['a', 'man', 'in', 'a', 'blue', 'shirt', 'blowing', 'a', 'trumpet', '.']], [['a', 'male', 'metal', 'worker', 'using', 'a', 'welding', 'tool', 'in', 'his', 'right', 'hand', ',', 'while', 'holding', 'the', 'mask', 'in', 'his', 'left', 'hand', ',', 'in', 'a', 'mid', '-', 'lower', 'or', 'lower', 'class', 'neighborhood', '.']], [['many', 'people', 'standing', 'by', 'a', 'fountain', 'underneath', 'a', 'blue', 'and', 'white', 'umbrella', '.']], [['woman', 'is', 'sewing', 'in', 'order', 'to', 'make', 'a', 'living', 'in', 'her', 'country', '.']], [['street', 'vendor', '<unk>', 'merchandise', 'on', 'the', 'table', '.']], [['three', 'men', 'stand', 'around', 'a', 'cart', 'near', 'some', 'motorcycles', '.']], [['a', 'bank', '<unk>', 'standing', 'at', 'a', 'counter', '.']], [['a', 'man', 'in', 'a', 'red', 'hoodie', 'with', 'a', 'white', 'apron', 'stands', 'in', 'front', 'of', 'a', 'mural', '.']], [['a', 'man', 'is', 'looking', 'at', 'one', 'of', 'his', 'four', 'flat', 'screen', 'computers', '.']], [['two', 'people', 'are', 'riding', 'their', 'bicycles', 'on', 'a', 'dirt', 'road']], [['a', 'young', 'dirty', 'faced', 'asian', 'girl', 'carrying', 'a', 'pillow', '.']], [['a', 'child', 'that', 'is', 'on', 'the', 'bank', 'of', 'a', 'lake', 'pointing', 'something', 'out', 'in', 'the', 'sky', '.']], [['a', 'pair', 'of', 'older', 'boys', 'play', 'guitars', '.']], [['a', 'man', 'in', 'a', 'white', 'shirt', 'and', 'khaki', 'pants', 'crouches', 'on', 'a', 'fallen', 'tree', 'trunk', '.']], [['two', 'boys', 'prepare', 'a', 'small', 'sailboat', 'as', 'two', 'girls', 'watch', 'them', 'from', 'the', 'beach', '.']], [['an', 'old', 'man', 'dressed', 'in', '<unk>', '-', 'evil', 'clothing', 'holds', 'an', 'axe', 'while', 'standing', 'on', 'a', 'hill', '.']], [['three', 'people', 'are', 'on', 'the', 'beach', 'kneeling', 'or', 'standing', 'near', 'the', 'water', '.']], [['a', 'man', 'in', 'a', 'yellow', 'top', 'stand', 'in', 'front', 'of', 'a', 'small', 'shack', ',', 'as', 'viewed', 'from', 'above', 'through', 'wire', 'mesh', '.']], [['a', 'child', 'is', '<unk>', 'about', 'to', 'bite', 'into', 'a', 'mushroom', '.']], [['two', 'women', 'wearing', 'pink', 't', '-', 'shirts', 'and', 'blue', 'jeans', 'converse', 'outside', 'clothing', 'store', '.']], [['a', 'mounted', 'policeman', 'on', 'a', 'dappled', 'horse', '<unk>', 'a', 'crowd', '.']], [['a', 'large', 'black', 'dog', 'is', 'digging', 'in', 'the', 'deep', 'snow', '.']], [['a', 'man', 'takes', 'a', 'photograph', 'of', 'a', 'lake', 'with', 'mountains', 'in', 'the', 'background', '.']], [['a', 'brunette', 'woman', 'in', 'a', '<unk>', \"'s\", 'egg', 'blue', 'apron', 'is', '<unk>', 'a', 'brown', 'animal', '.']], [['people', 'protesting', 'age', '<unk>', 'in', 'an', 'organized', 'street', 'rally', '.']], [['two', 'young', 'girls', 'playing', 'basketball', ',', 'one', 'in', 'white', 'attempting', 'a', '<unk>', 'while', 'the', 'other', 'in', 'red', 'defends', '.']], [['a', 'lady', 'in', 'a', 'bikini', 'doing', 'a', 'cartwheel', 'in', 'the', 'sand', '.']], [['a', 'man', 'with', 'a', 'brown', 'shirt', ',', 'gray', 'vest', 'and', 'black', 'cap', 'plays', 'an', 'electric', 'bass', '.']], [['a', 'woman', 'with', 'blond', '-', 'hair', 'is', 'drinking', 'out', 'of', 'a', 'glass', '.']], [['a', 'young', 'boy', 'laying', 'on', 'a', 'hospital', 'bed', 'with', 'his', 'leg', 'over', 'the', 'side', '.']], [['two', 'middle', '-', 'aged', 'men', 'in', 'a', 'room', 'with', 'music', 'equipment', 'speak', 'with', 'each', 'other', '.']], [['a', 'dog', \"'s\", 'mouth', 'opens', 'to', '<unk>', 'its', 'sharp', 'teeth', '.']], [['an', 'elderly', 'indian', 'man', 'and', 'woman', 'in', 'their', 'home', '.']], [['a', 'man', 'lays', 'down', 'on', 'a', 'snowbank', 'that', 'has', 'piled', 'up', 'high', 'around', 'the', 'front', 'door', 'of', 'his', 'house', '.']], [['young', 'girl', 'reaches', 'out', 'to', 'pet', 'a', 'deer', '.']], [['a', 'woman', 'with', 'black', 'hair', ',', 'wearing', 'a', 'black', 'top', 'and', 'a', 'red', 'skirt', 'is', 'shaking', 'her', 'fist', 'at', 'somebody', '.']], [['a', 'man', 'being', 'pushed', 'in', 'a', 'wheelchair', 'through', 'a', 'library', '.']], [['two', 'dogs', 'are', 'laying', 'in', 'the', 'snow', 'with', 'their', 'mouths', 'open', '.']], [['a', '<unk>', 'faced', 'woman', 'cleans', 'the', 'floor', 'of', 'her', 'living', 'room', '.']], [['two', 'hockey', 'players', 'ready', 'to', 'start', 'the', 'game', 'with', 'the', 'ref', 'by', 'them', 'about', 'to', 'drop', 'the', 'puck', '.']], [['runners', 'pass', 'a', 'check', 'point', 'in', 'the', 'city', '.']], [['group', 'of', 'people', 'dancing', 'at', 'a', 'club', 'or', 'party', 'in', 'a', 'costume', '.']], [['two', 'children', 'are', 'preparing', 'to', 'go', 'on', 'an', 'elephant', 'ride', '.']], [['a', 'young', 'adult', 'wearing', 'jeans', 'and', 'a', 'camouflage', 't', '-', 'shirt', 'playing', 'a', 'black', 'electric', 'guitar', '.']], [['a', 'person', 'dressed', 'in', 'a', 'yellow', '<unk>', 'costume', 'in', 'a', 'public', 'area', '.']], [['swimmers', 'in', 'a', 'lake', 'being', 'watched', 'by', 'a', 'boy', 'sitting', 'on', 'a', 'wall', '.']], [['a', 'crowd', 'of', 'people', 'at', 'a', 'city', 'festival', 'with', 'smoke', 'and', 'fireworks']], [['dog', 'on', 'leash', '<unk>', 'into', 'snow', 'in', 'rural', 'area', '.']], [['a', 'group', 'camps', 'in', 'a', 'desolate', 'area', '.']], [['a', 'cashier', 'with', 'a', 'black', '<unk>', 'sweatshirt', 'is', '<unk>', '<unk>', '.']], [['a', 'boy', 'getting', 'his', 'hair', '<unk>', 'off', 'by', 'another', 'boy', '.']], [['here', 'is', 'a', 'picture', 'of', 'a', 'teenager', 'trimming', 'his', 'brother', \"'s\", 'head', 'hair', '.']], [['tourist', 'taken', 'pictures', 'at', 'a', 'building', 'in', 'china', '.']], [['pottery', 'and', 'cars', 'are', 'shown', 'in', 'a', 'parking', 'lot', 'with', 'a', 'man', 'in', 'a', 'blue', 'outfit', 'is', 'leaning', 'against', 'the', 'front', 'of', 'his', 'car', '.']], [['two', 'men', 'behind', 'a', 'circular', 'bar', 'in', 'a', 'room', 'filled', 'with', 'people', '.']], [['men', 'and', 'women', 'are', 'waiting', 'for', 'a', 'train', 'to', 'stop', '.']], [['kids', 'conversing', 'and', 'learning', 'in', 'class', '.']], [['a', 'man', 'is', 'singing', 'into', 'a', 'microphone', 'while', 'his', 'band', 'plays', '.']], [['a', 'singer', 'performing', 'along', 'with', 'the', 'crowd', '.']], [['an', 'elderly', 'woman', 'wearing', 'a', 'blue', 'hat', 'is', 'sitting', 'on', 'the', 'sidewalk', 'chopping', 'something', 'yellow', 'on', 'a', 'board', 'beside', 'her', '.']], [['a', 'construction', 'worker', 'wearing', 'a', 'black', 'shirt', 'and', 'jeans', ',', 'sets', 'up', 'his', 'ladder', '.']], [['a', 'waitress', 'in', 'a', 'white', 't', '-', 'shirt', 'serving', '<unk>', 'at', 'a', 'restaurant', '.']], [['blond', '-', 'haired', 'man', 'wearing', 'a', 'black', 'fleece', 'jacket', 'sculpting', '.']], [['a', 'girl', 'competing', 'in', 'gymnastics', 'performs', 'a', '<unk>', 'routine', 'as', 'she', '<unk>', 'the', 'audience', '.']], [['an', 'artist', 'working', 'on', 'an', 'ice', 'sculpture']], [['a', 'man', 'in', 'a', 'blue', 'coat', 'is', '<unk>', 'on', 'his', 'sled', 'by', 'two', 'dogs', '.']], [['this', 'is', 'some', 'sort', 'of', 'band', 'or', 'symphony', 'practicing', '.']], [['two', 'people', 'playing', 'a', 'game', 'facing', 'each', 'other', '.']], [['several', 'girls', 'are', 'playing', 'with', 'flour', '.']], [['a', 'young', 'girl', 'is', 'playing', 'a', 'musical', 'instrument', 'and', 'singing', 'into', 'a', 'microphone', '.']], [['a', 'man', 'playing', 'mike', '<unk>', \"'s\", '<unk>', 'on', 'his', 'computer', '.']], [['a', 'man', 'that', 'looks', 'like', 'he', 'has', 'been', 'hit', 'is', 'lying', 'on', 'the', 'ground', 'in', 'front', 'of', 'some', 'junk', '.']], [['scene', 'of', 'a', 'person', 'shoveling', 'snow', 'citizens', 'walking', 'around', 'in', 'a', 'cold', 'winter', 'environment']], [['a', 'group', 'of', 'people', 'in', 'plaid', 'skirts', ',', 'black', 'vests', 'and', 'white', '-', 'collared', 'shirts', 'are', 'playing', 'drums', '.']], [['a', 'female', 'figure', 'skater', 'in', 'a', 'red', 'jacket', 'is', 'practicing', 'her', 'moves', '.']], [['a', 'group', 'of', 'people', 'running', 'a', 'marathon', 'in', 'the', 'winter', '.']], [['a', 'woman', 'and', 'a', 'boy', 'on', 'stage', 'laughing', 'with', 'a', 'tent', 'in', 'the', 'background', '.']], [['a', 'black', 'man', 'in', 'a', 'chef', \"'s\", 'coat', 'is', 'on', 'the', 'phone', 'while', 'two', 'other', 'men', 'in', 'aprons', 'laugh', '.']], [['a', 'young', 'girl', 'walking', 'along', 'side', 'a', 'small', 'creek']], [['a', '<unk>', 'male', 'in', 'a', 'brown', 'blazer', 'talking', 'to', 'an', 'audience', 'at', 'a', '<unk>', 'show', '.']], [['two', 'kids', 'dancing', 'at', 'a', 'dance', '<unk>', '.']], [['here', 'is', 'a', 'picture', 'of', 'a', 'woman', 'and', 'her', 'husband', 'and', 'child', 'taking', 'a', 'stroll', 'by', 'the', 'parking', 'lot', '.']], [['<unk>', '<unk>', 'is', 'performing', 'at', 'a', 'concert', '.']], [['a', 'man', 'and', 'woman', 'sit', 'on', 'a', 'bench', ',', 'watching', 'a', 'boat', 'go', 'by', '.']], [['a', 'city', 'street', 'has', 'many', 'signs', 'in', 'chinese', '.']], [['several', 'people', 'talking', 'and', 'spending', 'time', 'together', 'in', 'a', 'room', '.']], [['a', 'group', 'of', 'musicians', 'playing', 'music', 'in', 'the', 'street', '.']], [['this', 'man', 'seems', 'to', 'be', 'trying', 'to', 'make', 'some', 'kind', 'of', 'political', '<unk>', 'in', 'a', 'busy', 'city', '.']], [['two', 'children', 'playing', 'on', 'a', 'jungle', 'gym', '.']], [['a', 'man', 'is', 'sitting', 'on', 'door', 'steps', 'in', 'front', 'of', 'a', 'house', '.']], [['man', 'on', 'phone', 'in', 'business', 'suit', 'walking', 'down', 'a', 'busy', 'street', '.']], [['a', 'man', 'in', 'a', 'white', 'apron', 'and', 'hat', 'is', 'selling', 'meat', 'on', 'a', 'busy', 'street', '.']], [['a', 'woman', 'is', 'standing', 'and', 'wearing', 'a', 'green', 'and', 'yellow', 'scarf', '.']], [['an', 'elderly', 'asian', 'woman', 'is', 'wearing', 'a', 'beret', ',', 'sunglasses', ',', 'a', 'yellow', 'scarf', ',', 'and', 'a', 'plaid', 'jacket', '.']], [['people', 'are', 'seated', 'among', 'some', 'pillars', 'while', 'another', 'person', 'walks', 'by', '.']], [['a', 'man', 'and', 'woman', '<unk>', 'checking', 'on', 'a', 'very', 'large', 'tiger', 'laying', 'on', 'the', 'ground', '.']], [['two', 'people', 'looking', 'at', 'clothes', 'in', 'a', 'shop', 'window', '.']], [['a', 'man', 'with', 'a', 'backpack', 'is', 'sitting', 'in', 'a', 'dirt', 'road', 'and', 'pointing', 'toward', 'the', 'horizon', '.']], [['two', 'men', 'sit', 'around', 'a', 'shiny', 'grill', '.']], [['a', 'woman', 'in', 'a', 'yellow', 'jacket', 'following', 'two', 'other', 'women', '.']], [['a', 'man', 'in', 'a', 'coat', 'talking', 'on', 'his', 'phone', 'on', 'the', 'street', '.']], [['a', 'boy', 'wearing', 'a', 'green', 'shirt', 'on', 'a', 'bicycle', 'reflecting', 'off', 'a', 'store', 'window', '.']], [['a', 'little', 'girl', 'peering', 'over', 'a', 'blue', 'wall', '.']], [['a', 'young', 'man', 'is', 'getting', 'something', 'to', 'eat', 'at', 'a', '<unk>', 'concession', 'stand', '.']], [['an', 'old', 'man', 'sits', 'with', 'a', 'tray', 'in', 'his', 'lap', '.']], [['an', 'african', 'american', 'man', 'in', 'a', 'tan', 'hat', ',', 'suit', ',', 'and', 'sunglasses', 'is', 'standing', 'by', 'a', 'brick', 'wall', '.']], [['three', 'men', 'are', 'talking', 'in', 'front', 'of', 'old', 'stairs', 'on', 'the', 'street', '.']], [['black', 'people', 'are', 'at', 'the', 'grocery', 'store', 'to', 'get', 'there', 'food', '.']], [['a', 'man', 'and', 'two', 'children', 'crossing', 'a', 'street', '.']], [['man', 'in', 'a', 'suit', 'smoking', 'a', 'cigar', 'and', 'reading', 'a', 'paper', 'walking', 'on', 'the', 'street', '.']], [['a', 'group', 'of', 'people', 'playing', 'guitars', 'in', 'white', '.']], [['a', 'dog', 'is', 'jumping', 'in', 'the', 'air', 'to', 'catch', 'an', 'orange', 'frisbee', '.']], [['several', 'people', 'standing', 'on', 'a', 'subway', 'platform', '.']], [['the', 'three', 'children', 'are', 'in', 'a', 'cage', '.']], [['two', 'people', 'stand', 'in', 'front', 'of', 'a', 'building', '.']], [['an', 'elderly', 'woman', 'using', 'a', 'pink', 'umbrella', 'to', 'shade', 'herself', 'from', 'the', 'sun', '.']], [['a', 'baseball', 'player', 'kicks', 'up', 'dirt', 'sliding', 'in', 'front', 'of', 'a', 'catcher', '.']], [['two', 'women', 'in', 'blue', 'suits', 'are', 'sitting', 'on', 'the', 'cement', 'outdoors', 'with', 'concrete', 'and', 'long', 'shaped', 'glass', 'windows', 'behind', 'them', '.']], [['two', 'men', 'smoking', 'outside', 'of', 'a', 'park', '.']], [['a', 'man', 'in', 'a', 'blue', 'shirt', 'is', 'holding', 'a', 'sign', 'that', 'says', '\"', 'come', 'on', 'now', '<unk>', 'what', \"'s\", '<unk>', 'than', 'tea', '.', '\"']], [['a', 'woman', 'in', 'a', 'green', 'shirt', 'is', 'walking', 'down', 'a', 'crowded', 'street', '.']], [['two', 'women', 'sitting', 'in', 'silver', 'chairs', 'waiting', 'for', 'a', 'train', 'or', 'subway', 'in', 'an', 'indoor', 'station', '.']], [['a', 'crowd', '<unk>', 'near', 'the', 'start', 'of', 'a', 'marathon', '.']], [['a', 'young', 'boy', 'carries', 'a', 'green', ',', 'white', ',', 'and', 'red', 'flag', 'and', 'walks', 'next', 'to', 'a', 'woman', '.']], [['many', 'people', 'are', 'gathered', 'to', 'watch', 'two', 'men', 'who', 'are', 'an', 'instrument', 'and', 'holding', 'a', 'sign', '.']], [['a', 'man', 'in', 'a', 'black', 'and', 'white', 'striped', 'shirt', 'photographing', 'a', 'woman', 'by', 'a', 'fountain', '.']], [['two', 'people', 'sitting', 'on', 'a', 'cement', 'bench', 'chatting', 'over', 'lunch', '.']], [['a', 'military', 'man', 'holding', 'a', 'camera', ',', 'showing', 'a', 'child', 'the', 'film', 'on', 'the', 'camera', '.']], [['a', 'man', 'is', 'pushing', 'chairs', 'on', 'a', 'busy', 'street', '.']], [['a', 'man', 'holding', 'a', 'microphone', 'speaking', 'to', 'a', 'group', 'of', 'people', 'outside', '.']], [['two', 'men', 'converse', 'near', 'a', 'wall', 'with', 'graffiti', 'on', 'it', '.']], [['a', 'girl', 'with', 'face', 'paint', 'and', 'an', 'orange', 'sweater', 'stands', 'with', 'her', 'party', '.']], [['a', 'person', 'is', 'standing', 'next', 'to', 'a', 'wooden', 'fence', 'with', '<unk>', 'trees', 'nearby', '.']], [['a', 'fit', 'young', 'woman', 'is', 'kickboxing', 'with', 'a', 'red', 'punching', 'bag', 'at', 'a', 'gym', '.']], [['lemonade', '<unk>', 'worker', 'setting', 'up', 'shop', 'for', 'the', 'day', '.']], [['a', 'man', 'sits', 'at', 'brightly', 'colored', 'green', 'and', 'blue', 'booth', 'with', '<unk>', 'behind', 'him', 'on', 'the', 'street', '.']], [['a', 'youth', 'football', 'game', '<unk>', 'three', 'youths', 'are', 'fighting', 'for', 'a', 'football', '.']], [['a', 'man', 'holds', 'a', 'child', 'on', 'his', 'shoulders', 'as', 'a', 'people', 'walk', 'around', 'him', '.']], [['a', 'man', 'in', 'an', 'apron', 'standing', 'in', 'front', 'of', 'food', 'beneath', 'a', 'menu', '.']], [['street', 'scene', 'of', 'blond', 'woman', 'in', 'gold', 'coat', 'and', 'pink', 'mini', '-', 'skirt', 'in', 'front', 'of', 'a', 'rear', '-', 'facing', 'police', 'motorcycle', '.']], [['several', 'performers', 'dressed', 'in', 'white', 'clothing', 'and', 'maroon', 'hats', 'are', 'lined', 'up', 'facing', 'each', 'other', '.']], [['a', 'white', 'blond', 'lady', 'wearing', 'a', 'blue', 'bag', 'riding', 'a', 'scooter', '.']], [['a', 'woman', 'sitting', 'on', 'a', 'public', 'bench', '.']], [['a', 'group', 'of', 'people', 'are', 'sitting', 'at', 'a', 'table', 'outside', 'having', 'drinks', 'and', 'talking', '.']], [['a', 'small', 'asian', 'girl', 'runs', 'into', 'focus', 'down', 'a', 'brick', 'street', '.']], [['a', 'woman', 'and', 'four', 'children', 'are', 'crossing', 'a', 'busy', 'street', '.']], [['women', 'in', 'ethnic', 'clothing', 'sing', 'together', '.']], [['a', 'woman', 'talks', 'to', 'a', 'young', 'girl', 'over', 'a', 'counter', '.']], [['a', 'woman', 'is', 'barbecuing', 'tasty', 'looking', 'food', 'in', 'the', 'park', '.']], [['cop', 'wrestle', 'one', 'man', 'with', 'his', 'hand', 'sticking', 'up', 'in', 'the', 'air', 'as', 'other', '<unk>', 'watch', '.']], [['a', 'man', 'in', 'a', 'black', 'shirt', 'is', 'singing', 'into', 'a', 'microphone', '.']], [['two', 'young', 'men', 'in', 'blue', 'jeans', 'and', 'sneakers', 'cross', 'an', 'urban', 'street', '.']], [['two', 'girls', 'playing', 'on', 'a', 'tree', 'with', 'their', 'dog', '.']], [['there', 'is', 'a', 'young', 'woman', 'with', 'a', 'bag', 'smiling', 'in', 'front', 'of', 'a', 'building', '.']], [['a', 'man', 'and', 'woman', 'are', 'walking', 'down', 'a', 'waterside', 'path', 'toward', 'a', 'suspension', 'bridge', '.']], [['three', 'women', 'run', 'barefoot', 'on', 'the', 'sand', 'towards', 'the', 'water', '.']], [['a', 'baby', 'sitting', 'on', 'a', 'blue', 'convertible', '.']], [['two', 'men', 'are', 'looking', 'at', 'the', 'screen', 'of', 'a', 'laptop', 'while', 'one', 'types', 'and', 'one', 'points', 'at', 'the', 'screen', '.']], [['a', 'colorful', 'parade', 'led', 'by', 'a', 'man', 'carrying', 'a', 'red', 'flag', '.']], [['a', 'man', 'in', 'a', 'gray', 'hat', 'and', 'tank', 'top', 'with', 'black', 'shorts', 'doing', 'a', 'handstand', '.']], [['the', 'women', 'is', 'holding', 'the', 'boy', 'while', 'looking', 'across', 'the', 'street', '.']], [['the', 'image', 'shows', 'the', 'reflection', 'of', 'a', 'man', 'and', 'woman', 'located', 'at', 'a', 'terminal', 'of', 'some', 'sort', '.']], [['a', 'man', 'picks', 'up', 'a', '<unk>', 'wet', 'woman', 'happily', '.']], [['the', 'man', 'in', 'the', 'white', 'belt', 'and', 'sunglasses', 'is', 'holding', 'the', 'girl', \"'s\", 'hand', '.']], [['a', 'man', 'is', 'walking', 'down', 'the', 'sidewalk', 'next', 'to', 'a', 'street', '.']], [['a', 'man', 'wearing', 'olive', '<unk>', 'clothing', 'is', 'holding', 'himself', 'up', 'off', 'the', 'ground', 'with', 'his', 'hands', '.']], [['photographers', 'at', 'a', 'site', 'making', 'a', '<unk>', '.']], [['man', 'and', 'woman', 'in', 'black', 'stand', 'close', 'together', 'on', 'the', 'street', '.']], [['people', 'attending', 'a', '<unk>', '<unk>', '<unk>', 'challenge', '.']], [['the', 'girl', 'and', 'boy', 'are', 'kissing', 'whilst', 'sitting', 'on', 'a', 'wooden', 'bench', '.']], [['a', 'man', 'wearing', 'goggles', 'exits', 'a', 'pool', 'by', 'the', 'ladder', '.']], [['there', 'is', 'a', 'young', 'woman', 'dressed', 'in', 'green', 'and', 'red', 'with', 'a', 'mexican', 'flag', 'face', '-', 'painted', 'on', 'her', 'cheek', '.']], [['a', 'helmeted', 'biker', 'flying', 'off', 'a', 'ramp', 'in', 'the', 'woods', '.']], [['two', 'women', 'dressed', 'in', 'all', 'white', 'and', 'wearing', 'high', 'heels', 'are', 'walking', 'on', 'the', 'street', '.']], [['an', 'indian', 'man', 'walks', 'past', 'a', 'temple', 'on', 'his', 'way', 'to', 'pray', '.']], [['a', 'well', 'built', 'black', 'man', 'stands', 'in', 'the', 'subway', ',', 'listening', 'to', 'headphones', '.']], [['two', 'men', 'sitting', 'outside', 'having', 'a', 'conversation', 'by', 'a', 'free', '<unk>', 'sign', '.']], [['a', 'woman', 'in', 'a', 'red', 'dress', 'with', 'red', '-', 'hair', 'standing', 'before', 'a', 'bright', ',', 'multicolored', 'home', '.']], [['a', 'woman', 'is', 'rollerblading', 'in', 'a', 'skimpy', 'uniform', '.']], [['a', 'woman', 'in', 'a', 'black', 'dress', 'and', 'fluffy', 'earmuffs', 'walking', 'down', 'the', 'street', '.']], [['there', 'are', 'many', 'people', 'in', 'a', 'building', 'with', 'some', 'people', 'cooking', 'food', '.']], [['people', 'trying', 'out', 'foods', 'from', 'a', 'local', 'bakery', 'at', 'a', 'local', '<unk>', '.']], [['a', 'view', 'of', 'a', 'street', 'lined', 'with', 'large', ',', 'clean', 'buildings', '.']], [['a', 'girl', 'with', 'blue', 'dreadlocks', 'is', 'sitting', 'on', 'the', 'side', 'of', 'the', 'road', '.']], [['a', 'man', 'in', 'a', '<unk>', '<unk>', 'jersey', 'is', '<unk>', 'with', 'his', 'friends', '.']], [['a', 'woman', 'being', 'entertained', 'by', 'a', 'clown', 'at', 'a', 'local', 'fair', '.']], [['a', 'man', 'in', 'a', 'long', 'blue', 'cape', 'walks', 'into', 'an', 'old', 'stone', 'building', '.']], [['a', 'lady', 'in', 'a', 'bright', 'pink', 'shirt', 'is', 'pulling', 'a', 'hot', 'food', 'cart', '.']], [['a', 'person', 'with', 'long', 'blue', 'hair', 'standing', 'behind', 'a', 'large', 'crowd', 'of', 'people', '.']], [['a', 'group', 'of', 'beach', '-', 'goers', 'are', 'holding', 'hands', 'forming', 'a', 'line', 'facing', 'the', 'water', ',', 'down', 'the', 'beach', '.']], [['a', 'man', 'in', 'a', 'white', 'shirt', 'plays', 'the', 'violin', 'on', 'the', 'streets', '.']], [['a', 'lot', 'of', 'people', 'walking', 'on', 'a', 'dirt', 'road', ',', 'wearing', 'summer', 'clothes', 'on', 'a', 'sunny', 'day', '.']], [['two', 'people', 'in', 'full', 'body', 'solid', 'color', 'spandex', 'suits', 'sit', 'in', 'chairs', 'in', 'an', 'audience', '.']], [['a', 'black', 'man', ',', 'wearing', 'a', 'cap', ',', 'is', 'sitting', 'in', 'a', 'bus', '.']], [['a', 'gentleman', 'coming', 'out', 'of', 'a', 'laundromat', '.']], [['a', 'man', 'in', 'a', 'suit', 'and', 'tie', 'in', 'a', 'fancy', 'building', 'is', 'speaking', 'at', 'the', 'podium', '.']], [['the', 'man', 'has', 'fallen', 'asleep', 'on', 'the', 'couch', '.']], [['five', 'men', 'all', 'of', 'whom', 'are', 'wearing', 'white', 'coats', 'are', 'standing', 'next', 'to', '<unk>', 'in', 'an', 'enclosed', 'area']], [['two', '<unk>', ',', 'one', 'red', 'and', 'one', 'white', ',', 'are', 'making', 'a', 'big', 'splash', 'in', 'the', 'water', '.']], [['a', 'group', 'of', 'four', 'people', 'are', 'being', 'photographed', 'from', 'a', 'car', '.']], [['people', 'on', 'the', 'street', 'at', 'a', 'block', 'party', '.']], [['two', 'girls', 'are', 'wet', 'and', 'behind', 'them', 'is', 'a', 'woman', 'holding', 'an', 'open', 'umbrella', '.']], [['a', 'woman', 'in', 'white', 'is', 'holding', 'a', 'bouquet', 'of', 'roses', '.']], [['a', 'young', 'woman', 'in', '\"', 'street', 'clothes', '\"', 'and', 'boots', 'by', 'a', 'lake', 'performing', 'a', 'ballet', 'move', '.']], [['a', 'man', 'and', 'woman', 'are', 'walking', 'up', 'a', 'stone', 'staircase', ',', 'looking', 'at', 'a', 'video', 'camera', '.']], [['four', 'men', 'dressed', 'in', 't', '-', 'shirts', 'and', 'shorts', 'are', 'looking', 'out', 'a', 'window', '<unk>', 'the', 'street', 'below', '.']], [['several', 'men', 'standing', 'on', 'a', 'parade', 'float', 'traveling', 'through', 'a', 'street', 'crowded', 'with', 'people', '.']], [['an', 'unkempt', 'frowning', 'old', 'man', 'with', 'white', 'hair', 'is', 'sitting', 'in', 'front', 'of', 'a', 'chain', '-', '<unk>', 'fence', '.']], [['shirtless', 'male', '<unk>', 'doing', 'trick', 'at', 'a', 'skate', 'park', '.']], [['a', 'man', 'wearing', 'headphones', 'walks', 'past', 'a', 'wall', 'with', 'red', 'and', 'purple', 'graffiti', '.']], [['two', 'men', 'wearing', 'sombrero', \"'s\", 'in', 'new', 'york', 'city', '.']], [['a', 'lady', 'in', 'a', 'purple', 'top', 'and', 'a', 'white', 'skirt', 'is', 'watching', 'a', 'marching', 'parade', '.']], [['a', 'person', 'rides', 'a', 'motorbike', 'down', 'a', 'dirt', 'hill', '.']], [['a', 'woman', 'in', 'yellow', 'with', 'a', 'stroller', ',', 'and', 'a', 'man', 'in', 'a', 'blue', 'shirt', 'with', 'a', 'backpack', 'are', 'walking', 'on', 'a', 'busy', 'city', 'block', '.']], [['a', 'man', 'in', 'his', 'living', 'room', 'ponders', 'packing', 'for', 'a', 'trip', '.']], [['an', 'african', '-', 'american', 'woman', 'sits', 'at', 'a', 'brown', 'table', ',', 'wearing', 'a', 'purple', 'dress', ',', 'pink', 'shoes', ',', 'and', 'black', 'sunglasses', '.']], [['a', 'man', '<unk>', 'in', 'a', 'chair', 'on', 'a', 'city', 'sidewalk', 'girl', 'watching', '.']], [['two', 'men', ',', 'one', 'man', 'selling', 'fruit', 'the', 'other', 'inspecting', 'the', 'fruit', 'and', 'conversing', 'with', 'the', '<unk>', '.']], [['a', 'man', 'and', 'a', 'woman', 'hug', 'on', 'a', 'street', '.']], [['many', 'people', 'in', 'a', 'stadium', 'dressed', 'in', 'white', 'are', 'conversing', 'with', 'each', 'other', '.']], [['many', 'people', 'have', 'gathered', 'to', 'look', 'at', 'something', 'that', 'is', 'not', 'in', 'the', 'photo', '.']], [['a', 'couple', 'sits', 'on', 'a', 'bench', 'talking', ',', 'while', 'a', 'woman', 'walks', 'a', 'dog', 'in', 'the', 'background', '.']], [['two', 'women', 'in', 'spotted', 'dresses', 'walking', 'down', 'a', 'sidewalk', '.']], [['a', 'group', 'of', 'girls', 'are', 'playing', 'in', 'a', 'water', 'fountain', 'in', 'the', 'sun', '.']], [['people', '<unk>', 'and', 'gardening', 'the', 'areas', 'around', 'the', 'walkway', '.']], [['a', 'balding', 'man', 'in', 'red', 'sunglasses', 'wearing', 'a', 'green', 'shirt', 'standing', 'in', 'front', 'of', 'a', 'building', '.']], [['a', 'barefoot', 'boy', 'with', 'a', 'blue', 'and', 'white', 'striped', 'towel', 'is', 'standing', 'on', 'the', 'beach', '.']], [['a', 'couple', 'and', 'two', 'girls', 'are', 'looking', 'over', 'a', 'clear', 'railing', '.']], [['people', 'in', 'a', 'produce', 'store', 'picking', 'produce', 'to', 'buy']], [['a', 'tattoo', 'artist', 'applying', 'tattoo', 'ink', 'to', 'the', 'skin', '.']], [['a', 'woman', 'standing', 'next', 'to', 'two', 'people', 'is', 'pointing', 'to', 'the', 'sky', '.']], [['a', 'couple', 'walks', 'down', 'an', '<unk>', 'at', 'a', 'store', 'selling', 'art', 'and', '<unk>', 'books', '.']], [['a', 'man', 'with', 'a', 'name', 'tag', 'on', 'is', 'sitting', 'in', 'a', 'chair', '.']], [['a', 'man', 'off', 'in', 'the', 'distance', 'by', 'a', 'buddhist', 'temple', '.']], [['a', 'man', 'is', 'balancing', 'a', 'metal', 'ball', 'on', 'his', 'arm', '.']], [['a', '<unk>', 'male', 'in', 'a', 'white', 't', '-', 'shirt', 'and', 'a', 'black', 'hat', 'sitting', 'on', 'the', 'curb', 'texting', '.']], [['a', 'boy', 'in', 'a', 'black', 'shirt', 'carries', 'a', 'blue', 'bucket', 'while', 'walking', 'with', 'men', 'dressed', 'in', 'white', '.']], [['a', 'young', 'dark', '-', 'haired', 'woman', 'with', 'red', 'sun', 'visor', 'holding', 'an', 'open', 'white', 'umbrella', 'amidst', 'a', 'crowd', 'of', 'people']], [['a', 'man', 'holding', 'a', 'small', 'child', 'who', 'is', 'wearing', 'a', 'backpack', '.']], [['a', 'young', 'man', 'sets', 'up', 'pool', 'balls', ',', 'on', 'a', 'purple', '<unk>', '<unk>', '.']], [['girls', 'sitting', 'with', 'their', 'hands', 'on', 'their', 'laps']], [['a', 'girl', 'in', 'a', 'black', 'tank', 'with', 'cargo', 'shorts', 'to', 'what', 'appears', 'to', 'be', 'dancing', 'with', 'several', 'people', 'around', '.']], [['a', 'boy', 'and', 'girl', 'in', 'black', 'jumpsuits', 'stand', 'facing', 'a', 'girl', 'in', 'a', 'pink', 'jacket', ',', 'with', 'adults', 'in', 'the', 'background', '.']], [['a', 'man', 'and', 'woman', 'pushing', 'strollers', 'are', 'walking', 'by', 'some', 'people', 'who', 'are', 'selling', 'items', 'in', 'tents', '.']], [['a', 'woman', 'in', 'striped', 'tights', 'is', 'being', '<unk>', 'with', 'strings', '.']], [['a', 'construction', 'worker', 'in', 'an', 'orange', 'vest', 'lays', 'down', '<unk>', '.']], [['an', 'asian', 'woman', 'sitting', 'outside', 'an', 'outdoor', 'market', 'stall', '.']], [['a', 'man', 'lounges', 'in', 'his', 'room', 'without', 'eating', 'for', '<unk>', '.']], [['a', 'trailer', 'drives', 'down', 'a', 'red', 'brick', 'road', '.']], [['a', 'young', 'woman', 'with', 'brown', 'hair', 'and', 'tank', 'top', 'is', 'taking', 'a', 'picture', 'with', 'a', 'camera', '.']], [['a', 'person', 'laying', 'on', 'a', 'bench', 'in', 'front', 'of', 'a', 'water', '<unk>', '.']], [['a', 'smiling', 'young', 'man', 'walking', 'on', 'next', 'to', 'the', 'beach', 'wearing', 'a', 'baseball', 'cap', ',', 'blue', 't', '-', 'shirt', 'and', 'jeans', '.']], [['a', 'group', 'of', 'people', 'waving', 'to', 'a', 'person', 'on', 'a', 'balcony', '.']], [['a', 'uniformed', 'man', 'in', 'the', 'army', 'is', 'training', 'a', 'german', 'shepherd', 'using', 'an', 'arm', 'guard', '.']], [['a', 'kid', 'on', 'skating', 'ramp', 'practicing', 'cool', 'moves', '.']], [['some', 'men', 'appear', 'to', 'be', 'discussing', 'something', 'on', 'a', 'boat', 'or', 'ship', '.']], [['a', 'man', 'wearing', 'an', '<unk>', 'cap', 'and', 'goggles', 'sits', 'in', 'the', 'road', '.']], [['people', 'are', 'crossing', 'a', 'tree', 'lined', 'street', 'in', 'front', 'of', 'a', 'building', '.']], [['a', 'man', 'wearing', 'a', 'gray', 'shirt', 'resting', 'his', 'head', 'on', 'a', 'table', '.']], [['a', 'man', 'in', 'white', 'shirt', 'and', 'dark', 'shorts', 'is', 'working', 'outside', '.']], [['a', 'woman', 'in', 'black', 'pants', 'is', 'looking', 'at', 'her', 'cellphone', '.']], [['a', 'young', 'woman', 'in', 'a', 'pink', 'shirt', 'attempting', 'to', 'rope', 'a', 'calf', 'at', 'the', 'rodeo', '.']], [['a', 'family', 'is', 'standing', 'outdoors', 'on', 'a', 'cloudy', 'day', '.']], [['a', 'very', 'young', 'child', 'is', 'sitting', 'in', 'the', 'sink', 'with', 'paint', 'on', 'his', 'body', 'and', 'face', 'and', 'is', 'playing', 'with', 'the', 'kitchen', '<unk>', '.']], [['kids', 'being', '<unk>', 'around', 'in', 'a', 'glass', 'spinner', '.']], [['a', 'man', 'and', 'a', 'woman', 'are', 'holding', 'up', 'signs', 'at', 'a', 'protest', '.']], [['a', 'woman', 'working', 'on', 'her', 'deck', 'on', 'the', '<unk>', '.']], [['an', 'elderly', 'man', ',', 'wearing', 'navy', 'blue', ',', 'is', 'sitting', 'on', 'a', 'bench', 'along', 'the', 'street', '.']], [['a', 'woman', 'is', 'taking', 'a', 'picture', 'with', 'her', 'camera', '.']], [['an', 'older', 'male', 'in', 'blue', 'jeans', 'and', 'brown', 'coat', 'is', 'resting', 'against', 'an', 'orange', 'building', '.']], [['a', 'man', ',', 'hand', 'on', 'head', ',', '<unk>', 'a', 'bank', 'of', 'america', 'advertisement', '.']], [['two', 'women', 'sitting', 'on', 'a', 'bench', 'at', 'night', 'in', 'front', 'of', 'a', 'store']], [['a', 'man', 'in', 'a', 'white', 'shirt', 'is', 'sitting', 'on', 'a', 'crate', '.']], [['an', 'older', 'man', 'with', 'tattoos', 'and', 'biker', '<unk>', '<unk>', 'a', 'moment', 'on', 'a', 'city', 'street', '.']], [['a', 'man', 'sits', 'alone', 'fishing', 'along', 'the', 'shoreline', '.']], [['an', 'older', 'man', 'is', 'sitting', 'outside', 'on', 'a', 'bench', 'in', 'front', 'a', 'large', 'banner', 'that', 'says', ',', '\"', '<unk>', '<unk>', '<unk>', '<unk>', '.', '\"']], [['a', 'man', 'on', 'a', 'bike', 'in', 'a', 'gray', 'jacket', 'carries', 'foliage', '.']], [['a', 'boy', 'with', 'glasses', 'wearing', 'a', 'bright', 'yellow', 'shirt', 'is', 'standing', 'in', 'a', 'parking', 'lot', '.']], [['two', 'men', 'walking', 'down', 'a', 'dirt', 'path', '.']], [['a', 'mother', 'in', 'a', 'blue', 'beret', 'and', 'blue', 'shoes', 'with', 'her', 'two', 'sons', '.']], [['two', 'dogs', 'playing', 'with', 'a', 'blue', 'and', 'green', 'ball', '.']], [['a', 'man', 'wearing', 'a', 'bright', ',', 'multi', '-', 'color', 'helmet', 'is', 'sitting', 'on', 'a', 'motorcycle', '.']], [['a', 'man', 'crouches', 'in', 'front', 'of', 'a', 'yellow', 'wall', '.']], [['looks', 'like', 'a', 'farmers', 'market', ',', 'a', 'few', 'tables', 'with', 'various', 'items', 'displayed', '.']], [['a', 'blond', 'boy', 'in', 'a', 'blue', 'shirt', 'is', 'sitting', 'with', 'a', 'woman', 'wearing', 'glasses', '.']], [['a', 'man', 'in', 'a', '<unk>', 'white', 'shirt', 'gazes', 'into', 'the', 'woman', \"'s\", 'eyes', 'while', 'holding', 'on', 'to', 'the', 'back', 'of', 'her', 'black', 'and', 'pink', 'dress', '.']], [['people', 'play', 'in', 'a', 'fountain', 'at', 'twilight', '.']], [['four', 'boys', 'posing', 'while', 'one', 'boy', 'sets', 'his', 'drink', 'down', '.']], [['on', 'a', 'busy', 'street', 'a', 'lady', 'carries', 'goods', 'on', 'her', 'head', '.']], [['a', 'street', 'performer', 'in', 'an', 'orange', 'jumpsuit', 'rides', 'a', 'tall', 'unicycle', 'as', 'a', 'crowd', 'watches']], [['a', 'person', 'sitting', 'on', 'chair', 'in', 'front', 'of', 'a', 'crowd', '.']], [['a', 'male', 'is', 'waiting', 'for', 'the', 'train', 'to', 'arrive', 'at', 'the', 'platform', '.']], [['three', 'white', 'men', 'in', 't', '-', 'shirt', 'jump', 'into', 'the', 'air', '.']], [['a', 'singer', 'doing', 'a', 'stage', 'dive', 'into', 'the', 'crowd', '.']], [['a', 'scuba', 'diving', 'class', 'taking', 'a', 'picture', 'during', 'class', 'time', '.']], [['a', 'woman', 'in', 'a', 'striped', 'shirt', '<unk>', 'her', 'arms', 'while', 'standing', 'in', 'a', 'grocery', 'store', '.']], [['a', '<unk>', 'car', 'with', 'many', 'firefighters', 'cutting', 'into', 'the', 'car', '.']], [['several', 'people', 'wait', 'to', 'checkout', 'inside', 'a', 'store', 'with', 'a', 'warehouse', 'looking', 'ceiling', '.']], [['2', 'girls', 'playing', 'volleyball', ',', 'one', 'striking', 'the', 'ball', '.']], [['an', 'older', 'man', 'is', 'pouring', 'something', 'out', 'of', 'a', 'bag', 'into', 'the', 'water', '.']], [['six', 'people', 'are', 'in', 'a', 'gymnasium', 'working', 'on', 'repairing', 'some', 'bicycles', '.']], [['two', 'young', 'asian', 'boys', '<unk>', 'with', 'each', 'other', '.']], [['a', 'woman', 'prepares', 'ingredients', 'for', 'a', 'bowl', 'of', 'soup', '.']], [['two', 'men', 'wearing', 'shorts', 'are', 'working', 'on', 'a', 'blue', 'bike', '.']], [['a', 'man', 'and', 'woman', 'taking', 'a', 'nap', 'on', 'a', 'makeshift', '<unk>', '.']], [['there', 'is', 'a', 'man', 'wrapped', 'in', 'a', 'blanket', 'of', 'some', 'sort', 'sliding', 'down', 'a', 'hill', 'that', 'is', 'covered', 'in', 'snow', '.']], [['a', 'man', 'and', 'woman', 'enjoying', 'dinner', 'at', 'a', 'party', '.']], [['a', '<unk>', 'guard', 'soldier', 'leading', 'a', 'group', 'of', 'other', '<unk>', 'guard', 'soldiers', 'singing', 'the', '<unk>', '<unk>', '.']], [['two', 'youths', 'walk', 'down', 'an', 'inclined', 'street', '.']], [['a', 'woman', 'in', 'a', 'restaurant', 'is', 'drinking', 'out', 'of', 'a', 'coconut', ',', 'using', 'a', 'straw', '.']], [['a', 'woman', 'wearing', 'a', 'blue', 'uniform', 'stands', 'and', 'looks', 'down', '.']], [['one', 'man', 'in', 'shorts', 'is', 'talking', 'to', 'another', 'man', 'in', 'blue', 'jeans', 'in', 'front', 'of', 'a', 'sink', '.']], [['a', 'man', 'feeding', 'a', 'baby', 'in', 'a', 'highchair', '.']], [['a', 'young', 'helmeted', 'biker', 'in', 'blue', 'takes', 'to', 'the', 'air', 'while', 'going', 'over', 'small', 'hills', '.']], [['a', 'little', 'baby', 'in', 'a', 'pink', 'hat', 'lying', 'naked', 'and', 'sleeping', '.']], [['two', 'children', 'on', 'their', '<unk>', 'lay', 'on', 'the', 'ground', 'under', 'a', 'pipe', '.']], [['two', 'people', 'are', 'talking', 'near', 'a', 'red', 'phone', 'booth', 'while', 'construction', 'workers', 'rest', 'nearby', '.']], [['a', 'native', 'woman', 'is', 'working', 'on', 'a', 'craft', 'project', '.']], [['children', 'chasing', 'the', 'ball', 'in', 'a', 'soccer', 'game', '.']], [['two', 'children', 'jumping', 'on', 'a', 'screened', 'in', 'blue', 'and', 'black', 'trampoline', 'while', 'outside', 'surrounded', 'by', 'trees', '.']], [['two', 'dogs', 'run', 'in', 'a', 'field', 'looking', 'at', 'an', 'unseen', 'frisbee', '.']], [['a', 'drummer', 'and', 'guitar', 'player', 'play', 'a', 'show', 'in', 'a', 'dark', 'area', '.']], [['a', 'trio', 'of', 'people', 'are', 'hiking', 'throughout', 'a', 'heavily', '<unk>', 'path', '.']], [['a', 'group', 'of', 'people', 'are', 'near', 'a', 'small', 'river', 'in', 'the', 'middle', 'of', 'a', 'city', '.']], [['a', 'woman', 'peeks', 'into', 'a', 'telescope', 'in', 'the', 'woods', '.']], [['a', 'little', 'blond', 'girl', 'with', 'a', 'polka', 'dot', 'shirt', 'is', 'giving', 'a', 'stuffed', 'animal', 'a', '\"', 'bath', '\"', 'in', 'a', 'sink', '.']], [['a', 'shaggy', 'young', 'male', 'with', 'a', 'nose', 'ring', 'brushes', 'his', 'teeth', '.']], [['a', 'snow', 'skier', 'flies', 'through', 'the', 'air', ',', 'while', 'other', 'skiers', 'going', 'up', 'the', 'tow', 'rope', 'look', 'on', '.']], [['three', 'girls', 'are', 'horseback', 'riding', 'with', 'the', 'focus', 'on', 'the', '<unk>', 'girl', '.']], [['heavyset', 'woman', 'blowing', 'her', 'hair', 'with', 'a', 'hair', 'dryer', 'smiling', 'all', 'happy']], [['a', 'chef', 'working', 'in', 'a', 'kitchen', 'using', 'a', 'knife', '.']], [['a', 'man', 'moving', 'flowers', 'while', 'a', 'woman', 'makes', 'a', 'gesture', 'at', 'him', '.']], [['a', 'woman', 'singing', 'into', 'a', 'microphone', 'while', 'a', 'man', 'plays', 'drums', 'in', 'the', 'background', '.']], [['the', 'man', 'wearing', 'the', 'cap', 'is', 'handing', 'a', 'freshly', 'caught', 'fish', 'to', 'the', 'boy', 'in', 'the', 'purple', 'hat', '.']], [['a', 'worker', '<unk>', 'to', 'a', 'tree', '.']], [['several', 'people', 'standing', 'around', 'a', 'bowl', ',', 'in', 'which', 'one', 'man', 'is', '<unk>', 'a', 'brown', 'object', '.']], [['a', 'rollerblading', 'monk', 'with', 'some', 'nice', 'sunglasses', '<unk>', 'before', 'doing', 'some', '<unk>', 'tricks', '.']], [['a', 'woman', 'wearing', 'sunglasses', 'and', 'a', 'blue', 'shirt', ',', 'selling', 'sea', '<unk>', ',', 'looks', 'at', 'an', 'older', 'man', 'wearing', 'a', 'black', 'shirt', 'and', 'a', 'cap', '.']], [['an', 'old', 'man', 'sweeps', 'the', 'floor', 'as', 'a', 'lady', 'walks', 'away', 'from', 'the', 'camera', '.']], [['a', 'man', 'with', 'dreadlocks', 'is', 'playing', 'with', 'the', 'hair', 'of', 'a', 'woman', 'who', 'is', 'sitting', 'on', 'a', 'chair', 'on', 'a', 'cobblestone', 'street', '.']], [['a', 'man', 'is', 'working', 'at', 'a', 'construction', 'site', '.']], [['a', 'man', 'is', 'in', 'the', 'middle', 'of', 'hitting', 'a', 'red', ',', 'white', 'and', 'blue', 'volleyball', '.']], [['a', 'man', 'stands', 'in', 'a', 'mobile', 'food', 'stand', ',', 'looking', 'out', 'the', 'half', '-', 'door', '.']], [['a', 'baseball', 'player', 'with', 'a', 'red', 'helmet', 'and', 'white', 'pants', 'is', 'tagged', 'by', 'the', 'catcher', 'while', 'running', 'to', 'home', 'base', '.']], [['a', 'man', 'in', 'an', 'orange', 'robe', 'sweeping', 'outside', '.']], [['man', 'wearing', 'an', 'purple', 'shirt', 'working', 'in', 'a', '<unk>', 'lab', '.']], [['a', 'man', 'is', 'leading', 'two', 'small', '<unk>', 'on', 'a', 'walk', 'at', 'a', 'park', '.']], [['2', 'females', ',', '1', 'from', '<unk>', 'and', '1', 'from', 'china', ',', 'compete', 'in', 'a', 'wrestling', 'match', 'on', 'a', 'mat', '.']], [['a', 'man', 'and', 'woman', 'sleeping', 'on', 'a', 'bench', '.']], [['a', 'man', 'and', 'a', 'woman', 'are', 'sitting', 'on', 'the', 'floor', 'in', 'front', 'of', 'luggage', '.']], [['a', 'rickshaw', '<unk>', 'waiting', 'for', 'his', 'next', '<unk>', '.']], [['two', 'girls', 'are', 'seated', 'at', 'a', 'table', 'and', 'working', 'on', 'craft', '<unk>', '.']], [['a', 'man', 'runs', 'through', 'the', 'snow', 'with', 'the', 'aid', 'of', 'snowshoes', '.']], [['a', 'dancer', 'in', 'a', 'red', 'suit', 'is', 'jumping', 'in', 'the', 'air', '.']], [['a', 'man', 'is', 'parked', 'while', 'inside', 'of', 'a', '<unk>', 'truck', '.']], [['a', 'bearded', 'man', 'in', 'a', 'heavy', 'jacket', 'sits', 'in', 'a', 'corner', 'with', 'a', 'paper', 'cup', '.']], [['male', 'on', 'a', 'skateboard', ',', 'using', 'an', 'empty', 'pool', 'as', 'a', 'ramp', 'on', 'a', 'very', 'pretty', 'day', '.']], [['a', 'man', 'with', 'a', 'large', 'hat', 'in', 'the', 'bushes', '.']], [['a', 'closeup', 'of', 'a', 'child', \"'s\", 'face', 'eating', 'a', 'blue', ',', 'heart', 'shaped', 'lollipop', '.']], [['a', 'man', 'and', 'woman', 'are', 'working', 'on', '<unk>', 'a', 'bike', 'tire', 'tube', '.']], [['a', 'young', 'boy', 'shows', 'his', 'brown', 'and', 'green', 'bead', 'necklace', '.']], [['a', 'man', 'in', 'a', 'gray', 't', '-', 'shirt', 'works', 'the', '<unk>', 'to', 'start', 'a', 'fire', 'on', 'a', 'brick', 'oven', 'inside', 'a', 'wooden', 'shed', '.']], [['a', 'woman', 'standing', 'in', 'front', 'of', 'trees', 'and', 'smiling', '.']], [['someone', 'in', 'asian', 'costume', 'is', 'sitting', 'down', 'and', 'holding', 'a', 'sword', '.']], [['a', 'young', 'football', 'player', 'is', 'setting', 'up', 'for', 'a', 'field', 'goal', '.']], [['a', 'guy', 'in', 'a', 'bright', 'green', 'hoodie', 'is', 'crossing', 'a', 'crosswalk', 'while', 'looking', 'at', 'an', 'accident', 'between', 'some', 'cars', 'and', 'a', 'bike', '.']], [['a', 'young', 'man', 'gets', 'ready', 'to', 'kick', 'a', 'soccer', 'ball', '.']], [['a', 'competitive', 'runner', 'taking', 'her', 'first', '<unk>', 'in', 'a', 'competition', '.']], [['two', 'men', ',', 'one', 'in', 'blue', 'and', 'one', 'in', 'red', ',', 'compete', 'in', 'a', 'boxing', 'match', '.']], [['a', 'group', 'of', 'friends', 'lay', '<unk>', 'out', 'on', 'the', 'floor', 'enjoying', 'their', 'time', 'together', '.']], [['a', 'standing', 'man', 'holds', 'a', 'microphone', 'in', 'front', 'of', 'a', 'man', 'holding', 'a', 'guitar', '.']], [['roller', 'derby', 'girl', 'skating', 'with', 'others', '.']], [['a', 'woman', 'getting', 'a', 'bag', 'of', 'ice', 'at', 'a', 'store', '.']], [['two', 'motorcyclists', 'racing', 'neck', 'and', 'neck', 'around', 'a', 'corner', '.']], [['one', 'man', 'standing', 'alone', 'on', 'a', 'sidewalk', 'adjusting', 'his', 'hat', '.']], [['a', 'man', 'with', 'a', '<unk>', 'who', 'does', \"n't\", 'have', 'legs', 'is', 'walking', 'with', 'another', 'man', 'who', 'is', '<unk>', 'into', 'a', 'marathon', '.']], [['multiple', 'bodies', 'collide', 'in', 'a', 'soccer', 'match', '.']], [['two', 'people', ',', 'one', 'dressed', 'as', 'a', 'nun', 'and', 'the', 'other', 'in', 'a', '<unk>', '<unk>', 't', '-', 'shirt', ',', 'running', 'in', 'a', 'foot', 'race', 'past', 'onlookers', 'in', 'a', 'wooded', 'area', '.']], [['three', 'men', 'on', 'horses', 'during', 'a', 'race', '.']], [['a', 'dark', '-', 'skinned', 'man', 'in', 'white', 'shirts', 'and', 'a', 'black', 'sleeveless', 'shirt', 'flips', 'his', 'skateboard', 'on', 'a', 'cement', 'surface', 'surrounded', 'by', 'tall', 'buildings', 'and', 'palm', 'trees', '.']], [['one', 'man', ',', 'wearing', 'a', 'hooded', 'sweatshirt', ',', 'sitting', 'at', 'a', 'fountain', 'watching', 'the', 'people', 'of', 'the', 'city', '.']], [['swimmers', 'stand', 'on', 'various', '<unk>', 'of', 'a', 'large', 'diving', 'board', 'complex', 'in', 'a', 'room', 'with', 'figures', 'from', '<unk>', 'painted', 'on', 'the', 'wall', '.']], [['a', 'young', 'indian', 'boy', 'sitting', 'down', 'thinking', 'about', 'his', '<unk>', '.']], [['a', 'boy', 'in', 'a', 'hoodie', 'is', 'throwing', 'an', 'object', 'into', 'a', 'dirty', 'swimming', 'pool', '.']], [['colorful', 'costumed', 'men', 'in', 'a', 'performance', '.']], [['two', 'boxers', 'are', 'ready', 'for', 'their', 'fight', 'as', 'the', 'crowd', 'watches', 'with', '<unk>', '.']], [['children', 'are', 'playing', 'a', 'sport', 'on', 'a', 'field', '.']], [['a', 'female', 'performer', 'sings', 'and', 'plays', 'the', 'guitar', 'in', 'front', 'of', 'a', 'microphone', '.']], [['boy', \"'s\", 'are', 'competing', 'in', 'martial', 'arts', '.']], [['a', 'group', 'of', 'black', 'people', 'performing', 'in', 'orange', 'shirts', 'in', 'front', 'of', 'a', 'fenced', 'off', 'park', '.']], [['<unk>', 'in', 'uniforms', 'march', 'in', 'a', 'parade', 'while', 'playing', 'flute', '-', 'like', 'instruments', '.']], [['a', 'man', '<unk>', 'a', '<unk>', 'from', 'ingredients', 'in', 'a', 'blue', 'bowl', '.']], [['the', 'boy', 'leaps', 'of', 'his', 'bed', 'with', 'a', 'karate', 'kick', '.']], [['a', 'baby', 'in', 'a', 'bouncy', 'seat', 'and', 'a', 'standing', 'boy', 'surrounded', 'by', 'toys', '.']], [['these', 'are', 'people', 'gathered', 'around', 'the', 'table', 'playing', 'jenga', '.']], [['i', 'see', 'a', 'bearded', 'man', 'and', 'elderly', 'lady', 'sharing', 'a', 'bowl', 'of', 'food', '.']], [['a', 'young', 'man', 'is', 'skateboarding', 'on', 'a', 'cement', 'block', 'wall', '.']], [['people', 'boating', 'on', 'a', 'lake', 'with', 'the', 'sun', 'through', 'the', 'clouds', 'in', 'the', 'distance', '.']], [['two', 'men', 'wearing', 'martial', 'arts', 'clothing', 'are', 'practicing', 'martial', 'arts', '.']], [['a', 'boy', 'band', 'and', 'no', 'one', 'even', 'matches', 'someone', 'should', 'have', '<unk>', 'a', '<unk>', '.']], [['a', 'group', 'of', 'go', '-', 'cart', 'riders', 'are', 'racing', 'around', 'a', 'go', '-', 'cart', 'track', '.']], [['a', 'person', 'dressed', 'in', 'winter', 'clothes', 'poses', 'with', 'a', 'snowman', 'surrounded', 'by', 'snow', 'covered', 'landscape', '.']], [['a', 'man', 'is', 'giving', 'a', 'presentation', 'in', 'front', 'of', 'a', 'crowd', '.']], [['a', 'middle', '-', 'aged', 'man', 'is', 'taping', 'up', 'the', 'knee', 'of', 'a', 'younger', 'football', 'player', 'who', 'is', 'sitting', 'on', 'a', '<unk>', 'table', '.']], [['a', 'tattooed', 'man', 'wearing', 'overalls', 'on', 'a', 'stage', 'holding', 'a', 'microphone', '.']], [['a', 'little', 'girl', 'plays', 'with', 'an', 'miniature', 'electric', 'circuit', 'consisting', 'of', 'three', 'light', '<unk>', 'and', 'a', 'battery', '.']], [['man', 'wearing', 'blue', 'helmet', '<unk>', 'into', 'traffic', 'on', 'a', 'bicycle', '.']], [['a', 'bunch', 'of', 'young', 'adults', 'stare', 'in', '<unk>', 'at', 'their', 'computer', 'monitors', 'as', 'they', 'competitively', 'game', '.']], [['a', 'young', 'boy', 'in', 'green', 'practices', 'juggling', 'in', 'a', 'parking', 'lot', '.']], [['a', 'little', 'girl', 'in', 'a', 'dotted', 'dress', 'looks', 'back', 'towards', 'a', 'woman', 'in', 'a', 'black', 'dress', '.']], [['a', 'man', 'adjusts', 'the', 'engine', 'of', 'a', 'boat', 'near', 'the', 'water', '.']], [['there', 'is', 'a', 'tennis', 'match', 'being', 'played', 'at', 'night', 'in', 'this', 'stadium', '.']], [['a', 'child', 'snowboarder', 'coming', 'to', 'a', 'stop']], [['a', 'soccer', 'game', 'is', 'played', 'as', 'two', 'men', 'attempt', 'to', 'reach', 'the', 'ball', 'before', 'their', '<unk>', 'opponent', '.']], [['young', 'women', 'and', 'children', 'in', 'a', 'village', ',', 'with', 'a', 'single', 'woman', 'focused', 'on', 'the', 'camera', '.']], [['toddler', 'in', 'a', 'green', 'shirt', 'is', 'brushing', 'his', 'teeth', 'with', 'a', 'yellow', 'toothbrush', ',', 'while', 'being', '<unk>', 'by', 'mom', '.']], [['a', 'man', 'in', 'a', 'wheelchair', 'and', 'wearing', 'a', 'red', 'jogging', 'suit', 'is', 'carrying', 'a', 'torch', '.']], [['a', 'son', 'and', 'his', 'parents', 'are', 'taking', 'a', 'group', 'picture', 'in', 'a', 'church', '.']], [['three', 'men', 'competing', 'in', 'a', 'hurdle', 'race', '.']], [['two', 'men', 'are', 'observing', 'another', 'as', 'he', 'puts', 'the', 'finishing', 'touches', 'on', 'wet', 'cement', '.']], [['a', 'soldier', 'is', 'looking', 'at', 'binoculars', 'into', 'the', 'mountainous', 'landscape', '.']], [['a', 'group', 'of', 'young', 'boys', 'race', 'on', 'a', 'snowy', 'day', '.']], [['a', 'man', 'jumps', 'rope', 'while', 'a', 'crowd', 'of', 'people', 'watch', 'him', '.']], [['a', 'young', 'boy', 'and', 'girl', 'are', 'laughing', 'together', 'as', 'the', 'girl', 'holds', 'up', 'a', 'hand', 'sign', '.']], [['two', 'men', 'on', 'opposing', 'teams', 'race', 'toward', 'a', 'soccer', 'ball', '.']], [['a', 'biker', 'wearing', 'a', 'yellow', 'shirt', 'pulls', 'of', 'an', 'incredible', 'trick', 'in', 'the', 'air', '.']], [['two', 'female', '<unk>', ',', 'one', 'with', 'a', 'purple', 'sports', 'bra', ',', 'battle', 'it', 'out', 'in', 'an', 'arena', '.']], [['two', 'men', 'on', 'fast', 'motorcycle', 'speeding', 'around', 'a', 'corner', 'on', 'a', 'racetrack', '.']], [['two', 'men', 'guard', 'the', 'man', 'with', 'the', 'basketball', 'during', 'a', 'game', 'at', 'dusk', '.']], [['a', 'man', 'wearing', 'riding', 'boots', 'and', 'a', 'helmet', 'is', 'riding', 'a', 'white', 'horse', ',', 'and', 'the', 'horse', 'is', 'jumping', 'a', 'hurdle', '.']], [['a', 'group', 'of', 'men', 'in', 'costume', 'play', 'music', '.']], [['man', 'and', 'women', 'look', 'through', 'milk', 'crates', 'full', 'of', 'records', 'or', 'pictures', 'on', 'sale', '.']], [['a', 'racing', 'catamaran', 'is', 'lifted', 'onto', 'one', '<unk>', 'in', 'the', 'water', '.']], [['a', 'group', 'of', '<unk>', 'walking', 'down', 'the', 'road', 'with', 'american', 'flags', 'and', 'other', 'military', 'flags', '.']], [['a', 'man', 'holding', 'a', 'drinking', 'glass', 'at', 'the', 'camera', '.']], [['one', 'man', 'on', 'stage', ',', 'playing', 'a', 'guitar', 'with', 'lights', 'in', 'the', 'background', '.']], [['four', 'young', 'kids', 'playing', 'with', 'empty', '<unk>', '.']], [['a', 'group', 'of', 'workers', 'are', 'listening', 'to', '<unk>', 'from', 'a', '<unk>', '.']], [['a', '<unk>', 'rides', 'a', 'large', 'green', 'tractor', 'down', 'the', 'road', 'during', 'a', 'parade', '.']], [['three', 'dogs', 'are', 'playing', 'in', 'the', 'water', '.']], [['a', 'man', 'plays', 'a', 'drum', 'and', 'a', 'little', 'boy', 'hits', 'his', 'own', ',', 'little', 'drum', '.']], [['a', 'group', 'of', 'girls', 'playing', 'a', 'game', 'on', 'horseback', '.']], [['a', 'man', 'watching', 'as', 'a', 'woman', 'fires', 'a', 'gun', 'with', 'a', 'smile', 'at', 'a', 'firing', 'range', '.']], [['the', 'bike', 'leader', 'pedals', 'for', 'his', 'life', 'as', 'competing', '<unk>', '<unk>', 'his', 'tail', '.']], [['a', 'team', 'of', 'soccer', 'players', 'is', 'huddled', 'and', 'having', 'a', 'serious', 'discussion', '.']], [['a', 'group', 'of', 'people', 'in', 'purple', 'shirts', 'and', 'tan', 'pants', 'all', 'walking', 'in', 'the', 'same', 'direction', '.']], [['a', 'man', 'in', 'a', 'bright', 'shirt', 'is', 'playing', 'trumpet', '.']], [['the', 'guy', 'with', 'the', 'jean', 'shorts', 'is', 'at', 'the', 'skate', 'park', 'doing', 'tricks', 'on', 'his', 'bike', '.']], [['mother', 'and', 'daughter', 'wearing', '<unk>', 'in', '<unk>', '<unk>', 'are', 'posing', 'for', 'a', 'picture', '.']], [['a', 'little', 'boy', 'using', 'a', 'drill', 'to', 'make', 'a', 'hole', 'in', 'a', 'piece', 'of', 'wood', '.']], [['two', 'bicyclists', 'are', 'racing', 'each', 'other', 'on', 'a', 'dirt', 'track', '.']], [['a', 'frisbee', 'is', 'being', 'thrown', 'to', 'the', 'girl', 'while', 'the', 'other', 'girl', 'appears', 'to', 'be', 'asking', 'for', 'it', '.']], [['an', '<unk>', 'working', 'on', 'a', 'patient', ',', 'while', 'a', 'man', 'holds', 'the', 'light', '.']], [['two', 'people', 'eat', 'hamburgers', 'on', 'lawn', 'chairs', 'while', 'a', 'third', 'drinks', 'a', 'can', 'of', 'soda', '.']], [['two', 'bicyclists', 'ride', 'down', 'the', 'street', 'past', 'people', 'while', 'talking', '.']], [['at', 'a', 'bowling', 'alley', ',', 'a', 'man', 'in', 'a', 'black', 'shirt', 'is', 'holding', 'a', 'bowling', 'ball', 'and', 'looking', 'down', 'the', 'lane', '.']], [['two', 'men', 'in', 'black', 'clothes', 'with', 'blue', 'and', 'red', 'bowties', 'are', 'performing', 'in', 'front', 'of', 'a', 'crowd', '.']], [['two', 'men', ',', 'one', 'black', 'and', 'one', 'white', ',', 'play', 'their', 'guitars', 'and', 'sing', 'into', 'microphones', 'as', 'they', 'stand', 'outdoors', '.']], [['a', 'kickboxer', 'lands', 'a', 'flying', 'knee', 'into', 'the', 'face', 'of', 'his', 'opponent', '.']], [['three', 'people', 'are', 'running', 'a', 'race', 'around', 'a', 'red', 'track', '.']], [['football', 'players', 'struggle', 'to', 'get', 'plays', 'through', 'a', '<unk>', 'line', '.']], [['several', 'men', 'are', 'praying', 'while', 'standing', 'at', 'the', 'end', 'of', 'a', 'table', 'of', 'food', '.']], [['two', 'indian', 'children', 'in', 'formal', 'costume', 'happily', 'performing', 'a', 'ritual', 'dance', '.']], [['three', 'children', 'standing', 'near', 'each', 'other', 'and', 'next', 'to', 'a', 'tall', 'blue', 'wooden', 'post', '.']], [['a', 'group', 'of', 'people', 'are', 'running', '.']], [['two', 'women', 'are', 'walking', 'down', 'the', 'beach', 'carrying', 'boards', 'and', '<unk>', '.']], [['a', 'boy', 'is', 'sitting', 'on', 'a', 'rock', ',', 'looking', 'at', 'the', 'valley', 'below', '.']], [['a', 'woman', 'standing', 'on', 'a', 'high', 'cliff', 'on', 'one', 'leg', 'looking', 'over', 'a', 'river', '.']], [['a', 'brunette', 'woman', 'is', 'standing', 'on', 'the', 'sidewalk', 'looking', 'down', 'the', 'road', '.']], [['a', 'group', 'of', 'three', 'friends', 'are', 'conversing', 'inside', 'of', 'a', 'home', '.']], [['two', 'chinese', 'people', 'are', 'standing', 'by', 'a', 'chalkboard', '.']], [['a', 'person', 'wearing', 'blue', 'jeans', 'and', 'a', 'red', 'sweater', 'us', 'turning', 'the', 'corner', 'of', 'a', 'brick', 'wall', '.']], [['farmers', 'are', 'performing', 'their', '<unk>', 'during', 'the', 'day', '.']], [['at', 'some', 'sort', 'of', 'carnival', ',', 'a', 'man', 'is', 'making', 'cotton', 'candy', '.']], [['a', 'bunch', 'of', 'police', 'officers', 'are', 'standing', 'outside', 'a', 'bus', '.']], [['a', 'elderly', 'white', '-', 'haired', 'woman', 'is', 'looking', 'inside', 'her', 'register', 'and', 'looking', 'through', 'her', 'glasses', '.']], [['two', 'men', 'are', 'standing', 'at', 'telephone', 'booths', 'outside', '.']], [['two', 'women', 'wearing', 'red', 'and', 'a', 'man', 'coming', 'out', 'of', 'a', 'port', '-', 'a', '-', '<unk>', '.']]]\n"
          ]
        },
        {
          "output_type": "execute_result",
          "data": {
            "text/plain": [
              "0.33534646030279575"
            ]
          },
          "metadata": {},
          "execution_count": 16
        }
      ],
      "source": [
        "# bleu\n",
        "\n",
        "calculate_bleu(model, val_dataloader, 100, SOS_IDX, PAD_IDX, EOS_IDX, en_vocab)\n",
        "\n",
        "# calculate_test_bleu(model, val_dataloader, 44, SOS_IDX, PAD_IDX, EOS_IDX, en_vocab)"
      ],
      "id": "cIHS3bYYBMaB"
    },
    {
      "cell_type": "code",
      "execution_count": 72,
      "metadata": {
        "id": "OyTWUWtLiZyk"
      },
      "outputs": [],
      "source": [
        "import matplotlib.pyplot as plt\n",
        "from matplotlib import ticker\n",
        "\n",
        "def visualise_attention(attention_matrix, src_sentence, targ_sentence):\n",
        "  attention_matrix = attention_matrix.cpu().detach()\n",
        "  n_heads = attention_matrix.shape[1]\n",
        "  fig, axs = plt.subplots(2, 4, figsize=(25, 15))\n",
        "  for i, ax in enumerate(axs.flat):\n",
        "     ax.tick_params(labelsize=12)\n",
        "     ax.matshow(attention_matrix[0, i, :,:])\n",
        "     ax.set_yticklabels(src_sentence)\n",
        "     ax.set_xticklabels(targ_sentence)\n",
        "     ax.label_outer()\n",
        "     ax.xaxis.set_major_locator(ticker.MultipleLocator(1))\n",
        "     ax.yaxis.set_major_locator(ticker.MultipleLocator(1))\n",
        "\n",
        "\n",
        "idx = 0\n",
        "\n",
        "idata = iter(train_dataloader)\n",
        "\n",
        "for _ in range(1):\n",
        "  data = next(idata)\n",
        "\n",
        "src = data[0][idx]\n",
        "targ = data[1][idx]\n",
        "src_mask = data[3][idx]\n",
        "targ_mask = data[4][idx]\n",
        "attn = model.decoders[2].masked_attention.store\n",
        "\n"
      ],
      "id": "OyTWUWtLiZyk"
    },
    {
      "cell_type": "code",
      "source": [
        "pred = greedy_decoding(model, src.unsqueeze(0), src.shape[0], SOS_IDX, PAD_IDX)\n"
      ],
      "metadata": {
        "id": "HelLwkez1QEr"
      },
      "id": "HelLwkez1QEr",
      "execution_count": 73,
      "outputs": []
    },
    {
      "cell_type": "code",
      "source": [
        "pad_idx = torch.argmax((src == 1).to(dtype=torch.int), dim=-1)\n",
        "trunc_src = src[:pad_idx]\n",
        "\n",
        "pred_trans = [\"<sos>\"] + [en_vocab.textify(tok) for tok in pred[0]]\n",
        "src_trans = [de_vocab.textify(tok) for tok in src]\n",
        "print(pred_trans)\n",
        "print(src_trans)\n",
        "\n",
        "visualise_attention(model.decoders[1].masked_attention.store,src_trans, pred_trans)"
      ],
      "metadata": {
        "colab": {
          "base_uri": "https://localhost:8080/",
          "height": 1000
        },
        "id": "7atP496NJ8_P",
        "outputId": "a24e3afa-523c-4d88-c97d-76a0a3fd557b"
      },
      "id": "7atP496NJ8_P",
      "execution_count": 77,
      "outputs": [
        {
          "output_type": "stream",
          "name": "stdout",
          "text": [
            "['<sos>', 'two', 'men', 'are', 'are', 'playing', 'the', 'street', '.']\n",
            "['<sos>', 'zwei', 'junge', 'weiße', 'männer', 'sind', 'im', 'freien', 'in', 'der', 'nähe', 'vieler', 'büsche', '.', '<eos>', '<pad>', '<pad>', '<pad>', '<pad>', '<pad>', '<pad>', '<pad>', '<pad>', '<pad>', '<pad>', '<pad>', '<pad>']\n"
          ]
        },
        {
          "output_type": "stream",
          "name": "stderr",
          "text": [
            "<ipython-input-72-0b48cbd60e82>:11: UserWarning: FixedFormatter should only be used together with FixedLocator\n",
            "  ax.set_yticklabels(src_sentence)\n",
            "<ipython-input-72-0b48cbd60e82>:12: UserWarning: FixedFormatter should only be used together with FixedLocator\n",
            "  ax.set_xticklabels(targ_sentence)\n"
          ]
        },
        {
          "output_type": "display_data",
          "data": {
            "text/plain": [
              "<Figure size 2500x1500 with 8 Axes>"
            ],
            "image/png": "[encoded data removed]"
          },
          "metadata": {}
        }
      ]
    },
    {
      "cell_type": "code",
      "source": [
        "model.decoders[0].masked_attention.store.shape\n"
      ],
      "metadata": {
        "colab": {
          "base_uri": "https://localhost:8080/"
        },
        "id": "4mFP-ShoRFCS",
        "outputId": "29eac65b-8d22-4170-a5c0-f5df932d7e36"
      },
      "id": "4mFP-ShoRFCS",
      "execution_count": 84,
      "outputs": [
        {
          "output_type": "execute_result",
          "data": {
            "text/plain": [
              "torch.Size([1, 8, 9, 9])"
            ]
          },
          "metadata": {},
          "execution_count": 84
        }
      ]
    },
    {
      "cell_type": "markdown",
      "metadata": {
        "id": "e529b334-2bcb-4f79-b3cf-1e1c24e74049"
      },
      "source": [
        "## prove i'm not going mad"
      ],
      "id": "e529b334-2bcb-4f79-b3cf-1e1c24e74049"
    },
    {
      "cell_type": "code",
      "execution_count": 75,
      "metadata": {
        "id": "Ynd7DZxHqYFL"
      },
      "outputs": [],
      "source": [
        "class Seq2Seq(nn.Module):\n",
        "    def __init__(self,\n",
        "                 encoder,\n",
        "                 decoder,\n",
        "                 src_pad_idx,\n",
        "                 trg_pad_idx,\n",
        "                 device):\n",
        "        super().__init__()\n",
        "\n",
        "        self.encoder = encoder\n",
        "        self.decoder = decoder\n",
        "        self.src_pad_idx = src_pad_idx\n",
        "        self.trg_pad_idx = trg_pad_idx\n",
        "        self.device = device\n",
        "\n",
        "    def make_src_mask(self, src):\n",
        "\n",
        "        #src = [batch size, src len]\n",
        "\n",
        "        src_mask = (src != self.src_pad_idx).unsqueeze(1).unsqueeze(2)\n",
        "\n",
        "        #src_mask = [batch size, 1, 1, src len]\n",
        "\n",
        "        return src_mask\n",
        "\n",
        "    def make_trg_mask(self, trg):\n",
        "\n",
        "        #trg = [batch size, trg len]\n",
        "\n",
        "        trg_pad_mask = (trg != self.trg_pad_idx).unsqueeze(1).unsqueeze(2)\n",
        "\n",
        "        #trg_pad_mask = [batch size, 1, 1, trg len]\n",
        "\n",
        "        trg_len = trg.shape[1]\n",
        "\n",
        "        trg_sub_mask = torch.tril(torch.ones((trg_len, trg_len), device = self.device)).bool()\n",
        "\n",
        "        #trg_sub_mask = [trg len, trg len]\n",
        "\n",
        "        trg_mask = trg_pad_mask & trg_sub_mask\n",
        "\n",
        "        #trg_mask = [batch size, 1, trg len, trg len]\n",
        "\n",
        "        return trg_mask\n",
        "\n",
        "    def forward(self, src, trg):\n",
        "\n",
        "        #src = [batch size, src len]\n",
        "        #trg = [batch size, trg len]\n",
        "\n",
        "        src_mask = self.make_src_mask(src)\n",
        "        trg_mask = self.make_trg_mask(trg)\n",
        "\n",
        "        #src_mask = [batch size, 1, 1, src len]\n",
        "        #trg_mask = [batch size, 1, trg len, trg len]\n",
        "\n",
        "        enc_src = self.encoder(src, src_mask)\n",
        "\n",
        "        #enc_src = [batch size, src scalelen, hid dim]\n",
        "\n",
        "        output, attention = self.decoder(trg, enc_src, trg_mask, src_mask)\n",
        "\n",
        "        #output = [batch size, trg len, output dim]\n",
        "        #attention = [batch size, n heads, trg len, src len]\n",
        "\n",
        "        return output, attention\n",
        "\n",
        "    def encode(self, src, src_mask):\n",
        "      return self.encoder(src, src_mask)\n",
        "\n",
        "    def decode(self, features, trg, src_mask):\n",
        "      trg_mask = self.make_trg_mask(trg)\n",
        "      output, _ = self.decoder(trg, features, trg_mask, src_mask)\n",
        "      return output\n",
        "\n",
        "class DecoderLayer(nn.Module):\n",
        "    def __init__(self,\n",
        "                 hid_dim,\n",
        "                 n_heads,\n",
        "                 pf_dim,\n",
        "                 dropout,\n",
        "                 device):\n",
        "        super().__init__()\n",
        "\n",
        "        self.self_attn_layer_norm = nn.LayerNorm(hid_dim)\n",
        "        self.enc_attn_layer_norm = nn.LayerNorm(hid_dim)\n",
        "        self.ff_layer_norm = nn.LayerNorm(hid_dim)\n",
        "        self.self_attention = MultiHeadAttentionLayer(hid_dim, n_heads, dropout, device)\n",
        "        self.encoder_attention = MultiHeadAttentionLayer(hid_dim, n_heads, dropout, device)\n",
        "        self.positionwise_feedforward = PositionwiseFeedforwardLayer(hid_dim,\n",
        "                                                                     pf_dim,\n",
        "                                                                     dropout)\n",
        "        self.dropout = nn.Dropout(dropout)\n",
        "\n",
        "    def forward(self, trg, enc_src, trg_mask, src_mask):\n",
        "\n",
        "        #trg = [batch size, trg len, hid dim]\n",
        "        #enc_src = [batch size, src len, hid dim]\n",
        "        #trg_mask = [batch size, 1, trg len, trg len]\n",
        "        #src_mask = [batch size, 1, 1, src len]\n",
        "\n",
        "        #self attention\n",
        "        _trg, _ = self.self_attention(trg, trg, trg, trg_mask)\n",
        "\n",
        "        #dropout, residual connection and layer norm\n",
        "        trg = self.self_attn_layer_norm(trg + self.dropout(_trg))\n",
        "\n",
        "        #trg = [batch size, trg len, hid dim]\n",
        "\n",
        "        #encoder attention\n",
        "        _trg, attention = self.encoder_attention(trg, enc_src, enc_src, src_mask)\n",
        "\n",
        "        #dropout, residual connection and layer norm\n",
        "        trg = self.enc_attn_layer_norm(trg + self.dropout(_trg))\n",
        "\n",
        "        #trg = [batch size, trg len, hid dim]\n",
        "\n",
        "        #positionwise feedforward\n",
        "        _trg = self.positionwise_feedforward(trg)\n",
        "\n",
        "        #dropout, residual and layer norm\n",
        "        trg = self.ff_layer_norm(trg + self.dropout(_trg))\n",
        "\n",
        "        #trg = [batch size, trg len, hid dim]\n",
        "        #attention = [batch size, n heads, trg len, src len]\n",
        "\n",
        "        return trg, attention\n",
        "\n",
        "class Decoder(nn.Module):\n",
        "    def __init__(self,\n",
        "                 output_dim,\n",
        "                 hid_dim,\n",
        "                 n_layers,\n",
        "                 n_heads,\n",
        "                 pf_dim,\n",
        "                 dropout,\n",
        "                 device,\n",
        "                 max_length = 100):\n",
        "        super().__init__()\n",
        "\n",
        "        self.device = device\n",
        "\n",
        "        self.tok_embedding = nn.Embedding(output_dim, hid_dim)\n",
        "        self.pos_embedding = nn.Embedding(max_length, hid_dim)\n",
        "\n",
        "        self.layers = nn.ModuleList([DecoderLayer(hid_dim,\n",
        "                                                  n_heads,\n",
        "                                                  pf_dim,\n",
        "                                                  dropout,\n",
        "                                                  device)\n",
        "                                     for _ in range(n_layers)])\n",
        "\n",
        "        self.fc_out = nn.Linear(hid_dim, output_dim)\n",
        "\n",
        "        self.dropout = nn.Dropout(dropout)\n",
        "\n",
        "        self.scale = torch.sqrt(torch.FloatTensor([hid_dim])).to(device)\n",
        "\n",
        "    def forward(self, trg, enc_src, trg_mask, src_mask):\n",
        "\n",
        "        #trg = [batch size, trg len]\n",
        "        #enc_src = [batch size, src len, hid dim]\n",
        "        #trg_mask = [batch size, 1, trg len, trg len]\n",
        "        #src_mask = [batch size, 1, 1, src len]\n",
        "\n",
        "        batch_size = trg.shape[0]\n",
        "        trg_len = trg.shape[1]\n",
        "\n",
        "        pos = torch.arange(0, trg_len).unsqueeze(0).repeat(batch_size, 1).to(self.device)\n",
        "\n",
        "        #pos = [batch size, trg len]\n",
        "\n",
        "        trg = self.dropout((self.tok_embedding(trg) * self.scale) + self.pos_embedding(pos))\n",
        "\n",
        "        #trg = [batch size, trg len, hid dim]\n",
        "\n",
        "        for layer in self.layers:\n",
        "            trg, attention = layer(trg, enc_src, trg_mask, src_mask)\n",
        "\n",
        "        #trg = [batch size, trg len, hid dim]\n",
        "        #attention = [batch size, n heads, trg len, src len]\n",
        "\n",
        "        output = self.fc_out(trg)\n",
        "\n",
        "        #output = [batch size, trg len, output dim]\n",
        "\n",
        "        return output, attention\n",
        "\n",
        "class PositionwiseFeedforwardLayer(nn.Module):\n",
        "    def __init__(self, hid_dim, pf_dim, dropout):\n",
        "        super().__init__()\n",
        "\n",
        "        self.fc_1 = nn.Linear(hid_dim, pf_dim)\n",
        "        self.fc_2 = nn.Linear(pf_dim, hid_dim)\n",
        "\n",
        "        self.dropout = nn.Dropout(dropout)\n",
        "\n",
        "    def forward(self, x):\n",
        "\n",
        "        #x = [batch size, seq len, hid dim]\n",
        "\n",
        "        x = self.dropout(torch.relu(self.fc_1(x)))\n",
        "\n",
        "        #x = [batch size, seq len, pf dim]\n",
        "\n",
        "        x = self.fc_2(x)\n",
        "\n",
        "        #x = [batch size, seq len, hid dim]\n",
        "\n",
        "        return x\n",
        "\n",
        "class MultiHeadAttentionLayer(nn.Module):\n",
        "    def __init__(self, hid_dim, n_heads, dropout, device):\n",
        "        super().__init__()\n",
        "\n",
        "        assert hid_dim % n_heads == 0\n",
        "\n",
        "        self.hid_dim = hid_dim\n",
        "        self.n_heads = n_heads\n",
        "        self.head_dim = hid_dim // n_heads\n",
        "\n",
        "        self.fc_q = nn.Linear(hid_dim, hid_dim)\n",
        "        self.fc_k = nn.Linear(hid_dim, hid_dim)\n",
        "        self.fc_v = nn.Linear(hid_dim, hid_dim)\n",
        "\n",
        "        self.fc_o = nn.Linear(hid_dim, hid_dim)\n",
        "\n",
        "        self.dropout = nn.Dropout(dropout)\n",
        "\n",
        "        self.scale = torch.sqrt(torch.FloatTensor([self.head_dim])).to(device)\n",
        "\n",
        "    def forward(self, query, key, value, mask = None):\n",
        "\n",
        "        batch_size = query.shape[0]\n",
        "\n",
        "        #query = [batch size, query len, hid dim]\n",
        "        #key = [batch size, key len, hid dim]\n",
        "        #value = [batch size, value len, hid dim]\n",
        "\n",
        "        Q = self.fc_q(query)\n",
        "        K = self.fc_k(key)\n",
        "        V = self.fc_v(value)\n",
        "\n",
        "        #Q = [batch size, query len, hid dim]\n",
        "        #K = [batch size, key len, hid dim]\n",
        "        #V = [batch size, value len, hid dim]\n",
        "\n",
        "        Q = Q.view(batch_size, -1, self.n_heads, self.head_dim).permute(0, 2, 1, 3)\n",
        "        K = K.view(batch_size, -1, self.n_heads, self.head_dim).permute(0, 2, 1, 3)\n",
        "        V = V.view(batch_size, -1, self.n_heads, self.head_dim).permute(0, 2, 1, 3)\n",
        "\n",
        "        #Q = [batch size, n heads, query len, head dim]\n",
        "        #K = [batch size, n heads, key len, head dim]\n",
        "        #V = [batch size, n heads, value len, head dim]\n",
        "\n",
        "        energy = torch.matmul(Q, K.permute(0, 1, 3, 2)) / self.scale\n",
        "\n",
        "        #energy = [batch size, n heads, query len, key len]\n",
        "\n",
        "        if mask is not None:\n",
        "            energy = energy.masked_fill(mask == 0, -1e10)\n",
        "\n",
        "        attention = torch.softmax(energy, dim = -1)\n",
        "\n",
        "        #attention = [batch size, n heads, query len, key len]\n",
        "\n",
        "        x = torch.matmul(self.dropout(attention), V)\n",
        "\n",
        "        #x = [batch size, n heads, query len, head dim]\n",
        "\n",
        "        x = x.permute(0, 2, 1, 3).contiguous()\n",
        "\n",
        "        #x = [batch size, query len, n heads, head dim]\n",
        "\n",
        "        x = x.view(batch_size, -1, self.hid_dim)\n",
        "\n",
        "        #x = [batch size, query len, hid dim]\n",
        "\n",
        "        x = self.fc_o(x)\n",
        "\n",
        "        #x = [batch size, query len, hid dim]\n",
        "\n",
        "        return x, attention\n",
        "\n",
        "class EncoderLayer(nn.Module):\n",
        "    def __init__(self,\n",
        "                 hid_dim,\n",
        "                 n_heads,\n",
        "                 pf_dim,\n",
        "                 dropout,\n",
        "                 device):\n",
        "        super().__init__()\n",
        "\n",
        "        self.self_attn_layer_norm = nn.LayerNorm(hid_dim)\n",
        "        self.ff_layer_norm = nn.LayerNorm(hid_dim)\n",
        "        self.self_attention = MultiHeadAttentionLayer(hid_dim, n_heads, dropout, device)\n",
        "        self.positionwise_feedforward = PositionwiseFeedforwardLayer(hid_dim,\n",
        "                                                                     pf_dim,\n",
        "                                                                     dropout)\n",
        "        self.dropout = nn.Dropout(dropout)\n",
        "\n",
        "    def forward(self, src, src_mask):\n",
        "\n",
        "        #src = [batch size, src len, hid dim]\n",
        "        #src_mask = [batch size, 1, 1, src len]\n",
        "\n",
        "        #self attention\n",
        "        _src, _ = self.self_attention(src, src, src, src_mask)\n",
        "\n",
        "        #dropout, residual connection and layer norm\n",
        "        src = self.self_attn_layer_norm(src + self.dropout(_src))\n",
        "\n",
        "        #src = [batch size, src len, hid dim]\n",
        "\n",
        "        #positionwise feedforward\n",
        "        _src = self.positionwise_feedforward(src)\n",
        "\n",
        "        #dropout, residual and layer norm\n",
        "        src = self.ff_layer_norm(src + self.dropout(_src))\n",
        "\n",
        "        #src = [batch size, src len, hid dim]\n",
        "\n",
        "        return src\n",
        "\n",
        "\n",
        "class Encoder(nn.Module):\n",
        "    def __init__(self,\n",
        "                 input_dim,\n",
        "                 hid_dim,\n",
        "                 n_layers,\n",
        "                 n_heads,\n",
        "                 pf_dim,\n",
        "                 dropout,\n",
        "                 device,\n",
        "                 max_length = 100):\n",
        "        super().__init__()\n",
        "\n",
        "        self.device = device\n",
        "\n",
        "        self.tok_embedding = nn.Embedding(input_dim, hid_dim)\n",
        "        self.pos_embedding = nn.Embedding(max_length, hid_dim)\n",
        "\n",
        "        self.layers = nn.ModuleList([EncoderLayer(hid_dim,\n",
        "                                                  n_heads,\n",
        "                                                  pf_dim,\n",
        "                                                  dropout,\n",
        "                                                  device)\n",
        "                                     for _ in range(n_layers)])\n",
        "\n",
        "        self.dropout = nn.Dropout(dropout)\n",
        "\n",
        "        self.scale = torch.sqrt(torch.FloatTensor([hid_dim])).to(device)\n",
        "\n",
        "    def forward(self, src, src_mask):\n",
        "\n",
        "        #src = [batch size, src len]\n",
        "        #src_mask = [batch size, 1, 1, src len]\n",
        "\n",
        "        batch_size = src.shape[0]\n",
        "        src_len = src.shape[1]\n",
        "\n",
        "        pos = torch.arange(0, src_len).unsqueeze(0).repeat(batch_size, 1).to(self.device)\n",
        "\n",
        "        #pos = [batch size, src len]\n",
        "\n",
        "        src = self.dropout((self.tok_embedding(src) * self.scale) + self.pos_embedding(pos))\n",
        "\n",
        "        #src = [batch size, src len, hid dim]\n",
        "\n",
        "        for layer in self.layers:\n",
        "            src = layer(src, src_mask)\n",
        "\n",
        "        #src = [batch size, src len, hid dim]\n",
        "\n",
        "        return src"
      ],
      "id": "Ynd7DZxHqYFL"
    },
    {
      "cell_type": "code",
      "execution_count": null,
      "metadata": {
        "id": "rIs_pdSjn-X5"
      },
      "outputs": [],
      "source": [
        "def translate_sentence_vectorized(src_tensor, targ_vocab, model, device, max_len=50):\n",
        "    assert isinstance(src_tensor, torch.Tensor)\n",
        "\n",
        "    model.eval()\n",
        "    src_mask = model.make_src_mask(src_tensor)\n",
        "\n",
        "    with torch.no_grad():\n",
        "        enc_src = model.encoder(src_tensor, src_mask)\n",
        "    # enc_src = [batch_sz, src_len, hid_dim]\n",
        "\n",
        "    trg_indexes = [[SOS_IDX] for _ in range(len(src_tensor))]\n",
        "\n",
        "    # Even though some examples might have been completed by producing a <eos> token\n",
        "    # we still need to feed them through the model because other are not yet finished\n",
        "    # and all examples act as a batch. Once every single sentence prediction encounters\n",
        "    # <eos> token, then we can stop predicting.\n",
        "    translations_done = [0] * len(src_tensor)\n",
        "    for i in range(max_len):\n",
        "        trg_tensor = torch.LongTensor(trg_indexes).to(device)\n",
        "        trg_mask = model.make_trg_mask(trg_tensor)\n",
        "        with torch.no_grad():\n",
        "            output, attention = model.decoder(trg_tensor, enc_src, trg_mask, src_mask)\n",
        "        pred_tokens = output.argmax(2)[:,-1]\n",
        "        for i, pred_token_i in enumerate(pred_tokens):\n",
        "            trg_indexes[i].append(pred_token_i)\n",
        "            if pred_token_i in [EOS_IDX, PAD_IDX]:\n",
        "                translations_done[i] = 1\n",
        "        if all(translations_done):\n",
        "            break\n",
        "\n",
        "    # Iterate through each predicted example one by one;\n",
        "    # Cut-off the portion including the after the <eos> token\n",
        "    pred_sentences = []\n",
        "    for trg_sentence in trg_indexes:\n",
        "        pred_sentence = []\n",
        "        for i in range(1, len(trg_sentence)):\n",
        "            if trg_sentence[i] in [EOS_IDX, PAD_IDX]:\n",
        "                break\n",
        "            pred_sentence.append(targ_vocab.textify(trg_sentence[i]))\n",
        "        pred_sentences.append(pred_sentence)\n",
        "\n",
        "    return pred_sentences"
      ],
      "id": "rIs_pdSjn-X5"
    },
    {
      "cell_type": "code",
      "execution_count": null,
      "metadata": {
        "colab": {
          "base_uri": "https://localhost:8080/"
        },
        "id": "PdxCWVZpouvw",
        "outputId": "9403c155-871c-41ec-a4cb-20756a8195a7"
      },
      "outputs": [
        {
          "data": {
            "text/plain": [
              "[['a', 'band', 'plays', 'on', 'the', 'sidewalk', '.']]"
            ]
          },
          "execution_count": 62,
          "metadata": {},
          "output_type": "execute_result"
        }
      ],
      "source": [
        "translate_sentence_vectorized(next(iter(val_dataloader))[0][7].unsqueeze(0), en_vocab, model, device, max_len=45)"
      ],
      "id": "PdxCWVZpouvw"
    },
    {
      "cell_type": "code",
      "execution_count": null,
      "metadata": {
        "colab": {
          "base_uri": "https://localhost:8080/"
        },
        "id": "q0XXOBk-o7ju",
        "outputId": "ba225ca6-9380-4003-9194-d14e71015c30"
      },
      "outputs": [
        {
          "name": "stdout",
          "output_type": "stream",
          "text": [
            "a band playing on a sidewalk . <eos> <pad> <pad> <pad> <pad> <pad> <pad>\n",
            "eine band spielt auf dem gehweg . <eos> <pad> <pad> <pad> <pad>\n"
          ]
        }
      ],
      "source": [
        "print(en_vocab.to_string(next(iter(val_dataloader))[2][7].unsqueeze(0)))\n",
        "print(de_vocab.to_string(next(iter(val_dataloader))[0][7].unsqueeze(0)))"
      ],
      "id": "q0XXOBk-o7ju"
    },
    {
      "cell_type": "markdown",
      "metadata": {
        "id": "N7YdfcTmn_Ji"
      },
      "source": [
        "# use not mad"
      ],
      "id": "N7YdfcTmn_Ji"
    },
    {
      "cell_type": "code",
      "execution_count": null,
      "metadata": {
        "id": "15AVp9BoXx-A"
      },
      "outputs": [],
      "source": [
        "## check attention is same\n",
        "\n",
        "mal = MultiHeadAttentionLayer(256, 8, 0, \"cpu\")\n",
        "ma = MultiHeadAttention(8, 256, 0)"
      ],
      "id": "15AVp9BoXx-A"
    },
    {
      "cell_type": "code",
      "execution_count": null,
      "metadata": {
        "colab": {
          "base_uri": "https://localhost:8080/"
        },
        "id": "h_yBsEDZ_CS3",
        "outputId": "ddb4fe9d-a840-4f95-87d0-f494ba44b6f6"
      },
      "outputs": [
        {
          "name": "stdout",
          "output_type": "stream",
          "text": [
            "MultiHeadAttentionLayer(\n",
            "  (fc_q): Linear(in_features=256, out_features=256, bias=True)\n",
            "  (fc_k): Linear(in_features=256, out_features=256, bias=True)\n",
            "  (fc_v): Linear(in_features=256, out_features=256, bias=True)\n",
            "  (fc_o): Linear(in_features=256, out_features=256, bias=True)\n",
            "  (dropout): Dropout(p=0, inplace=False)\n",
            ")\n",
            "MultiHeadAttention(\n",
            "  (wk): Linear(in_features=256, out_features=256, bias=True)\n",
            "  (wq): Linear(in_features=256, out_features=256, bias=True)\n",
            "  (wv): Linear(in_features=256, out_features=256, bias=True)\n",
            "  (dropout): Dropout(p=0, inplace=False)\n",
            "  (proj): Linear(in_features=256, out_features=256, bias=True)\n",
            ")\n"
          ]
        }
      ],
      "source": [
        "print(mal)\n",
        "print(ma)"
      ],
      "id": "h_yBsEDZ_CS3"
    },
    {
      "cell_type": "code",
      "execution_count": null,
      "metadata": {
        "id": "8aox-J2Z_ZPx"
      },
      "outputs": [],
      "source": [
        "mal.fc_q.weight = ma.wq.weight\n",
        "mal.fc_k.weight = ma.wk.weight\n",
        "mal.fc_v.weight = ma.wv.weight\n",
        "mal.fc_o.weight = ma.proj.weight\n",
        "\n",
        "mal.fc_q.bias = ma.wq.bias\n",
        "mal.fc_k.bias = ma.wk.bias\n",
        "mal.fc_v.bias = ma.wv.bias\n",
        "mal.fc_o.bias = ma.proj.bias\n",
        "\n"
      ],
      "id": "8aox-J2Z_ZPx"
    },
    {
      "cell_type": "code",
      "execution_count": null,
      "metadata": {
        "id": "XWspYTn3hkC0"
      },
      "outputs": [],
      "source": [
        "def clone_atten_layer(l1, l2):\n",
        "  l1.fc_q.weight = l2.wq.weight\n",
        "  l1.fc_k.weight = l2.wk.weight\n",
        "  l1.fc_v.weight = l2.wv.weight\n",
        "  l1.fc_o.weight = l2.proj.weight\n",
        "\n",
        "  l1.fc_q.bias = l2.wq.bias\n",
        "  l1.fc_k.bias = l2.wk.bias\n",
        "  l1.fc_v.bias = l2.wv.bias\n",
        "  l1.fc_o.bias = l2.proj.bias\n",
        "\n",
        "def clone_encoder_block(b1, b2):\n",
        "  clone_atten_layer(b1.self_attention, b2.attention)\n",
        "\n",
        "  b1.positionwise_feedforward.fc_1.weight.data = b2.ffw.ffw[0].weight.data\n",
        "  b1.positionwise_feedforward.fc_1.bias.data = b2.ffw.ffw[0].bias.data\n",
        "  b1.positionwise_feedforward.fc_2.weight.data = b2.ffw.ffw[3].weight.data\n",
        "  b1.positionwise_feedforward.fc_2.bias.data = b2.ffw.ffw[3].bias.data\n",
        "\n",
        "def clone_decoder_block(b1, b2):\n",
        "  clone_atten_layer(b1.self_attention, b2.masked_attention)\n",
        "  clone_atten_layer(b1.encoder_attention, b2.cross_attention)\n",
        "\n",
        "  b1.positionwise_feedforward.fc_1.weight.data = b2.ffw.ffw[0].weight.data\n",
        "  b1.positionwise_feedforward.fc_1.bias.data = b2.ffw.ffw[0].bias.data\n",
        "  b1.positionwise_feedforward.fc_2.weight.data = b2.ffw.ffw[3].weight.data\n",
        "  b1.positionwise_feedforward.fc_2.bias.data = b2.ffw.ffw[3].bias.data\n",
        "\n",
        "def clone_embedding(e1, e2):\n",
        "  e1.weight.data = e2.weight.data\n",
        "  # e1.bias.data = e2.bias.data\n",
        "\n"
      ],
      "id": "XWspYTn3hkC0"
    },
    {
      "cell_type": "code",
      "execution_count": null,
      "metadata": {
        "colab": {
          "base_uri": "https://localhost:8080/"
        },
        "id": "9_MVVsNpAWfw",
        "outputId": "59470901-ac12-49c9-f6c7-afaa6daebb87"
      },
      "outputs": [
        {
          "name": "stdout",
          "output_type": "stream",
          "text": [
            "torch.Size([5, 10, 256])\n",
            "torch.Size([1, 10])\n"
          ]
        }
      ],
      "source": [
        "t = torch.randn((5, 10, 256))\n",
        "\n",
        "print(t.shape)\n",
        "\n",
        "# src_mask = torch.tril(torch.ones((10, 10), device = \"cpu\")).bool()\n",
        "src_mask = torch.ones_like(t[0,:,1]).unsqueeze(0)\n",
        "src_mask[0,-1] = 0\n",
        "\n",
        "print(src_mask.shape)\n",
        "\n",
        "o1 = mal(t, t, t, src_mask)\n",
        "o2 = ma(t, t, src_mask)"
      ],
      "id": "9_MVVsNpAWfw"
    },
    {
      "cell_type": "code",
      "execution_count": null,
      "metadata": {
        "colab": {
          "base_uri": "https://localhost:8080/"
        },
        "id": "26YqpQ18AYj5",
        "outputId": "a6b32594-04ac-484a-a0ba-96e9e9d2403b"
      },
      "outputs": [
        {
          "data": {
            "text/plain": [
              "tensor(True)"
            ]
          },
          "execution_count": 303,
          "metadata": {},
          "output_type": "execute_result"
        }
      ],
      "source": [
        "torch.all(o1[0] == o2)"
      ],
      "id": "26YqpQ18AYj5"
    },
    {
      "cell_type": "code",
      "execution_count": null,
      "metadata": {
        "colab": {
          "base_uri": "https://localhost:8080/"
        },
        "id": "f08sMzMqBziX",
        "outputId": "ad8ff18a-2ea8-4166-e9b8-69c50aba9d07"
      },
      "outputs": [
        {
          "name": "stdout",
          "output_type": "stream",
          "text": [
            "torch.Size([2, 1, 6, 6]) torch.Size([2, 1, 6, 6])\n"
          ]
        }
      ],
      "source": [
        "## check masks are the same\n",
        "\n",
        "src = torch.tensor([\n",
        "  [1, 2, 3, 4, PAD_IDX, PAD_IDX],\n",
        "  [2, 8, 0, 9, 4, PAD_IDX]\n",
        "]).to(\"cuda\")\n",
        "\n",
        "sm1 = model.make_src_mask(src)\n",
        "tm1 = model.make_trg_mask(src)\n",
        "\n",
        "sm2,tm2 = create_mask(src.to(\"cpu\"), src.to(\"cpu\"), PAD_IDX)\n",
        "\n",
        "print(tm1.shape, tm2.shape)\n",
        "\n",
        "assert torch.all(sm1.to(\"cpu\") == sm2)\n",
        "assert torch.all(tm1.to(\"cpu\") == tm2)"
      ],
      "id": "f08sMzMqBziX"
    },
    {
      "cell_type": "code",
      "execution_count": null,
      "metadata": {
        "colab": {
          "base_uri": "https://localhost:8080/"
        },
        "id": "my2ImJFR6zeJ",
        "outputId": "059c4c76-0eea-45c4-be8e-78449fa9a57f"
      },
      "outputs": [
        {
          "data": {
            "text/plain": [
              "tensor(False, device='cuda:0')"
            ]
          },
          "execution_count": 378,
          "metadata": {},
          "output_type": "execute_result"
        }
      ],
      "source": [
        "## compare encoder layer\n",
        "\n",
        "torch.manual_seed(134)\n",
        "\n",
        "def initer(p):\n",
        "  if hasattr(p, 'weight') and p.weight.dim() > 1:\n",
        "    nn.init.constant_(p.weight.data, 0.2)\n",
        "  if hasattr(p, 'bias'):\n",
        "    nn.init.constant_(p.bias.data, 0.2)\n",
        "\n",
        "def normal_initer(p):\n",
        "    if hasattr(p, 'weight') and p.weight.dim() > 1:\n",
        "      torch.nn.init.uniform_(p.weight.data, 0.2)\n",
        "    if hasattr(p, 'bias'):\n",
        "      torch.nn.init.uniform_(p.bias.data, 0.2)\n",
        "\n",
        "tenc1 = EncoderLayer(64, 8, 128, 0, \"cuda\").to(\"cuda\")\n",
        "tenc2 = EncoderBlock(8, 64, 2, 0).to(\"cuda\")\n",
        "\n",
        "tenc1 = tenc1.apply(initer)\n",
        "tenc2 = tenc2.apply(initer)\n",
        "\n",
        "src = torch.randn((100, 4, 64))\n",
        "fake_src = torch.zeros((100, 4))\n",
        "fake_src[0][-1] == PAD_IDX\n",
        "src_mask = model.make_src_mask(fake_src)\n",
        "targ_mask = model.make_trg_mask(fake_src.to(\"cuda\"))\n",
        "# src_mask[0][-1] = False\n",
        "\n",
        "o1 = tenc1.forward(src.to(\"cuda\"), src_mask.to(\"cuda\"))\n",
        "o2 = tenc2.forward((src.to(\"cuda\"), src_mask.to('cuda')))[0]\n",
        "\n",
        "torch.all(o1 == o2)"
      ],
      "id": "my2ImJFR6zeJ"
    },
    {
      "cell_type": "code",
      "execution_count": null,
      "metadata": {
        "colab": {
          "base_uri": "https://localhost:8080/"
        },
        "id": "vDR1d0m18xL_",
        "outputId": "bde7f23d-bf6b-45f0-b90a-8352c085c785"
      },
      "outputs": [
        {
          "name": "stdout",
          "output_type": "stream",
          "text": [
            "pre all tensor(1.3986, device='cuda:0')\n",
            "pre ma ln tensor(-0.1222, device='cuda:0', grad_fn=<SelectBackward0>)\n",
            "post masked atten tensor(1.2645, device='cuda:0', grad_fn=<SelectBackward0>)\n",
            "post cross atten tensor(1.2966, device='cuda:0', grad_fn=<SelectBackward0>)\n",
            "post ffw tensor(1.3194, device='cuda:0', grad_fn=<SelectBackward0>)\n",
            "#######\n",
            "pre all tensor(1.3986, device='cuda:0')\n",
            "pre ma ln tensor(-0.1222, device='cuda:0', grad_fn=<SelectBackward0>)\n",
            "post masked atten tensor(1.2645, device='cuda:0', grad_fn=<SelectBackward0>)\n",
            "post cross atten tensor(1.2966, device='cuda:0', grad_fn=<SelectBackward0>)\n",
            "post ffw tensor(1.3194, device='cuda:0', grad_fn=<SelectBackward0>)\n"
          ]
        },
        {
          "data": {
            "text/plain": [
              "tensor(False, device='cuda:0')"
            ]
          },
          "execution_count": 405,
          "metadata": {},
          "output_type": "execute_result"
        }
      ],
      "source": [
        "## check decoder block is the same\n",
        "\n",
        "tdec1 = DecoderLayer(64, 8, 128, 0, \"cuda\").to(\"cuda\")\n",
        "tdec2 = DecoderBlock(8, 64, 2, 0).to(\"cuda\")\n",
        "\n",
        "# tdec1 = tdec1.apply(normal_initer)\n",
        "# tdec2 = tdec2.apply(normal_initer)\n",
        "\n",
        "clone_atten_layer(tdec1.self_attention, tdec2.masked_attention)\n",
        "clone_atten_layer(tdec1.encoder_attention, tdec2.cross_attention)\n",
        "\n",
        "tdec1.positionwise_feedforward.fc_1.weight.data = tdec2.ffw.ffw[0].weight.data\n",
        "tdec1.positionwise_feedforward.fc_1.bias.data = tdec2.ffw.ffw[0].bias.data\n",
        "tdec1.positionwise_feedforward.fc_2.weight.data = tdec2.ffw.ffw[3].weight.data\n",
        "tdec1.positionwise_feedforward.fc_2.bias.data = tdec2.ffw.ffw[3].bias.data\n",
        "\n",
        "\n",
        "targ = torch.randn((100, 4, 64))\n",
        "\n",
        "o1 = tdec1.forward(targ.to(\"cuda\"), src.to(\"cuda\"), targ_mask.to(\"cuda\"), src_mask.to(\"cuda\"))[0]\n",
        "print(\"#######\")\n",
        "o2 = tdec2.forward((targ.to(\"cuda\"), src.to(\"cuda\"), src_mask.to('cuda'), targ_mask.to(\"cuda\")))[0]\n",
        "\n",
        "torch.all(torch.isclose(o1, o2))"
      ],
      "id": "vDR1d0m18xL_"
    },
    {
      "cell_type": "code",
      "execution_count": null,
      "metadata": {
        "colab": {
          "base_uri": "https://localhost:8080/"
        },
        "id": "dbQ1buFrgvRb",
        "outputId": "e212745c-639f-4a9d-ab5d-e1246db47d30"
      },
      "outputs": [
        {
          "data": {
            "text/plain": [
              "tensor([-9.5926e-08,  1.7288e-08, -6.4727e-08, -4.1677e-08, -6.0289e-08,\n",
              "         4.4005e-08, -5.1456e-08,  2.1659e-08, -1.4828e-08,  2.2119e-08,\n",
              "         1.1548e-07,  7.4273e-08,  1.0966e-07, -2.6077e-08,  5.4482e-08,\n",
              "        -7.2876e-08, -2.8522e-08, -6.2748e-08,  5.2154e-08,  1.5600e-07,\n",
              "        -3.7835e-08,  1.4057e-08, -5.8208e-08, -6.4203e-08, -4.0978e-08,\n",
              "         5.2620e-08, -2.1537e-08, -4.1910e-08, -2.2817e-08, -1.0338e-07,\n",
              "        -1.2503e-07, -5.3085e-08, -9.3598e-08, -9.2201e-08,  4.9593e-08,\n",
              "         4.4703e-08, -3.1205e-08, -5.4903e-08, -3.6322e-08,  1.2666e-07,\n",
              "        -1.1828e-07], device='cuda:0', grad_fn=<IndexBackward0>)"
            ]
          },
          "execution_count": 403,
          "metadata": {},
          "output_type": "execute_result"
        }
      ],
      "source": [
        "diff = o1-o2\n",
        "diff[~torch.isclose(o1, o2)]"
      ],
      "id": "dbQ1buFrgvRb"
    },
    {
      "cell_type": "code",
      "execution_count": null,
      "metadata": {
        "colab": {
          "base_uri": "https://localhost:8080/"
        },
        "id": "OBtuTEptJ3Za",
        "outputId": "f56f1ee0-41bb-4590-fe99-6e6a91e6d367"
      },
      "outputs": [
        {
          "data": {
            "text/plain": [
              "tensor(340.7946, device='cuda:0', grad_fn=<SumBackward0>)"
            ]
          },
          "execution_count": 354,
          "metadata": {},
          "output_type": "execute_result"
        }
      ],
      "source": [
        "# conclusion re decoder block is not at all clear - are the differences within tolerance for numerical nonsense - I think probably yes?\n",
        "\n",
        "# o1[~torch.isclose(o1, o2)] - o2[~torch.isclose(o1, o2)]\n",
        "torch.sum(torch.abs(o1[0] - o2))"
      ],
      "id": "OBtuTEptJ3Za"
    },
    {
      "cell_type": "code",
      "execution_count": null,
      "metadata": {
        "id": "2QteAhFaJ4d8"
      },
      "outputs": [],
      "source": [
        "# full model\n",
        "\n",
        "tenc = Encoder(100,\n",
        "              64,\n",
        "              3,\n",
        "              8,\n",
        "              128,\n",
        "              0,\n",
        "              device)\n",
        "\n",
        "tdec = Decoder(100,\n",
        "              64,\n",
        "              3,\n",
        "              8,\n",
        "              128,\n",
        "              0,\n",
        "              device)\n",
        "\n",
        "tmod1 = Seq2Seq(tenc, tdec, PAD_IDX, PAD_IDX, device).to(device)\n",
        "tmod2 = EncoderDecoderTransformer(8, 64, 0, 3, 2, 40, 100, 100, PAD_IDX).to(device)\n",
        "\n",
        "tmod2 = tmod2.apply(initialize_weights)\n",
        "\n",
        "for b1, b2 in zip(tenc.layers, tmod2.encoders):\n",
        "  clone_encoder_block(b1, b2)\n",
        "\n",
        "for b1, b2 in zip(tdec.layers, tmod2.decoders):\n",
        "  clone_decoder_block(b1, b2)\n",
        "\n",
        "clone_embedding(tenc.tok_embedding, tmod2.src_embedding)\n",
        "clone_embedding(tenc.pos_embedding, tmod2.src_positional_embedding.posem)\n",
        "clone_embedding(tdec.tok_embedding, tmod2.targ_embedding)\n",
        "clone_embedding(tdec.pos_embedding, tmod2.targ_positional_embedding.posem)\n",
        "\n",
        "tdec.fc_out.weight.data = tmod2.output.proj.weight.data\n",
        "tdec.fc_out.bias.data = tmod2.output.proj.bias.data\n",
        "\n",
        "fake_src = torch.randint(2, 99, (128, 30))\n",
        "fake_src[0][-1] == PAD_IDX\n",
        "fake_targ = torch.randint(2, 99, (128, 30))\n",
        "fake_targ[0][-1] == PAD_IDX\n",
        "fake_targ[0][-2] == PAD_IDX\n",
        "src_mask = tmod1.make_src_mask(fake_src)\n",
        "targ_mask = tmod1.make_trg_mask(fake_targ.to(\"cuda\"))\n",
        "\n",
        "r_src_mask, r_targ_mask = create_mask(fake_src, fake_targ, PAD_IDX)\n",
        "\n",
        "o1 = tmod1.forward(fake_src.to(\"cuda\"), fake_targ.to(\"cuda\"))\n",
        "o2 = tmod2.forward(fake_src.to(\"cuda\"), fake_targ.to(\"cuda\"), r_src_mask.to(\"cuda\"), r_targ_mask.to(\"cuda\"))"
      ],
      "id": "2QteAhFaJ4d8"
    },
    {
      "cell_type": "code",
      "execution_count": null,
      "metadata": {
        "colab": {
          "base_uri": "https://localhost:8080/"
        },
        "id": "9GOpgXGzLSm_",
        "outputId": "da109351-cf9a-4dc3-b0ab-d59a61844d7c"
      },
      "outputs": [
        {
          "data": {
            "text/plain": [
              "tensor([-4.0233e-07,  5.0664e-07,  6.5565e-07,  ...,  3.5763e-07,\n",
              "         1.7881e-07, -1.7881e-07], device='cuda:0', grad_fn=<IndexBackward0>)"
            ]
          },
          "execution_count": 22,
          "metadata": {},
          "output_type": "execute_result"
        }
      ],
      "source": [
        "diff = o1[0] - o2\n",
        "torch.all(torch.isclose(o1[0], o2))\n",
        "\n",
        "diff[~torch.isclose(o1[0], o2)]\n"
      ],
      "id": "9GOpgXGzLSm_"
    },
    {
      "cell_type": "code",
      "execution_count": null,
      "metadata": {
        "colab": {
          "base_uri": "https://localhost:8080/"
        },
        "id": "jM_VBnQ2U_wB",
        "outputId": "b92a2d97-2da0-4900-b206-4edd7b5e54e7"
      },
      "outputs": [
        {
          "data": {
            "text/plain": [
              "tensor([26.4329, 26.6894, 26.6778, 24.2886, 21.4581, 26.0428, 23.0472, 24.7406,\n",
              "        25.8354, 24.6435, 24.8914, 22.2514, 24.5238, 22.4105, 23.4937, 26.4942,\n",
              "        21.1475, 20.9434, 22.7235, 22.0529, 25.5978, 28.3934, 24.6118, 21.2918,\n",
              "        25.4201, 21.4672, 24.5572, 22.9458, 21.8525, 22.6120, 26.0886, 25.4559,\n",
              "        20.7239, 22.4887, 21.8177, 23.7655, 23.5163, 20.4651, 24.1686, 21.7318,\n",
              "        25.6679, 25.4506, 23.7346, 21.8858, 23.4769, 22.6967, 21.2442, 24.6870,\n",
              "        29.0173, 22.2686, 22.1076, 27.5821, 22.2713, 23.4479, 25.0203, 22.1267,\n",
              "        22.0710, 24.6205, 23.2300, 23.2619, 25.0301, 30.2481, 23.2352, 27.1517,\n",
              "        24.4211, 27.0556, 23.4845, 24.6067, 29.5664, 25.4720, 25.1050, 28.3486,\n",
              "        22.0874, 25.3098, 23.0661, 20.4149, 23.3791, 24.7078, 23.0772, 22.5729,\n",
              "        25.7082, 25.7629, 21.4084, 23.0432, 22.4774, 24.8612, 22.5446, 21.5128,\n",
              "        19.6772, 21.7822, 22.6107, 24.3128, 23.9185, 26.6269, 22.9730, 21.4747,\n",
              "        26.7504, 19.9236, 22.7232, 26.0313], device='cuda:0',\n",
              "       grad_fn=<SelectBackward0>)"
            ]
          },
          "execution_count": 277,
          "metadata": {},
          "output_type": "execute_result"
        }
      ],
      "source": [
        "o2[0][0]"
      ],
      "id": "jM_VBnQ2U_wB"
    },
    {
      "cell_type": "code",
      "execution_count": null,
      "metadata": {
        "colab": {
          "base_uri": "https://localhost:8080/"
        },
        "id": "L2TmsAqrVAP6",
        "outputId": "78320eb7-875d-41f2-b131-61fa86680afb"
      },
      "outputs": [
        {
          "data": {
            "text/plain": [
              "torch.Size([4, 100])"
            ]
          },
          "execution_count": 281,
          "metadata": {},
          "output_type": "execute_result"
        }
      ],
      "source": [
        "o1[0][0].shape"
      ],
      "id": "L2TmsAqrVAP6"
    },
    {
      "cell_type": "code",
      "execution_count": null,
      "metadata": {
        "colab": {
          "base_uri": "https://localhost:8080/"
        },
        "id": "9NaT-QuOWWoD",
        "outputId": "ec79fed9-7930-4255-aec5-13c7f89821e6"
      },
      "outputs": [
        {
          "data": {
            "text/plain": [
              "tensor([[-1.7402, -3.7163, -4.5737,  1.5954,  1.8731, -2.1012, -0.8862, -1.4852,\n",
              "         -6.0744, -3.1907, -1.7264,  2.6252, -2.2538, -5.7633, -3.6445, -1.1890,\n",
              "          2.6793,  3.7957, -0.3157,  5.5326, -4.9832, -4.0124, -1.5378,  3.0071,\n",
              "         -0.5574, -1.0221,  2.1690, -1.3486,  2.4848,  4.4794, -2.1753, -1.1468,\n",
              "          4.7861,  0.9414,  2.2245, -1.3365,  1.6891,  3.5329, -2.0749,  1.6166,\n",
              "          2.1101, -4.0841, -2.5732,  3.5365, -2.1776, -3.0156,  4.6261, -0.6019,\n",
              "         -2.5304,  0.9072,  0.2988, -2.5588, -0.7409,  1.3781, -2.0704,  0.5592,\n",
              "         -1.7714, -2.2864,  1.8366,  0.3351,  2.2533, -6.8041, -1.0382, -0.7151,\n",
              "         -1.0143, -4.0375,  4.2660, -1.5216, -4.9166,  2.4342, -0.0249, -5.7164,\n",
              "          1.3175, -6.8394,  3.7306,  1.2873, -3.1299, -6.9664,  0.1020,  1.2810,\n",
              "         -2.2256, -1.9578,  2.9117,  3.8423,  0.7116, -3.3662,  0.3394,  3.5497,\n",
              "          3.4377,  0.1838, -0.2078,  0.0868,  0.6595, -2.6310,  3.3161, -0.3036,\n",
              "         -2.0693,  4.5677, -0.1243, -3.0219],\n",
              "        [-1.7402, -3.7163, -4.5736,  1.5955,  1.8731, -2.1011, -0.8861, -1.4852,\n",
              "         -6.0744, -3.1906, -1.7263,  2.6253, -2.2537, -5.7632, -3.6444, -1.1889,\n",
              "          2.6794,  3.7958, -0.3156,  5.5327, -4.9832, -4.0123, -1.5377,  3.0072,\n",
              "         -0.5573, -1.0220,  2.1691, -1.3485,  2.4848,  4.4795, -2.1752, -1.1468,\n",
              "          4.7862,  0.9414,  2.2246, -1.3365,  1.6891,  3.5329, -2.0748,  1.6167,\n",
              "          2.1101, -4.0840, -2.5732,  3.5366, -2.1775, -3.0156,  4.6261, -0.6019,\n",
              "         -2.5303,  0.9073,  0.2989, -2.5588, -0.7408,  1.3782, -2.0704,  0.5593,\n",
              "         -1.7714, -2.2863,  1.8367,  0.3352,  2.2534, -6.8040, -1.0382, -0.7150,\n",
              "         -1.0142, -4.0374,  4.2661, -1.5215, -4.9165,  2.4342, -0.0248, -5.7163,\n",
              "          1.3176, -6.8393,  3.7307,  1.2874, -3.1298, -6.9663,  0.1021,  1.2811,\n",
              "         -2.2255, -1.9577,  2.9118,  3.8424,  0.7116, -3.3662,  0.3395,  3.5497,\n",
              "          3.4377,  0.1838, -0.2077,  0.0869,  0.6596, -2.6310,  3.3162, -0.3035,\n",
              "         -2.0692,  4.5678, -0.1243, -3.0218],\n",
              "        [-1.7402, -3.7163, -4.5736,  1.5955,  1.8731, -2.1012, -0.8861, -1.4852,\n",
              "         -6.0744, -3.1907, -1.7263,  2.6252, -2.2537, -5.7632, -3.6444, -1.1890,\n",
              "          2.6793,  3.7958, -0.3156,  5.5327, -4.9832, -4.0123, -1.5378,  3.0072,\n",
              "         -0.5573, -1.0220,  2.1691, -1.3485,  2.4848,  4.4794, -2.1753, -1.1468,\n",
              "          4.7862,  0.9414,  2.2245, -1.3365,  1.6891,  3.5329, -2.0748,  1.6167,\n",
              "          2.1101, -4.0840, -2.5732,  3.5366, -2.1776, -3.0156,  4.6261, -0.6019,\n",
              "         -2.5303,  0.9073,  0.2988, -2.5588, -0.7408,  1.3781, -2.0704,  0.5593,\n",
              "         -1.7714, -2.2864,  1.8366,  0.3352,  2.2533, -6.8040, -1.0382, -0.7150,\n",
              "         -1.0143, -4.0374,  4.2661, -1.5215, -4.9165,  2.4342, -0.0248, -5.7163,\n",
              "          1.3176, -6.8393,  3.7307,  1.2874, -3.1298, -6.9664,  0.1021,  1.2811,\n",
              "         -2.2255, -1.9577,  2.9118,  3.8424,  0.7116, -3.3662,  0.3395,  3.5497,\n",
              "          3.4377,  0.1838, -0.2077,  0.0869,  0.6596, -2.6310,  3.3162, -0.3035,\n",
              "         -2.0693,  4.5678, -0.1243, -3.0219],\n",
              "        [-1.7402, -3.7163, -4.5736,  1.5955,  1.8731, -2.1012, -0.8862, -1.4852,\n",
              "         -6.0744, -3.1907, -1.7263,  2.6252, -2.2537, -5.7632, -3.6444, -1.1890,\n",
              "          2.6793,  3.7958, -0.3156,  5.5327, -4.9832, -4.0124, -1.5378,  3.0072,\n",
              "         -0.5573, -1.0220,  2.1691, -1.3485,  2.4848,  4.4794, -2.1753, -1.1468,\n",
              "          4.7862,  0.9414,  2.2245, -1.3365,  1.6891,  3.5329, -2.0748,  1.6167,\n",
              "          2.1101, -4.0841, -2.5732,  3.5365, -2.1776, -3.0156,  4.6261, -0.6019,\n",
              "         -2.5303,  0.9073,  0.2988, -2.5588, -0.7409,  1.3781, -2.0704,  0.5593,\n",
              "         -1.7714, -2.2864,  1.8366,  0.3351,  2.2533, -6.8041, -1.0382, -0.7150,\n",
              "         -1.0143, -4.0375,  4.2661, -1.5216, -4.9165,  2.4342, -0.0248, -5.7163,\n",
              "          1.3175, -6.8393,  3.7307,  1.2874, -3.1298, -6.9664,  0.1021,  1.2811,\n",
              "         -2.2256, -1.9577,  2.9117,  3.8424,  0.7116, -3.3662,  0.3395,  3.5497,\n",
              "          3.4377,  0.1838, -0.2077,  0.0868,  0.6596, -2.6310,  3.3162, -0.3035,\n",
              "         -2.0693,  4.5678, -0.1243, -3.0219]], device='cuda:0',\n",
              "       grad_fn=<SubBackward0>)"
            ]
          },
          "execution_count": 286,
          "metadata": {},
          "output_type": "execute_result"
        }
      ],
      "source": [
        "o1[0][0] - o2[0][0]"
      ],
      "id": "9NaT-QuOWWoD"
    },
    {
      "cell_type": "code",
      "execution_count": null,
      "metadata": {
        "colab": {
          "base_uri": "https://localhost:8080/",
          "height": 175
        },
        "id": "uHwKbrRmWkNZ",
        "outputId": "89a5622b-7f55-47ca-ab88-9b51e39c5455"
      },
      "outputs": [
        {
          "ename": "NameError",
          "evalue": "ignored",
          "output_type": "error",
          "traceback": [
            "\u001b[0;31m---------------------------------------------------------------------------\u001b[0m",
            "\u001b[0;31mNameError\u001b[0m                                 Traceback (most recent call last)",
            "\u001b[0;32m<ipython-input-1-47de5c0247e5>\u001b[0m in \u001b[0;36m<cell line: 1>\u001b[0;34m()\u001b[0m\n\u001b[0;32m----> 1\u001b[0;31m \u001b[0mspacy\u001b[0m\u001b[0;34m\u001b[0m\u001b[0;34m\u001b[0m\u001b[0m\n\u001b[0m",
            "\u001b[0;31mNameError\u001b[0m: name 'spacy' is not defined"
          ]
        }
      ],
      "source": [],
      "id": "uHwKbrRmWkNZ"
    },
    {
      "cell_type": "code",
      "execution_count": 8,
      "metadata": {
        "id": "0Ld2LwO2zUwW"
      },
      "outputs": [],
      "source": [
        "import matplotlib.pyplot as plt"
      ],
      "id": "0Ld2LwO2zUwW"
    },
    {
      "cell_type": "code",
      "source": [
        "val_losses = [3.0685756504535675, 2.3569158017635345, 2.0454186350107193, 1.8830835670232773, 1.8055425435304642, 1.7503346055746078, 1.7675475031137466]\n",
        "train_losses = [4.205121267209494, 2.7414815362854674, 2.1707053819942055, 1.8194913139427287, 1.5695837289751364, 1.378445950373679, 1.2183551428601604]\n",
        "\n",
        "plt.plot(val_losses, label=\"validation\")\n",
        "plt.plot(train_losses, label=\"training\")\n",
        "plt.legend()\n",
        "plt.title(\"Val/Train Loss\")\n",
        "plt.ylabel(\"loss\")\n",
        "plt.xlabel(\"epoch\")\n",
        "plt.show()\n"
      ],
      "metadata": {
        "colab": {
          "base_uri": "https://localhost:8080/",
          "height": 472
        },
        "id": "4XfL6jIB1tk0",
        "outputId": "3ce8c2a9-d67c-4640-e445-61ee981331be"
      },
      "id": "4XfL6jIB1tk0",
      "execution_count": 13,
      "outputs": [
        {
          "output_type": "display_data",
          "data": {
            "text/plain": [
              "<Figure size 640x480 with 1 Axes>"
            ],
            "image/png": "[encoded data removed]"
          },
          "metadata": {}
        }
      ]
    },
    {
      "cell_type": "code",
      "source": [
        "train_loss=4.205121267209494 val_loss=3.0685756504535675 duration=0:06:20.220338\n",
        "beginning epoch {epoch}\n",
        "227batch [06:23,  1.69s/batch]\n",
        "8batch [00:13,  1.64s/batch]\n",
        "train_loss=2.7414815362854674 val_loss=2.3569158017635345 duration=0:06:36.974030\n",
        "beginning epoch {epoch}\n",
        "227batch [06:15,  1.65s/batch]\n",
        "8batch [00:13,  1.65s/batch]\n",
        "train_loss=2.1707053819942055 val_loss=2.0454186350107193 duration=0:06:28.457374\n",
        "beginning epoch {epoch}\n",
        "227batch [06:11,  1.64s/batch]     8batch [00:12,  1.57s/batch]                                                                                               train_loss=1.8194913139427287 val_loss=1.8830835670232773 duration=0:06:24.397907\n",
        "beginning epoch {epoch}\n",
        "227batch [06:07,  1.62s/batch]\n",
        "8batch [00:12,  1.57s/batch]                                train_loss=1.5695837289751364 val_loss=1.8055425435304642 duration=0:06:20.105865\n",
        "beginning epoch {epoch}\n",
        "227batch [06:10,  1.63s/batch]                                                                                             8batch [00:12,  1.60s/batch]\n",
        "train_loss=1.378445950373679 val_loss=1.7503346055746078 duration=0:06:22.830278\n",
        "beginning epoch {epoch}                                                                                                    227batch [06:09,  1.63s/batch]\n",
        "8batch [00:12,  1.54s/batch]\n",
        "train_loss=1.2183551428601604 val_loss=1.7675475031137466 duration=0:06:21.486282                                          8batch [00:18,  2.32s/batch]"
      ],
      "metadata": {
        "id": "7lFW6SOK2BQo"
      },
      "id": "7lFW6SOK2BQo",
      "execution_count": null,
      "outputs": []
    }
  ],
  "metadata": {
    "accelerator": "GPU",
    "colab": {
      "collapsed_sections": [
        "6240bdb2-2207-4603-b5bd-9d1afcc27d1b",
        "342d5ae9-f236-415d-bc64-f9ec8ef7ce0e",
        "a9e06f27-8565-45d3-a903-533a2eae882c"
      ],
      "provenance": []
    },
    "kernelspec": {
      "display_name": "Python 3",
      "name": "python3"
    },
    "language_info": {
      "codemirror_mode": {
        "name": "ipython",
        "version": 3
      },
      "file_extension": ".py",
      "mimetype": "text/x-python",
      "name": "python",
      "nbconvert_exporter": "python",
      "pygments_lexer": "ipython3",
      "version": "3.11.6"
    }
  },
  "nbformat": 4,
  "nbformat_minor": 5
}